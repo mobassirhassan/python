{
 "cells": [
  {
   "cell_type": "code",
   "execution_count": 2,
   "id": "3b35e6ec-dcb4-468f-ae31-94251d0cd1e5",
   "metadata": {},
   "outputs": [
    {
     "name": "stdin",
     "output_type": "stream",
     "text": [
      "Enter the length of the list:  12\n",
      "Enter an integer value:  2\n",
      "Enter an integer value:  1\n",
      "Enter an integer value:  3\n",
      "Enter an integer value:  4\n",
      "Enter an integer value:  2\n",
      "Enter an integer value:  3\n",
      "Enter an integer value:  3\n",
      "Enter an integer value:  2\n",
      "Enter an integer value:  7\n",
      "Enter an integer value:  9\n",
      "Enter an integer value:  8\n",
      "Enter an integer value:  7\n"
     ]
    },
    {
     "name": "stdout",
     "output_type": "stream",
     "text": [
      "[2, 1, 3, 4, 2, 3, 3, 2, 7, 9, 8, 7]\n",
      "[1, 2, 3, 4, 7, 8, 9]\n"
     ]
    }
   ],
   "source": [
    "#1. Given a list of numbers, write a python program that returns a new list which Has all duplicate elements removed. \n",
    "#And is sorted in an increasing order.\n",
    "#Ex: Input: [2,1,3,4,2,3,3,2,7,9,8,7]\n",
    "#Output: [1,2,3,4,7,8,9]\n",
    "\n",
    "A=[];\n",
    "x=int(input(\"Enter the length of the list: \"))\n",
    "for y in range(0,x):\n",
    "    A.append(int(input(\"Enter an integer value: \")))\n",
    "print(A)\n",
    "for y in A:\n",
    "    if A.count(y)>1:\n",
    "        A.remove(y) \n",
    "    else:\n",
    "        continue\n",
    "A.sort()\n",
    "print(A)"
   ]
  },
  {
   "cell_type": "code",
   "execution_count": 1,
   "id": "4c274da9-cad8-4442-a82a-a030689ba56a",
   "metadata": {},
   "outputs": [
    {
     "name": "stdin",
     "output_type": "stream",
     "text": [
      "enter number of elements to enter: 3\n",
      "enter key: 1\n",
      "enter value: a\n",
      "enter key: 2\n",
      "enter value: b\n",
      "enter key: c\n",
      "enter value: 3\n"
     ]
    },
    {
     "name": "stdout",
     "output_type": "stream",
     "text": [
      "1 a\n",
      "2 b\n",
      "c 3\n"
     ]
    }
   ],
   "source": [
    "# 2. Write a Python program where you will iterate over both keys and values in dictionaries\n",
    "a={}\n",
    "b=int(input('enter number of elements to enter:'))\n",
    "for x in range(0,b):\n",
    "    c=input('enter key:')\n",
    "    d=input('enter value:')\n",
    "    a.update({c:d})\n",
    "for x,y in a.items():\n",
    "    print(x,y)"
   ]
  },
  {
   "cell_type": "code",
   "execution_count": 2,
   "id": "265ebb62-fb5c-4633-8146-02a32444d30b",
   "metadata": {},
   "outputs": [
    {
     "name": "stdin",
     "output_type": "stream",
     "text": [
      "enter number of elements to enter: 3\n",
      "enter key: student1\n",
      "enter value: Tarun\n",
      "enter key: student2\n",
      "enter value: Manoj\n",
      "enter key: student3\n",
      "enter value: Gephi\n"
     ]
    },
    {
     "data": {
      "text/plain": [
       "['Gephi', 'Manoj', 'Tarun']"
      ]
     },
     "execution_count": 2,
     "metadata": {},
     "output_type": "execute_result"
    }
   ],
   "source": [
    "# 3. Write a Python program that takes a dictionary of student names and returns a list of student names in alphabetical order\n",
    "# Ex:Input:{“Student 1”: \"Tarun\", \"Student 2”: \"Manoj\", \"Student 3”: \"Gephi”} Output: [“Gephi”,” Manoj”,” Tarun”]\n",
    "e={}\n",
    "i=[]\n",
    "f=int(input('enter number of elements to enter:'))\n",
    "for x in range(0,f):\n",
    "    g=input('enter key:')\n",
    "    h=input('enter value:')\n",
    "    e.update({g:h})\n",
    "for x in e.values():\n",
    "    i.append(x)\n",
    "i.sort()\n",
    "i"
   ]
  },
  {
   "cell_type": "code",
   "execution_count": 6,
   "id": "78359c5b-a917-49a8-b611-b707880dca1e",
   "metadata": {},
   "outputs": [
    {
     "name": "stdin",
     "output_type": "stream",
     "text": [
      "enter your series of 1s and 0s: 21212\n"
     ]
    },
    {
     "name": "stdout",
     "output_type": "stream",
     "text": [
      "wrong input, enter only o or 1\n",
      "wrong input, enter only o or 1\n",
      "wrong input, enter only o or 1\n"
     ]
    },
    {
     "data": {
      "text/plain": [
       "[True, True]"
      ]
     },
     "execution_count": 6,
     "metadata": {},
     "output_type": "execute_result"
    }
   ],
   "source": [
    "# 4. Write a Python which returns a new list of Booleans, from a given number. \n",
    "# Iterating through the number one digit at a time, append True if the digit is 1 and False if it is 0.\n",
    "#Ex:Input: “01001” Output: [“False”, “True”, “False”,” False”,” True”]\n",
    "j=input('enter your series of 1s and 0s:')\n",
    "k=[]\n",
    "for x in j:\n",
    "    if x=='1':\n",
    "        k.append(True)\n",
    "    elif x=='0':\n",
    "        k.append(False)\n",
    "    else:\n",
    "        print('wrong input, enter only o or 1')\n",
    "k   "
   ]
  },
  {
   "cell_type": "code",
   "execution_count": 7,
   "id": "2a386ace-ca26-41bd-a4e7-21d3e6eb7c0e",
   "metadata": {},
   "outputs": [
    {
     "name": "stdin",
     "output_type": "stream",
     "text": [
      "enter string: my name is ame\n"
     ]
    },
    {
     "data": {
      "text/plain": [
       "{'m': 3, 'y': 1, 'n': 1, 'a': 2, 'e': 2, 'i': 1, 's': 1}"
      ]
     },
     "execution_count": 7,
     "metadata": {},
     "output_type": "execute_result"
    }
   ],
   "source": [
    "# 5. Write a Python program where you will return a dictionary where the keys will be the character and \n",
    "# the values will be the occurrence of the character in the string, and it should for any string inputs (dynamic)\n",
    "# Ex:Input: “my name is ame” Output: {“m”:3,” y”:1,” n”:1,” a”:2,” e”:2,” i”:1,” s”:1}\n",
    "l=input('enter string:')\n",
    "m={}\n",
    "for x in l:\n",
    "    if x==' ':\n",
    "        continue\n",
    "    else:\n",
    "        m.update({x:l.count(x)})\n",
    "m"
   ]
  },
  {
   "cell_type": "code",
   "execution_count": 17,
   "id": "d4636996-6087-4385-8856-2352bae28ad2",
   "metadata": {},
   "outputs": [
    {
     "name": "stdin",
     "output_type": "stream",
     "text": [
      "mention the length of the dictionary 4\n",
      "enter key: sai\n",
      "enter value: 19\n",
      "enter key: ravi\n",
      "enter value: 21\n",
      "enter key: priya\n",
      "enter value: 22\n",
      "enter key: vijay\n",
      "enter value: 23\n"
     ]
    },
    {
     "data": {
      "text/plain": [
       "'vijay'"
      ]
     },
     "execution_count": 17,
     "metadata": {},
     "output_type": "execute_result"
    }
   ],
   "source": [
    "# 6. Given a dictionary containing the names and ages of a group of people, return the name of the oldest person\n",
    "# Ex: Input: {\"Tmma\": 41, \"Ackes\": 45, \"myna\": 15, \"Benthon\": 29} Output: “Ackes”\n",
    "\n",
    "a = int(input(\"mention the length of the dictionary\"))\n",
    "e={}\n",
    "s=0\n",
    "for x in range (0,a):\n",
    "    g=input('enter key:')\n",
    "    h=int(input('enter value:'))\n",
    "    e.update({g:h})\n",
    "for x,y in e.items():\n",
    "        if y>s:\n",
    "            s=y\n",
    "            t=x\n",
    "t"
   ]
  },
  {
   "cell_type": "code",
   "execution_count": null,
   "id": "dbbb70bf-79f8-4121-8794-75e6270bc431",
   "metadata": {},
   "outputs": [],
   "source": [
    "# 7. Write a Python program to create a Rock, Paper, Scissor game, use two inputs for two players:\n",
    "# ions: -Rock beats Scissors, Scissors beats Paper, Paper beats Rock\n",
    "\n",
    "while True:\n",
    "  p1=input(str('Choose an option for player 1'))\n",
    "  p2=input(str('Choose an option for player 2'))\n",
    "  if p1 == 'rock' and p2 == 'paper':\n",
    "    print('P2 win')\n",
    "    break;\n",
    "  elif p1 == 'paper' and p2 == 'scissor':\n",
    "    print('P2 win')\n",
    "    break;  \n",
    "  elif p1 == 'paper' and p2 == 'rock':\n",
    "    print('P1 win')\n",
    "    continue;"
   ]
  },
  {
   "cell_type": "code",
   "execution_count": 1,
   "id": "dbccbb74-e81a-4e21-8e07-b0792aaadbad",
   "metadata": {},
   "outputs": [],
   "source": [
    "# 8. Create a program that returns a list of items that you can afford in the store with the money you have in your wallet. \n",
    "# Create a dictionary with items as key and price as values.\n",
    "# Ex:Input: {“water bottles”: “20”,” chips”:10,” Iphone”;49000“,” towel”:90,” pens”:58,” cake”;400} Your wallet balance: -50\n",
    "# Output: [“water bottles”, “chips”]\n",
    "\n"
   ]
  },
  {
   "cell_type": "code",
   "execution_count": null,
   "id": "1d86f0f7-89d3-44b0-90be-f0645304cd98",
   "metadata": {},
   "outputs": [],
   "source": [
    "# 9. Write a Python program to create a union of sets\n",
    "s1=set()\n",
    "s2=set()\n",
    "l1=int(input('length of set 1:'))\n",
    "l2=int(input('length of set 2:'))\n",
    "for x in range(0,l1):\n",
    "    s1_=input('enter data to add in set 1:')\n",
    "    s1.add(s1_)\n",
    "for x in range(0,l2):\n",
    "    s2_=input('enter data to add in set 2:')\n",
    "    s2.add(s2_)\n",
    "print(s1.union(s2)) "
   ]
  },
  {
   "cell_type": "code",
   "execution_count": null,
   "id": "3e3f869b-9d60-4cec-8daf-22acbc2b081f",
   "metadata": {},
   "outputs": [],
   "source": [
    "# 10. Write a Python program to check if a given value is present in a set or not (Dynamic)\n",
    "s3=set()\n",
    "l3=int(input('enter length of set:'))\n",
    "for x in range(0,l3):\n",
    "    s3_=input('enter data to add in set:')\n",
    "    s3.add(s3_)\n",
    "s4=input('enter data to check:')\n",
    "if s4 in s3:\n",
    "    print('value present')\n",
    "        \n",
    "else:\n",
    "    print('value not present')"
   ]
  },
  {
   "cell_type": "code",
   "execution_count": null,
   "id": "1a91a3d9-0ebf-460f-bc75-78668d54b618",
   "metadata": {},
   "outputs": [],
   "source": [
    "# 11. Write a Python program to find the occurrences of 3 most common words in a given text. And make it as a dictionaries\n",
    "# Ex: Input: ”Cat dog dog cat horse dog dog mouse horse dog mouse tiger lion tiger cat mouse snail”\n"
   ]
  },
  {
   "cell_type": "code",
   "execution_count": null,
   "id": "86ea8a1c-570b-4303-8fcb-388c543465e8",
   "metadata": {},
   "outputs": [],
   "source": [
    "# 12. Write a Python program that accepts name of given subject and mark, \n",
    "#and make subjects as keys in dictionaries and marks as values and print the final dictionary with subjects and marks\n"
   ]
  },
  {
   "cell_type": "code",
   "execution_count": null,
   "id": "ce599013-e769-484c-8f5d-dfb758adbda5",
   "metadata": {},
   "outputs": [],
   "source": []
  },
  {
   "cell_type": "code",
   "execution_count": null,
   "id": "61435882-b884-4c52-bace-f14b4114415d",
   "metadata": {},
   "outputs": [],
   "source": []
  },
  {
   "cell_type": "code",
   "execution_count": null,
   "id": "8da4535a-9f01-4d97-a189-ed85fd985ac3",
   "metadata": {},
   "outputs": [],
   "source": []
  },
  {
   "cell_type": "code",
   "execution_count": null,
   "id": "6bb387ea-0e6b-4289-9f99-51aac6c9102c",
   "metadata": {},
   "outputs": [],
   "source": []
  },
  {
   "cell_type": "code",
   "execution_count": 16,
   "id": "dd715f02-feb1-4813-bd33-956a240060f9",
   "metadata": {},
   "outputs": [
    {
     "name": "stdin",
     "output_type": "stream",
     "text": [
      "enter number of elements to enter: 3\n",
      "enter key: sai\n",
      "enter value: 19\n",
      "enter key: priya\n",
      "enter value: 21\n",
      "enter key: vijay\n",
      "enter value: 23\n"
     ]
    },
    {
     "data": {
      "text/plain": [
       "'vijay'"
      ]
     },
     "execution_count": 16,
     "metadata": {},
     "output_type": "execute_result"
    }
   ],
   "source": [
    "#a dictionary containing the names and ages of a group of people, return the \n",
    "#name of the oldest person\n",
    "o={}\n",
    "s=0\n",
    "p=int(input('enter number of elements to enter:'))\n",
    "for x in range(0,p):\n",
    "    q=input('enter key:')\n",
    "    r=int(input('enter value:'))\n",
    "    o.update({q:r})\n",
    "for x,y in o.items():                       # for x in o.values():         \n",
    "    if y>s:                                  #     if x>s:        \n",
    "        s=y                                   #         s=x\n",
    "        t=x                                 # for x,y in o.items():   \n",
    "t                                            #     if y==s:\n",
    "         "
   ]
  },
  {
   "cell_type": "code",
   "execution_count": null,
   "id": "857a1491-440f-48c0-82aa-8db824d50a0c",
   "metadata": {},
   "outputs": [],
   "source": []
  }
 ],
 "metadata": {
  "kernelspec": {
   "display_name": "Python 3 (ipykernel)",
   "language": "python",
   "name": "python3"
  },
  "language_info": {
   "codemirror_mode": {
    "name": "ipython",
    "version": 3
   },
   "file_extension": ".py",
   "mimetype": "text/x-python",
   "name": "python",
   "nbconvert_exporter": "python",
   "pygments_lexer": "ipython3",
   "version": "3.9.7"
  }
 },
 "nbformat": 4,
 "nbformat_minor": 5
}
