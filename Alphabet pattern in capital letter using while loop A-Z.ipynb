{
 "cells": [
  {
   "cell_type": "code",
   "execution_count": 114,
   "id": "34728c73-7611-4d0e-be26-cb338e278b87",
   "metadata": {},
   "outputs": [
    {
     "name": "stdout",
     "output_type": "stream",
     "text": [
      "  * * *  \n",
      "*       *\n",
      "* * * * *\n",
      "*       *\n",
      "*       *\n"
     ]
    }
   ],
   "source": [
    "x=10\n",
    "while x>5:\n",
    "    if x==10:\n",
    "        print(\"  * * *  \")\n",
    "    elif x==9 or x==7 or x==6:\n",
    "        print(\"*       *\")\n",
    "    else:\n",
    "        print(\"* * * * *\")\n",
    "    x=x-1"
   ]
  },
  {
   "cell_type": "code",
   "execution_count": 14,
   "id": "64e58df4-6979-462f-a8c0-8e84dff2e1db",
   "metadata": {},
   "outputs": [
    {
     "name": "stdout",
     "output_type": "stream",
     "text": [
      "* * * \n",
      "*     *\n",
      "* * * \n",
      "*     *\n",
      "* * * \n"
     ]
    }
   ],
   "source": [
    "x=0\n",
    "while x<5:\n",
    "    if x==2:\n",
    "        print(\"* * * \")\n",
    "    elif x==0  or x==4:\n",
    "        print(\"* * * \")\n",
    "    else:\n",
    "        print(\"*     *\")\n",
    "    x=x+1"
   ]
  },
  {
   "cell_type": "code",
   "execution_count": 71,
   "id": "1f25850c-2f31-463e-8714-13fdbce705e3",
   "metadata": {},
   "outputs": [
    {
     "name": "stdout",
     "output_type": "stream",
     "text": [
      "  * * *\n",
      "*\n",
      "*\n",
      "*\n",
      "  * * *\n"
     ]
    }
   ],
   "source": [
    "x=10\n",
    "while x>5:\n",
    "    if x==10 or x==6:\n",
    "        print(\"  * * *\")\n",
    "    else:\n",
    "        print(\"*\")\n",
    "    x=x-1"
   ]
  },
  {
   "cell_type": "code",
   "execution_count": 76,
   "id": "e828df13-bb9f-4db0-85c2-3874a1be0693",
   "metadata": {},
   "outputs": [
    {
     "name": "stdout",
     "output_type": "stream",
     "text": [
      "* * * *\n",
      "*       *\n",
      "*       *\n",
      "*       *\n",
      "* * * *\n"
     ]
    }
   ],
   "source": [
    "x=0\n",
    "while x<5:\n",
    "    if x==2:\n",
    "        print(\"*       *\")\n",
    "    elif x==0 or x==4:\n",
    "        print(\"* * * *\")\n",
    "    else:\n",
    "        print(\"*       *\")\n",
    "    x=x+1"
   ]
  },
  {
   "cell_type": "code",
   "execution_count": 13,
   "id": "d7d173b1-f3f6-4f1f-b9bd-020f297f5e1a",
   "metadata": {},
   "outputs": [
    {
     "name": "stdout",
     "output_type": "stream",
     "text": [
      "* * * *\n",
      "*\n",
      "* * *\n",
      "*\n",
      "* * * *\n"
     ]
    }
   ],
   "source": [
    "x=0\n",
    "while x<5:\n",
    "    if x==2:\n",
    "        print(\"* * *\")\n",
    "    elif x==0 or x==4:\n",
    "        print(\"* * * *\")\n",
    "    else:\n",
    "        print(\"*\")\n",
    "    x=x+1"
   ]
  },
  {
   "cell_type": "code",
   "execution_count": 14,
   "id": "d3acec42-2fb7-4d15-a642-74ea73eb94f8",
   "metadata": {},
   "outputs": [
    {
     "name": "stdout",
     "output_type": "stream",
     "text": [
      "* * * *\n",
      "*\n",
      "* * *\n",
      "*\n",
      "*\n"
     ]
    }
   ],
   "source": [
    "x=0\n",
    "while x<5:\n",
    "    if x==2:\n",
    "        print(\"* * *\")\n",
    "    elif x==0:\n",
    "        print(\"* * * *\")\n",
    "    else:\n",
    "        print(\"*\")\n",
    "    x=x+1"
   ]
  },
  {
   "cell_type": "code",
   "execution_count": 19,
   "id": "f361fe07-5e57-4c27-b7f0-f4dde9d569ee",
   "metadata": {},
   "outputs": [
    {
     "name": "stdout",
     "output_type": "stream",
     "text": [
      "* * * *\n",
      "*\n",
      "*     *  *\n",
      "*     *  *\n",
      "* * * *\n"
     ]
    }
   ],
   "source": [
    "x=0\n",
    "while x<5:\n",
    "    if x==1:\n",
    "        print(\"*\")\n",
    "    elif x==0 or x==4:\n",
    "        print(\"* * * *\")\n",
    "    else:\n",
    "        print(\"*     *  *\")\n",
    "    x=x+1"
   ]
  },
  {
   "cell_type": "code",
   "execution_count": 21,
   "id": "89ef3226-c233-4f36-82df-4ecf54f61b55",
   "metadata": {},
   "outputs": [
    {
     "name": "stdout",
     "output_type": "stream",
     "text": [
      "*     *\n",
      "*     *\n",
      "* * * *\n",
      "*     *\n",
      "*     *\n"
     ]
    }
   ],
   "source": [
    "x=0\n",
    "while x<5:\n",
    "    if x==2:\n",
    "        print(\"* * * *\")\n",
    "    else:\n",
    "        print(\"*     *\")\n",
    "    x=x+1"
   ]
  },
  {
   "cell_type": "code",
   "execution_count": 23,
   "id": "f11e449c-a47a-4418-b688-16e94801175e",
   "metadata": {},
   "outputs": [
    {
     "name": "stdout",
     "output_type": "stream",
     "text": [
      "* * * *\n",
      "   *\n",
      "   *\n",
      "   *\n",
      "* * * *\n"
     ]
    }
   ],
   "source": [
    "x=0\n",
    "while x<5:\n",
    "    if x==0 or x==4:\n",
    "        print(\"* * * *\")\n",
    "    else:\n",
    "        print(\"   *\")\n",
    "    x=x+1"
   ]
  },
  {
   "cell_type": "code",
   "execution_count": 25,
   "id": "7e5a8371-9c00-4a8b-b7fb-616f6f49d642",
   "metadata": {},
   "outputs": [
    {
     "name": "stdout",
     "output_type": "stream",
     "text": [
      "* * * *\n",
      "      *\n",
      "      *\n",
      "*     *\n",
      "* * * *\n"
     ]
    }
   ],
   "source": [
    "x=0\n",
    "while x<5:\n",
    "    if x== 3:\n",
    "        print(\"*     *\")   \n",
    "    elif x==0 or x==4:\n",
    "        print(\"* * * *\")\n",
    "    else:\n",
    "        print(\"      *\")\n",
    "    x=x+1"
   ]
  },
  {
   "cell_type": "code",
   "execution_count": 8,
   "id": "59ff828c-b444-4dc7-ac79-82c7af9e08b0",
   "metadata": {},
   "outputs": [
    {
     "name": "stdout",
     "output_type": "stream",
     "text": [
      "*      *\n",
      "*   *\n",
      "**\n",
      "*   *\n",
      "*      *\n"
     ]
    }
   ],
   "source": [
    "x=0\n",
    "while x<5:\n",
    "    if x== 2:\n",
    "        print(\"**\")   \n",
    "    elif x==0 or x==4:\n",
    "        print(\"*      *\")\n",
    "    else:\n",
    "        print(\"*   *\")\n",
    "    x=x+1"
   ]
  },
  {
   "cell_type": "code",
   "execution_count": 1,
   "id": "f21cb2e4-9508-43aa-9883-d02baeba70a3",
   "metadata": {},
   "outputs": [
    {
     "name": "stdout",
     "output_type": "stream",
     "text": [
      "*\n",
      "*\n",
      "*\n",
      "*\n",
      "* * * *\n"
     ]
    }
   ],
   "source": [
    "x=0\n",
    "while x<5:\n",
    "    if  x==4:\n",
    "        print(\"* * * *\")\n",
    "    else:\n",
    "        print(\"*\")\n",
    "    x=x+1"
   ]
  },
  {
   "cell_type": "code",
   "execution_count": 5,
   "id": "bac3fb65-59d4-4ec9-bd2f-6cce21387ab6",
   "metadata": {},
   "outputs": [
    {
     "name": "stdout",
     "output_type": "stream",
     "text": [
      "*     *\n",
      "* * * *\n",
      "*  *  *\n",
      "*     *\n",
      "*     *\n"
     ]
    }
   ],
   "source": [
    "x=0\n",
    "while x<5:\n",
    "    if  x==0 or x==3 or x==4:\n",
    "        print(\"*     *\")\n",
    "    elif x==1:\n",
    "        print(\"* * * *\")\n",
    "    else:\n",
    "        print(\"*  *  *\")\n",
    "    x=x+1"
   ]
  },
  {
   "cell_type": "code",
   "execution_count": 10,
   "id": "ebb74a04-0ed6-4fa2-a2b9-09633aecab50",
   "metadata": {},
   "outputs": [
    {
     "name": "stdout",
     "output_type": "stream",
     "text": [
      "*    *\n",
      "* *  *\n",
      "*  * *\n",
      "*    *\n"
     ]
    }
   ],
   "source": [
    "x=0\n",
    "while x<4:\n",
    "    if  x==0 or x==3 or x==4:\n",
    "        print(\"*    *\")\n",
    "    elif x==1:\n",
    "        print(\"* *  *\")\n",
    "    else:\n",
    "        print(\"*  * *\")\n",
    "    x=x+1"
   ]
  },
  {
   "cell_type": "code",
   "execution_count": 79,
   "id": "44e1cdba-6b9e-4517-a856-ffaa3a1e2fc9",
   "metadata": {},
   "outputs": [
    {
     "name": "stdout",
     "output_type": "stream",
     "text": [
      "  * * *\n",
      "*       *\n",
      "*       *\n",
      "*       *\n",
      "  * * *\n"
     ]
    }
   ],
   "source": [
    "x=0\n",
    "while x<5:\n",
    "    if  x==0 or x==4:\n",
    "        print(\"  * * *\")\n",
    "    else:\n",
    "        print(\"*       *\")\n",
    "    x=x+1"
   ]
  },
  {
   "cell_type": "code",
   "execution_count": 16,
   "id": "977a5ab8-3fe3-4a36-a0a6-3a2b969b7a90",
   "metadata": {},
   "outputs": [
    {
     "name": "stdout",
     "output_type": "stream",
     "text": [
      "* * * \n",
      "*    * \n",
      "* * * \n",
      "*\n",
      "*\n"
     ]
    }
   ],
   "source": [
    "x=0\n",
    "while x<5:\n",
    "    if x==1:\n",
    "        print(\"*    * \")\n",
    "    elif x==0  or x==2:\n",
    "        print(\"* * * \")\n",
    "    else:\n",
    "        print(\"*\")\n",
    "    x=x+1"
   ]
  },
  {
   "cell_type": "code",
   "execution_count": 29,
   "id": "18c350d7-016f-42fb-9d91-7e882bd2e9d5",
   "metadata": {},
   "outputs": [
    {
     "name": "stdout",
     "output_type": "stream",
     "text": [
      " *  *  * \n",
      " *     *\n",
      " *     *\n",
      " *     *\n",
      " *  *  * \n",
      " *  *  * \n",
      "         *\n"
     ]
    }
   ],
   "source": [
    "x = 0\n",
    "while x < 7:\n",
    "    if x == 0 or x==4 or x == 5:\n",
    "        print(\" *  *  * \")\n",
    "    elif x == 6:\n",
    "         print(\"         *\")\n",
    "    else:\n",
    "        print(\" *     *\")\n",
    "    x = x + 1"
   ]
  },
  {
   "cell_type": "code",
   "execution_count": 33,
   "id": "6843904d-7a78-46b2-b598-14d349b8dbc3",
   "metadata": {},
   "outputs": [
    {
     "name": "stdout",
     "output_type": "stream",
     "text": [
      "* * * \n",
      "*    * \n",
      "* * * \n",
      "*  *\n",
      "*    *\n"
     ]
    }
   ],
   "source": [
    "x=0\n",
    "while x<5:\n",
    "    if x==1:\n",
    "        print(\"*    * \")\n",
    "    elif x==0  or x==2:\n",
    "        print(\"* * * \")\n",
    "    elif x==3:\n",
    "        print(\"*  *\")\n",
    "    else:\n",
    "        print(\"*    *\")\n",
    "    x=x+1"
   ]
  },
  {
   "cell_type": "code",
   "execution_count": 36,
   "id": "65491a6c-b5b4-43bc-9963-df8a4a8090e9",
   "metadata": {},
   "outputs": [
    {
     "name": "stdout",
     "output_type": "stream",
     "text": [
      "* * * *\n",
      "*\n",
      "* * * *\n",
      "      *\n",
      "* * * *\n"
     ]
    }
   ],
   "source": [
    "x=0\n",
    "while x<5:\n",
    "    if x==0 or x==2 or x==4:\n",
    "        print(\"* * * *\")\n",
    "    elif x==3:\n",
    "        print(\"      *\")\n",
    "    else:\n",
    "        print(\"*\")\n",
    "    x=x+1"
   ]
  },
  {
   "cell_type": "code",
   "execution_count": 38,
   "id": "da3750f0-607b-496c-a187-973f4103cdf4",
   "metadata": {},
   "outputs": [
    {
     "name": "stdout",
     "output_type": "stream",
     "text": [
      "* * * *\n",
      "   *\n",
      "   *\n",
      "   *\n",
      "   *\n"
     ]
    }
   ],
   "source": [
    "x=0\n",
    "while x<5:\n",
    "    if x==0 :\n",
    "        print(\"* * * *\")\n",
    "    else:\n",
    "        print(\"   *\")\n",
    "    x=x+1"
   ]
  },
  {
   "cell_type": "code",
   "execution_count": 81,
   "id": "2ea20e3a-2653-40ff-8ee7-f25af5d12391",
   "metadata": {},
   "outputs": [
    {
     "name": "stdout",
     "output_type": "stream",
     "text": [
      "*       *\n",
      "*       *\n",
      "*       *\n",
      "*       *\n",
      "  * * *  \n"
     ]
    }
   ],
   "source": [
    "x=0\n",
    "while x<5:\n",
    "    if  x==4:\n",
    "        print(\"  * * *  \")\n",
    "    else:\n",
    "        print(\"*       *\")\n",
    "    x=x+1"
   ]
  },
  {
   "cell_type": "code",
   "execution_count": 44,
   "id": "680c03ac-e951-4ec6-91c2-1d81de6a4a97",
   "metadata": {},
   "outputs": [
    {
     "name": "stdout",
     "output_type": "stream",
     "text": [
      "*     *\n",
      " *   * \n",
      "  * * \n",
      "   *\n"
     ]
    }
   ],
   "source": [
    "x=0\n",
    "while x<4:\n",
    "    if  x==0:\n",
    "        print(\"*     *\")\n",
    "    elif x==1:\n",
    "        print(\" *   * \")\n",
    "    elif x==2:\n",
    "        print(\"  * * \")\n",
    "    else:\n",
    "        print(\"   *\")\n",
    "    x=x+1"
   ]
  },
  {
   "cell_type": "code",
   "execution_count": 103,
   "id": "79edfadc-8383-40e7-be63-e9db38e4fcbe",
   "metadata": {},
   "outputs": [
    {
     "name": "stdout",
     "output_type": "stream",
     "text": [
      "*         *\n",
      "*         *\n",
      "*    *    *\n",
      "*  *   *  *\n",
      "*         *\n"
     ]
    }
   ],
   "source": [
    "x=0\n",
    "while x<5:\n",
    "    if  x==0 or x==1 or x==4:\n",
    "        print(\"*         *\")\n",
    "    elif x==3:\n",
    "        print(\"*  *   *  *\")\n",
    "    else:\n",
    "        print(\"*    *    *\")\n",
    "    x=x+1"
   ]
  },
  {
   "cell_type": "code",
   "execution_count": 89,
   "id": "7cc53ede-954f-4235-b9de-d6c744fb0557",
   "metadata": {},
   "outputs": [
    {
     "name": "stdout",
     "output_type": "stream",
     "text": [
      "*       *\n",
      "  *   * \n",
      "    *   \n",
      "  *   * \n",
      "*       *\n"
     ]
    }
   ],
   "source": [
    "x=0\n",
    "while x<5:\n",
    "    if  x==0 or x==4:\n",
    "        print(\"*       *\")\n",
    "    elif x==1 or x==3:\n",
    "        print(\"  *   * \")\n",
    "    else:\n",
    "        print(\"    *   \")\n",
    "    x=x+1"
   ]
  },
  {
   "cell_type": "code",
   "execution_count": 90,
   "id": "371f7605-0112-485e-959c-ead4a5b87162",
   "metadata": {},
   "outputs": [
    {
     "name": "stdout",
     "output_type": "stream",
     "text": [
      "*       *\n",
      "  *   * \n",
      "    *   \n",
      "    *   \n",
      "    *   \n"
     ]
    }
   ],
   "source": [
    "x=0\n",
    "while x<5:\n",
    "    if  x==0:\n",
    "        print(\"*       *\")\n",
    "    elif x==1:\n",
    "        print(\"  *   * \")\n",
    "    else:\n",
    "        print(\"    *   \")\n",
    "    x=x+1"
   ]
  },
  {
   "cell_type": "code",
   "execution_count": 92,
   "id": "6ff65e25-34ee-498f-a316-d730961fb7da",
   "metadata": {},
   "outputs": [
    {
     "name": "stdout",
     "output_type": "stream",
     "text": [
      "*  *  * \n",
      "    *  \n",
      "  *   \n",
      "*  *  * \n"
     ]
    }
   ],
   "source": [
    "x=0\n",
    "while x<4:\n",
    "    if  x==0 or x==3:\n",
    "        print(\"*  *  * \")\n",
    "    elif x==1:\n",
    "        print(\"    *  \")\n",
    "    else:\n",
    "        print(\"  *   \")\n",
    "    x=x+1"
   ]
  },
  {
   "cell_type": "code",
   "execution_count": null,
   "id": "d589810d-7c1e-4c13-a082-60fdf4115a2a",
   "metadata": {},
   "outputs": [],
   "source": []
  }
 ],
 "metadata": {
  "kernelspec": {
   "display_name": "Python 3 (ipykernel)",
   "language": "python",
   "name": "python3"
  },
  "language_info": {
   "codemirror_mode": {
    "name": "ipython",
    "version": 3
   },
   "file_extension": ".py",
   "mimetype": "text/x-python",
   "name": "python",
   "nbconvert_exporter": "python",
   "pygments_lexer": "ipython3",
   "version": "3.9.7"
  }
 },
 "nbformat": 4,
 "nbformat_minor": 5
}
