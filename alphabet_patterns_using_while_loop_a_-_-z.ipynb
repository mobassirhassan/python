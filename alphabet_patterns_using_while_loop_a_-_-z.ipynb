{
 "cells": [
  {
   "cell_type": "code",
   "execution_count": 28,
   "id": "0cea2126",
   "metadata": {},
   "outputs": [
    {
     "name": "stdout",
     "output_type": "stream",
     "text": [
      " * *\n",
      "*   *\n",
      "*   *\n",
      "*   *\n",
      " * * **\n"
     ]
    }
   ],
   "source": [
    "x=5\n",
    "while x>0:\n",
    "    if x==5:\n",
    "        print(\" * *\")\n",
    "    elif x==4 or x==3 or x==2:\n",
    "        print(\"*   *\")\n",
    "    else:\n",
    "        print(\" * * **\")\n",
    "    x=x-1"
   ]
  },
  {
   "cell_type": "code",
   "execution_count": 9,
   "id": "4555f14e",
   "metadata": {},
   "outputs": [
    {
     "name": "stdout",
     "output_type": "stream",
     "text": [
      "*\n",
      "*\n",
      "* * *\n",
      "*     *\n",
      "* * *\n"
     ]
    }
   ],
   "source": [
    "x=5\n",
    "while x>0:\n",
    "    if x==5 or x==4 :\n",
    "        print(\"*\")\n",
    "    elif x==3 or x==1:\n",
    "        print(\"* * *\")\n",
    "    else:\n",
    "        print(\"*     *\")\n",
    "    x=x-1"
   ]
  },
  {
   "cell_type": "code",
   "execution_count": 10,
   "id": "b72a776a",
   "metadata": {},
   "outputs": [
    {
     "name": "stdout",
     "output_type": "stream",
     "text": [
      "  * * *\n",
      "*\n",
      "*\n",
      "*\n",
      "  * * *\n"
     ]
    }
   ],
   "source": [
    "x=10\n",
    "while x>5:\n",
    "    if x==10 or x==6:\n",
    "        print(\"  * * *\")\n",
    "    else:\n",
    "        print(\"*\")\n",
    "    x=x-1"
   ]
  },
  {
   "cell_type": "code",
   "execution_count": 11,
   "id": "efc90782",
   "metadata": {},
   "outputs": [
    {
     "name": "stdout",
     "output_type": "stream",
     "text": [
      "     *\n",
      "     *\n",
      " * * *\n",
      "*    *\n",
      " * * *\n"
     ]
    }
   ],
   "source": [
    "x=0\n",
    "while x<5:\n",
    "    if x==2 or x==4:\n",
    "        print(\" * * *\")\n",
    "    elif x==0 or x==1:\n",
    "        print(\"     *\")\n",
    "    else:\n",
    "        print(\"*    *\")\n",
    "    x=x+1 "
   ]
  },
  {
   "cell_type": "code",
   "execution_count": 12,
   "id": "937059ce",
   "metadata": {},
   "outputs": [
    {
     "name": "stdout",
     "output_type": "stream",
     "text": [
      " * * *\n",
      "*     *\n",
      "* * *\n",
      "*\n",
      " * * *\n"
     ]
    }
   ],
   "source": [
    "x=5\n",
    "while x>0:\n",
    "    if x==5 or x==1:\n",
    "        print(\" * * *\")\n",
    "    elif x==4:\n",
    "        print(\"*     *\")\n",
    "    elif x==3:\n",
    "        print(\"* * *\")\n",
    "    elif x==2:\n",
    "        print(\"*\")\n",
    "    else:\n",
    "        print(\"* * *\")\n",
    "    x=x-1 "
   ]
  },
  {
   "cell_type": "code",
   "execution_count": 1,
   "id": "9102f66e",
   "metadata": {},
   "outputs": [
    {
     "name": "stdout",
     "output_type": "stream",
     "text": [
      "   * * *\n",
      "  *    \n",
      "* * * *\n",
      "  *\n",
      "  *\n"
     ]
    }
   ],
   "source": [
    "x=0\n",
    "while x<5:\n",
    "    if x==0 :\n",
    "        print(\"   * * *\")\n",
    "    elif x==1:\n",
    "        print(\"  *    \")\n",
    "    elif x==2:\n",
    "        print(\"* * * *\")\n",
    "    else:\n",
    "        print(\"  *\")\n",
    "    x=x+1"
   ]
  },
  {
   "cell_type": "code",
   "execution_count": 6,
   "id": "8167074e",
   "metadata": {},
   "outputs": [
    {
     "name": "stdout",
     "output_type": "stream",
     "text": [
      " * * *\n",
      "*    *\n",
      "*    *\n",
      " * * *\n",
      "     *\n",
      "*    *\n",
      " * * *\n"
     ]
    }
   ],
   "source": [
    "x=7\n",
    "while x>0:\n",
    "    if x==7 or x==1:\n",
    "        print(\" * * *\")\n",
    "    elif x==6 or x==5 or x==2:\n",
    "        print(\"*    *\")\n",
    "    elif x==4:\n",
    "        print(\" * * *\")\n",
    "        \n",
    "    else :\n",
    "        print(\"     *\")\n",
    "    x=x-1"
   ]
  },
  {
   "cell_type": "code",
   "execution_count": 8,
   "id": "23e6c6ce",
   "metadata": {},
   "outputs": [
    {
     "name": "stdout",
     "output_type": "stream",
     "text": [
      "*\n",
      "*\n",
      "*  *  \n",
      "*     *\n",
      "*     *\n"
     ]
    }
   ],
   "source": [
    "x=0\n",
    "while x<5:\n",
    "    if x==0 or x==1:\n",
    "        print(\"*\")\n",
    "    elif x==2:\n",
    "        print(\"*  *  \")\n",
    "    else:\n",
    "        print(\"*     *\")\n",
    "    x=x+1"
   ]
  },
  {
   "cell_type": "code",
   "execution_count": 9,
   "id": "ddf2d3fc",
   "metadata": {},
   "outputs": [
    {
     "name": "stdout",
     "output_type": "stream",
     "text": [
      "*\n",
      " \n",
      "*\n",
      "*\n",
      "*\n"
     ]
    }
   ],
   "source": [
    "x=5\n",
    "while x>0:\n",
    "    if x==5 :\n",
    "        print(\"*\")\n",
    "    elif x==3 or x==2 or x==1:\n",
    "        print(\"*\")\n",
    "    else:\n",
    "        print(\" \")\n",
    "    x=x-1"
   ]
  },
  {
   "cell_type": "code",
   "execution_count": 10,
   "id": "1950c8e9",
   "metadata": {},
   "outputs": [
    {
     "name": "stdout",
     "output_type": "stream",
     "text": [
      "   *\n",
      " \n",
      "   *\n",
      "   *\n",
      "   *\n",
      "*  *\n",
      " **\n"
     ]
    }
   ],
   "source": [
    "x=7\n",
    "\n",
    "while x>0:\n",
    "    if x==7:\n",
    "        print(\"   *\")\n",
    "    elif x==3 or x==4 or x==5:\n",
    "        print(\"   *\")\n",
    "    elif x==2 :\n",
    "        print(\"*  *\")\n",
    "    elif x==1:\n",
    "        print(\" **\")\n",
    "    else:\n",
    "        print(\" \")\n",
    "    x=x-1  "
   ]
  },
  {
   "cell_type": "code",
   "execution_count": 11,
   "id": "e344686e",
   "metadata": {},
   "outputs": [
    {
     "name": "stdout",
     "output_type": "stream",
     "text": [
      "*\n",
      "*\n",
      "*  *\n",
      "**\n",
      "*  *\n"
     ]
    }
   ],
   "source": [
    "x=5\n",
    "while x>0:\n",
    "    if x==5  or x==4:\n",
    "        print(\"*\")\n",
    "    elif x==3 or x==1 :\n",
    "        print(\"*  *\")\n",
    "    else:\n",
    "        print(\"**\")\n",
    "    x=x-1"
   ]
  },
  {
   "cell_type": "code",
   "execution_count": 12,
   "id": "4dcaf7b6",
   "metadata": {},
   "outputs": [
    {
     "name": "stdout",
     "output_type": "stream",
     "text": [
      " * \n",
      " * \n",
      " * \n",
      "**\n",
      "   * \n"
     ]
    }
   ],
   "source": [
    "x=5\n",
    "while x>0:\n",
    "    if x==1:\n",
    "        print(\"   * \")\n",
    "    elif x==2:\n",
    "        print(\"**\")\n",
    "    else:\n",
    "        print(\" * \")\n",
    "    x=x-1"
   ]
  },
  {
   "cell_type": "code",
   "execution_count": 3,
   "id": "5f8eb036",
   "metadata": {},
   "outputs": [
    {
     "name": "stdout",
     "output_type": "stream",
     "text": [
      "*  *   *\n",
      "  *  *  *\n",
      "  *  *  *\n",
      "  *  *  *\n",
      "  *  *  *\n"
     ]
    }
   ],
   "source": [
    "x=0\n",
    "while x<5:\n",
    "    if x==1 or  x==2 or x==3 or x==4:\n",
    "        print(\"  *  *  *\")\n",
    "    else:\n",
    "        print(\"*  *   *\")\n",
    "    x=x+1"
   ]
  },
  {
   "cell_type": "code",
   "execution_count": 4,
   "id": "b314285c",
   "metadata": {},
   "outputs": [
    {
     "name": "stdout",
     "output_type": "stream",
     "text": [
      "*   *  *\n",
      "  *     *\n",
      "  *     *\n",
      "  *     *\n",
      "  *     *\n"
     ]
    }
   ],
   "source": [
    "x=5\n",
    "while x>0:\n",
    "    if x==4 or  x==3 or x==2 or x==1:\n",
    "        print(\"  *     *\")\n",
    "    else:\n",
    "        print(\"*   *  *\")\n",
    "    x=x-1"
   ]
  },
  {
   "cell_type": "code",
   "execution_count": 5,
   "id": "e94c01c6",
   "metadata": {},
   "outputs": [
    {
     "name": "stdout",
     "output_type": "stream",
     "text": [
      "  * * *\n",
      "*       *\n",
      "*       *\n",
      "*       *\n",
      "  * * *\n"
     ]
    }
   ],
   "source": [
    "x=0\n",
    "while x<5:\n",
    "    if  x==0 or x==4:\n",
    "        print(\"  * * *\")\n",
    "    else:\n",
    "        print(\"*       *\")\n",
    "    x=x+1"
   ]
  },
  {
   "cell_type": "code",
   "execution_count": 7,
   "id": "8e8bdf78",
   "metadata": {},
   "outputs": [
    {
     "name": "stdout",
     "output_type": "stream",
     "text": [
      "*\n",
      "*  *  *\n",
      "*      *\n",
      "*  *  *\n",
      "*\n",
      "*\n"
     ]
    }
   ],
   "source": [
    "x=6\n",
    "while x>0:\n",
    "    if x==5 or x==3:\n",
    "        print(\"*  *  *\")\n",
    "    elif x==6  or x==1 or x==2:\n",
    "        print(\"*\")\n",
    "    else:\n",
    "        print(\"*      *\")\n",
    "    x=x-1"
   ]
  },
  {
   "cell_type": "code",
   "execution_count": 11,
   "id": "f0b68454",
   "metadata": {},
   "outputs": [
    {
     "name": "stdout",
     "output_type": "stream",
     "text": [
      " *  *\n",
      "*    *\n",
      "*    *\n",
      " *  *\n",
      "     *  *\n",
      "     * *\n",
      "     *\n"
     ]
    }
   ],
   "source": [
    "x=7\n",
    "while x>0:\n",
    "    if x==7 or x==4:\n",
    "        print(\" *  *\")\n",
    "    elif x==6 or x==5:\n",
    "        print(\"*    *\")\n",
    "    elif x==3:\n",
    "        print(\"     *  *\")\n",
    "    elif x==2:\n",
    "        print(\"     * *\")\n",
    "    else:\n",
    "        print(\"     *\")\n",
    "    x=x-1"
   ]
  },
  {
   "cell_type": "code",
   "execution_count": 14,
   "id": "a4de033e",
   "metadata": {},
   "outputs": [
    {
     "name": "stdout",
     "output_type": "stream",
     "text": [
      "*    *\n",
      "*    *\n",
      "  *\n",
      " *  *\n",
      " *  *\n",
      " *  *\n",
      "  *\n"
     ]
    }
   ],
   "source": [
    "x=7\n",
    "while x>0:\n",
    "    if x==7 or x==6:\n",
    "        print(\"*    *\")\n",
    "    elif x==5 or x==1:\n",
    "        print(\"  *\")\n",
    "    else:\n",
    "        print(\" *  *\")\n",
    "    x=x-1"
   ]
  },
  {
   "cell_type": "code",
   "execution_count": 18,
   "id": "9d94a9d1",
   "metadata": {},
   "outputs": [
    {
     "name": "stdout",
     "output_type": "stream",
     "text": [
      "   *   \n",
      "*     *\n",
      "  *\n",
      "    *\n",
      "      *\n",
      "*     *\n",
      "   *   \n"
     ]
    }
   ],
   "source": [
    "x=7\n",
    "while x>0:\n",
    "    if x==7 or x==1:\n",
    "        print(\"   *   \")\n",
    "    elif x==6 :\n",
    "        print(\"*     *\")\n",
    "    elif x==5:\n",
    "        print(\"  *\")\n",
    "    elif x==4:\n",
    "        print(\"    *\")\n",
    "    elif x==3:\n",
    "        print(\"      *\")\n",
    "    else:\n",
    "        print(\"*     *\")\n",
    "    x=x-1"
   ]
  },
  {
   "cell_type": "code",
   "execution_count": 19,
   "id": "1080bc37",
   "metadata": {},
   "outputs": [
    {
     "name": "stdout",
     "output_type": "stream",
     "text": [
      "  *\n",
      "* * *\n",
      "  *\n",
      "  *\n",
      "  *  *\n",
      "   **\n"
     ]
    }
   ],
   "source": [
    "x=5\n",
    "while x>=0:\n",
    "    if x==5 or x==3 or x==2:\n",
    "        print(\"  *\")\n",
    "    elif x==4:\n",
    "        print(\"* * *\")\n",
    "    elif x==1:\n",
    "        print(\"  *  *\")\n",
    "    else:\n",
    "        print(\"   **\")\n",
    "    x=x-1"
   ]
  },
  {
   "cell_type": "code",
   "execution_count": 22,
   "id": "977e7de6",
   "metadata": {},
   "outputs": [
    {
     "name": "stdout",
     "output_type": "stream",
     "text": [
      "  *     *\n",
      "  *     *\n",
      "  *     *\n",
      "  *     *\n",
      "  *     *\n",
      "*  *  *\n"
     ]
    }
   ],
   "source": [
    "x=6\n",
    "while x>0:\n",
    "    if x==6 or x==5 or x==4 or x==3 or x==2:\n",
    "        print(\"  *     *\")\n",
    "    else:\n",
    "        print(\"*  *  *\")\n",
    "    x=x-1"
   ]
  },
  {
   "cell_type": "code",
   "execution_count": 21,
   "id": "4b7406a7",
   "metadata": {},
   "outputs": [
    {
     "name": "stdout",
     "output_type": "stream",
     "text": [
      "*     *\n",
      " *   * \n",
      "  * * \n",
      "   *\n"
     ]
    }
   ],
   "source": [
    "x=0\n",
    "while x<4:\n",
    "    if  x==0:\n",
    "        print(\"*     *\")\n",
    "    elif x==1:\n",
    "        print(\" *   * \")\n",
    "    elif x==2:\n",
    "        print(\"  * * \")\n",
    "    else:\n",
    "        print(\"   *\")\n",
    "    x=x+1"
   ]
  },
  {
   "cell_type": "code",
   "execution_count": 23,
   "id": "872985b7",
   "metadata": {},
   "outputs": [
    {
     "name": "stdout",
     "output_type": "stream",
     "text": [
      "*   *   *\n",
      "*   *   *\n",
      "*   *   *\n",
      "*   *   *\n",
      " * * * *\n"
     ]
    }
   ],
   "source": [
    "x=5\n",
    "while x>0:\n",
    "    if x==5 or x==4 or x==3:\n",
    "        print(\"*   *   *\")\n",
    "    elif x==2:\n",
    "        print(\"*   *   *\")\n",
    "    elif x==1:\n",
    "        print(\" * * * *\")\n",
    "    else:\n",
    "        print(\" *    *\")\n",
    "    x=x-1"
   ]
  },
  {
   "cell_type": "code",
   "execution_count": 24,
   "id": "2033c431",
   "metadata": {},
   "outputs": [
    {
     "name": "stdout",
     "output_type": "stream",
     "text": [
      " *      *\n",
      "*  *  *   *\n",
      "    **\n",
      "    **\n",
      "*  *  *   *\n",
      " *      *\n"
     ]
    }
   ],
   "source": [
    "x=5\n",
    "while x>=0:\n",
    "    if x==5 or x==0:\n",
    "        print(\" *      *\")\n",
    "    elif x==4 or x==1:\n",
    "        print(\"*  *  *   *\")\n",
    "    elif x==3 or x==2:\n",
    "        print(\"    **\")\n",
    "    x=x-1"
   ]
  },
  {
   "cell_type": "code",
   "execution_count": 25,
   "id": "9df824c0",
   "metadata": {},
   "outputs": [
    {
     "name": "stdout",
     "output_type": "stream",
     "text": [
      "*   *\n",
      "*   *\n",
      "* * *\n",
      "    *\n",
      "*   *\n",
      " * *\n"
     ]
    }
   ],
   "source": [
    "x=5\n",
    "while x>=0:\n",
    "    if x==5 or x==4 or x==1:\n",
    "        print(\"*   *\")\n",
    "    elif x==3:\n",
    "        print(\"* * *\")\n",
    "    elif x==2:\n",
    "        print(\"    *\")\n",
    "    else:\n",
    "        print(\" * *\")\n",
    "    x=x-1"
   ]
  },
  {
   "cell_type": "code",
   "execution_count": 27,
   "id": "c50a5f34",
   "metadata": {},
   "outputs": [
    {
     "name": "stdout",
     "output_type": "stream",
     "text": [
      "*  *  * \n",
      "    *  \n",
      "  *   \n",
      "*  *  * \n"
     ]
    }
   ],
   "source": [
    "x=0\n",
    "while x<4:\n",
    "    if  x==0 or x==3:\n",
    "        print(\"*  *  * \")\n",
    "    elif x==1:\n",
    "        print(\"    *  \")\n",
    "    else:\n",
    "        print(\"  *   \")\n",
    "    x=x+1 "
   ]
  },
  {
   "cell_type": "code",
   "execution_count": null,
   "id": "b87bbe8b",
   "metadata": {},
   "outputs": [],
   "source": []
  }
 ],
 "metadata": {
  "kernelspec": {
   "display_name": "Python 3 (ipykernel)",
   "language": "python",
   "name": "python3"
  },
  "language_info": {
   "codemirror_mode": {
    "name": "ipython",
    "version": 3
   },
   "file_extension": ".py",
   "mimetype": "text/x-python",
   "name": "python",
   "nbconvert_exporter": "python",
   "pygments_lexer": "ipython3",
   "version": "3.9.7"
  }
 },
 "nbformat": 4,
 "nbformat_minor": 5
}
