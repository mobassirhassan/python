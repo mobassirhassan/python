{
 "cells": [
  {
   "cell_type": "code",
   "execution_count": 1,
   "id": "21f562ba-337e-4e42-8fa9-062b6a62cc96",
   "metadata": {},
   "outputs": [],
   "source": [
    "import random"
   ]
  },
  {
   "cell_type": "code",
   "execution_count": 4,
   "id": "e65b4e5d-71fb-4388-aa06-f0f11bbe49f2",
   "metadata": {},
   "outputs": [
    {
     "name": "stdin",
     "output_type": "stream",
     "text": [
      "press e to roll dice:  \n"
     ]
    },
    {
     "name": "stdout",
     "output_type": "stream",
     "text": [
      "player 1 rolled 5\n"
     ]
    },
    {
     "name": "stdin",
     "output_type": "stream",
     "text": [
      "press e to roll dice:  \n"
     ]
    },
    {
     "name": "stdout",
     "output_type": "stream",
     "text": [
      "player 2 rolled 4\n"
     ]
    },
    {
     "name": "stdin",
     "output_type": "stream",
     "text": [
      "press e to roll dice:  \n"
     ]
    },
    {
     "name": "stdout",
     "output_type": "stream",
     "text": [
      "player 1 rolled 6\n",
      "player 1 moved to pos 1\n"
     ]
    },
    {
     "name": "stdin",
     "output_type": "stream",
     "text": [
      "press e to roll dice:  \n"
     ]
    },
    {
     "name": "stdout",
     "output_type": "stream",
     "text": [
      "player 2 rolled 2\n"
     ]
    },
    {
     "name": "stdin",
     "output_type": "stream",
     "text": [
      "press e to roll dice:  \n"
     ]
    },
    {
     "name": "stdout",
     "output_type": "stream",
     "text": [
      "player 1 rolled 3\n",
      "player 1 position is  4\n"
     ]
    },
    {
     "name": "stdin",
     "output_type": "stream",
     "text": [
      "press e to roll dice:  \n"
     ]
    },
    {
     "name": "stdout",
     "output_type": "stream",
     "text": [
      "player 2 rolled 3\n"
     ]
    },
    {
     "name": "stdin",
     "output_type": "stream",
     "text": [
      "press e to roll dice:  \n"
     ]
    },
    {
     "name": "stdout",
     "output_type": "stream",
     "text": [
      "player 1 rolled 5\n",
      "player 1 position is  9\n"
     ]
    },
    {
     "name": "stdin",
     "output_type": "stream",
     "text": [
      "press e to roll dice:  \n"
     ]
    },
    {
     "name": "stdout",
     "output_type": "stream",
     "text": [
      "player 2 rolled 5\n"
     ]
    },
    {
     "name": "stdin",
     "output_type": "stream",
     "text": [
      "press e to roll dice:  \n"
     ]
    },
    {
     "name": "stdout",
     "output_type": "stream",
     "text": [
      "player 1 rolled 1\n",
      "player 1 position is  10\n"
     ]
    },
    {
     "name": "stdin",
     "output_type": "stream",
     "text": [
      "press e to roll dice:  \n"
     ]
    },
    {
     "name": "stdout",
     "output_type": "stream",
     "text": [
      "player 2 rolled 2\n"
     ]
    },
    {
     "name": "stdin",
     "output_type": "stream",
     "text": [
      "press e to roll dice:  \n"
     ]
    },
    {
     "name": "stdout",
     "output_type": "stream",
     "text": [
      "player 1 rolled 2\n",
      "player 1 position is  12\n"
     ]
    },
    {
     "name": "stdin",
     "output_type": "stream",
     "text": [
      "press e to roll dice:  \n"
     ]
    },
    {
     "name": "stdout",
     "output_type": "stream",
     "text": [
      "player 2 rolled 5\n"
     ]
    },
    {
     "name": "stdin",
     "output_type": "stream",
     "text": [
      "press e to roll dice:  \n"
     ]
    },
    {
     "name": "stdout",
     "output_type": "stream",
     "text": [
      "player 1 rolled 1\n",
      "player 1 position is  13\n"
     ]
    },
    {
     "name": "stdin",
     "output_type": "stream",
     "text": [
      "press e to roll dice:  \n"
     ]
    },
    {
     "name": "stdout",
     "output_type": "stream",
     "text": [
      "player 2 rolled 2\n"
     ]
    },
    {
     "name": "stdin",
     "output_type": "stream",
     "text": [
      "press e to roll dice:  \n"
     ]
    },
    {
     "name": "stdout",
     "output_type": "stream",
     "text": [
      "player 1 rolled 1\n",
      "player 1 position is  14\n"
     ]
    },
    {
     "name": "stdin",
     "output_type": "stream",
     "text": [
      "press e to roll dice:  \n"
     ]
    },
    {
     "name": "stdout",
     "output_type": "stream",
     "text": [
      "player 2 rolled 4\n"
     ]
    },
    {
     "name": "stdin",
     "output_type": "stream",
     "text": [
      "press e to roll dice:  \n"
     ]
    },
    {
     "name": "stdout",
     "output_type": "stream",
     "text": [
      "player 1 rolled 4\n",
      "player 1 position is  18\n"
     ]
    },
    {
     "name": "stdin",
     "output_type": "stream",
     "text": [
      "press e to roll dice:  \n"
     ]
    },
    {
     "name": "stdout",
     "output_type": "stream",
     "text": [
      "player 2 rolled 6\n",
      "player 2 moved to pos 1\n"
     ]
    },
    {
     "name": "stdin",
     "output_type": "stream",
     "text": [
      "press e to roll dice:  \n"
     ]
    },
    {
     "name": "stdout",
     "output_type": "stream",
     "text": [
      "player 1 rolled 5\n",
      "player 1 position is  23\n"
     ]
    },
    {
     "name": "stdin",
     "output_type": "stream",
     "text": [
      "press e to roll dice:  \n"
     ]
    },
    {
     "name": "stdout",
     "output_type": "stream",
     "text": [
      "player 2 rolled 1\n",
      "player 2 position is  2\n"
     ]
    },
    {
     "name": "stdin",
     "output_type": "stream",
     "text": [
      "press e to roll dice:  \n"
     ]
    },
    {
     "name": "stdout",
     "output_type": "stream",
     "text": [
      "player 1 rolled 2\n",
      "player 1 position is  25\n"
     ]
    },
    {
     "name": "stdin",
     "output_type": "stream",
     "text": [
      "press e to roll dice:  \n"
     ]
    },
    {
     "name": "stdout",
     "output_type": "stream",
     "text": [
      "player 2 rolled 3\n",
      "player 2 position is  5\n"
     ]
    },
    {
     "name": "stdin",
     "output_type": "stream",
     "text": [
      "press e to roll dice:  \n"
     ]
    },
    {
     "name": "stdout",
     "output_type": "stream",
     "text": [
      "player 1 rolled 1\n",
      "player 1 position is  26\n"
     ]
    },
    {
     "name": "stdin",
     "output_type": "stream",
     "text": [
      "press e to roll dice:  \n"
     ]
    },
    {
     "name": "stdout",
     "output_type": "stream",
     "text": [
      "player 2 rolled 5\n",
      "player 2 position is  10\n"
     ]
    },
    {
     "name": "stdin",
     "output_type": "stream",
     "text": [
      "press e to roll dice:  \n",
      "press e to roll dice:  \n"
     ]
    },
    {
     "name": "stdout",
     "output_type": "stream",
     "text": [
      "player 1 rolled 3\n",
      "player 1 position is  29\n",
      "player 2 rolled 6\n",
      "player 2 position is  16\n"
     ]
    },
    {
     "name": "stdin",
     "output_type": "stream",
     "text": [
      "press e to roll dice:  \n",
      "press e to roll dice:  \n"
     ]
    },
    {
     "name": "stdout",
     "output_type": "stream",
     "text": [
      "player 1 rolled 6\n",
      "player 1 position is  26\n",
      "player 2 rolled 3\n",
      "player 2 position is  19\n"
     ]
    },
    {
     "name": "stdin",
     "output_type": "stream",
     "text": [
      "press e to roll dice:  \n"
     ]
    },
    {
     "name": "stdout",
     "output_type": "stream",
     "text": [
      "player 1 rolled 5\n",
      "player 1 position is  31\n"
     ]
    },
    {
     "name": "stdin",
     "output_type": "stream",
     "text": [
      "press e to roll dice:  \n"
     ]
    },
    {
     "name": "stdout",
     "output_type": "stream",
     "text": [
      "player 2 rolled 6\n",
      "player 2 position is  25\n"
     ]
    },
    {
     "name": "stdin",
     "output_type": "stream",
     "text": [
      "press e to roll dice:  \n"
     ]
    },
    {
     "name": "stdout",
     "output_type": "stream",
     "text": [
      "player 1 rolled 1\n",
      "player 1 position is  32\n"
     ]
    },
    {
     "name": "stdin",
     "output_type": "stream",
     "text": [
      "press e to roll dice:  \n"
     ]
    },
    {
     "name": "stdout",
     "output_type": "stream",
     "text": [
      "player 2 rolled 5\n",
      "player 2 position is  30\n"
     ]
    },
    {
     "name": "stdin",
     "output_type": "stream",
     "text": [
      "press e to roll dice:  \n"
     ]
    },
    {
     "name": "stdout",
     "output_type": "stream",
     "text": [
      "player 1 rolled 5\n",
      "player 1 position is  37\n"
     ]
    },
    {
     "name": "stdin",
     "output_type": "stream",
     "text": [
      "press e to roll dice:  \n"
     ]
    },
    {
     "name": "stdout",
     "output_type": "stream",
     "text": [
      "player 2 rolled 4\n",
      "player 2 position is  34\n"
     ]
    },
    {
     "name": "stdin",
     "output_type": "stream",
     "text": [
      "press e to roll dice:  \n"
     ]
    },
    {
     "name": "stdout",
     "output_type": "stream",
     "text": [
      "player 1 rolled 5\n",
      "player 1 position is  42\n"
     ]
    },
    {
     "name": "stdin",
     "output_type": "stream",
     "text": [
      "press e to roll dice:  \n"
     ]
    },
    {
     "name": "stdout",
     "output_type": "stream",
     "text": [
      "player 2 rolled 5\n",
      "player 2 position is  39\n"
     ]
    },
    {
     "name": "stdin",
     "output_type": "stream",
     "text": [
      "press e to roll dice:  \n"
     ]
    },
    {
     "name": "stdout",
     "output_type": "stream",
     "text": [
      "player 1 rolled 1\n",
      "player 1 position is  43\n"
     ]
    },
    {
     "name": "stdin",
     "output_type": "stream",
     "text": [
      "press e to roll dice:  \n"
     ]
    },
    {
     "name": "stdout",
     "output_type": "stream",
     "text": [
      "player 2 rolled 2\n",
      "player 2 position is  41\n"
     ]
    },
    {
     "name": "stdin",
     "output_type": "stream",
     "text": [
      "press e to roll dice:  \n"
     ]
    },
    {
     "name": "stdout",
     "output_type": "stream",
     "text": [
      "player 1 rolled 6\n",
      "player 1 position is  49\n"
     ]
    },
    {
     "name": "stdin",
     "output_type": "stream",
     "text": [
      "press e to roll dice:  \n"
     ]
    },
    {
     "name": "stdout",
     "output_type": "stream",
     "text": [
      "player 2 rolled 2\n",
      "player 2 position is  43\n"
     ]
    },
    {
     "name": "stdin",
     "output_type": "stream",
     "text": [
      "press e to roll dice:  \n"
     ]
    },
    {
     "name": "stdout",
     "output_type": "stream",
     "text": [
      "player 1 rolled 1\n",
      "player 1 position is  50\n"
     ]
    },
    {
     "name": "stdin",
     "output_type": "stream",
     "text": [
      "press e to roll dice:  \n"
     ]
    },
    {
     "name": "stdout",
     "output_type": "stream",
     "text": [
      "player 2 rolled 2\n",
      "player 2 position is  45\n"
     ]
    },
    {
     "name": "stdin",
     "output_type": "stream",
     "text": [
      "press e to roll dice:  \n"
     ]
    },
    {
     "name": "stdout",
     "output_type": "stream",
     "text": [
      "player 1 rolled 4\n",
      "player 1 position is  54\n"
     ]
    },
    {
     "name": "stdin",
     "output_type": "stream",
     "text": [
      "press e to roll dice:  \n"
     ]
    },
    {
     "name": "stdout",
     "output_type": "stream",
     "text": [
      "player 2 rolled 1\n",
      "player 2 position is  46\n"
     ]
    },
    {
     "name": "stdin",
     "output_type": "stream",
     "text": [
      "press e to roll dice:  \n"
     ]
    },
    {
     "name": "stdout",
     "output_type": "stream",
     "text": [
      "player 1 rolled 3\n",
      "player 1 position is  57\n"
     ]
    },
    {
     "name": "stdin",
     "output_type": "stream",
     "text": [
      "press e to roll dice:  \n"
     ]
    },
    {
     "name": "stdout",
     "output_type": "stream",
     "text": [
      "player 2 rolled 1\n",
      "player 2 position is  47\n"
     ]
    },
    {
     "name": "stdin",
     "output_type": "stream",
     "text": [
      "press e to roll dice:  \n"
     ]
    },
    {
     "name": "stdout",
     "output_type": "stream",
     "text": [
      "player 1 rolled 2\n",
      "player 1 position is  59\n"
     ]
    },
    {
     "name": "stdin",
     "output_type": "stream",
     "text": [
      "press e to roll dice:  \n"
     ]
    },
    {
     "name": "stdout",
     "output_type": "stream",
     "text": [
      "player 2 rolled 6\n",
      "player 2 position is  53\n"
     ]
    },
    {
     "name": "stdin",
     "output_type": "stream",
     "text": [
      "press e to roll dice:  \n"
     ]
    },
    {
     "name": "stdout",
     "output_type": "stream",
     "text": [
      "player 1 rolled 1\n",
      "player 1 position is  60\n"
     ]
    },
    {
     "name": "stdin",
     "output_type": "stream",
     "text": [
      "press e to roll dice:  \n"
     ]
    },
    {
     "name": "stdout",
     "output_type": "stream",
     "text": [
      "player 2 rolled 4\n",
      "player 2 position is  57\n"
     ]
    },
    {
     "name": "stdin",
     "output_type": "stream",
     "text": [
      "press e to roll dice:  \n"
     ]
    },
    {
     "name": "stdout",
     "output_type": "stream",
     "text": [
      "player 1 rolled 6\n",
      "player 1 position is  66\n"
     ]
    },
    {
     "name": "stdin",
     "output_type": "stream",
     "text": [
      "press e to roll dice:  \n"
     ]
    },
    {
     "name": "stdout",
     "output_type": "stream",
     "text": [
      "player 2 rolled 4\n",
      "player 2 position is  61\n"
     ]
    },
    {
     "name": "stdin",
     "output_type": "stream",
     "text": [
      "press e to roll dice:  \n"
     ]
    },
    {
     "name": "stdout",
     "output_type": "stream",
     "text": [
      "player 1 rolled 1\n",
      "player 1 position is  40\n"
     ]
    },
    {
     "name": "stdin",
     "output_type": "stream",
     "text": [
      "press e to roll dice:  \n"
     ]
    },
    {
     "name": "stdout",
     "output_type": "stream",
     "text": [
      "player 2 rolled 6\n",
      "player 2 position is  40\n"
     ]
    },
    {
     "name": "stdin",
     "output_type": "stream",
     "text": [
      "press e to roll dice:  \n"
     ]
    },
    {
     "name": "stdout",
     "output_type": "stream",
     "text": [
      "player 1 rolled 6\n",
      "player 1 position is  46\n"
     ]
    },
    {
     "name": "stdin",
     "output_type": "stream",
     "text": [
      "press e to roll dice:  \n"
     ]
    },
    {
     "name": "stdout",
     "output_type": "stream",
     "text": [
      "player 2 rolled 2\n",
      "player 2 position is  42\n"
     ]
    },
    {
     "name": "stdin",
     "output_type": "stream",
     "text": [
      "press e to roll dice:  \n"
     ]
    },
    {
     "name": "stdout",
     "output_type": "stream",
     "text": [
      "player 1 rolled 4\n",
      "player 1 position is  50\n"
     ]
    },
    {
     "name": "stdin",
     "output_type": "stream",
     "text": [
      "press e to roll dice:  \n"
     ]
    },
    {
     "name": "stdout",
     "output_type": "stream",
     "text": [
      "player 2 rolled 6\n",
      "player 2 position is  48\n"
     ]
    },
    {
     "name": "stdin",
     "output_type": "stream",
     "text": [
      "press e to roll dice:  \n"
     ]
    },
    {
     "name": "stdout",
     "output_type": "stream",
     "text": [
      "player 1 rolled 4\n",
      "player 1 position is  54\n"
     ]
    },
    {
     "name": "stdin",
     "output_type": "stream",
     "text": [
      "press e to roll dice:  \n"
     ]
    },
    {
     "name": "stdout",
     "output_type": "stream",
     "text": [
      "player 2 rolled 1\n",
      "player 2 position is  49\n"
     ]
    },
    {
     "name": "stdin",
     "output_type": "stream",
     "text": [
      "press e to roll dice:  \n"
     ]
    },
    {
     "name": "stdout",
     "output_type": "stream",
     "text": [
      "player 1 rolled 5\n",
      "player 1 position is  59\n"
     ]
    },
    {
     "name": "stdin",
     "output_type": "stream",
     "text": [
      "press e to roll dice:  \n"
     ]
    },
    {
     "name": "stdout",
     "output_type": "stream",
     "text": [
      "player 2 rolled 4\n",
      "player 2 position is  53\n"
     ]
    },
    {
     "name": "stdin",
     "output_type": "stream",
     "text": [
      "press e to roll dice:  \n"
     ]
    },
    {
     "name": "stdout",
     "output_type": "stream",
     "text": [
      "player 1 rolled 5\n",
      "player 1 position is  64\n"
     ]
    },
    {
     "name": "stdin",
     "output_type": "stream",
     "text": [
      "press e to roll dice:  \n"
     ]
    },
    {
     "name": "stdout",
     "output_type": "stream",
     "text": [
      "player 2 rolled 3\n",
      "player 2 position is  56\n"
     ]
    },
    {
     "name": "stdin",
     "output_type": "stream",
     "text": [
      "press e to roll dice:  \n"
     ]
    },
    {
     "name": "stdout",
     "output_type": "stream",
     "text": [
      "player 1 rolled 2\n",
      "player 1 position is  66\n"
     ]
    },
    {
     "name": "stdin",
     "output_type": "stream",
     "text": [
      "press e to roll dice:  \n"
     ]
    },
    {
     "name": "stdout",
     "output_type": "stream",
     "text": [
      "player 2 rolled 2\n",
      "player 2 position is  58\n"
     ]
    },
    {
     "name": "stdin",
     "output_type": "stream",
     "text": [
      "press e to roll dice:  \n"
     ]
    },
    {
     "name": "stdout",
     "output_type": "stream",
     "text": [
      "player 1 rolled 2\n",
      "player 1 position is  68\n"
     ]
    },
    {
     "name": "stdin",
     "output_type": "stream",
     "text": [
      "press e to roll dice:  \n"
     ]
    },
    {
     "name": "stdout",
     "output_type": "stream",
     "text": [
      "player 2 rolled 4\n",
      "player 2 position is  62\n"
     ]
    },
    {
     "name": "stdin",
     "output_type": "stream",
     "text": [
      "press e to roll dice:  \n"
     ]
    },
    {
     "name": "stdout",
     "output_type": "stream",
     "text": [
      "player 1 rolled 6\n",
      "player 1 position is  74\n"
     ]
    },
    {
     "name": "stdin",
     "output_type": "stream",
     "text": [
      "press e to roll dice:  \n"
     ]
    },
    {
     "name": "stdout",
     "output_type": "stream",
     "text": [
      "player 2 rolled 3\n",
      "player 2 position is  65\n"
     ]
    },
    {
     "name": "stdin",
     "output_type": "stream",
     "text": [
      "press e to roll dice:  \n"
     ]
    },
    {
     "name": "stdout",
     "output_type": "stream",
     "text": [
      "player 1 rolled 5\n",
      "player 1 position is  79\n"
     ]
    },
    {
     "name": "stdin",
     "output_type": "stream",
     "text": [
      "press e to roll dice:  \n"
     ]
    },
    {
     "name": "stdout",
     "output_type": "stream",
     "text": [
      "player 2 rolled 2\n",
      "player 2 position is  40\n"
     ]
    },
    {
     "name": "stdin",
     "output_type": "stream",
     "text": [
      "press e to roll dice:  \n"
     ]
    },
    {
     "name": "stdout",
     "output_type": "stream",
     "text": [
      "player 1 rolled 2\n",
      "player 1 position is  81\n"
     ]
    },
    {
     "name": "stdin",
     "output_type": "stream",
     "text": [
      "press e to roll dice:  \n"
     ]
    },
    {
     "name": "stdout",
     "output_type": "stream",
     "text": [
      "player 2 rolled 4\n",
      "player 2 position is  44\n"
     ]
    },
    {
     "name": "stdin",
     "output_type": "stream",
     "text": [
      "press e to roll dice:  \n"
     ]
    },
    {
     "name": "stdout",
     "output_type": "stream",
     "text": [
      "player 1 rolled 2\n",
      "player 1 position is  83\n"
     ]
    },
    {
     "name": "stdin",
     "output_type": "stream",
     "text": [
      "press e to roll dice:  \n"
     ]
    },
    {
     "name": "stdout",
     "output_type": "stream",
     "text": [
      "player 2 rolled 6\n",
      "player 2 position is  50\n"
     ]
    },
    {
     "name": "stdin",
     "output_type": "stream",
     "text": [
      "press e to roll dice:  \n"
     ]
    },
    {
     "name": "stdout",
     "output_type": "stream",
     "text": [
      "player 1 rolled 1\n",
      "player 1 position is  84\n"
     ]
    },
    {
     "name": "stdin",
     "output_type": "stream",
     "text": [
      "press e to roll dice:  \n"
     ]
    },
    {
     "name": "stdout",
     "output_type": "stream",
     "text": [
      "player 2 rolled 6\n",
      "player 2 position is  56\n"
     ]
    },
    {
     "name": "stdin",
     "output_type": "stream",
     "text": [
      "press e to roll dice:  \n"
     ]
    },
    {
     "name": "stdout",
     "output_type": "stream",
     "text": [
      "player 1 rolled 1\n",
      "player 1 position is  85\n"
     ]
    },
    {
     "name": "stdin",
     "output_type": "stream",
     "text": [
      "press e to roll dice:  \n"
     ]
    },
    {
     "name": "stdout",
     "output_type": "stream",
     "text": [
      "player 2 rolled 1\n",
      "player 2 position is  57\n"
     ]
    },
    {
     "name": "stdin",
     "output_type": "stream",
     "text": [
      "press e to roll dice:  \n"
     ]
    },
    {
     "name": "stdout",
     "output_type": "stream",
     "text": [
      "player 1 rolled 5\n",
      "player 1 position is  90\n"
     ]
    },
    {
     "name": "stdin",
     "output_type": "stream",
     "text": [
      "press e to roll dice:  \n"
     ]
    },
    {
     "name": "stdout",
     "output_type": "stream",
     "text": [
      "player 2 rolled 4\n",
      "player 2 position is  61\n"
     ]
    },
    {
     "name": "stdin",
     "output_type": "stream",
     "text": [
      "press e to roll dice:  \n"
     ]
    },
    {
     "name": "stdout",
     "output_type": "stream",
     "text": [
      "player 1 rolled 6\n",
      "player 1 position is  96\n"
     ]
    },
    {
     "name": "stdin",
     "output_type": "stream",
     "text": [
      "press e to roll dice:  \n"
     ]
    },
    {
     "name": "stdout",
     "output_type": "stream",
     "text": [
      "player 2 rolled 3\n",
      "player 2 position is  64\n"
     ]
    },
    {
     "name": "stdin",
     "output_type": "stream",
     "text": [
      "press e to roll dice:  \n"
     ]
    },
    {
     "name": "stdout",
     "output_type": "stream",
     "text": [
      "player 1 rolled 3\n",
      "player 1 position is  99\n"
     ]
    },
    {
     "name": "stdin",
     "output_type": "stream",
     "text": [
      "press e to roll dice:  \n"
     ]
    },
    {
     "name": "stdout",
     "output_type": "stream",
     "text": [
      "player 2 rolled 4\n",
      "player 2 position is  68\n"
     ]
    },
    {
     "name": "stdin",
     "output_type": "stream",
     "text": [
      "press e to roll dice:  \n"
     ]
    },
    {
     "name": "stdout",
     "output_type": "stream",
     "text": [
      "player 1 rolled 4\n",
      "player 1 position is  99\n"
     ]
    },
    {
     "name": "stdin",
     "output_type": "stream",
     "text": [
      "press e to roll dice:  \n"
     ]
    },
    {
     "name": "stdout",
     "output_type": "stream",
     "text": [
      "player 2 rolled 1\n",
      "player 2 position is  69\n"
     ]
    },
    {
     "name": "stdin",
     "output_type": "stream",
     "text": [
      "press e to roll dice:  \n"
     ]
    },
    {
     "name": "stdout",
     "output_type": "stream",
     "text": [
      "player 1 rolled 6\n",
      "player 1 position is  99\n"
     ]
    },
    {
     "name": "stdin",
     "output_type": "stream",
     "text": [
      "press e to roll dice:  \n"
     ]
    },
    {
     "name": "stdout",
     "output_type": "stream",
     "text": [
      "player 2 rolled 3\n",
      "player 2 position is  72\n"
     ]
    },
    {
     "name": "stdin",
     "output_type": "stream",
     "text": [
      "press e to roll dice:  \n"
     ]
    },
    {
     "name": "stdout",
     "output_type": "stream",
     "text": [
      "player 1 rolled 1\n",
      "player 1 win\n"
     ]
    }
   ],
   "source": [
    "import random\n",
    "p1=0\n",
    "p2=0\n",
    "while True:\n",
    "    input('press e to roll dice: ')\n",
    "    dice_1 = random.randint(1,6)\n",
    "    print('player 1 rolled',dice_1)\n",
    "    \n",
    "    if p1==0:\n",
    "        if dice_1==6:\n",
    "            p1=1        \n",
    "            print('player 1 moved to pos 1')\n",
    "    else:\n",
    "        p1+=dice_1\n",
    "        if   p1 == 8:  # ladder\n",
    "            p1 = 36\n",
    "            print('player 1 position is ',p1)\n",
    "        elif p1 == 55:  # ladder\n",
    "            p1 = 80\n",
    "            print('player 1 position is ',p1)\n",
    "        elif p1 == 35:  # snake\n",
    "            p1 = 26\n",
    "            print('player 1 position is ',p1)\n",
    "        elif p1 == 67:  # snake\n",
    "            p1 = 40\n",
    "            print('player 1 position is ',p1)\n",
    "        elif p1>100:\n",
    "            p1=p1-dice_1\n",
    "            print('player 1 position is ',p1)\n",
    "        elif p1==100:\n",
    "            print('player 1 win')\n",
    "            break\n",
    "        else:\n",
    "            print('player 1 position is ',p1)\n",
    "            \n",
    "            \n",
    "    input ('press e to roll dice: ')\n",
    "    dice_2 = random.randint(1,6)\n",
    "    print('player 2 rolled',dice_2)\n",
    "    \n",
    "    if p2==0:\n",
    "        if dice_2==6:\n",
    "            p2=1\n",
    "            \n",
    "            \n",
    "            \n",
    "            \n",
    "            \n",
    "            \n",
    "            \n",
    "            print('player 2 moved to pos 1')\n",
    "    else:\n",
    "        p2+=dice_2\n",
    "        if   p2 == 8:  # ladder\n",
    "            p2 = 36\n",
    "            print('player 2 position is ',p2)\n",
    "        elif p2 == 55:  # ladder\n",
    "            p2 = 80\n",
    "            print('player 2 position is ',p2)\n",
    "        elif p2 == 35:  # snake\n",
    "            \n",
    "            \n",
    "            \n",
    "            \n",
    "            p2 = 26\n",
    "            print('player 2 position is ',p2)\n",
    "        elif p2 == 67:  # snake\n",
    "            p2 = 40\n",
    "            print('player 2 position is ',p2)\n",
    "        elif p2>100:\n",
    "            p2=p2-dice_2\n",
    "            print('player 2 position is ',p2)\n",
    "        elif p2==100:\n",
    "            print('player 2 win')\n",
    "            break\n",
    "        else:\n",
    "            print('player 2 position is ',p2)\n",
    "            "
   ]
  },
  {
   "cell_type": "code",
   "execution_count": null,
   "id": "089a43ef-a23a-4578-907a-221911752f32",
   "metadata": {},
   "outputs": [],
   "source": []
  },
  {
   "cell_type": "code",
   "execution_count": null,
   "id": "52f8d81f-a2af-47f0-90f8-e831ec2939a8",
   "metadata": {},
   "outputs": [],
   "source": []
  },
  {
   "cell_type": "code",
   "execution_count": null,
   "id": "36de5e1f-dea5-4be1-aa95-35d03125bc2c",
   "metadata": {},
   "outputs": [],
   "source": []
  },
  {
   "cell_type": "code",
   "execution_count": null,
   "id": "8fd16a3c-5b12-440a-9848-9ea4b01fc6a5",
   "metadata": {},
   "outputs": [],
   "source": []
  },
  {
   "cell_type": "code",
   "execution_count": null,
   "id": "93d2ea8d-6b4a-43a9-a7c7-04f50119d3e8",
   "metadata": {},
   "outputs": [],
   "source": []
  },
  {
   "cell_type": "code",
   "execution_count": null,
   "id": "5497f1de-aa2c-4611-a278-25d5eb705194",
   "metadata": {},
   "outputs": [],
   "source": []
  },
  {
   "cell_type": "code",
   "execution_count": null,
   "id": "049eae14-86bb-4efd-b014-ff96ce5985ac",
   "metadata": {},
   "outputs": [],
   "source": []
  },
  {
   "cell_type": "code",
   "execution_count": null,
   "id": "94444352-b80f-4087-ab96-58d9c7398891",
   "metadata": {},
   "outputs": [],
   "source": []
  },
  {
   "cell_type": "code",
   "execution_count": null,
   "id": "43d506f2-f317-4f71-ab89-a7867bf0ae90",
   "metadata": {},
   "outputs": [],
   "source": []
  },
  {
   "cell_type": "code",
   "execution_count": null,
   "id": "a894d863-bd50-4912-aac2-f3f99f079f58",
   "metadata": {},
   "outputs": [],
   "source": []
  },
  {
   "cell_type": "code",
   "execution_count": null,
   "id": "b5894e84-4b01-41bb-8a3a-b54b32b21ae8",
   "metadata": {},
   "outputs": [],
   "source": []
  },
  {
   "cell_type": "code",
   "execution_count": null,
   "id": "0e19d33e-6098-4d5c-a053-a626ab9f4d07",
   "metadata": {},
   "outputs": [],
   "source": []
  },
  {
   "cell_type": "code",
   "execution_count": null,
   "id": "eca4f5fa-0488-4427-9576-2f79b4c69961",
   "metadata": {},
   "outputs": [],
   "source": []
  },
  {
   "cell_type": "code",
   "execution_count": null,
   "id": "3123deaf-1550-45f7-aa8b-d1af7cd8b391",
   "metadata": {},
   "outputs": [],
   "source": []
  },
  {
   "cell_type": "code",
   "execution_count": null,
   "id": "c573ba48-2a1c-4b89-893f-99239bd3db7e",
   "metadata": {},
   "outputs": [],
   "source": []
  },
  {
   "cell_type": "code",
   "execution_count": null,
   "id": "7d14fe1f-1998-47df-b959-d2fcd4262924",
   "metadata": {},
   "outputs": [],
   "source": []
  },
  {
   "cell_type": "code",
   "execution_count": 9,
   "id": "19e5584c-07cd-4883-8236-6822f6d93292",
   "metadata": {},
   "outputs": [
    {
     "name": "stdin",
     "output_type": "stream",
     "text": [
      "Player 1's turn (Press Enter to roll the dice):  \n"
     ]
    },
    {
     "name": "stdout",
     "output_type": "stream",
     "text": [
      "player 1 rolled a 5\n"
     ]
    },
    {
     "name": "stdin",
     "output_type": "stream",
     "text": [
      "Player 2's turn (Press Enter to roll the dice):  \n"
     ]
    },
    {
     "name": "stdout",
     "output_type": "stream",
     "text": [
      "player_2 rolled a 3\n"
     ]
    },
    {
     "name": "stdin",
     "output_type": "stream",
     "text": [
      "Player 1's turn (Press Enter to roll the dice):  \n"
     ]
    },
    {
     "name": "stdout",
     "output_type": "stream",
     "text": [
      "player 1 rolled a 2\n"
     ]
    },
    {
     "name": "stdin",
     "output_type": "stream",
     "text": [
      "Player 2's turn (Press Enter to roll the dice):  \n"
     ]
    },
    {
     "name": "stdout",
     "output_type": "stream",
     "text": [
      "player_2 rolled a 6\n",
      "player_2 moved to position 1 \n"
     ]
    },
    {
     "name": "stdin",
     "output_type": "stream",
     "text": [
      "Player 1's turn (Press Enter to roll the dice):  \n"
     ]
    },
    {
     "name": "stdout",
     "output_type": "stream",
     "text": [
      "player 1 rolled a 1\n"
     ]
    },
    {
     "name": "stdin",
     "output_type": "stream",
     "text": [
      "Player 2's turn (Press Enter to roll the dice):  \n"
     ]
    },
    {
     "name": "stdout",
     "output_type": "stream",
     "text": [
      "player_2 rolled a 5\n",
      "player 2 position is  6\n"
     ]
    },
    {
     "name": "stdin",
     "output_type": "stream",
     "text": [
      "Player 1's turn (Press Enter to roll the dice):  \n"
     ]
    },
    {
     "name": "stdout",
     "output_type": "stream",
     "text": [
      "player 1 rolled a 4\n"
     ]
    },
    {
     "name": "stdin",
     "output_type": "stream",
     "text": [
      "Player 2's turn (Press Enter to roll the dice):  \n",
      "Player 1's turn (Press Enter to roll the dice):  \n"
     ]
    },
    {
     "name": "stdout",
     "output_type": "stream",
     "text": [
      "player_2 rolled a 1\n",
      "player 2 position is  7\n",
      "player 1 rolled a 2\n"
     ]
    },
    {
     "name": "stdin",
     "output_type": "stream",
     "text": [
      "Player 2's turn (Press Enter to roll the dice):  \n"
     ]
    },
    {
     "name": "stdout",
     "output_type": "stream",
     "text": [
      "player_2 rolled a 2\n",
      "player 2 position is  9\n"
     ]
    },
    {
     "name": "stdin",
     "output_type": "stream",
     "text": [
      "Player 1's turn (Press Enter to roll the dice):  \n"
     ]
    },
    {
     "name": "stdout",
     "output_type": "stream",
     "text": [
      "player 1 rolled a 5\n"
     ]
    },
    {
     "name": "stdin",
     "output_type": "stream",
     "text": [
      "Player 2's turn (Press Enter to roll the dice):  \n"
     ]
    },
    {
     "name": "stdout",
     "output_type": "stream",
     "text": [
      "player_2 rolled a 2\n",
      "player 2 position is  11\n"
     ]
    },
    {
     "name": "stdin",
     "output_type": "stream",
     "text": [
      "Player 1's turn (Press Enter to roll the dice):  \n"
     ]
    },
    {
     "name": "stdout",
     "output_type": "stream",
     "text": [
      "player 1 rolled a 3\n"
     ]
    },
    {
     "name": "stdin",
     "output_type": "stream",
     "text": [
      "Player 2's turn (Press Enter to roll the dice):  \n"
     ]
    },
    {
     "name": "stdout",
     "output_type": "stream",
     "text": [
      "player_2 rolled a 6\n",
      "player 2 position is  17\n"
     ]
    },
    {
     "name": "stdin",
     "output_type": "stream",
     "text": [
      "Player 1's turn (Press Enter to roll the dice):  \n"
     ]
    },
    {
     "name": "stdout",
     "output_type": "stream",
     "text": [
      "player 1 rolled a 2\n"
     ]
    },
    {
     "name": "stdin",
     "output_type": "stream",
     "text": [
      "Player 2's turn (Press Enter to roll the dice):  \n"
     ]
    },
    {
     "name": "stdout",
     "output_type": "stream",
     "text": [
      "player_2 rolled a 5\n",
      "player 2 position is  22\n"
     ]
    },
    {
     "name": "stdin",
     "output_type": "stream",
     "text": [
      "Player 1's turn (Press Enter to roll the dice):  \n"
     ]
    },
    {
     "name": "stdout",
     "output_type": "stream",
     "text": [
      "player 1 rolled a 1\n"
     ]
    },
    {
     "name": "stdin",
     "output_type": "stream",
     "text": [
      "Player 2's turn (Press Enter to roll the dice):  \n"
     ]
    },
    {
     "name": "stdout",
     "output_type": "stream",
     "text": [
      "player_2 rolled a 3\n",
      "player 2 position is  25\n"
     ]
    },
    {
     "name": "stdin",
     "output_type": "stream",
     "text": [
      "Player 1's turn (Press Enter to roll the dice):  \n"
     ]
    },
    {
     "name": "stdout",
     "output_type": "stream",
     "text": [
      "player 1 rolled a 4\n"
     ]
    },
    {
     "name": "stdin",
     "output_type": "stream",
     "text": [
      "Player 2's turn (Press Enter to roll the dice):  \n",
      "Player 1's turn (Press Enter to roll the dice):  \n"
     ]
    },
    {
     "name": "stdout",
     "output_type": "stream",
     "text": [
      "player_2 rolled a 3\n",
      "player 2 position is  28\n",
      "player 1 rolled a 3\n"
     ]
    },
    {
     "name": "stdin",
     "output_type": "stream",
     "text": [
      "Player 2's turn (Press Enter to roll the dice):  \n"
     ]
    },
    {
     "name": "stdout",
     "output_type": "stream",
     "text": [
      "player_2 rolled a 6\n",
      "player 2 position is  34\n"
     ]
    },
    {
     "name": "stdin",
     "output_type": "stream",
     "text": [
      "Player 1's turn (Press Enter to roll the dice):  \n"
     ]
    },
    {
     "name": "stdout",
     "output_type": "stream",
     "text": [
      "player 1 rolled a 3\n"
     ]
    },
    {
     "name": "stdin",
     "output_type": "stream",
     "text": [
      "Player 2's turn (Press Enter to roll the dice):  \n"
     ]
    },
    {
     "name": "stdout",
     "output_type": "stream",
     "text": [
      "player_2 rolled a 2\n",
      "player 2 position is  36\n"
     ]
    },
    {
     "name": "stdin",
     "output_type": "stream",
     "text": [
      "Player 1's turn (Press Enter to roll the dice):  \n"
     ]
    },
    {
     "name": "stdout",
     "output_type": "stream",
     "text": [
      "player 1 rolled a 5\n"
     ]
    },
    {
     "name": "stdin",
     "output_type": "stream",
     "text": [
      "Player 2's turn (Press Enter to roll the dice):  \n"
     ]
    },
    {
     "name": "stdout",
     "output_type": "stream",
     "text": [
      "player_2 rolled a 3\n",
      "player 2 position is  39\n"
     ]
    },
    {
     "name": "stdin",
     "output_type": "stream",
     "text": [
      "Player 1's turn (Press Enter to roll the dice):  \n"
     ]
    },
    {
     "name": "stdout",
     "output_type": "stream",
     "text": [
      "player 1 rolled a 1\n"
     ]
    },
    {
     "name": "stdin",
     "output_type": "stream",
     "text": [
      "Player 2's turn (Press Enter to roll the dice):  \n"
     ]
    },
    {
     "name": "stdout",
     "output_type": "stream",
     "text": [
      "player_2 rolled a 1\n",
      "player 2 position is  40\n"
     ]
    },
    {
     "name": "stdin",
     "output_type": "stream",
     "text": [
      "Player 1's turn (Press Enter to roll the dice):  \n"
     ]
    },
    {
     "name": "stdout",
     "output_type": "stream",
     "text": [
      "player 1 rolled a 6\n",
      "player_1 moved to position 1 \n"
     ]
    },
    {
     "name": "stdin",
     "output_type": "stream",
     "text": [
      "Player 2's turn (Press Enter to roll the dice):  \n"
     ]
    },
    {
     "name": "stdout",
     "output_type": "stream",
     "text": [
      "player_2 rolled a 6\n",
      "player 2 position is  46\n"
     ]
    },
    {
     "name": "stdin",
     "output_type": "stream",
     "text": [
      "Player 1's turn (Press Enter to roll the dice):  \n"
     ]
    },
    {
     "name": "stdout",
     "output_type": "stream",
     "text": [
      "player 1 rolled a 2\n",
      "player 1 position is  3\n"
     ]
    },
    {
     "name": "stdin",
     "output_type": "stream",
     "text": [
      "Player 2's turn (Press Enter to roll the dice):  \n"
     ]
    },
    {
     "name": "stdout",
     "output_type": "stream",
     "text": [
      "player_2 rolled a 1\n",
      "player 2 position is  47\n"
     ]
    },
    {
     "name": "stdin",
     "output_type": "stream",
     "text": [
      "Player 1's turn (Press Enter to roll the dice):  \n"
     ]
    },
    {
     "name": "stdout",
     "output_type": "stream",
     "text": [
      "player 1 rolled a 1\n",
      "player 1 position is  4\n"
     ]
    },
    {
     "name": "stdin",
     "output_type": "stream",
     "text": [
      "Player 2's turn (Press Enter to roll the dice):  \n"
     ]
    },
    {
     "name": "stdout",
     "output_type": "stream",
     "text": [
      "player_2 rolled a 4\n",
      "player 2 position is  51\n"
     ]
    },
    {
     "name": "stdin",
     "output_type": "stream",
     "text": [
      "Player 1's turn (Press Enter to roll the dice):  \n"
     ]
    },
    {
     "name": "stdout",
     "output_type": "stream",
     "text": [
      "player 1 rolled a 5\n",
      "player 1 position is  9\n"
     ]
    },
    {
     "name": "stdin",
     "output_type": "stream",
     "text": [
      "Player 2's turn (Press Enter to roll the dice):  \n"
     ]
    },
    {
     "name": "stdout",
     "output_type": "stream",
     "text": [
      "player_2 rolled a 5\n",
      "player 2 position is  56\n"
     ]
    },
    {
     "name": "stdin",
     "output_type": "stream",
     "text": [
      "Player 1's turn (Press Enter to roll the dice):  \n"
     ]
    },
    {
     "name": "stdout",
     "output_type": "stream",
     "text": [
      "player 1 rolled a 6\n",
      "player 1 position is  15\n"
     ]
    },
    {
     "name": "stdin",
     "output_type": "stream",
     "text": [
      "Player 2's turn (Press Enter to roll the dice):  \n",
      "Player 1's turn (Press Enter to roll the dice):  \n"
     ]
    },
    {
     "name": "stdout",
     "output_type": "stream",
     "text": [
      "player_2 rolled a 5\n",
      "player 2 position is  61\n",
      "player 1 rolled a 5\n",
      "player 1 position is  20\n"
     ]
    },
    {
     "name": "stdin",
     "output_type": "stream",
     "text": [
      "Player 2's turn (Press Enter to roll the dice):  \n"
     ]
    },
    {
     "name": "stdout",
     "output_type": "stream",
     "text": [
      "player_2 rolled a 6\n",
      "player 2 position is  16\n"
     ]
    },
    {
     "name": "stdin",
     "output_type": "stream",
     "text": [
      "Player 1's turn (Press Enter to roll the dice):  \n"
     ]
    },
    {
     "name": "stdout",
     "output_type": "stream",
     "text": [
      "player 1 rolled a 1\n",
      "player 1 position is  21\n"
     ]
    },
    {
     "name": "stdin",
     "output_type": "stream",
     "text": [
      "Player 2's turn (Press Enter to roll the dice):  \n"
     ]
    },
    {
     "name": "stdout",
     "output_type": "stream",
     "text": [
      "player_2 rolled a 3\n",
      "player 2 position is  19\n"
     ]
    },
    {
     "name": "stdin",
     "output_type": "stream",
     "text": [
      "Player 1's turn (Press Enter to roll the dice):  \n"
     ]
    },
    {
     "name": "stdout",
     "output_type": "stream",
     "text": [
      "player 1 rolled a 5\n",
      "player 1 position is  26\n"
     ]
    },
    {
     "name": "stdin",
     "output_type": "stream",
     "text": [
      "Player 2's turn (Press Enter to roll the dice):  \n"
     ]
    },
    {
     "name": "stdout",
     "output_type": "stream",
     "text": [
      "player_2 rolled a 3\n",
      "player 2 position is  22\n"
     ]
    },
    {
     "name": "stdin",
     "output_type": "stream",
     "text": [
      "Player 1's turn (Press Enter to roll the dice):  \n"
     ]
    },
    {
     "name": "stdout",
     "output_type": "stream",
     "text": [
      "player 1 rolled a 1\n",
      "player 1 position is  27\n"
     ]
    },
    {
     "name": "stdin",
     "output_type": "stream",
     "text": [
      "Player 2's turn (Press Enter to roll the dice):  \n"
     ]
    },
    {
     "name": "stdout",
     "output_type": "stream",
     "text": [
      "player_2 rolled a 3\n",
      "player 2 position is  25\n"
     ]
    },
    {
     "name": "stdin",
     "output_type": "stream",
     "text": [
      "Player 1's turn (Press Enter to roll the dice):  \n"
     ]
    },
    {
     "name": "stdout",
     "output_type": "stream",
     "text": [
      "player 1 rolled a 3\n",
      "player 1 position is  30\n"
     ]
    },
    {
     "name": "stdin",
     "output_type": "stream",
     "text": [
      "Player 2's turn (Press Enter to roll the dice):  \n"
     ]
    },
    {
     "name": "stdout",
     "output_type": "stream",
     "text": [
      "player_2 rolled a 3\n",
      "player 2 position is  28\n"
     ]
    },
    {
     "name": "stdin",
     "output_type": "stream",
     "text": [
      "Player 1's turn (Press Enter to roll the dice):  \n"
     ]
    },
    {
     "name": "stdout",
     "output_type": "stream",
     "text": [
      "player 1 rolled a 3\n",
      "player 1 position is  33\n"
     ]
    },
    {
     "name": "stdin",
     "output_type": "stream",
     "text": [
      "Player 2's turn (Press Enter to roll the dice):  \n"
     ]
    },
    {
     "name": "stdout",
     "output_type": "stream",
     "text": [
      "player_2 rolled a 5\n",
      "player 2 position is  33\n"
     ]
    },
    {
     "name": "stdin",
     "output_type": "stream",
     "text": [
      "Player 1's turn (Press Enter to roll the dice):  \n"
     ]
    },
    {
     "name": "stdout",
     "output_type": "stream",
     "text": [
      "player 1 rolled a 4\n",
      "player 1 position is  4\n"
     ]
    },
    {
     "name": "stdin",
     "output_type": "stream",
     "text": [
      "Player 2's turn (Press Enter to roll the dice):  \n"
     ]
    },
    {
     "name": "stdout",
     "output_type": "stream",
     "text": [
      "player_2 rolled a 6\n",
      "player 2 position is  39\n"
     ]
    },
    {
     "name": "stdin",
     "output_type": "stream",
     "text": [
      "Player 1's turn (Press Enter to roll the dice):  \n"
     ]
    },
    {
     "name": "stdout",
     "output_type": "stream",
     "text": [
      "player 1 rolled a 4\n",
      "player 1 position is  60\n"
     ]
    },
    {
     "name": "stdin",
     "output_type": "stream",
     "text": [
      "Player 2's turn (Press Enter to roll the dice):  \n"
     ]
    },
    {
     "name": "stdout",
     "output_type": "stream",
     "text": [
      "player_2 rolled a 6\n",
      "player 2 position is  45\n"
     ]
    },
    {
     "name": "stdin",
     "output_type": "stream",
     "text": [
      "Player 1's turn (Press Enter to roll the dice):  \n"
     ]
    },
    {
     "name": "stdout",
     "output_type": "stream",
     "text": [
      "player 1 rolled a 4\n",
      "player 1 position is  64\n"
     ]
    },
    {
     "name": "stdin",
     "output_type": "stream",
     "text": [
      "Player 2's turn (Press Enter to roll the dice):  \n"
     ]
    },
    {
     "name": "stdout",
     "output_type": "stream",
     "text": [
      "player_2 rolled a 4\n",
      "player 2 position is  49\n"
     ]
    },
    {
     "name": "stdin",
     "output_type": "stream",
     "text": [
      "Player 1's turn (Press Enter to roll the dice):  \n"
     ]
    },
    {
     "name": "stdout",
     "output_type": "stream",
     "text": [
      "player 1 rolled a 2\n",
      "player 1 position is  66\n"
     ]
    },
    {
     "name": "stdin",
     "output_type": "stream",
     "text": [
      "Player 2's turn (Press Enter to roll the dice):  \n"
     ]
    },
    {
     "name": "stdout",
     "output_type": "stream",
     "text": [
      "player_2 rolled a 6\n",
      "player 2 position is  55\n"
     ]
    },
    {
     "name": "stdin",
     "output_type": "stream",
     "text": [
      "Player 1's turn (Press Enter to roll the dice):  \n"
     ]
    },
    {
     "name": "stdout",
     "output_type": "stream",
     "text": [
      "player 1 rolled a 2\n",
      "player 1 position is  68\n"
     ]
    },
    {
     "name": "stdin",
     "output_type": "stream",
     "text": [
      "Player 2's turn (Press Enter to roll the dice):  \n"
     ]
    },
    {
     "name": "stdout",
     "output_type": "stream",
     "text": [
      "player_2 rolled a 1\n",
      "player 2 position is  56\n"
     ]
    },
    {
     "name": "stdin",
     "output_type": "stream",
     "text": [
      "Player 1's turn (Press Enter to roll the dice):  \n"
     ]
    },
    {
     "name": "stdout",
     "output_type": "stream",
     "text": [
      "player 1 rolled a 1\n",
      "player 1 position is  69\n"
     ]
    },
    {
     "name": "stdin",
     "output_type": "stream",
     "text": [
      "Player 2's turn (Press Enter to roll the dice):  \n"
     ]
    },
    {
     "name": "stdout",
     "output_type": "stream",
     "text": [
      "player_2 rolled a 4\n",
      "player 2 position is  60\n"
     ]
    },
    {
     "name": "stdin",
     "output_type": "stream",
     "text": [
      "Player 1's turn (Press Enter to roll the dice):  \n"
     ]
    },
    {
     "name": "stdout",
     "output_type": "stream",
     "text": [
      "player 1 rolled a 3\n",
      "player 1 position is  72\n"
     ]
    },
    {
     "name": "stdin",
     "output_type": "stream",
     "text": [
      "Player 2's turn (Press Enter to roll the dice):  \n"
     ]
    },
    {
     "name": "stdout",
     "output_type": "stream",
     "text": [
      "player_2 rolled a 6\n",
      "player 2 position is  66\n"
     ]
    },
    {
     "name": "stdin",
     "output_type": "stream",
     "text": [
      "Player 1's turn (Press Enter to roll the dice):  \n"
     ]
    },
    {
     "name": "stdout",
     "output_type": "stream",
     "text": [
      "player 1 rolled a 6\n",
      "player 1 position is  78\n"
     ]
    },
    {
     "name": "stdin",
     "output_type": "stream",
     "text": [
      "Player 2's turn (Press Enter to roll the dice):  \n"
     ]
    },
    {
     "name": "stdout",
     "output_type": "stream",
     "text": [
      "player_2 rolled a 5\n",
      "player 2 position is  71\n"
     ]
    },
    {
     "name": "stdin",
     "output_type": "stream",
     "text": [
      "Player 1's turn (Press Enter to roll the dice):  \n"
     ]
    },
    {
     "name": "stdout",
     "output_type": "stream",
     "text": [
      "player 1 rolled a 2\n",
      "player 1 position is  80\n"
     ]
    },
    {
     "name": "stdin",
     "output_type": "stream",
     "text": [
      "Player 2's turn (Press Enter to roll the dice):  \n"
     ]
    },
    {
     "name": "stdout",
     "output_type": "stream",
     "text": [
      "player_2 rolled a 1\n",
      "player 2 position is  72\n"
     ]
    },
    {
     "name": "stdin",
     "output_type": "stream",
     "text": [
      "Player 1's turn (Press Enter to roll the dice):  \n"
     ]
    },
    {
     "name": "stdout",
     "output_type": "stream",
     "text": [
      "player 1 rolled a 1\n",
      "player 1 position is  81\n"
     ]
    },
    {
     "name": "stdin",
     "output_type": "stream",
     "text": [
      "Player 2's turn (Press Enter to roll the dice):  \n"
     ]
    },
    {
     "name": "stdout",
     "output_type": "stream",
     "text": [
      "player_2 rolled a 2\n",
      "player 2 position is  74\n"
     ]
    },
    {
     "name": "stdin",
     "output_type": "stream",
     "text": [
      "Player 1's turn (Press Enter to roll the dice):  \n"
     ]
    },
    {
     "name": "stdout",
     "output_type": "stream",
     "text": [
      "player 1 rolled a 3\n",
      "player 1 position is  84\n"
     ]
    },
    {
     "name": "stdin",
     "output_type": "stream",
     "text": [
      "Player 2's turn (Press Enter to roll the dice):  \n"
     ]
    },
    {
     "name": "stdout",
     "output_type": "stream",
     "text": [
      "player_2 rolled a 3\n",
      "player 2 position is  77\n"
     ]
    },
    {
     "name": "stdin",
     "output_type": "stream",
     "text": [
      "Player 1's turn (Press Enter to roll the dice):  \n"
     ]
    },
    {
     "name": "stdout",
     "output_type": "stream",
     "text": [
      "player 1 rolled a 4\n",
      "player 1 position is  88\n"
     ]
    },
    {
     "name": "stdin",
     "output_type": "stream",
     "text": [
      "Player 2's turn (Press Enter to roll the dice):  \n"
     ]
    },
    {
     "name": "stdout",
     "output_type": "stream",
     "text": [
      "player_2 rolled a 6\n",
      "player 2 position is  83\n"
     ]
    },
    {
     "name": "stdin",
     "output_type": "stream",
     "text": [
      "Player 1's turn (Press Enter to roll the dice):  \n"
     ]
    },
    {
     "name": "stdout",
     "output_type": "stream",
     "text": [
      "player 1 rolled a 6\n",
      "player 1 position is  94\n"
     ]
    },
    {
     "name": "stdin",
     "output_type": "stream",
     "text": [
      "Player 2's turn (Press Enter to roll the dice):  \n"
     ]
    },
    {
     "name": "stdout",
     "output_type": "stream",
     "text": [
      "player_2 rolled a 3\n",
      "player 2 position is  86\n"
     ]
    },
    {
     "name": "stdin",
     "output_type": "stream",
     "text": [
      "Player 1's turn (Press Enter to roll the dice):  \n"
     ]
    },
    {
     "name": "stdout",
     "output_type": "stream",
     "text": [
      "player 1 rolled a 5\n",
      "player 1 position is  99\n"
     ]
    },
    {
     "name": "stdin",
     "output_type": "stream",
     "text": [
      "Player 2's turn (Press Enter to roll the dice):  \n"
     ]
    },
    {
     "name": "stdout",
     "output_type": "stream",
     "text": [
      "player_2 rolled a 1\n",
      "player 2 position is  87\n"
     ]
    },
    {
     "name": "stdin",
     "output_type": "stream",
     "text": [
      "Player 1's turn (Press Enter to roll the dice):  \n"
     ]
    },
    {
     "name": "stdout",
     "output_type": "stream",
     "text": [
      "player 1 rolled a 1\n",
      "player 1 win\n"
     ]
    }
   ],
   "source": [
    "# trial code\n",
    "p1=0\n",
    "p2=0\n",
    "while True:  \n",
    "    \n",
    "    input(\"Player 1's turn (Press Enter to roll the dice): \")\n",
    "    player1_input = random.choice([1,2,3,4,5,6])\n",
    "    print(f\"player 1 rolled a {player1_input}\")\n",
    "    if p1==0:\n",
    "        if player1_input==6:\n",
    "            p1=1\n",
    "            print(\"player_1 moved to position 1 \")\n",
    "    else:\n",
    "        p1 = p1+player1_input\n",
    "        if   p1 == 2:  # ladder\n",
    "            p1 = 36\n",
    "            print('player 1 position is ',p1)\n",
    "        elif p1 == 8:  # ladder\n",
    "            p1 = 60\n",
    "            print('player 1 position is ',p1)\n",
    "        elif p1 == 37:  # snake\n",
    "            p1 = 4\n",
    "            print('player 1 position is ',p1)\n",
    "        elif p1 == 67:  # snake\n",
    "            p1 = 16\n",
    "            print('player 1 position is ',p1)\n",
    "        elif p1>100:\n",
    "            p1=p1-player1_input\n",
    "            print('player 1 position is ',p1)\n",
    "        elif p1==100:\n",
    "            print('player 1 win')\n",
    "            break\n",
    "        else:\n",
    "            print('player 1 position is ',p1)\n",
    "\n",
    "    \n",
    "    input(\"Player 2's turn (Press Enter to roll the dice): \")\n",
    "    player2_input = random.choice([1,2,3,4,5,6])\n",
    "    print(f\"player_2 rolled a {player2_input}\")\n",
    "    \n",
    "    if p2==0:\n",
    "        if player2_input==6:\n",
    "            p2=1\n",
    "            print(\"player_2 moved to position 1 \")\n",
    "    else:\n",
    "        p2 = p2+player2_input\n",
    "        if   p2 == 2:  # ladder\n",
    "            p2 = 36\n",
    "            print('player 2 position is ',p2)\n",
    "        elif p2 == 8:  # ladder\n",
    "            p2 = 60\n",
    "            print('player 2 position is ',p2)\n",
    "        elif p2 == 37:  # snake\n",
    "            p2 = 4\n",
    "            print('player 2 position is ',p2)\n",
    "        elif p2 == 67:  # snake\n",
    "            p2 = 16\n",
    "            print('player 2 position is ',p2)\n",
    "        elif p2>100:\n",
    "            p1=p2-player2_input\n",
    "            print('player 2 position is ',p2)\n",
    "        elif p2==100:\n",
    "            print('player 2 win')\n",
    "            break\n",
    "        else:\n",
    "            print('player 2 position is ',p2)"
   ]
  },
  {
   "cell_type": "code",
   "execution_count": null,
   "id": "05f80299-3619-4f42-a8c2-9cd0520681d2",
   "metadata": {},
   "outputs": [],
   "source": []
  },
  {
   "cell_type": "code",
   "execution_count": null,
   "id": "db901ff7-a318-4745-aed4-da17505ce0f6",
   "metadata": {},
   "outputs": [],
   "source": []
  },
  {
   "cell_type": "code",
   "execution_count": null,
   "id": "92e0777a-007f-4636-9c48-7ca55f3c085b",
   "metadata": {},
   "outputs": [],
   "source": []
  },
  {
   "cell_type": "code",
   "execution_count": null,
   "id": "23a6075d-367c-4604-ab0c-36c9173fe470",
   "metadata": {},
   "outputs": [],
   "source": []
  },
  {
   "cell_type": "code",
   "execution_count": null,
   "id": "48f00c34-5dba-4068-8f5f-bf1971929e4f",
   "metadata": {},
   "outputs": [],
   "source": []
  },
  {
   "cell_type": "code",
   "execution_count": null,
   "id": "bf1b9eca-188b-49be-9f5d-433dfc558ce0",
   "metadata": {},
   "outputs": [],
   "source": []
  },
  {
   "cell_type": "code",
   "execution_count": null,
   "id": "ca657b0a-6bfb-4123-93c1-f8c96027b79c",
   "metadata": {},
   "outputs": [],
   "source": []
  },
  {
   "cell_type": "code",
   "execution_count": null,
   "id": "c17128b9-3551-400c-81a0-b7bce6ce59df",
   "metadata": {},
   "outputs": [],
   "source": []
  },
  {
   "cell_type": "code",
   "execution_count": null,
   "id": "6f2f7d69-0c62-419d-a2b8-2777dfc8a564",
   "metadata": {},
   "outputs": [],
   "source": []
  },
  {
   "cell_type": "code",
   "execution_count": null,
   "id": "6078050d-1a06-4ae4-bad5-91e9e101835e",
   "metadata": {},
   "outputs": [],
   "source": []
  },
  {
   "cell_type": "code",
   "execution_count": null,
   "id": "7e458af1-a102-4b03-be11-c57ab1c3dff8",
   "metadata": {},
   "outputs": [],
   "source": []
  },
  {
   "cell_type": "code",
   "execution_count": null,
   "id": "2cbb21d4-44ec-4c00-a15b-0a503351fded",
   "metadata": {},
   "outputs": [],
   "source": []
  },
  {
   "cell_type": "code",
   "execution_count": null,
   "id": "e4ce54cb-69a0-47d7-bda3-f91b85904602",
   "metadata": {},
   "outputs": [],
   "source": []
  },
  {
   "cell_type": "code",
   "execution_count": null,
   "id": "7a94495a-cc61-4094-b61c-642a106d72c4",
   "metadata": {},
   "outputs": [],
   "source": []
  },
  {
   "cell_type": "code",
   "execution_count": null,
   "id": "0332b9e3-127d-4d89-8266-f82db971c1e4",
   "metadata": {},
   "outputs": [],
   "source": []
  },
  {
   "cell_type": "code",
   "execution_count": null,
   "id": "4d6e7115-8af8-493a-8ca4-b9c81e15e854",
   "metadata": {},
   "outputs": [],
   "source": []
  },
  {
   "cell_type": "code",
   "execution_count": null,
   "id": "a3005d94-8eeb-4763-b2d8-0d98d182a0a3",
   "metadata": {},
   "outputs": [],
   "source": []
  },
  {
   "cell_type": "code",
   "execution_count": null,
   "id": "0bcf9432-a2c4-4866-86ab-b12578d1a46d",
   "metadata": {},
   "outputs": [],
   "source": []
  },
  {
   "cell_type": "code",
   "execution_count": null,
   "id": "847128d6-71ca-44a5-b2cc-5d094ced0f38",
   "metadata": {},
   "outputs": [],
   "source": []
  },
  {
   "cell_type": "code",
   "execution_count": null,
   "id": "73bf82b9-609d-46fd-9105-f428da9b8607",
   "metadata": {},
   "outputs": [],
   "source": []
  },
  {
   "cell_type": "code",
   "execution_count": null,
   "id": "4fff8b5d-e35d-41d8-9e5e-95cf18448934",
   "metadata": {},
   "outputs": [],
   "source": []
  }
 ],
 "metadata": {
  "kernelspec": {
   "display_name": "Python 3 (ipykernel)",
   "language": "python",
   "name": "python3"
  },
  "language_info": {
   "codemirror_mode": {
    "name": "ipython",
    "version": 3
   },
   "file_extension": ".py",
   "mimetype": "text/x-python",
   "name": "python",
   "nbconvert_exporter": "python",
   "pygments_lexer": "ipython3",
   "version": "3.9.7"
  }
 },
 "nbformat": 4,
 "nbformat_minor": 5
}
