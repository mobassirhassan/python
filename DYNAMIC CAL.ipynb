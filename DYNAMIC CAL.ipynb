{
 "cells": [
  {
   "cell_type": "code",
   "execution_count": 2,
   "id": "a4b649d6-92fb-4c4e-bdc8-8006d80bd9db",
   "metadata": {},
   "outputs": [
    {
     "name": "stdin",
     "output_type": "stream",
     "text": [
      "press yes to start the calculator yes\n",
      "enter value :  45\n",
      "enter operator :  +\n",
      "enter value :  5\n"
     ]
    },
    {
     "name": "stdout",
     "output_type": "stream",
     "text": [
      "50\n"
     ]
    },
    {
     "name": "stdin",
     "output_type": "stream",
     "text": [
      "enter y/n to continue :  y\n",
      "enter value :  10\n",
      "enter operator :  *\n",
      "enter value :  10\n"
     ]
    },
    {
     "name": "stdout",
     "output_type": "stream",
     "text": [
      "100\n"
     ]
    },
    {
     "name": "stdin",
     "output_type": "stream",
     "text": [
      "enter y/n to continue :  n\n"
     ]
    }
   ],
   "source": [
    "x=input(\"press yes to start the calculator\")  \n",
    "while x==\"yes\":\n",
    "    a=int(input(\"enter value : \"))\n",
    "    b=input(\"enter operator : \")\n",
    "    c=int(input(\"enter value : \"))\n",
    "    if b==\"+\":\n",
    "        print(a+c)\n",
    "        y=input(\"enter y/n to continue : \")\n",
    "    elif b==\"-\":\n",
    "        print(a-c)\n",
    "        y=input(\"enter y/n to continue : \")\n",
    "    elif b==\"*\":\n",
    "        print(a*c)\n",
    "        y=input(\"enter y/n to continue : \")\n",
    "    elif b==\"/\":\n",
    "        print(a/c)\n",
    "        y=input(\"enter y/n to continue : \")\n",
    "    elif b==\"%\":\n",
    "        print(a%c)\n",
    "        y=input(\"enter y/n to continue : \")\n",
    "    elif b==\"//\":\n",
    "        print(a//c)\n",
    "        y=input(\"enter y/n to continue : \")\n",
    "    elif b==\"**\":\n",
    "        print(a**c)\n",
    "        y=input(\"enter y/n to continue : \")\n",
    "    else:\n",
    "        print(\"incorrect\")\n",
    "    if y==\"n\":\n",
    "        break\n",
    "    else:\n",
    "        continue"
   ]
  },
  {
   "cell_type": "code",
   "execution_count": null,
   "id": "b256ed3f-3438-4135-9527-c89ccbd7ed1f",
   "metadata": {},
   "outputs": [],
   "source": []
  }
 ],
 "metadata": {
  "kernelspec": {
   "display_name": "Python 3 (ipykernel)",
   "language": "python",
   "name": "python3"
  },
  "language_info": {
   "codemirror_mode": {
    "name": "ipython",
    "version": 3
   },
   "file_extension": ".py",
   "mimetype": "text/x-python",
   "name": "python",
   "nbconvert_exporter": "python",
   "pygments_lexer": "ipython3",
   "version": "3.10.9"
  }
 },
 "nbformat": 4,
 "nbformat_minor": 5
}
