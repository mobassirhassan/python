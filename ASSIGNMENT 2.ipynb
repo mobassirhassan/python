{
 "cells": [
  {
   "cell_type": "code",
   "execution_count": 1,
   "id": "f7c21a84-0179-4cf4-893e-89084baa44df",
   "metadata": {},
   "outputs": [],
   "source": [
    "#1 Write a program to accept two numbers from the user and calculate multiplication, division\n"
   ]
  },
  {
   "cell_type": "code",
   "execution_count": 3,
   "id": "cc43eac2-fcaf-4d4e-91e3-d5faf1c62146",
   "metadata": {},
   "outputs": [
    {
     "name": "stdin",
     "output_type": "stream",
     "text": [
      "enter the value :  90\n",
      "enter the value :  30\n"
     ]
    },
    {
     "name": "stdout",
     "output_type": "stream",
     "text": [
      "multiplication =  2700 \n",
      " division =  3.0\n"
     ]
    }
   ],
   "source": [
    "num1=int(input(\"enter the value : \"))\n",
    "num2=int(input(\"enter the value : \"))\n",
    "print(\"multiplication = \",num1*num2 , \"\\n\",\"division = \", num1/num2)"
   ]
  },
  {
   "cell_type": "code",
   "execution_count": 4,
   "id": "22f76b04-679e-4185-ad33-3324dcfe1fc0",
   "metadata": {},
   "outputs": [],
   "source": [
    "# Write a python program to print the characters from a string that are present at an even index"
   ]
  },
  {
   "cell_type": "code",
   "execution_count": 5,
   "id": "471d463d-5b45-4056-9c0d-09386bb93655",
   "metadata": {},
   "outputs": [
    {
     "name": "stdin",
     "output_type": "stream",
     "text": [
      "Give a String:  ASSIGNMENT\n"
     ]
    },
    {
     "name": "stdout",
     "output_type": "stream",
     "text": [
      "ASGMN\n"
     ]
    }
   ],
   "source": [
    "x=input(\"Give a String: \")\n",
    "a=\"\"\n",
    "for y in range(0,len(x)):\n",
    "    if y%2==0:\n",
    "        a+=x[y]\n",
    "    else:\n",
    "        continue\n",
    "print(a)"
   ]
  },
  {
   "cell_type": "code",
   "execution_count": 6,
   "id": "22449def-421e-4c72-808a-82e899476258",
   "metadata": {},
   "outputs": [],
   "source": [
    "#write a python program to print the characters from a string that are present at an odd index"
   ]
  },
  {
   "cell_type": "code",
   "execution_count": 7,
   "id": "aa1f1188-271e-4f78-be56-a62fa4355845",
   "metadata": {},
   "outputs": [
    {
     "name": "stdin",
     "output_type": "stream",
     "text": [
      "Give a String:  apple\n"
     ]
    },
    {
     "name": "stdout",
     "output_type": "stream",
     "text": [
      "pl\n"
     ]
    }
   ],
   "source": [
    "x=input(\"Give a String: \")\n",
    "a=\"\"\n",
    "for y in range(0,len(x)):\n",
    "    if y%2!=0:\n",
    "        a+=x[y]\n",
    "    else:\n",
    "        continue\n",
    "print(a)"
   ]
  },
  {
   "cell_type": "code",
   "execution_count": null,
   "id": "ce4fb518-99d7-49ed-b070-01f8d1ed2dc9",
   "metadata": {},
   "outputs": [],
   "source": [
    "# Write a python program which will print the sum of the two numbers if the two numbers are even or it will print the difference of two numbers\n"
   ]
  },
  {
   "cell_type": "code",
   "execution_count": 9,
   "id": "573c65a2-dfe7-428a-a1a4-3efc05bd04ba",
   "metadata": {},
   "outputs": [
    {
     "name": "stdin",
     "output_type": "stream",
     "text": [
      "enter the first number :  8\n",
      "enter the second number:  9\n"
     ]
    },
    {
     "name": "stdout",
     "output_type": "stream",
     "text": [
      "sub= -1\n"
     ]
    }
   ],
   "source": [
    "\n",
    "\n",
    "num1=int(input(\"enter the first number : \"))\n",
    "num2=int(input(\"enter the second number: \"))\n",
    "if num1%2==0 and num2%2==0:\n",
    "     print(\"sum=\",num1+num2)\n",
    "else:\n",
    "    print(\"sub=\",num1-num2)\n",
    "        "
   ]
  },
  {
   "cell_type": "code",
   "execution_count": null,
   "id": "6d29dd19-adc1-4468-a9ea-08f5a33ef044",
   "metadata": {},
   "outputs": [],
   "source": [
    "# Write a python program to convert all even indexed alphabets to upper and odd indexed char\n"
   ]
  },
  {
   "cell_type": "code",
   "execution_count": 10,
   "id": "4516544a-190e-4bd0-a427-13ca4f3660c1",
   "metadata": {},
   "outputs": [
    {
     "name": "stdin",
     "output_type": "stream",
     "text": [
      "enter a word to convert :  MOBASSIR\n"
     ]
    },
    {
     "name": "stdout",
     "output_type": "stream",
     "text": [
      "MoBaSsIr\n"
     ]
    }
   ],
   "source": [
    "\n",
    "a=input(\"enter a word to convert : \")\n",
    "y=list(a)\n",
    "b=\"\"\n",
    "for x in range(0,len(a)):\n",
    "    if x%2==0:\n",
    "        b+=str(a[x]).upper()\n",
    "    else :\n",
    "            b+=str(a[x]).lower()\n",
    "print (b)       "
   ]
  },
  {
   "cell_type": "code",
   "execution_count": null,
   "id": "c976b633-f04b-4b9f-a1cb-d84d170c0e06",
   "metadata": {},
   "outputs": [],
   "source": [
    "# Write a python program which will print True if the input number is divisible by 5 or else False\n"
   ]
  },
  {
   "cell_type": "code",
   "execution_count": 11,
   "id": "cfb223f3-9ae5-471f-ba77-2b43f1dbdd58",
   "metadata": {},
   "outputs": [
    {
     "name": "stdin",
     "output_type": "stream",
     "text": [
      "enter the number :  15\n"
     ]
    },
    {
     "name": "stdout",
     "output_type": "stream",
     "text": [
      "True\n"
     ]
    }
   ],
   "source": [
    "\n",
    "x=int(input(\"enter the number : \"))\n",
    "if x%5==0:\n",
    "    print(True)\n",
    "else:\n",
    "    print(False)"
   ]
  },
  {
   "cell_type": "code",
   "execution_count": null,
   "id": "4bd0f959-cc4a-468c-9ac9-c1f4e98abdac",
   "metadata": {},
   "outputs": [],
   "source": [
    "# Given two integer numbers return their product only if the product is greater than 1000, else return their sum\n"
   ]
  },
  {
   "cell_type": "code",
   "execution_count": 12,
   "id": "0f92e395-2e22-4236-b007-259757bef021",
   "metadata": {},
   "outputs": [
    {
     "name": "stdin",
     "output_type": "stream",
     "text": [
      "enter the number :  1200\n",
      "enter the number :  1300\n"
     ]
    },
    {
     "name": "stdout",
     "output_type": "stream",
     "text": [
      "1560000\n"
     ]
    }
   ],
   "source": [
    "\n",
    "num1=int(input(\"enter the number : \"))\n",
    "num2=int(input(\"enter the number : \"))\n",
    "product=num1*num2\n",
    "if product > 1000:\n",
    "    print(product)\n",
    "else:\n",
    "    print(\"sum = \",x+y)"
   ]
  },
  {
   "cell_type": "code",
   "execution_count": null,
   "id": "6beef0d0-23c3-406d-a38d-4810d9ae25c7",
   "metadata": {},
   "outputs": [],
   "source": [
    "# Given two strings x, y writes a program to return a new string made of x and y’s first, middle, and last character\n",
    "#Example:Input X=” pytho” Y=” javas”\n",
    "#Output ” pjtvos”\n"
   ]
  },
  {
   "cell_type": "code",
   "execution_count": 16,
   "id": "a1b3e84e-67b9-4f11-8cd2-e4dd3e484c2b",
   "metadata": {},
   "outputs": [
    {
     "name": "stdin",
     "output_type": "stream",
     "text": [
      "Enter a string:  string\n",
      "Enter a string:  unknown\n"
     ]
    },
    {
     "name": "stdout",
     "output_type": "stream",
     "text": [
      "suingn\n"
     ]
    }
   ],
   "source": [
    "x=input(\"Enter a string: \")\n",
    "y=input(\"Enter a string: \")\n",
    "a=len(x)//2\n",
    "b=len(y)//2\n",
    "print(x[0]+y[0]+x[a]+y[b]+x[-1]+y[-1])"
   ]
  },
  {
   "cell_type": "code",
   "execution_count": null,
   "id": "9d92966c-5a74-47e8-a0c4-9922c07e6ab7",
   "metadata": {},
   "outputs": [],
   "source": [
    "# Write a python program to take three names as input from a user in the single input () function call\n"
   ]
  },
  {
   "cell_type": "code",
   "execution_count": 18,
   "id": "644cc687-6b1e-4c95-9451-44733bcd6754",
   "metadata": {},
   "outputs": [
    {
     "name": "stdin",
     "output_type": "stream",
     "text": [
      "enter 3 names :  md mobassir hassan\n"
     ]
    },
    {
     "name": "stdout",
     "output_type": "stream",
     "text": [
      "name1:- md \n",
      "name2:- mobassir \n",
      "name3:- hassan\n"
     ]
    }
   ],
   "source": [
    "\n",
    "n=input(\"enter 3 names : \")\n",
    "for y in range(0,3):\n",
    "    z=n.split(\" \")\n",
    "print(\"name1:-\",z[0],\"\\nname2:-\",z[1],\"\\nname3:-\",z[2])"
   ]
  },
  {
   "cell_type": "code",
   "execution_count": null,
   "id": "82b0559f-0c51-4876-b259-868fe4ac1648",
   "metadata": {},
   "outputs": [],
   "source": [
    "#Write a Python program to get a string from a given string where all occurrences of its first char have been changed to '@', except the first char itself."
   ]
  },
  {
   "cell_type": "code",
   "execution_count": 21,
   "id": "a68c0914-ee71-4dc3-aa1a-1acbc69ac886",
   "metadata": {},
   "outputs": [
    {
     "name": "stdin",
     "output_type": "stream",
     "text": [
      "enter a String:  innomatics\n"
     ]
    },
    {
     "name": "stdout",
     "output_type": "stream",
     "text": [
      "innomat@cs\n"
     ]
    }
   ],
   "source": [
    "\n",
    "x=input(\"enter a String: \")\n",
    "a=x[0]\n",
    "for y in range(1,len(x)):\n",
    "    if x[y]==x[0]:\n",
    "        a+=\"@\"\n",
    "    else:\n",
    "        a+=x[y]\n",
    "print(a)"
   ]
  },
  {
   "cell_type": "code",
   "execution_count": null,
   "id": "ebf74385-64b0-4005-bcfa-47754ad64a22",
   "metadata": {},
   "outputs": [],
   "source": [
    "# Write a Python program to add 'ing' at the end of a given string (string length should be equal to or more than 3).\n",
    "#   If the given string already ends with 'ing' then add 'ly' instead. \n",
    "#   If the string length of the given string is less than 3, leave it unchanged\n",
    "\n"
   ]
  },
  {
   "cell_type": "code",
   "execution_count": 22,
   "id": "8f3f16fa-55da-4678-b326-a8ec5e1b83ff",
   "metadata": {},
   "outputs": [
    {
     "name": "stdin",
     "output_type": "stream",
     "text": [
      "enter a string :  cool\n"
     ]
    },
    {
     "name": "stdout",
     "output_type": "stream",
     "text": [
      "cooling\n"
     ]
    }
   ],
   "source": [
    "\n",
    "x=input(\"enter a string : \")\n",
    "y=\" \"\n",
    "if len(x)>=3 and x.endswith(\"ing\"):\n",
    "    a=x.strip(\"ing\")\n",
    "    y=a+\"ly\"\n",
    "\n",
    "elif len(x)<3:\n",
    "    y=x\n",
    "else :\n",
    "    y=x+\"ing\"\n",
    "print(y)    \n",
    "    "
   ]
  },
  {
   "cell_type": "code",
   "execution_count": null,
   "id": "20310e53-4da3-4870-8061-4c85bc108622",
   "metadata": {},
   "outputs": [],
   "source": [
    "# Write a python program that accepts two inputs num1 and num2 print True if one of them is 10 or if their sum is 10\n",
    "#otherwise print False"
   ]
  },
  {
   "cell_type": "code",
   "execution_count": 23,
   "id": "feeca828-fb56-43ee-95a7-1faa27c194a2",
   "metadata": {},
   "outputs": [
    {
     "name": "stdin",
     "output_type": "stream",
     "text": [
      "enter the first number :  10\n",
      "enter the second number:  20\n"
     ]
    },
    {
     "name": "stdout",
     "output_type": "stream",
     "text": [
      "True\n"
     ]
    }
   ],
   "source": [
    "\n",
    "num1=int(input(\"enter the first number : \"))\n",
    "num2=int(input(\"enter the second number: \"))\n",
    "if num1==10 or num2==10 or num1+num2==10:\n",
    "    print(True)\n",
    "else:\n",
    "    print(False)"
   ]
  },
  {
   "cell_type": "code",
   "execution_count": null,
   "id": "52765329-2782-49fd-9667-4187fc32a754",
   "metadata": {},
   "outputs": [],
   "source": [
    "# Write a python program that accepts three inputs x, y and z print True if x*y>z otherwise False\n"
   ]
  },
  {
   "cell_type": "code",
   "execution_count": 24,
   "id": "66649296-3dd0-4090-bb16-142289ff72fe",
   "metadata": {},
   "outputs": [
    {
     "name": "stdin",
     "output_type": "stream",
     "text": [
      "enter the first number :  10\n",
      "enter the second value :  15\n",
      "enter the third value :   20\n"
     ]
    },
    {
     "name": "stdout",
     "output_type": "stream",
     "text": [
      "True\n"
     ]
    },
    {
     "name": "stdin",
     "output_type": "stream",
     "text": [
      "enter the first number :  20\n",
      "enter the second value :  35\n",
      "enter the third value :   25\n"
     ]
    },
    {
     "name": "stdout",
     "output_type": "stream",
     "text": [
      "True\n"
     ]
    }
   ],
   "source": [
    "\n",
    "a=0\n",
    "while a<=1:\n",
    "    x=int(input(\"enter the first number : \"))\n",
    "    y=int(input(\"enter the second value : \"))\n",
    "    z=int(input(\"enter the third value :  \"))\n",
    "    product=x*y\n",
    "    if product>z:\n",
    "        print(True)\n",
    "    else:\n",
    "        print(False)\n",
    "    a+=1\n"
   ]
  },
  {
   "cell_type": "code",
   "execution_count": null,
   "id": "2d91fa3c-80ea-43d3-b706-388f1a7ef941",
   "metadata": {},
   "outputs": [],
   "source": [
    "# Write a python program that accepts two strings inputs return True depending on whether the total number of \n",
    "#characters in the first string is equal to the total number of characters in the second string\n"
   ]
  },
  {
   "cell_type": "code",
   "execution_count": null,
   "id": "eb35e791-3eed-4237-af4a-ac289d1c7d1a",
   "metadata": {},
   "outputs": [],
   "source": []
  },
  {
   "cell_type": "code",
   "execution_count": 25,
   "id": "2ed98e32-609e-488c-8b59-0c7facc49162",
   "metadata": {},
   "outputs": [
    {
     "name": "stdin",
     "output_type": "stream",
     "text": [
      "enter a string :  papaya\n",
      "enter a string :  grapes\n"
     ]
    },
    {
     "name": "stdout",
     "output_type": "stream",
     "text": [
      "True\n"
     ]
    },
    {
     "name": "stdin",
     "output_type": "stream",
     "text": [
      "enter a string :  apple\n",
      "enter a string :  orange\n"
     ]
    },
    {
     "name": "stdout",
     "output_type": "stream",
     "text": [
      "False\n"
     ]
    }
   ],
   "source": [
    "\n",
    "a=0\n",
    "while a<=1:\n",
    "    \n",
    "    x=input(\"enter a string : \")\n",
    "    y=input(\"enter a string : \")\n",
    "    if len(x)==len(y):\n",
    "        print(True)\n",
    "    else:\n",
    "        print(False)\n",
    "    a+=1   "
   ]
  },
  {
   "cell_type": "code",
   "execution_count": null,
   "id": "3e020832-34c5-4b4e-8a18-4131765a0d17",
   "metadata": {},
   "outputs": [],
   "source": [
    "#15 Write a python program that takes a string input, we'll say that the front is the first three characters of the string. \n",
    "#If the string length is less than three characters, the front is whatever is there. \n",
    "#Return a new string, which is three copies of the front\n"
   ]
  },
  {
   "cell_type": "code",
   "execution_count": 27,
   "id": "fb7d97bc-54a2-4c94-800a-859f0f6e1008",
   "metadata": {},
   "outputs": [
    {
     "name": "stdin",
     "output_type": "stream",
     "text": [
      "enter a string :  hello\n"
     ]
    },
    {
     "name": "stdout",
     "output_type": "stream",
     "text": [
      "hello\n"
     ]
    },
    {
     "name": "stdin",
     "output_type": "stream",
     "text": [
      "enter a string :  bye\n"
     ]
    },
    {
     "name": "stdout",
     "output_type": "stream",
     "text": [
      "bye\n"
     ]
    }
   ],
   "source": [
    "\n",
    "a=0\n",
    "while a<=1:\n",
    "    x=input(\"enter a string : \")\n",
    "    if len(x)<3:\n",
    "        print(x*3)\n",
    "    else:\n",
    "        print(x)\n",
    "    a+=1    "
   ]
  },
  {
   "cell_type": "code",
   "execution_count": null,
   "id": "622a1e9c-562f-4050-9d63-b10789bc009b",
   "metadata": {},
   "outputs": [],
   "source": [
    "#A plural word is one that ends in \"s\"\n"
   ]
  },
  {
   "cell_type": "code",
   "execution_count": 28,
   "id": "09d65ee0-8b62-4d35-980b-4031e4918d46",
   "metadata": {},
   "outputs": [
    {
     "name": "stdin",
     "output_type": "stream",
     "text": [
      "enter a word :  apple\n"
     ]
    },
    {
     "name": "stdout",
     "output_type": "stream",
     "text": [
      "the word is not plural\n"
     ]
    },
    {
     "name": "stdin",
     "output_type": "stream",
     "text": [
      "enter a word :  apples\n"
     ]
    },
    {
     "name": "stdout",
     "output_type": "stream",
     "text": [
      "the word is plural\n"
     ]
    }
   ],
   "source": [
    "\n",
    "\n",
    "a=0\n",
    "while a<=1:\n",
    "    x=input(\"enter a word : \")\n",
    "    if x.endswith(\"s\") or x.endswith(\"S\"):\n",
    "        print(\"the word is plural\")\n",
    "    else:\n",
    "        print(\"the word is not plural\")\n",
    "    a+=1     "
   ]
  },
  {
   "cell_type": "code",
   "execution_count": null,
   "id": "adc5ce42-ef2e-4342-abe5-2ca67b69eaca",
   "metadata": {},
   "outputs": [],
   "source": [
    "#17 A bartender is writing a simple program to determine whether he should serve drinks to someone. \n",
    "#He only serves drinks to people 18 and older and when he's not on break(True means break and False means not a break time).\n",
    "#Given the person's age, and whether break time is in session, create a python program which prints whether he should serve drinks or not.\n",
    "\n"
   ]
  },
  {
   "cell_type": "code",
   "execution_count": 29,
   "id": "c9169787-f2ab-4ad5-8b73-81a33fb75166",
   "metadata": {},
   "outputs": [
    {
     "name": "stdin",
     "output_type": "stream",
     "text": [
      "enter the age :  16\n",
      "Give true if it is break time else false: 5\n"
     ]
    },
    {
     "name": "stdout",
     "output_type": "stream",
     "text": [
      "do not serve the drink\n"
     ]
    },
    {
     "name": "stdin",
     "output_type": "stream",
     "text": [
      "enter the age :  18\n",
      "Give true if it is break time else false: 18\n"
     ]
    },
    {
     "name": "stdout",
     "output_type": "stream",
     "text": [
      "do not serve the drink\n"
     ]
    }
   ],
   "source": [
    "\n",
    "a=0\n",
    "while a<=1:\n",
    "    x=int(input(\"enter the age : \"))\n",
    "    y=input(\"Give true if it is break time else false:\")\n",
    "    if x>=18 and y==\"true\":\n",
    "        print(\"serve the drink\")\n",
    "    else:\n",
    "        print(\"do not serve the drink\")\n",
    "    a+=1     "
   ]
  },
  {
   "cell_type": "code",
   "execution_count": null,
   "id": "de95c782-834a-41ae-83b5-82b05693c10d",
   "metadata": {},
   "outputs": [],
   "source": [
    "#Manoj Kumar has family and friends. Help him remind them who is who. Given a string with a name, return the relation of that person to Manoj Kumar.\n",
    "#Person Relation\n",
    "#Shiva father\n",
    "#Letha mother\n",
    "#Tarun brother\n",
    "#Kavitha sister\n"
   ]
  },
  {
   "cell_type": "code",
   "execution_count": 30,
   "id": "3f76354d-84ec-48f8-bebb-31dfdc67b3fe",
   "metadata": {},
   "outputs": [
    {
     "name": "stdin",
     "output_type": "stream",
     "text": [
      "enter person name: letha\n"
     ]
    },
    {
     "name": "stdout",
     "output_type": "stream",
     "text": [
      "letha is your mother\n"
     ]
    }
   ],
   "source": [
    "\n",
    "\n",
    "person=\"shiva,letha,tarun,kavitha\"\n",
    "x=input(\"enter person name:\")\n",
    "if x==person[0:5]:\n",
    "    print(x,\"is your father\")\n",
    "elif x==person[6:11]:\n",
    "    print(x,\"is your mother\")\n",
    "elif x==person[12:16]:\n",
    "    print(x,\"is your brother\")\n",
    "else:\n",
    "    print(x,\"is your sister\")"
   ]
  },
  {
   "cell_type": "code",
   "execution_count": null,
   "id": "05695357-edc0-44a5-864c-96036cc260db",
   "metadata": {},
   "outputs": [],
   "source": [
    "#19 Write a python program that takes a string, breaks it up and returns it with vowels first, consonants second. \n",
    "#For any character that's not a vowel (like special characters or spaces), treat them like consonants\n"
   ]
  },
  {
   "cell_type": "code",
   "execution_count": 31,
   "id": "af142f9f-d2d3-48e6-8385-1810fcddd5a0",
   "metadata": {},
   "outputs": [
    {
     "name": "stdin",
     "output_type": "stream",
     "text": [
      "Enter a string:  mobassir\n"
     ]
    },
    {
     "name": "stdout",
     "output_type": "stream",
     "text": [
      "Vowels: oai\n",
      "Consonants: mbssr\n"
     ]
    }
   ],
   "source": [
    "\n",
    "\n",
    "x=input(\"Enter a string: \")\n",
    "vow=\"\";con=\"\"\n",
    "for y in range(0,len(x)):\n",
    "    if x[y]==\"a\" or x[y]==\"e\" or x[y]==\"i\" or x[y]==\"o\" or x[y]==\"u\" or x[y]==\"A\" or x[y]==\"E\" or x[y]==\"I\" or x[y]==\"O\" or x[y]==\"U\":\n",
    "        vow+=x[y]\n",
    "    else:\n",
    "        con+=x[y]\n",
    "print(\"Vowels: \"+vow+\"\\nConsonants: \"+con)"
   ]
  },
  {
   "cell_type": "code",
   "execution_count": null,
   "id": "19c3af7f-5b5a-4ae5-b9ee-5f318f529f57",
   "metadata": {},
   "outputs": [],
   "source": []
  }
 ],
 "metadata": {
  "kernelspec": {
   "display_name": "Python 3 (ipykernel)",
   "language": "python",
   "name": "python3"
  },
  "language_info": {
   "codemirror_mode": {
    "name": "ipython",
    "version": 3
   },
   "file_extension": ".py",
   "mimetype": "text/x-python",
   "name": "python",
   "nbconvert_exporter": "python",
   "pygments_lexer": "ipython3",
   "version": "3.10.9"
  }
 },
 "nbformat": 4,
 "nbformat_minor": 5
}
