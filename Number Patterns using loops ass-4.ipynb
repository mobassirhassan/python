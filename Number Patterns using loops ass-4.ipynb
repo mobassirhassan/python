{
 "cells": [
  {
   "cell_type": "code",
   "execution_count": 1,
   "id": "fdc3ab67-2a95-4a48-a468-47e508ddb8cd",
   "metadata": {},
   "outputs": [
    {
     "name": "stdout",
     "output_type": "stream",
     "text": [
      "1 \n",
      "2 2 \n",
      "3 3 3 \n",
      "4 4 4 4 \n",
      "5 5 5 5 5 \n"
     ]
    }
   ],
   "source": [
    "#Pattern a)\n",
    "for y in range(1, 6):\n",
    "    for z in range(y):\n",
    "        print(y, end=\" \")\n",
    "    print()"
   ]
  },
  {
   "cell_type": "code",
   "execution_count": 2,
   "id": "52b63924-92ec-45cf-b9d6-cc9d2fc202fd",
   "metadata": {},
   "outputs": [
    {
     "name": "stdout",
     "output_type": "stream",
     "text": [
      "\n",
      "\n",
      "1 \n",
      "1 2 \n",
      "1 2 3 \n",
      "1 2 3 4 \n",
      "1 2 3 4 5 \n"
     ]
    }
   ],
   "source": [
    "#Pattern b)\n",
    "for y in range (7):\n",
    "    for z in range (1,y):\n",
    "        print(z,end = \" \")\n",
    "    print()"
   ]
  },
  {
   "cell_type": "code",
   "execution_count": 20,
   "id": "4d0fadb2-e3c4-419a-9618-9f1be3ad61ba",
   "metadata": {},
   "outputs": [
    {
     "name": "stdout",
     "output_type": "stream",
     "text": [
      "1 1 1 1 1 \n",
      "2 2 2 2 \n",
      "3 3 3 \n",
      "4 4 \n",
      "5 \n"
     ]
    }
   ],
   "source": [
    "#Pattern c)\n",
    "for y in range(1, 6):\n",
    "    for z in range(6,y,-1):\n",
    "        print(y, end=\" \")\n",
    "    print()"
   ]
  },
  {
   "cell_type": "code",
   "execution_count": 21,
   "id": "b20f9c9c-4265-4b6c-b84c-51a980443c7c",
   "metadata": {},
   "outputs": [
    {
     "name": "stdout",
     "output_type": "stream",
     "text": [
      "5 5 5 5 5 \n",
      "5 5 5 5 \n",
      "5 5 5 \n",
      "5 5 \n",
      "5 \n"
     ]
    }
   ],
   "source": [
    "#Pattern d)\n",
    "for y in range(1, 6):\n",
    "    for z in range(6,y,-1):\n",
    "        print(5, end=\" \")\n",
    "    print()"
   ]
  },
  {
   "cell_type": "code",
   "execution_count": 23,
   "id": "323f222f-baf3-418f-8de3-dcc0bf8aa6a5",
   "metadata": {},
   "outputs": [
    {
     "name": "stdout",
     "output_type": "stream",
     "text": [
      "0 1 2 3 4 5 \n",
      "1 2 3 4 5 \n",
      "2 3 4 5 \n",
      "3 4 5 \n",
      "4 5 \n",
      "5 \n"
     ]
    }
   ],
   "source": [
    "#Pattern e)\n",
    "for y in range(0, 6):\n",
    "    for z in range(y,6):\n",
    "        print(z, end=\" \")\n",
    "    print()"
   ]
  },
  {
   "cell_type": "code",
   "execution_count": 26,
   "id": "88fe7bbb-6ca5-459a-a92c-598d2488b2fc",
   "metadata": {},
   "outputs": [
    {
     "name": "stdout",
     "output_type": "stream",
     "text": [
      "1 \n",
      "\n",
      "3 3 \n",
      "\n",
      "5 5 5 \n",
      "\n",
      "7 7 7 7 \n",
      "\n",
      "9 9 9 9 9 \n"
     ]
    }
   ],
   "source": [
    "#Pattern f)\n",
    "for y in range (1,10):\n",
    "    if y%2!=0:\n",
    "        for z in range (y//2+1):\n",
    "            print(y, end=\" \")\n",
    "    print()               \n",
    "    "
   ]
  },
  {
   "cell_type": "code",
   "execution_count": 18,
   "id": "ba5860b0-3037-47b5-bb49-5a7ea3a81a86",
   "metadata": {},
   "outputs": [
    {
     "name": "stdout",
     "output_type": "stream",
     "text": [
      "5 5 5 5 5 \n",
      "4 4 4 4 \n",
      "3 3 3 \n",
      "2 2 \n",
      "1 \n"
     ]
    }
   ],
   "source": [
    "#Pattern g)\n",
    "for y in range (5,0,-1):\n",
    "    for z in range(y):\n",
    "        print(y, end=\" \")\n",
    "    print()"
   ]
  },
  {
   "cell_type": "code",
   "execution_count": 33,
   "id": "cf31eb94-54db-4ad9-b673-1275491bac0d",
   "metadata": {},
   "outputs": [
    {
     "name": "stdout",
     "output_type": "stream",
     "text": [
      "1 \n",
      "2 1 \n",
      "3 2 1 \n",
      "4 3 2 1 \n",
      "5 4 3 2 1 \n"
     ]
    }
   ],
   "source": [
    "#Pattern h)\n",
    "for y in range (1,6):\n",
    "    for z in range (y,0,-1):\n",
    "        print(z,end = \" \")\n",
    "    print()"
   ]
  },
  {
   "cell_type": "code",
   "execution_count": 45,
   "id": "fd2e5829-a131-4a6f-8f5d-e3d7c8543ffd",
   "metadata": {},
   "outputs": [
    {
     "name": "stdout",
     "output_type": "stream",
     "text": [
      "5 4 3 2 1 \n",
      "4 3 2 1 \n",
      "3 2 1 \n",
      "2 1 \n",
      "1 \n"
     ]
    }
   ],
   "source": [
    "#Pattern i)\n",
    "for y in range (5,0,-1):\n",
    "    for z in range (y,0,-1):\n",
    "        print(z,end = \" \")\n",
    "    print()"
   ]
  },
  {
   "cell_type": "code",
   "execution_count": 81,
   "id": "1f6a2b91-bd46-4602-8f95-0ee19f712e7f",
   "metadata": {},
   "outputs": [
    {
     "name": "stdout",
     "output_type": "stream",
     "text": [
      "1 \n",
      "3 2 \n",
      "6 4 5 \n",
      "10 8 7 9 \n"
     ]
    }
   ],
   "source": [
    "#Pattern j)\n",
    "a=1\n",
    "for y in range (4):\n",
    "    row_value=[]\n",
    "    for z in range (y+1):\n",
    "        row_value.append(a)\n",
    "        a=a+1\n",
    "        row_value.reverse()\n",
    "    for value in row_value:\n",
    "        print(value,end = \" \")\n",
    "    print()"
   ]
  },
  {
   "cell_type": "code",
   "execution_count": null,
   "id": "a653a7e0-dd40-4dc1-8cb0-c77797aa9e79",
   "metadata": {},
   "outputs": [],
   "source": [
    "#Pattern k)"
   ]
  },
  {
   "cell_type": "code",
   "execution_count": null,
   "id": "a04fc598-5589-45c2-a1a7-ee277bcd96ae",
   "metadata": {},
   "outputs": [],
   "source": [
    "#Pattern l)\n"
   ]
  },
  {
   "cell_type": "code",
   "execution_count": 15,
   "id": "27f9cf54-196c-4f53-8998-be564e2b7815",
   "metadata": {},
   "outputs": [
    {
     "name": "stdout",
     "output_type": "stream",
     "text": [
      "1 2 3 4 5 \n",
      "2 2 3 4 5 \n",
      "3 3 3 4 5 \n",
      "4 4 4 4 5 \n",
      "5 5 5 5 5 \n"
     ]
    }
   ],
   "source": [
    "#Pattern m)\n",
    "for y in range(1, 6):\n",
    "    for z in range(1, 6):\n",
    "        if z <= y:\n",
    "            print(y, end=\" \")\n",
    "        else:\n",
    "            print(z, end=\" \")\n",
    "    print()"
   ]
  },
  {
   "cell_type": "code",
   "execution_count": 16,
   "id": "c17e3169-2527-483d-8535-bdcabfc91931",
   "metadata": {},
   "outputs": [
    {
     "name": "stdout",
     "output_type": "stream",
     "text": [
      "1 \n",
      "2 4 \n",
      "3 6 9 \n",
      "4 8 12 16 \n",
      "5 10 15 20 25 \n",
      "6 12 18 24 30 36 \n",
      "7 14 21 28 35 42 49 \n",
      "8 16 24 32 40 48 56 64 \n"
     ]
    }
   ],
   "source": [
    "#Pattern n)\n",
    "n = 8  # Number of rows\n",
    "\n",
    "for y in range(1, n + 1):\n",
    "    for z in range(y):\n",
    "        print(y * (z + 1), end=\" \")\n",
    "    print()"
   ]
  },
  {
   "cell_type": "code",
   "execution_count": 2,
   "id": "0dcdddc7-2d21-4171-b5b0-852d616459dc",
   "metadata": {},
   "outputs": [
    {
     "name": "stdout",
     "output_type": "stream",
     "text": [
      "* \n",
      "* * \n",
      "* * * \n",
      "* * * * \n",
      "* * * * * \n"
     ]
    }
   ],
   "source": [
    "#Pattern o)\n",
    "for y in range(1, 6):\n",
    "    for z in range(y):\n",
    "        print(\"*\", end=\" \")\n",
    "    print()"
   ]
  },
  {
   "cell_type": "code",
   "execution_count": 7,
   "id": "9ee7fdfb-d79f-4696-a716-a63f164a9a6b",
   "metadata": {},
   "outputs": [],
   "source": [
    "#Pattern p)\n"
   ]
  },
  {
   "cell_type": "code",
   "execution_count": 6,
   "id": "24601959-3d23-4ed9-a7ef-e4c92d3c5be8",
   "metadata": {},
   "outputs": [
    {
     "name": "stdout",
     "output_type": "stream",
     "text": [
      "* * * * * \n",
      "* * * * \n",
      "* * * \n",
      "* * \n",
      "* \n"
     ]
    }
   ],
   "source": [
    "#Pattern q)\n",
    "for y in range(1, 6):\n",
    "    for z in range(6,y,-1):\n",
    "        print(\"*\", end=\" \")\n",
    "    print()"
   ]
  },
  {
   "cell_type": "code",
   "execution_count": null,
   "id": "2a4eb454-5918-4da1-953d-ef91ae3a8280",
   "metadata": {},
   "outputs": [],
   "source": [
    "#Pattern r)"
   ]
  },
  {
   "cell_type": "code",
   "execution_count": null,
   "id": "7a896cfa-e1f4-4635-814a-c03b6d9e10f5",
   "metadata": {},
   "outputs": [],
   "source": [
    "#Pattern s)"
   ]
  },
  {
   "cell_type": "code",
   "execution_count": null,
   "id": "27f2b8f7-b9ad-4110-b863-8630601a19e7",
   "metadata": {},
   "outputs": [],
   "source": [
    "#Pattern t)"
   ]
  },
  {
   "cell_type": "code",
   "execution_count": null,
   "id": "3e2b8415-42db-458c-a88b-e929ddfb2b94",
   "metadata": {},
   "outputs": [],
   "source": [
    "#Pattern u)"
   ]
  },
  {
   "cell_type": "code",
   "execution_count": null,
   "id": "b2c0b741-03ce-408b-aa01-e640453ba3fb",
   "metadata": {},
   "outputs": [],
   "source": [
    "#Pattern v)"
   ]
  },
  {
   "cell_type": "code",
   "execution_count": null,
   "id": "26888c6c-1e68-4944-a1a6-7b886e68c7db",
   "metadata": {},
   "outputs": [],
   "source": []
  },
  {
   "cell_type": "code",
   "execution_count": null,
   "id": "ee508ce2-b895-40da-baf3-427a974ed512",
   "metadata": {},
   "outputs": [],
   "source": []
  }
 ],
 "metadata": {
  "kernelspec": {
   "display_name": "Python 3 (ipykernel)",
   "language": "python",
   "name": "python3"
  },
  "language_info": {
   "codemirror_mode": {
    "name": "ipython",
    "version": 3
   },
   "file_extension": ".py",
   "mimetype": "text/x-python",
   "name": "python",
   "nbconvert_exporter": "python",
   "pygments_lexer": "ipython3",
   "version": "3.9.7"
  }
 },
 "nbformat": 4,
 "nbformat_minor": 5
}
