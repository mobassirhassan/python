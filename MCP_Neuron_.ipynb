{
 "cells": [
  {
   "cell_type": "code",
   "execution_count": null,
   "id": "2a5a7519",
   "metadata": {},
   "outputs": [],
   "source": [
    "# Created a user-defined function for 2D"
   ]
  },
  {
   "cell_type": "code",
   "execution_count": 4,
   "id": "74ecb52b",
   "metadata": {},
   "outputs": [],
   "source": [
    "def mcp_neuron(x1,x2,function):\n",
    "    if function == \"AND\":\n",
    "        if x1==1 and x2==1:\n",
    "            return 1\n",
    "        else:\n",
    "            return 0\n",
    "    elif function ==\"OR\":\n",
    "        if x1==1 or x2==1:\n",
    "            return 1\n",
    "        else:\n",
    "            return 0\n",
    "    elif function ==\"NOR\":\n",
    "        if x1==0 and x2==0:\n",
    "            return 1\n",
    "        else:\n",
    "            return 0\n",
    "    else:\n",
    "        return \"Invalid function! Please choose from 'AND', 'OR', or 'NOR'.\""
   ]
  },
  {
   "cell_type": "code",
   "execution_count": 5,
   "id": "2731f606",
   "metadata": {},
   "outputs": [
    {
     "name": "stdout",
     "output_type": "stream",
     "text": [
      "AND operation:\n",
      "mcp_neuron(0, 0, 'AND'): 0\n",
      "mcp_neuron(0, 1, 'AND'): 0\n",
      "mcp_neuron(1, 0, 'AND'): 0\n",
      "mcp_neuron(1, 1, 'AND'): 1\n",
      "\n",
      "OR operation:\n",
      "mcp_neuron(0, 0, 'OR'): 0\n",
      "mcp_neuron(0, 1, 'OR'): 1\n",
      "mcp_neuron(1, 0, 'OR'): 1\n",
      "mcp_neuron(1, 1, 'OR'): 1\n",
      "\n",
      "NOR operation:\n",
      "mcp_neuron(0, 0, 'NOR'): 1\n",
      "mcp_neuron(0, 1, 'NOR'): 0\n",
      "mcp_neuron(1, 0, 'NOR'): 0\n",
      "mcp_neuron(1, 1, 'NOR'): 0\n",
      "\n",
      "Invalid function:\n",
      "mcp_neuron(1, 1, 'XOR'): Invalid function! Please choose from 'AND', 'OR', or 'NOR'.\n"
     ]
    }
   ],
   "source": [
    "print(\"AND operation:\")\n",
    "print(\"mcp_neuron(0, 0, 'AND'):\", mcp_neuron(0, 0, 'AND'))  # expected Output: 0\n",
    "print(\"mcp_neuron(0, 1, 'AND'):\", mcp_neuron(0, 1, 'AND'))  # expected Output: 0\n",
    "print(\"mcp_neuron(1, 0, 'AND'):\", mcp_neuron(1, 0, 'AND'))  # expected Output: 0\n",
    "print(\"mcp_neuron(1, 1, 'AND'):\", mcp_neuron(1, 1, 'AND'))  # expected Output: 1\n",
    "\n",
    "print(\"\\nOR operation:\")\n",
    "print(\"mcp_neuron(0, 0, 'OR'):\", mcp_neuron(0, 0, 'OR'))    # expected Output: 0\n",
    "print(\"mcp_neuron(0, 1, 'OR'):\", mcp_neuron(0, 1, 'OR'))    # expected Output: 1\n",
    "print(\"mcp_neuron(1, 0, 'OR'):\", mcp_neuron(1, 0, 'OR'))    # expected Output: 1\n",
    "print(\"mcp_neuron(1, 1, 'OR'):\", mcp_neuron(1, 1, 'OR'))    # expected Output: 1\n",
    "\n",
    "print(\"\\nNOR operation:\")\n",
    "print(\"mcp_neuron(0, 0, 'NOR'):\", mcp_neuron(0, 0, 'NOR'))  # expected Output: 1\n",
    "print(\"mcp_neuron(0, 1, 'NOR'):\", mcp_neuron(0, 1, 'NOR'))  # expected Output: 0\n",
    "print(\"mcp_neuron(1, 0, 'NOR'):\", mcp_neuron(1, 0, 'NOR'))  # expected Output: 0\n",
    "print(\"mcp_neuron(1, 1, 'NOR'):\", mcp_neuron(1, 1, 'NOR'))  # expected Output: 0\n",
    "\n",
    "print(\"\\nInvalid function:\")\n",
    "print(\"mcp_neuron(1, 1, 'XOR'):\", mcp_neuron(1, 1, 'XOR'))"
   ]
  },
  {
   "cell_type": "code",
   "execution_count": 6,
   "id": "a1e43f33",
   "metadata": {},
   "outputs": [],
   "source": [
    "# Creating user defined function for n-dimensions"
   ]
  },
  {
   "cell_type": "code",
   "execution_count": 14,
   "id": "b1e15da2",
   "metadata": {},
   "outputs": [],
   "source": [
    "def mcp_neuron_ndim(*inputs,function):\n",
    "    if function == 'AND':\n",
    "        for value in inputs:\n",
    "            if value == 0:\n",
    "                return 0\n",
    "        return 1\n",
    "    elif function == 'OR':\n",
    "        for value in inputs:\n",
    "            if value == 1:\n",
    "                return 1\n",
    "        return 0\n",
    "    elif function == 'NOR':\n",
    "        for value in inputs:\n",
    "            if value == 1:\n",
    "                return 0\n",
    "        return 1\n",
    "    else:\n",
    "        return \"Invalid function! Please choose from 'AND', 'OR', or 'NOR'.\""
   ]
  },
  {
   "cell_type": "code",
   "execution_count": 15,
   "id": "f6d42a20",
   "metadata": {},
   "outputs": [
    {
     "name": "stdout",
     "output_type": "stream",
     "text": [
      "AND operation:\n",
      "mcp_neuron_ndim(0, 0, 0, 0, function='AND'): 0\n",
      "mcp_neuron_ndim(0, 1, 0, 0, function='AND'): 0\n",
      "mcp_neuron_ndim(1, 0, 0, 0, function='AND'): 0\n",
      "mcp_neuron_ndim(1, 1, 1, 1, funtionc='AND'): 1\n",
      "\n",
      "OR operation:\n",
      "mcp_neuron_ndim(0, 0, 0, 0, function='OR'): 0\n",
      "mcp_neuron_ndim(0, 1, 0, 0, function='OR'): 1\n",
      "mcp_neuron_ndim(0, 0, 0, 1, function='OR'): 1\n",
      "mcp_neuron_ndim(0, 0, 0, 0, function='OR'): 0\n",
      "\n",
      "NOR operation:\n",
      "mcp_neuron_ndim(0, 0, 0, 0, function='NOR'): 1\n",
      "mcp_neuron_ndim(0, 1, 0, 0, function='NOR'): 0\n",
      "mcp_neuron_ndim(1, 0, 0, 0, function='NOR'): 0\n",
      "mcp_neuron_ndim(1, 1, 1, 1, function='NOR'): 0\n",
      "\n",
      "Invalid function:\n",
      "mcp_neuron_ndim(1, 1, 1, 1, function='XOR'): Invalid function! Please choose from 'AND', 'OR', or 'NOR'.\n"
     ]
    }
   ],
   "source": [
    "print(\"AND operation:\")\n",
    "print(\"mcp_neuron_ndim(0, 0, 0, 0, function='AND'):\", mcp_neuron_ndim(0, 0, 0, 0, function='AND'))  # expected Output: 0\n",
    "print(\"mcp_neuron_ndim(0, 1, 0, 0, function='AND'):\", mcp_neuron_ndim(0, 1, 0, 0, function='AND'))  # expected Output: 0\n",
    "print(\"mcp_neuron_ndim(1, 0, 0, 0, function='AND'):\", mcp_neuron_ndim(1, 0, 0, 0, function='AND'))  # expected Output: 0\n",
    "print(\"mcp_neuron_ndim(1, 1, 1, 1, funtionc='AND'):\", mcp_neuron_ndim(1, 1, 1, 1, function='AND'))  # expected Output: 1\n",
    "\n",
    "print(\"\\nOR operation:\")\n",
    "print(\"mcp_neuron_ndim(0, 0, 0, 0, function='OR'):\", mcp_neuron_ndim(0, 0, 0, 0, function='OR'))    # expected Output: 0\n",
    "print(\"mcp_neuron_ndim(0, 1, 0, 0, function='OR'):\", mcp_neuron_ndim(0, 1, 0, 0, function='OR'))    # expected Output: 1\n",
    "print(\"mcp_neuron_ndim(0, 0, 0, 1, function='OR'):\", mcp_neuron_ndim(0, 0, 0, 1, function='OR'))    # expected Output: 1\n",
    "print(\"mcp_neuron_ndim(0, 0, 0, 0, function='OR'):\", mcp_neuron_ndim(0, 0, 0, 0, function='OR'))    # expected Output: 0\n",
    "\n",
    "print(\"\\nNOR operation:\")\n",
    "print(\"mcp_neuron_ndim(0, 0, 0, 0, function='NOR'):\", mcp_neuron_ndim(0, 0, 0, 0, function='NOR'))  # expected Output: 1\n",
    "print(\"mcp_neuron_ndim(0, 1, 0, 0, function='NOR'):\", mcp_neuron_ndim(0, 1, 0, 0, function='NOR'))  # expected Output: 0\n",
    "print(\"mcp_neuron_ndim(1, 0, 0, 0, function='NOR'):\", mcp_neuron_ndim(1, 0, 0, 0, function='NOR'))  # expected Output: 0\n",
    "print(\"mcp_neuron_ndim(1, 1, 1, 1, function='NOR'):\", mcp_neuron_ndim(1, 1, 1, 1, function='NOR'))  # expected Output: 0\n",
    "\n",
    "\n",
    "print(\"\\nInvalid function:\")\n",
    "print(\"mcp_neuron_ndim(1, 1, 1, 1, function='XOR'):\", mcp_neuron_ndim(1, 1, 1, 1, function='XOR'))"
   ]
  },
  {
   "cell_type": "code",
   "execution_count": null,
   "id": "fbd7be91",
   "metadata": {},
   "outputs": [],
   "source": []
  }
 ],
 "metadata": {
  "kernelspec": {
   "display_name": "Python 3 (ipykernel)",
   "language": "python",
   "name": "python3"
  },
  "language_info": {
   "codemirror_mode": {
    "name": "ipython",
    "version": 3
   },
   "file_extension": ".py",
   "mimetype": "text/x-python",
   "name": "python",
   "nbconvert_exporter": "python",
   "pygments_lexer": "ipython3",
   "version": "3.10.9"
  }
 },
 "nbformat": 4,
 "nbformat_minor": 5
}
