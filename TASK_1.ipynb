{
 "cells": [
  {
   "cell_type": "code",
   "execution_count": 1,
   "id": "28c902ac-e169-4bac-9660-339498927d7d",
   "metadata": {},
   "outputs": [],
   "source": [
    "# write a program to convert a string to Lower case letter.\n"
   ]
  },
  {
   "cell_type": "code",
   "execution_count": 7,
   "id": "bfebab9e-ca1f-4616-b3ae-9bf35f6cb94c",
   "metadata": {},
   "outputs": [
    {
     "name": "stdin",
     "output_type": "stream",
     "text": [
      "enter a string : ABCDEF\n"
     ]
    },
    {
     "name": "stdout",
     "output_type": "stream",
     "text": [
      "abcdef\n"
     ]
    }
   ],
   "source": [
    "x=input(\"enter a string :\")\n",
    "for y in x:\n",
    "    x=x.lower()\n",
    "print(x)"
   ]
  },
  {
   "cell_type": "code",
   "execution_count": 8,
   "id": "53b03b1b-cb5b-4fed-a040-ac88feb9ebb3",
   "metadata": {},
   "outputs": [],
   "source": [
    "#WRITE A PYHTON PROGRAM ONLY ODD INDEXED CHARACTER TO LOWER CASE."
   ]
  },
  {
   "cell_type": "code",
   "execution_count": 15,
   "id": "7102f735-07c6-4bbf-9993-37906a0b3415",
   "metadata": {},
   "outputs": [
    {
     "name": "stdin",
     "output_type": "stream",
     "text": [
      "enter a word to convert odd index letter to lower case: APPLE\n"
     ]
    },
    {
     "name": "stdout",
     "output_type": "stream",
     "text": [
      "ApPlE\n"
     ]
    }
   ],
   "source": [
    "a=input(\"enter a word to convert odd index letter to lower case:\")\n",
    "y=list(a)\n",
    "b=\"\"\n",
    "for x in range (0,len(a)):\n",
    "    if x%2==0:\n",
    "        b+=str(a[x])\n",
    "    else:\n",
    "         b+=str(a[x]).lower()\n",
    "print (b)\n"
   ]
  },
  {
   "cell_type": "code",
   "execution_count": null,
   "id": "4870d61c-b190-47d3-af1e-1e521e6b8378",
   "metadata": {},
   "outputs": [],
   "source": [
    "#WRITE A PYHTON PROGRAM ONLY ODD INDEXED CHARACTER TO UPPER CASE."
   ]
  },
  {
   "cell_type": "code",
   "execution_count": 17,
   "id": "be006ab7-b746-4b84-be90-04fee5163bc6",
   "metadata": {},
   "outputs": [
    {
     "name": "stdin",
     "output_type": "stream",
     "text": [
      "enter a word to convert odd index letter to upper case: abcde\n"
     ]
    },
    {
     "name": "stdout",
     "output_type": "stream",
     "text": [
      "aBcDe\n"
     ]
    }
   ],
   "source": [
    "a=input(\"enter a word to convert odd index letter to upper case:\")\n",
    "y=list(a)\n",
    "b=\"\"\n",
    "for x in range (0,len(a)):\n",
    "    if x%2==0:\n",
    "        b+=str(a[x])\n",
    "    else:\n",
    "         b+=str(a[x]).upper()\n",
    "print (b)\n"
   ]
  },
  {
   "cell_type": "code",
   "execution_count": null,
   "id": "5025a01b-ee51-4356-90c3-0b14cd012001",
   "metadata": {},
   "outputs": [],
   "source": [
    "#WRITE A PYTHON PROGRAM WHERE U HAVE DIFFRENT VAR WHICH CONTAINS YOUR NAME,GENDER,AGE,PHONE NO,F_NAME AND BIO_DATA"
   ]
  },
  {
   "cell_type": "code",
   "execution_count": 18,
   "id": "7247c823-983c-4b47-955c-6780d05543f6",
   "metadata": {},
   "outputs": [
    {
     "name": "stdin",
     "output_type": "stream",
     "text": [
      "enter your name :  MD MOBASSIR HASSAN \n",
      "enter your gender :  MALE\n",
      "enter your age :  24\n",
      "enter your phone no. :  8409825352\n",
      "enter your father name :  MAHBOOH HASSAN\n",
      "enter your mother name :  SHABIHA KHATOON\n"
     ]
    },
    {
     "name": "stdout",
     "output_type": "stream",
     "text": [
      "my full name is MD MOBASSIR HASSAN  \n",
      " my age is 24\n",
      " my gender isMALE \n",
      " my height is 8409825352 \n",
      " my weight is MAHBOOH HASSAN \n",
      " my phone is SHABIHA KHATOON \n"
     ]
    }
   ],
   "source": [
    "name = input (\"enter your name : \")\n",
    "gender = input(\"enter your gender : \")\n",
    "age = input(\"enter your age : \")\n",
    "phone_no = input(\"enter your phone no. : \")\n",
    "father_name = input(\"enter your father name : \")\n",
    "mother_name = input(\"enter your mother name : \")\n",
    "\n",
    "bio_data = \"\"\n",
    "variables = [name, gender, age, phone_no, father_name, mother_name]\n",
    "\n",
    "for variable in variables:\n",
    "    bio_data += str(variable) + \" \"\n",
    "    bio_data=\"my full name is {} \\n my age is {}\\n my gender is{} \\n my height is {} \\n my weight is {} \\n my phone is {} \"\n",
    "print(bio_data.format(name ,age ,gender,phone_no,father_name,mother_name))"
   ]
  },
  {
   "cell_type": "code",
   "execution_count": 19,
   "id": "0c65e836-ccd3-4297-9c83-8d26d4d5c26b",
   "metadata": {},
   "outputs": [],
   "source": [
    "# WRITE A PROGRAM THAT HOW MANY TIMES \"@\" OCCURS"
   ]
  },
  {
   "cell_type": "code",
   "execution_count": 23,
   "id": "7f62e83f-7691-4b1f-9c9c-6ebedbce20a0",
   "metadata": {},
   "outputs": [
    {
     "name": "stdin",
     "output_type": "stream",
     "text": [
      "enter string :  &&&&&&&&&&&&&&&&&&\n"
     ]
    },
    {
     "name": "stdout",
     "output_type": "stream",
     "text": [
      "18\n"
     ]
    }
   ],
   "source": [
    "a=input(\"enter string : \")\n",
    "print(a.count(\"&\"))"
   ]
  },
  {
   "cell_type": "code",
   "execution_count": 24,
   "id": "637a6cb4-fb8b-4086-950c-cff1a10f89b7",
   "metadata": {},
   "outputs": [],
   "source": [
    "        # Write a python program to get only names from the string"
   ]
  },
  {
   "cell_type": "code",
   "execution_count": 28,
   "id": "057bd4d4-b643-461b-bf17-1c87ccd6f9c0",
   "metadata": {},
   "outputs": [
    {
     "name": "stdout",
     "output_type": "stream",
     "text": [
      "hassan,mobassir,saxon\n"
     ]
    }
   ],
   "source": [
    "x=\"hassan.@gmail.com,mobassir.@gmail.com,saxon.@gmail.com\"\n",
    "y= x.split(\".@gmail.com\")\n",
    "a=\"\"\n",
    "for z in range(0,len(y)):\n",
    "    a+=y[z]\n",
    "print(a)      "
   ]
  },
  {
   "cell_type": "code",
   "execution_count": 29,
   "id": "8f5bb3fc-dd47-4266-8e40-b18001777317",
   "metadata": {},
   "outputs": [],
   "source": [
    "    # Given a string of odd length greater that 9, return a new string made of the middle three characters of a given String\n",
    "    #Ex:- “mynameissan"
   ]
  },
  {
   "cell_type": "code",
   "execution_count": 31,
   "id": "5df8347f-68a8-45fe-8755-f89cc4038608",
   "metadata": {},
   "outputs": [
    {
     "name": "stdin",
     "output_type": "stream",
     "text": [
      "Give a string with odd length:  INNOMATICS\n"
     ]
    },
    {
     "name": "stdout",
     "output_type": "stream",
     "text": [
      "5\n",
      "MAT\n"
     ]
    }
   ],
   "source": [
    "x=input(\"Give a string with odd length: \")\n",
    "y=len(x)//2                                        \n",
    "print(y)                                           \n",
    "print(x[y-1:y+2])"
   ]
  },
  {
   "cell_type": "code",
   "execution_count": null,
   "id": "56192ab6-2d79-4af1-a420-cf1cd14006e6",
   "metadata": {},
   "outputs": [],
   "source": [
    "# Write a python program to insert a 2 string in the middle of 1 string"
   ]
  },
  {
   "cell_type": "code",
   "execution_count": 34,
   "id": "b3b36c1f-ca2e-4393-859d-5202c14cfeb4",
   "metadata": {},
   "outputs": [
    {
     "name": "stdin",
     "output_type": "stream",
     "text": [
      "Give a string:  GOOD\n",
      "Give the string that is to be inserted:  &&\n"
     ]
    },
    {
     "name": "stdout",
     "output_type": "stream",
     "text": [
      "GO&&OD\n"
     ]
    }
   ],
   "source": [
    "x=input(\"Give a string: \")\n",
    "y=input(\"Give the string that is to be inserted: \")\n",
    "a=len(x)//2\n",
    "print(x[:a]+y+x[a:])"
   ]
  },
  {
   "cell_type": "code",
   "execution_count": 35,
   "id": "5589f868-06c7-44dd-84e9-39bd4490b3fc",
   "metadata": {},
   "outputs": [],
   "source": [
    "# Write a program to remove vowels from the entire alphabets "
   ]
  },
  {
   "cell_type": "code",
   "execution_count": 36,
   "id": "566936ba-09cc-4280-adca-ea6726fe3f5d",
   "metadata": {},
   "outputs": [
    {
     "name": "stdin",
     "output_type": "stream",
     "text": [
      "give a string:  INNOMATIS\n"
     ]
    },
    {
     "name": "stdout",
     "output_type": "stream",
     "text": [
      "NNMTS\n"
     ]
    }
   ],
   "source": [
    "x=input(\"give a string: \")\n",
    "a=\"\"\n",
    "for y in range(0,len(x)):\n",
    "    \n",
    "    if x[y]==\"a\" or x[y]==\"e\" or x[y]==\"i\" or x[y]==\"o\" or x[y]==\"u\" or x[y]==\"A\" or x[y]==\"E\" or x[y]==\"I\" or x[y]==\"O\" or x[y]==\"U\":\n",
    "        a+=\"\"\n",
    "    else:\n",
    "        a+=x[y]\n",
    "print(a)\n"
   ]
  },
  {
   "cell_type": "code",
   "execution_count": null,
   "id": "51131cc6-6174-42b8-92d8-62a6ac46d113",
   "metadata": {},
   "outputs": [],
   "source": [
    "..............................................."
   ]
  }
 ],
 "metadata": {
  "kernelspec": {
   "display_name": "Python 3 (ipykernel)",
   "language": "python",
   "name": "python3"
  },
  "language_info": {
   "codemirror_mode": {
    "name": "ipython",
    "version": 3
   },
   "file_extension": ".py",
   "mimetype": "text/x-python",
   "name": "python",
   "nbconvert_exporter": "python",
   "pygments_lexer": "ipython3",
   "version": "3.10.9"
  }
 },
 "nbformat": 4,
 "nbformat_minor": 5
}
