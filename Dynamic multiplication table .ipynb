{
 "cells": [
  {
   "cell_type": "code",
   "execution_count": 1,
   "id": "5c3956af-b908-495b-be77-b8b9842d059e",
   "metadata": {},
   "outputs": [
    {
     "name": "stdin",
     "output_type": "stream",
     "text": [
      "type any number:  2\n"
     ]
    },
    {
     "name": "stdout",
     "output_type": "stream",
     "text": [
      "2 * 1 = 2\n",
      "2 * 2 = 4\n",
      "2 * 3 = 6\n",
      "2 * 4 = 8\n",
      "2 * 5 = 10\n",
      "2 * 6 = 12\n",
      "2 * 7 = 14\n",
      "2 * 8 = 16\n",
      "2 * 9 = 18\n",
      "2 * 10 = 20\n"
     ]
    }
   ],
   "source": [
    "x=int(input(\"type any number: \"))\n",
    "\n",
    "for y in range (1,11):\n",
    "    z = x*y\n",
    "    print(x, \"*\" , y, \"=\", z)"
   ]
  },
  {
   "cell_type": "code",
   "execution_count": 2,
   "id": "abf6fdb9-2b8b-4f3e-aa2f-c3271b38d100",
   "metadata": {},
   "outputs": [
    {
     "name": "stdin",
     "output_type": "stream",
     "text": [
      "type any number:  2\n"
     ]
    },
    {
     "name": "stdout",
     "output_type": "stream",
     "text": [
      "2*1=2\n",
      "2*2=4\n",
      "2*3=6\n",
      "2*4=8\n",
      "2*5=10\n",
      "2*6=12\n",
      "2*7=14\n",
      "2*8=16\n",
      "2*9=18\n",
      "2*10=20\n"
     ]
    }
   ],
   "source": [
    "x=int(input(\"type any number: \"))\n",
    "\n",
    "for y in range (1,11):\n",
    "    print(\"{}*{}={}\".format(x,y,x*y))"
   ]
  },
  {
   "cell_type": "code",
   "execution_count": 3,
   "id": "5b6e207f-9215-43af-ac59-428897295ea5",
   "metadata": {},
   "outputs": [
    {
     "name": "stdin",
     "output_type": "stream",
     "text": [
      "type any number:  2\n",
      "up to how many values you want to go type your number  20\n"
     ]
    },
    {
     "name": "stdout",
     "output_type": "stream",
     "text": [
      "2*1=2\n",
      "2*2=4\n",
      "2*3=6\n",
      "2*4=8\n",
      "2*5=10\n",
      "2*6=12\n",
      "2*7=14\n",
      "2*8=16\n",
      "2*9=18\n",
      "2*10=20\n",
      "2*11=22\n",
      "2*12=24\n",
      "2*13=26\n",
      "2*14=28\n",
      "2*15=30\n",
      "2*16=32\n",
      "2*17=34\n",
      "2*18=36\n",
      "2*19=38\n",
      "2*20=40\n"
     ]
    }
   ],
   "source": [
    "x=int(input(\"type any number: \"))\n",
    "value=int(input(\"up to how many values you want to go type your number \"))\n",
    "for y in range (1,value+1):\n",
    "    print(\"{}*{}={}\".format(x,y,x*y))"
   ]
  },
  {
   "cell_type": "code",
   "execution_count": null,
   "id": "bf1a6df5-2734-4779-af94-a69e34d354a5",
   "metadata": {},
   "outputs": [],
   "source": []
  }
 ],
 "metadata": {
  "kernelspec": {
   "display_name": "Python 3 (ipykernel)",
   "language": "python",
   "name": "python3"
  },
  "language_info": {
   "codemirror_mode": {
    "name": "ipython",
    "version": 3
   },
   "file_extension": ".py",
   "mimetype": "text/x-python",
   "name": "python",
   "nbconvert_exporter": "python",
   "pygments_lexer": "ipython3",
   "version": "3.9.7"
  }
 },
 "nbformat": 4,
 "nbformat_minor": 5
}
