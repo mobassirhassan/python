{
 "cells": [
  {
   "cell_type": "code",
   "execution_count": 11,
   "id": "221515f1-2bbb-4d97-955e-aa7e88897fee",
   "metadata": {},
   "outputs": [],
   "source": [
    "# 1. Create a function that takes a boolean variable flag and returns it as a string.\n",
    "# Examples bool_to_string(True) ➞ \"True\"  bool_to_string(False) ➞ \"False\"\n",
    "def bool_to_string(X):\n",
    "    if X==True:\n",
    "        print(\"True\")\n",
    "    elif X==False:\n",
    "        print(False)"
   ]
  },
  {
   "cell_type": "code",
   "execution_count": 13,
   "id": "e6886f40-8db8-4092-a961-12a4a815ec5b",
   "metadata": {},
   "outputs": [
    {
     "name": "stdout",
     "output_type": "stream",
     "text": [
      "True\n",
      "False\n"
     ]
    }
   ],
   "source": [
    "bool_to_string(True)\n",
    "bool_to_string(False)"
   ]
  },
  {
   "cell_type": "code",
   "execution_count": 15,
   "id": "133bc88c-5084-4e8f-82d2-22b86dc2358f",
   "metadata": {},
   "outputs": [],
   "source": [
    "# 2. 2 Create a function that returns True when num1 is equal to num2; otherwise return False.\n",
    "# Examples:  is_same_num(4, 8) ➞ False, is_same_num(2, 2) ➞  True, is_same_num(2, \"2\") ➞ False\n",
    "\n",
    "def same_num_or_not(num1,num2):\n",
    "    if num1==num2:\n",
    "        print(True)\n",
    "    else:\n",
    "        print(False)"
   ]
  },
  {
   "cell_type": "code",
   "execution_count": 16,
   "id": "7755946c-c3d8-4629-9a84-dddabd206a52",
   "metadata": {},
   "outputs": [
    {
     "name": "stdout",
     "output_type": "stream",
     "text": [
      "False\n",
      "True\n",
      "True\n",
      "False\n"
     ]
    }
   ],
   "source": [
    "same_num_or_not(2,4)\n",
    "same_num_or_not(2,2)\n",
    "same_num_or_not(4,4)\n",
    "same_num_or_not(4,6)"
   ]
  },
  {
   "cell_type": "code",
   "execution_count": 17,
   "id": "8c6f6be0-067b-41a4-a6dc-b509b87643d7",
   "metadata": {},
   "outputs": [],
   "source": [
    "# 3. Create a function that takes a number as its only argument \n",
    "# and returns True if it's less than or equal to zero, otherwise return False.\n",
    "# less_than_or_equal_to_zero(0) ➞ True\n",
    "\n",
    "def less_than_or_equal_to_zero(num=0):\n",
    "    if num<=0:\n",
    "        print(True)\n",
    "    else:\n",
    "        print(False)"
   ]
  },
  {
   "cell_type": "code",
   "execution_count": 19,
   "id": "178d79f0-2b7c-4f53-bcaf-a0916be64626",
   "metadata": {},
   "outputs": [
    {
     "name": "stdout",
     "output_type": "stream",
     "text": [
      "False\n",
      "True\n",
      "False\n",
      "True\n"
     ]
    }
   ],
   "source": [
    "less_than_or_equal_to_zero(num=1)\n",
    "less_than_or_equal_to_zero(num=0)\n",
    "less_than_or_equal_to_zero(num=2)\n",
    "less_than_or_equal_to_zero(num=-1)"
   ]
  },
  {
   "cell_type": "code",
   "execution_count": 60,
   "id": "86812226-4bb7-4ca6-b445-164112d4f3fc",
   "metadata": {},
   "outputs": [],
   "source": [
    "#4. Emmy has written a function that returns a greeting to users. \n",
    "#However, she's in love with Mubashir, and would like to greet him slightly differently. \n",
    "#She added a special case in her function, but she made a mistake. Can you help her? \n",
    "# Example: greeting(\"Matt\") ➞ \"Hello, Matt!\", \n",
    "#          greeting(\"Helen\") ➞ \"Hello, Helen!\",\n",
    "#          greeting(\"Mubashir\") ➞ \"Hello, my Love!\"\n",
    "\n",
    "\n",
    "def greetings(x=\"person1\"):\n",
    "    if x==\"Mubashir\":\n",
    "        print(\"Hello, My Love!\")\n",
    "    else:\n",
    "        print(\"Hello, {}!\".format(x))\n"
   ]
  },
  {
   "cell_type": "code",
   "execution_count": 61,
   "id": "e602eff6-c6b2-4c49-baca-5eac8f4fb4d6",
   "metadata": {},
   "outputs": [
    {
     "name": "stdout",
     "output_type": "stream",
     "text": [
      "Hello, Matt!\n",
      "Hello, Helen!\n",
      "Hello, My Love!\n"
     ]
    }
   ],
   "source": [
    "greetings(\"Matt\")\n",
    "greetings(\"Helen\")\n",
    "greetings(\"Mubashir\")"
   ]
  },
  {
   "cell_type": "code",
   "execution_count": 62,
   "id": "408a100f-5165-470d-8e33-f2009302ac65",
   "metadata": {},
   "outputs": [],
   "source": [
    "#  5. Create a function that takes two arguments. \n",
    "# Both arguments are integers, a and b. Return True if one of them is 10 or if their sum is 10.\n",
    "# Examples: makes10(9, 10) ➞ True, makes10(9, 9) ➞ False, makes10(1, 9) ➞ True.\n",
    "\n",
    "def makes10(x,y):\n",
    "    z=x+y\n",
    "    if x==10 or y==10 or z==10:\n",
    "        print(True)\n",
    "    else:\n",
    "        print(False)\n"
   ]
  },
  {
   "cell_type": "code",
   "execution_count": 66,
   "id": "88e2cb38-ecfe-41e1-9bc5-413ac977865a",
   "metadata": {},
   "outputs": [
    {
     "name": "stdout",
     "output_type": "stream",
     "text": [
      "True\n",
      "False\n",
      "True\n",
      "False\n",
      "True\n",
      "True\n",
      "False\n",
      "True\n"
     ]
    }
   ],
   "source": [
    "makes10(2,8)\n",
    "makes10(2,2)\n",
    "makes10(10,10)\n",
    "makes10(9,9)\n",
    "makes10(7,3)\n",
    "makes10(10,2)\n",
    "makes10(9,90)\n",
    "makes10(9,1)"
   ]
  },
  {
   "cell_type": "code",
   "execution_count": 67,
   "id": "206fb70d-8086-45aa-838f-36b9947481b0",
   "metadata": {},
   "outputs": [],
   "source": [
    "#6. Create a function that takes three arguments prob, prize, pay and \n",
    "# returns True if prob * prize > pay; otherwise return False. \n",
    "# To illustrate: profitable_gamble(0.2, 50, 9)\n",
    "#... should yield True, since the net profit is 1 (0.2 * 50 - 9), and 1 > 0.\n",
    "\n",
    "def proftiable_gamble(a,b,c):\n",
    "    if a*b>c:\n",
    "        print(True)\n",
    "    else:\n",
    "        print(False)"
   ]
  },
  {
   "cell_type": "code",
   "execution_count": 71,
   "id": "eada2116-9589-4ec4-aad8-03b6308a9b9f",
   "metadata": {},
   "outputs": [
    {
     "name": "stdout",
     "output_type": "stream",
     "text": [
      "True\n",
      "False\n",
      "False\n"
     ]
    }
   ],
   "source": [
    "proftiable_gamble(0.2, 50, 9)\n",
    "proftiable_gamble(0.3, 50, 16)\n",
    "proftiable_gamble(50, 0.5, 26)"
   ]
  },
  {
   "cell_type": "code",
   "execution_count": 72,
   "id": "15c40a74-0eb4-4a83-a999-becf327f5734",
   "metadata": {},
   "outputs": [],
   "source": [
    "# 7. Create a function that takes an integer and returns True if it's divisible by 100, otherwise return False.\n",
    "# Examples divisible(1) ➞ False, divisible(1000) ➞ True, divisible(100) ➞ True.\n",
    "def divisible_100(x):\n",
    "    if x%100==0:\n",
    "        print(True)\n",
    "    else:\n",
    "        print(False)      "
   ]
  },
  {
   "cell_type": "code",
   "execution_count": 74,
   "id": "49706cd9-0b2b-40b0-8e22-b23a6612b542",
   "metadata": {},
   "outputs": [
    {
     "name": "stdout",
     "output_type": "stream",
     "text": [
      "True\n",
      "False\n",
      "True\n"
     ]
    }
   ],
   "source": [
    "divisible_100(1000)\n",
    "divisible_100(90)\n",
    "divisible_100(900)"
   ]
  },
  {
   "cell_type": "code",
   "execution_count": 75,
   "id": "978453e6-556f-48f2-83ff-930a17cd4f61",
   "metadata": {},
   "outputs": [],
   "source": [
    "# 8. Create a function that takes two strings as arguments and return either True or False depending on \n",
    "# whether the total number of characters in the first string is equal to the total number of characters in the second string.\n",
    "# Examples: comp(\"AB\", \"CD\") ➞ True, comp(\"ABC\", \"DE\") ➞ False, comp(\"hello\", \"edabit\") ➞ False.\n",
    "\n",
    "def string_length_match(x=\"string1\",y=\"string2\"):\n",
    "    if len(x)==len(y):\n",
    "        print(True)\n",
    "    else:\n",
    "        print(False)"
   ]
  },
  {
   "cell_type": "code",
   "execution_count": 81,
   "id": "1c2c635f-29c8-489d-aea1-958ed3d8c039",
   "metadata": {},
   "outputs": [
    {
     "name": "stdout",
     "output_type": "stream",
     "text": [
      "False\n",
      "True\n",
      "True\n",
      "True\n"
     ]
    }
   ],
   "source": [
    "string_length_match(x=\"alai\",y=\"balai\")\n",
    "string_length_match(x=\"yo\",y=\"yo\")\n",
    "string_length_match(x=\"blah\",y=\"blah\")\n",
    "string_length_match(x=\"\",y=\"\")"
   ]
  },
  {
   "cell_type": "code",
   "execution_count": 82,
   "id": "ddb5a632-b6d0-4960-b90a-2b38254bf1db",
   "metadata": {},
   "outputs": [],
   "source": [
    "#9. Given a string, return True if its length is even or False if the length is odd.\n",
    "# Examples: odd_or_even(\"apples\") ➞ True\n",
    "# The word \"apples\" has 6 characters.\n",
    "# 6 is an even number, so the program outputs True.\n",
    "\n",
    "def odd_even_string(a=\"string\"):\n",
    "    b=len(a)\n",
    "    if b%2==0:\n",
    "        print(True)\n",
    "    else:\n",
    "        print(False)"
   ]
  },
  {
   "cell_type": "code",
   "execution_count": 85,
   "id": "3e207b94-b1bf-4dfa-848c-12bb4c632d64",
   "metadata": {},
   "outputs": [
    {
     "name": "stdout",
     "output_type": "stream",
     "text": [
      "True\n",
      "False\n",
      "True\n"
     ]
    }
   ],
   "source": [
    "odd_even_string(\"apples\")\n",
    "odd_even_string(\"pears\")\n",
    "odd_even_string(\"cherry\")"
   ]
  },
  {
   "cell_type": "code",
   "execution_count": 88,
   "id": "9b2fab14-c216-4568-84c0-8fb2046d735d",
   "metadata": {},
   "outputs": [],
   "source": [
    "#10. Create a function that takes a string; we'll say that the front is the first three characters of the string.\n",
    "# If the string length is less than three characters, the front is whatever is there. \n",
    "# Return a new string, which is three copies of the front.\n",
    "# Examples front3(\"Python\") ➞ \"PytPytPyt\", front3(\"Cucumber\") ➞ \"CucCucCuc\", front3(\"bioshock\") ➞ \"biobiobio\"\n",
    "\n",
    "def front3_char_string(y=\"string\"):\n",
    "    print(y[0:3]*3)\n"
   ]
  },
  {
   "cell_type": "code",
   "execution_count": 90,
   "id": "2b126add-4bd1-4303-9c22-d5c4ba8292f1",
   "metadata": {},
   "outputs": [
    {
     "name": "stdout",
     "output_type": "stream",
     "text": [
      "pytpytpyt\n",
      "cuccuccuc\n",
      "biobiobio\n"
     ]
    }
   ],
   "source": [
    "front3_char_string(y=\"python\")\n",
    "front3_char_string(y=\"cucumber\")\n",
    "front3_char_string(y=\"biography\")"
   ]
  },
  {
   "cell_type": "code",
   "execution_count": 99,
   "id": "a13b8b35-b2c1-4b11-b053-5bcb966d24f0",
   "metadata": {},
   "outputs": [],
   "source": [
    "# 11. Darts is a target game played by throwing feathered darts at a circular board with numbered spaces. \n",
    "# Our darts game is the simplest of all games. \n",
    "# The score of a single turn is calculated based on the distance from the middle. \n",
    "# You need to create a function that takes the dart location as two cartesian coordinates (x, y) \n",
    "# and returns a score based on the distance from the middle, aka Bullseye (x=0, y=0).\n",
    "\n",
    "def darts(x,y):\n",
    "    distance = ((x**2)+(y**2))**0.5 # using r =sq.rt(x**2+y**2) we will identify the distance at which dart fell on board\n",
    "    if distance > 10:\n",
    "        return 0\n",
    "    elif distance > 5:\n",
    "        return 1\n",
    "    elif distance > 1:\n",
    "        return 5\n",
    "    else:\n",
    "        return 10"
   ]
  },
  {
   "cell_type": "code",
   "execution_count": 102,
   "id": "da1ffb93-ded3-4caa-bb61-afdd2318e018",
   "metadata": {},
   "outputs": [
    {
     "data": {
      "text/plain": [
       "10"
      ]
     },
     "execution_count": 102,
     "metadata": {},
     "output_type": "execute_result"
    }
   ],
   "source": [
    "darts(0,0)"
   ]
  },
  {
   "cell_type": "code",
   "execution_count": 103,
   "id": "cd13a9ed-4147-4eee-8269-fce5bf7bba16",
   "metadata": {},
   "outputs": [
    {
     "data": {
      "text/plain": [
       "5"
      ]
     },
     "execution_count": 103,
     "metadata": {},
     "output_type": "execute_result"
    }
   ],
   "source": [
    "darts(3,2)"
   ]
  },
  {
   "cell_type": "code",
   "execution_count": 104,
   "id": "118dff0a-af5b-4b46-bba1-eada7152b6f2",
   "metadata": {},
   "outputs": [
    {
     "data": {
      "text/plain": [
       "10"
      ]
     },
     "execution_count": 104,
     "metadata": {},
     "output_type": "execute_result"
    }
   ],
   "source": [
    "darts(0,0.8)"
   ]
  },
  {
   "cell_type": "code",
   "execution_count": 1,
   "id": "a120edca-0929-4368-9ee1-a29a3d128bd6",
   "metadata": {},
   "outputs": [],
   "source": [
    "# 12 Write a function that returns True if a year is a leap, otherwise return False.\n",
    "#The exception to this is a year at the beginning of a century (for example, 1900 or 2000),\n",
    "# where the year must be divisible by 400 to be a leap year.\n",
    "\n",
    "def leap_year_or_not(x):\n",
    "    if x%400 == 0 and x%100 == 0:\n",
    "        print(True)\n",
    "        \n",
    "    elif x%4==0 and x%100!=0:\n",
    "        print(True)\n",
    "    \n",
    "    else:\n",
    "        print(False)\n",
    "        "
   ]
  },
  {
   "cell_type": "code",
   "execution_count": 2,
   "id": "57f9532e-7206-4b7c-9588-ee993b9c51ad",
   "metadata": {},
   "outputs": [
    {
     "name": "stdout",
     "output_type": "stream",
     "text": [
      "False\n",
      "True\n",
      "True\n",
      "False\n"
     ]
    }
   ],
   "source": [
    "leap_year_or_not(1900)\n",
    "leap_year_or_not(1924)\n",
    "leap_year_or_not(2000)\n",
    "leap_year_or_not(2100)"
   ]
  },
  {
   "cell_type": "code",
   "execution_count": 11,
   "id": "1eb31860-44c3-498d-91c9-9a471d56d606",
   "metadata": {},
   "outputs": [],
   "source": [
    "#13 Create a function that takes an array of hurdle heights and a jumper's jump height, and determine \n",
    "# whether or not the hurdler can clear all the hurdles.A hurdler can clear a hurdle if their \n",
    "# jump height is greater than or equal to the hurdle height.\n",
    "#Examples\n",
    "#hurdle_jump([1, 2, 3, 4, 5], 5) ➞ True \n",
    "#hurdle_jump([5, 5, 3, 4, 5], 3) ➞ False \n",
    "#hurdle_jump([5, 4, 5, 6], 10) ➞ True \n",
    "#hurdle_jump([1, 2, 1], 1) ➞ False\n",
    "\n",
    "def hurdle_jump(hurdle_heights,jump_heights):\n",
    "    t=0;\n",
    "    for x in hurdle_heights:\n",
    "        if x<=jump_heights:\n",
    "            t+=1 \n",
    "        else:\n",
    "             continue\n",
    "    if t==len(hurdle_heights):\n",
    "        return True\n",
    "    else:\n",
    "        return False  "
   ]
  },
  {
   "cell_type": "code",
   "execution_count": 20,
   "id": "1a0d090d-ff3c-4f76-a0db-6671d53a1207",
   "metadata": {},
   "outputs": [
    {
     "data": {
      "text/plain": [
       "False"
      ]
     },
     "execution_count": 20,
     "metadata": {},
     "output_type": "execute_result"
    }
   ],
   "source": [
    "hurdle_jump([1,1,1,1,3],2)"
   ]
  },
  {
   "cell_type": "code",
   "execution_count": 17,
   "id": "3dd53465-cd3b-4d15-b9e4-18ba748cdde3",
   "metadata": {},
   "outputs": [
    {
     "data": {
      "text/plain": [
       "True"
      ]
     },
     "execution_count": 17,
     "metadata": {},
     "output_type": "execute_result"
    }
   ],
   "source": [
    "hurdle_jump([1,1,1,1,1],6)"
   ]
  },
  {
   "cell_type": "code",
   "execution_count": 18,
   "id": "4d3be0f8-8a22-4d51-811f-c59b58021101",
   "metadata": {},
   "outputs": [
    {
     "data": {
      "text/plain": [
       "True"
      ]
     },
     "execution_count": 18,
     "metadata": {},
     "output_type": "execute_result"
    }
   ],
   "source": [
    "hurdle_jump([5, 4, 5, 6], 10)"
   ]
  },
  {
   "cell_type": "code",
   "execution_count": 21,
   "id": "dc0d9a42-809a-4e8b-887c-e22265657bb2",
   "metadata": {},
   "outputs": [
    {
     "data": {
      "text/plain": [
       "False"
      ]
     },
     "execution_count": 21,
     "metadata": {},
     "output_type": "execute_result"
    }
   ],
   "source": [
    "hurdle_jump([5, 5, 3, 4, 5], 3)"
   ]
  },
  {
   "cell_type": "code",
   "execution_count": 30,
   "id": "238a96b0-d497-4094-a725-7811330b202c",
   "metadata": {},
   "outputs": [],
   "source": [
    "# 14 Create a function that takes a number (from 1 to 12) and returns its corresponding month name as a string.\n",
    "#For example, if you're given 3 as input, your function should return \"March\", because March is the 3rd month.\n",
    "\n",
    "def month_name(num):\n",
    "    year={1:\"January\",2:\"February\",3:\"March\",4:\"April\",5:\"May\",6:\"June\",\\\n",
    "          7:\"July\",8:\"August\",9:\"September\",10:\"October\",11:\"November\",12:\"December\"}\n",
    "    for y in year.keys():\n",
    "        if y==num:\n",
    "            month=year[y]\n",
    "        else:\n",
    "            continue\n",
    "    return month"
   ]
  },
  {
   "cell_type": "code",
   "execution_count": 29,
   "id": "b67e1267-3154-4c56-99d8-33d81f147e85",
   "metadata": {},
   "outputs": [
    {
     "data": {
      "text/plain": [
       "'December'"
      ]
     },
     "execution_count": 29,
     "metadata": {},
     "output_type": "execute_result"
    }
   ],
   "source": [
    "month_name(12)"
   ]
  },
  {
   "cell_type": "code",
   "execution_count": 28,
   "id": "70cd4208-4a4b-4b64-87be-6eefae7dffd6",
   "metadata": {},
   "outputs": [
    {
     "data": {
      "text/plain": [
       "'February'"
      ]
     },
     "execution_count": 28,
     "metadata": {},
     "output_type": "execute_result"
    }
   ],
   "source": [
    "month_name(2)"
   ]
  },
  {
   "cell_type": "code",
   "execution_count": null,
   "id": "981c3a74-e551-4dfd-ad36-112e7c862e41",
   "metadata": {},
   "outputs": [],
   "source": [
    "#15 Create a function that takes in a two-dimensional list and returns the number of sub-lists with only identical elements.\n"
   ]
  },
  {
   "cell_type": "code",
   "execution_count": null,
   "id": "98517559-324b-4969-9c1f-c988bdcd1791",
   "metadata": {},
   "outputs": [],
   "source": []
  },
  {
   "cell_type": "code",
   "execution_count": null,
   "id": "c240b8f8-2e7d-4a8e-b107-fe741ba9a747",
   "metadata": {},
   "outputs": [],
   "source": []
  },
  {
   "cell_type": "code",
   "execution_count": null,
   "id": "95ab7ec6-2c15-4ff3-9903-6acf33bac3bd",
   "metadata": {},
   "outputs": [],
   "source": []
  },
  {
   "cell_type": "code",
   "execution_count": 31,
   "id": "fce59e69-a3c2-4ecb-a985-d7bc5e963272",
   "metadata": {},
   "outputs": [],
   "source": [
    "#16 A bartender is writing a simple program to determine whether he should serve drinks to someone. \n",
    "#He only serves drinks to people 18 and older and when he's not on break.Given the person's age, \n",
    "#and whether break time is in session, create a function which returns whether he should serve drinks.\n",
    "def should_serve_drinks(x,y):\n",
    "    if x==18 and y==\"True\":\n",
    "        print(True)\n",
    "    elif x!=18 and y==\"False\":\n",
    "        print(True)\n",
    "    else:\n",
    "        print(False)"
   ]
  },
  {
   "cell_type": "code",
   "execution_count": 32,
   "id": "9d096e44-feb0-4dd5-be3c-91fcf21262d8",
   "metadata": {},
   "outputs": [
    {
     "name": "stdout",
     "output_type": "stream",
     "text": [
      "True\n",
      "False\n",
      "True\n",
      "False\n"
     ]
    }
   ],
   "source": [
    "should_serve_drinks(18, \"True\")\n",
    "should_serve_drinks(18, \"False\")\n",
    "should_serve_drinks(19, \"False\")\n",
    "should_serve_drinks(17, \"True\")"
   ]
  },
  {
   "cell_type": "code",
   "execution_count": 35,
   "id": "223f4e6b-2187-48e2-a3df-f169ccce0a18",
   "metadata": {},
   "outputs": [],
   "source": [
    "#17 You will need to write three unfinished logic gates. Continue to write the three logic gates: AND, OR, and NOT.\n",
    "#Examples\n",
    "#AND(1, 1) ➞ 1\n",
    "#AND(0, 0) ➞ 0\n",
    "#OR(1, 0) ➞ 1\n",
    "#OR(1, 1) ➞ 1\n",
    "#NOT(0) ➞ 1\n",
    "#NOT(1) ➞ 0\n",
    "\n",
    "def AND(x,y):\n",
    "    if x==1 and y==1:\n",
    "        print(1)\n",
    "    else:\n",
    "        print(0)\n",
    "def OR(x,y):\n",
    "    if x==1 or y==1:\n",
    "        print(1)\n",
    "    else:\n",
    "        print(0)\n",
    "def NOT(x):\n",
    "    if x==1:\n",
    "        print(0)\n",
    "    else:\n",
    "        print(1)  "
   ]
  },
  {
   "cell_type": "code",
   "execution_count": 34,
   "id": "c745320d-6433-4651-87dc-fcece6e478d3",
   "metadata": {},
   "outputs": [
    {
     "name": "stdout",
     "output_type": "stream",
     "text": [
      "1\n",
      "0\n",
      "0\n",
      "0\n",
      "1\n",
      "1\n",
      "0\n",
      "1\n",
      "1\n",
      "0\n"
     ]
    }
   ],
   "source": [
    "AND(1, 1)\n",
    "AND(1, 0)\n",
    "AND(0, 1)\n",
    "AND(0, 0)\n",
    "OR(1, 0)\n",
    "OR(0, 1)\n",
    "OR(0, 0)\n",
    "OR(1, 1)\n",
    "NOT(0)\n",
    "NOT(1)"
   ]
  },
  {
   "cell_type": "code",
   "execution_count": 37,
   "id": "72b67965-74a2-4b5c-813e-acb440c392b2",
   "metadata": {},
   "outputs": [],
   "source": [
    "#18 Write a function that accepts base (decimal), height (decimal) and shape (\"triangle\", \"parallelogram\") \n",
    "#as input and calculates the area of that shape.\n",
    "\n",
    "def area_shape(b,h,s):\n",
    "    if s == \"triangle\":\n",
    "        area_of_triangle = (0.5*b*h)\n",
    "        print(area_of_triangle)\n",
    "    elif s == \"parallelogram\":\n",
    "        area_of_parallelogram = b*h\n",
    "        print(area_of_parallelogram)"
   ]
  },
  {
   "cell_type": "code",
   "execution_count": 38,
   "id": "f9f3347a-a9fe-41f2-aba8-4ea2b6803f91",
   "metadata": {},
   "outputs": [
    {
     "name": "stdout",
     "output_type": "stream",
     "text": [
      "34.0\n"
     ]
    }
   ],
   "source": [
    "area_shape(8.5,8,\"triangle\")"
   ]
  },
  {
   "cell_type": "code",
   "execution_count": 39,
   "id": "90c8651a-6133-4e0a-a3fa-b729ed4f4369",
   "metadata": {},
   "outputs": [
    {
     "name": "stdout",
     "output_type": "stream",
     "text": [
      "33.75\n"
     ]
    }
   ],
   "source": [
    "area_shape(4.5,7.5,\"parallelogram\")"
   ]
  },
  {
   "cell_type": "code",
   "execution_count": 42,
   "id": "eee10067-8f9d-4155-8c0e-f627c3c9fda9",
   "metadata": {},
   "outputs": [],
   "source": [
    "#19 Create a function that takes a string (a random name). If the last character of the name is an \"n\", return True, \n",
    "#otherwise return False. Examples\n",
    "#is_last_character_n(\"Aiden\") ➞ True\n",
    "#is_last_character_n(\"Piet\") ➞ False\n",
    "#is_last_character_n(\"Bert\") ➞ False\n",
    "#is_last_character_n(\"Dean\") ➞ True\n",
    "\n",
    "def is_last_character_n(b=\"string\"):\n",
    "    if b.endswith(\"n\"):\n",
    "        print(True)\n",
    "    else:\n",
    "        print(False)\n",
    "        "
   ]
  },
  {
   "cell_type": "code",
   "execution_count": 41,
   "id": "8e2279dc-aaa8-4ce5-8510-c63440a1bb04",
   "metadata": {},
   "outputs": [
    {
     "name": "stdout",
     "output_type": "stream",
     "text": [
      "True\n",
      "False\n",
      "True\n",
      "True\n"
     ]
    }
   ],
   "source": [
    "is_last_character_n(\"Aiden\")\n",
    "is_last_character_n(\"julie\")\n",
    "is_last_character_n(\"Biden\")\n",
    "is_last_character_n(\"Dean\")"
   ]
  },
  {
   "cell_type": "code",
   "execution_count": 43,
   "id": "ce317af4-7268-4c23-87c9-05152320c24d",
   "metadata": {},
   "outputs": [],
   "source": [
    "# 20 Create a function that takes in a word and determines whether or not it is plural. A plural word is one that ends in \"s\".\n",
    "#Examples\n",
    "#is_plural(\"changes\") ➞ True\n",
    "#is_plural(\"change\") ➞ False\n",
    "#is_plural(\"dudes\") ➞ True\n",
    "#is_plural(\"magic\") ➞ False\n",
    "def is_plural(a=\"string\"):\n",
    "    if a.endswith(\"s\"):\n",
    "        print(True)\n",
    "    else:\n",
    "        print(False)"
   ]
  },
  {
   "cell_type": "code",
   "execution_count": 44,
   "id": "33bbed7e-ec2b-4d51-8f70-91612dbe611e",
   "metadata": {},
   "outputs": [
    {
     "name": "stdout",
     "output_type": "stream",
     "text": [
      "True\n",
      "False\n",
      "True\n",
      "False\n"
     ]
    }
   ],
   "source": [
    "is_plural(\"changes\")\n",
    "is_plural(\"change\")\n",
    "is_plural(\"dudes\")\n",
    "is_plural(\"magic\")"
   ]
  },
  {
   "cell_type": "code",
   "execution_count": 45,
   "id": "5a185ba0-7442-4bf2-b195-121c8d279bfe",
   "metadata": {},
   "outputs": [],
   "source": [
    "# 21 Create a function that takes a number as an argument and returns \"even\" for even numbers and \"odd\" for odd numbers.\n",
    "#Examples\n",
    "#isEvenOrOdd(3) ➞ \"odd\"\n",
    "#isEvenOrOdd(146) ➞ \"even\"\n",
    "#isEvenOrOdd(19) ➞ \"odd\"\n",
    "def isEvenOrOdd(x):\n",
    "    if x%2==0:\n",
    "        print(\"Even\")\n",
    "    else:\n",
    "        print(\"Odd\") "
   ]
  },
  {
   "cell_type": "code",
   "execution_count": 46,
   "id": "d4929fc7-4463-4f7a-9b07-216c775bacc5",
   "metadata": {},
   "outputs": [
    {
     "name": "stdout",
     "output_type": "stream",
     "text": [
      "Odd\n",
      "Even\n",
      "Odd\n"
     ]
    }
   ],
   "source": [
    "isEvenOrOdd(3)\n",
    "isEvenOrOdd(146)\n",
    "isEvenOrOdd(19)"
   ]
  },
  {
   "cell_type": "code",
   "execution_count": null,
   "id": "cd0e2bf0-10a1-4099-b6b2-22bd948ac635",
   "metadata": {},
   "outputs": [],
   "source": []
  },
  {
   "cell_type": "code",
   "execution_count": null,
   "id": "819157d2-b691-4f05-8517-ea2934176f43",
   "metadata": {},
   "outputs": [],
   "source": []
  },
  {
   "cell_type": "code",
   "execution_count": null,
   "id": "e518ff12-f3d6-42f8-8951-b9caab662f97",
   "metadata": {},
   "outputs": [],
   "source": []
  },
  {
   "cell_type": "code",
   "execution_count": null,
   "id": "2276af04-1970-4dcf-917a-39abb82b58fe",
   "metadata": {},
   "outputs": [],
   "source": []
  }
 ],
 "metadata": {
  "kernelspec": {
   "display_name": "Python 3 (ipykernel)",
   "language": "python",
   "name": "python3"
  },
  "language_info": {
   "codemirror_mode": {
    "name": "ipython",
    "version": 3
   },
   "file_extension": ".py",
   "mimetype": "text/x-python",
   "name": "python",
   "nbconvert_exporter": "python",
   "pygments_lexer": "ipython3",
   "version": "3.9.7"
  }
 },
 "nbformat": 4,
 "nbformat_minor": 5
}
