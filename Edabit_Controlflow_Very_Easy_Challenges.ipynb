{
 "cells": [
  {
   "cell_type": "markdown",
   "id": "f74f8cd3-e492-4441-8420-10a05dcbec7b",
   "metadata": {},
   "source": [
    "# 1 A vehicle needs 10 times the amount of fuel than the distance it travels. However, it must always carry a \n",
    "# minimum of 100 fuel before setting off.Create a function which calculates the amount of fuel it needs, given \n",
    "# the distance. "
   ]
  },
  {
   "cell_type": "code",
   "execution_count": 2,
   "id": "32c2590f-eb31-4c0a-bb41-8117f33df590",
   "metadata": {},
   "outputs": [],
   "source": [
    "def calculate_fuel(n):\n",
    "    if n<=10:\n",
    "        return 100\n",
    "    else:\n",
    "        return n*10\n"
   ]
  },
  {
   "cell_type": "code",
   "execution_count": 3,
   "id": "76238345-59ff-42d8-a002-f43d087cba0a",
   "metadata": {},
   "outputs": [
    {
     "data": {
      "text/plain": [
       "120"
      ]
     },
     "execution_count": 3,
     "metadata": {},
     "output_type": "execute_result"
    }
   ],
   "source": [
    "calculate_fuel(12)  "
   ]
  },
  {
   "cell_type": "markdown",
   "id": "0b93b68d-bae4-4758-8f3c-6e555a670ed7",
   "metadata": {},
   "source": [
    "# 2 The packaging system is running wild! The candy is lying loose all over in the warehouse, the cereal is missing,\n",
    "# and bread is stuffed in a bottle. What is going on here? The candy should be in plastic and the bread should be in a bag\n",
    "# The packaging machine is running the get_container() function to retrieve the container of a product\n"
   ]
  },
  {
   "cell_type": "code",
   "execution_count": 4,
   "id": "ca3fe4a0-be16-4a20-b06b-5a82db0b4869",
   "metadata": {},
   "outputs": [],
   "source": [
    "def getContainer(item):\n",
    "    i=item.lower()\n",
    "    if i==\"bread\":\n",
    "        return \"bag\"\n",
    "    elif i==\"beer\":\n",
    "        return \"bottle\"\n",
    "    elif i==\"candy\":\n",
    "        return \"plastic\"\n",
    "    else:\n",
    "        return \"null\"\n"
   ]
  },
  {
   "cell_type": "code",
   "execution_count": 5,
   "id": "803969c5-ea4d-45d8-ace3-641196b543bd",
   "metadata": {},
   "outputs": [
    {
     "data": {
      "text/plain": [
       "'null'"
      ]
     },
     "execution_count": 5,
     "metadata": {},
     "output_type": "execute_result"
    }
   ],
   "source": [
    "getContainer('bag') "
   ]
  },
  {
   "cell_type": "markdown",
   "id": "e0dd7af2-bb1d-4782-ab8b-4e7aeedf4dc9",
   "metadata": {},
   "source": [
    "# 3 Write a function that returns 0 if the input is 1, and returns 1 if the input is 0"
   ]
  },
  {
   "cell_type": "code",
   "execution_count": 6,
   "id": "d2149432-0518-4d8f-9d80-aaf4bbcd7945",
   "metadata": {},
   "outputs": [],
   "source": [
    "def flip(y):\n",
    "    d={1:0,0:1}\n",
    "    return d[y]\n"
   ]
  },
  {
   "cell_type": "code",
   "execution_count": 7,
   "id": "ef2cee7a-cf3d-4935-9843-f944ed990e25",
   "metadata": {},
   "outputs": [
    {
     "data": {
      "text/plain": [
       "1"
      ]
     },
     "execution_count": 7,
     "metadata": {},
     "output_type": "execute_result"
    }
   ],
   "source": [
    "flip(0)"
   ]
  },
  {
   "cell_type": "markdown",
   "id": "fdcf8d6b-de70-438e-b9ee-65814844dab0",
   "metadata": {},
   "source": [
    "# 4 Create a function that takes an argument of any data type and returns 1 if it's truthy and 0 if it's falsy."
   ]
  },
  {
   "cell_type": "code",
   "execution_count": 8,
   "id": "ad1c5d81-4ed9-43d5-90bd-8cbf43c7e3e4",
   "metadata": {},
   "outputs": [],
   "source": [
    "def is_truthy(val):\n",
    "    return bool(val)"
   ]
  },
  {
   "cell_type": "code",
   "execution_count": 9,
   "id": "0b11d1ee-0bfc-4ed8-8e59-6f44ad7d5903",
   "metadata": {},
   "outputs": [
    {
     "data": {
      "text/plain": [
       "False"
      ]
     },
     "execution_count": 9,
     "metadata": {},
     "output_type": "execute_result"
    }
   ],
   "source": [
    "is_truthy(0)"
   ]
  },
  {
   "cell_type": "markdown",
   "id": "40f94df2-a66b-4c5e-8589-5cc307c950f4",
   "metadata": {},
   "source": [
    "# 5 Create a function that takes a list (slot machine outcome) and returns True if all elements in the list are identical and False otherwise. The list will contain 4 elements.\n"
   ]
  },
  {
   "cell_type": "code",
   "execution_count": 14,
   "id": "e93e3b35-3b26-4801-b09d-5150fe1e4e7a",
   "metadata": {},
   "outputs": [],
   "source": [
    "def test_jackpot(result):\n",
    "    a=set(result)                                       \n",
    "    return len(a)==1                                     "
   ]
  },
  {
   "cell_type": "code",
   "execution_count": 15,
   "id": "666d21dd-c05e-487c-af5f-f3967ee8308a",
   "metadata": {},
   "outputs": [
    {
     "data": {
      "text/plain": [
       "True"
      ]
     },
     "execution_count": 15,
     "metadata": {},
     "output_type": "execute_result"
    }
   ],
   "source": [
    "test_jackpot([\"abc\", \"abc\", \"abc\", \"abc\"])"
   ]
  },
  {
   "cell_type": "markdown",
   "id": "2a7ae0cb-99b7-44bb-bb27-e27585bbfb84",
   "metadata": {},
   "source": [
    "# 6. Create a function that takes a number as its argument and returns a list of all its factors.\n",
    "# Examples\n",
    "# factorize(12) ➞ [1, 2, 3, 4, 6, 12]\n",
    "# factorize(4) ➞ [1, 2, 4]\n",
    "# factorize(17) ➞ [1, 17]\n",
    "# Notes\n",
    "# The input integer will be positive.\n",
    "# A factor is a number that evenly divides into another number without leaving a remainder. \n",
    "# The second example is a factor of 12, because 12 / 2 = 6, with remainder 0."
   ]
  },
  {
   "cell_type": "code",
   "execution_count": 12,
   "id": "e304a046-c376-4c04-8b0b-6fd0f218800e",
   "metadata": {},
   "outputs": [],
   "source": [
    "def factorize(num):\n",
    "    l=[]\n",
    "    for x in range(1,num+1):\n",
    "        if num%x==0:\n",
    "            l.append(x)\n",
    "    return l\n"
   ]
  },
  {
   "cell_type": "code",
   "execution_count": 13,
   "id": "9a28f527-0b67-4cd8-bbbc-7579d2340b3e",
   "metadata": {},
   "outputs": [
    {
     "data": {
      "text/plain": [
       "[1, 2, 4, 8]"
      ]
     },
     "execution_count": 13,
     "metadata": {},
     "output_type": "execute_result"
    }
   ],
   "source": [
    "factorize(8)"
   ]
  },
  {
   "cell_type": "markdown",
   "id": "3e8ced13-c18d-4df4-b4c5-8c1e16e8a72b",
   "metadata": {},
   "source": [
    "# 7. Create a function that goes through the array, incrementing (+1) for each odd-valued number\n",
    "# and decrementing (-1) for each even-valued number.\n"
   ]
  },
  {
   "cell_type": "code",
   "execution_count": 16,
   "id": "14a3aa7a-29b3-4278-9a2a-239a7f4307f8",
   "metadata": {},
   "outputs": [],
   "source": [
    "def transform(lst):\n",
    "    for x in range(0,len(lst)):\n",
    "        if lst[x]%2==0:\n",
    "            lst[x]-=1\n",
    "        else:\n",
    "            lst[x]+=1\n",
    "    return lst\n"
   ]
  },
  {
   "cell_type": "code",
   "execution_count": 17,
   "id": "70b4772c-e2f7-458f-be3c-ed59b152f287",
   "metadata": {},
   "outputs": [
    {
     "data": {
      "text/plain": [
       "[2, 1, 4, 3, 6]"
      ]
     },
     "execution_count": 17,
     "metadata": {},
     "output_type": "execute_result"
    }
   ],
   "source": [
    "transform([1, 2, 3, 4, 5])"
   ]
  },
  {
   "cell_type": "code",
   "execution_count": null,
   "id": "b67cf904-fe1a-436c-9508-1b24151e69cf",
   "metadata": {},
   "outputs": [],
   "source": []
  },
  {
   "cell_type": "code",
   "execution_count": null,
   "id": "6b331f6a-bde3-4e76-8e21-a443d446be8b",
   "metadata": {},
   "outputs": [],
   "source": []
  }
 ],
 "metadata": {
  "kernelspec": {
   "display_name": "Python 3 (ipykernel)",
   "language": "python",
   "name": "python3"
  },
  "language_info": {
   "codemirror_mode": {
    "name": "ipython",
    "version": 3
   },
   "file_extension": ".py",
   "mimetype": "text/x-python",
   "name": "python",
   "nbconvert_exporter": "python",
   "pygments_lexer": "ipython3",
   "version": "3.9.7"
  }
 },
 "nbformat": 4,
 "nbformat_minor": 5
}
