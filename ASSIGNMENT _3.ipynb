{
 "cells": [
  {
   "cell_type": "code",
   "execution_count": null,
   "id": "e2dfa52b-159f-47ab-be9d-b2f4e401e96a",
   "metadata": {},
   "outputs": [],
   "source": [
    "#1 Write a Python program that prints all the numbers from 0 to 6 except 3 and 6\n"
   ]
  },
  {
   "cell_type": "code",
   "execution_count": 1,
   "id": "b1e7710d-df46-4e49-8ed1-bf3eb255dd70",
   "metadata": {},
   "outputs": [
    {
     "name": "stdout",
     "output_type": "stream",
     "text": [
      "0\n",
      "1\n",
      "2\n",
      "4\n",
      "5\n"
     ]
    }
   ],
   "source": [
    "\n",
    "for x in range(0,7):\n",
    "    if x%3==0 and x!=0:\n",
    "        continue\n",
    "    else:\n",
    "         print(x)"
   ]
  },
  {
   "cell_type": "code",
   "execution_count": null,
   "id": "0d8584f8-09ec-4a65-b8c5-09f74d606783",
   "metadata": {},
   "outputs": [],
   "source": [
    "#2 Write a program to accept a number from a user and calculate the sum of all numbers from 1 to a given number\n"
   ]
  },
  {
   "cell_type": "code",
   "execution_count": 2,
   "id": "88aa7046-3d62-4db5-8165-08ce79b6287f",
   "metadata": {},
   "outputs": [
    {
     "name": "stdin",
     "output_type": "stream",
     "text": [
      "Enter a number:  5\n"
     ]
    },
    {
     "name": "stdout",
     "output_type": "stream",
     "text": [
      "Sum of numbers from 1 to 5 is: 15\n"
     ]
    }
   ],
   "source": [
    "\n",
    "\n",
    "\n",
    "num = int(input(\"Enter a number: \"))\n",
    "\n",
    "sum_of_numbers = 0\n",
    "\n",
    "for i in range(1, num + 1):\n",
    "    sum_of_numbers += i\n",
    "\n",
    "print(\"Sum of numbers from 1 to\", num, \"is:\", sum_of_numbers)"
   ]
  },
  {
   "cell_type": "code",
   "execution_count": null,
   "id": "7221a87a-e117-469f-bf9f-b396e94f1fdb",
   "metadata": {},
   "outputs": [],
   "source": [
    "#3 Write a program to print multiplication table of a given number(input)\n"
   ]
  },
  {
   "cell_type": "code",
   "execution_count": 3,
   "id": "d468f213-20a1-482f-9f9d-c877d149cf40",
   "metadata": {},
   "outputs": [
    {
     "name": "stdin",
     "output_type": "stream",
     "text": [
      "enter the multiplication you want :  3\n",
      "how many values you want to go :  10\n"
     ]
    },
    {
     "name": "stdout",
     "output_type": "stream",
     "text": [
      "3*1=3\n",
      "3*2=6\n",
      "3*3=9\n",
      "3*4=12\n",
      "3*5=15\n",
      "3*6=18\n",
      "3*7=21\n",
      "3*8=24\n",
      "3*9=27\n",
      "3*10=30\n"
     ]
    }
   ],
   "source": [
    "\n",
    "table=int(input(\"enter the multiplication you want : \"))\n",
    "value=int(input(\"how many values you want to go : \"))\n",
    "for y in range(1,value+1):\n",
    "    print(\"{}*{}={}\".format(table,y,table*y))"
   ]
  },
  {
   "cell_type": "code",
   "execution_count": null,
   "id": "a365f97e-3025-400a-a2e5-e91459c952b4",
   "metadata": {},
   "outputs": [],
   "source": [
    "#4 Write a program to count the total number of digits in a number using a while loop. "
   ]
  },
  {
   "cell_type": "code",
   "execution_count": 4,
   "id": "8eeea545-6b0f-4bc5-8018-a9fcf675f652",
   "metadata": {},
   "outputs": [
    {
     "name": "stdin",
     "output_type": "stream",
     "text": [
      "Enter a digit:  5\n"
     ]
    },
    {
     "name": "stdout",
     "output_type": "stream",
     "text": [
      "Total number of digits: 1\n"
     ]
    }
   ],
   "source": [
    "\n",
    "x=input(\"Enter a digit: \")\n",
    "y=0\n",
    "while y<len(x):\n",
    "    y+=1\n",
    "print(\"Total number of digits: \"+str(y))"
   ]
  },
  {
   "cell_type": "code",
   "execution_count": null,
   "id": "14535dd2-3487-403f-9e46-3f093c5847a6",
   "metadata": {},
   "outputs": [],
   "source": [
    "#6 Write a Python program which iterates the integers from 1 to 60. \n",
    "#For multiples of three print \"Fizz\" instead of the number and for the multiples of five print \"Buzz\". \n",
    "#For numbers which are multiples of both three and five print \"FizzBuzz\".\n"
   ]
  },
  {
   "cell_type": "code",
   "execution_count": 7,
   "id": "e6719c01-9fb6-48a0-863c-0603c7a3823a",
   "metadata": {},
   "outputs": [
    {
     "name": "stdout",
     "output_type": "stream",
     "text": [
      "Fizz\n",
      "4\n",
      "Buzz\n",
      "Fizz\n",
      "7\n",
      "8\n",
      "Fizz\n",
      "Buzz\n",
      "11\n",
      "Fizz\n",
      "13\n",
      "14\n",
      "FizzBuzz\n",
      "16\n",
      "17\n",
      "Fizz\n",
      "19\n",
      "Buzz\n",
      "Fizz\n",
      "22\n",
      "23\n",
      "Fizz\n",
      "Buzz\n",
      "26\n",
      "Fizz\n",
      "28\n",
      "29\n",
      "FizzBuzz\n",
      "31\n",
      "32\n",
      "Fizz\n",
      "34\n",
      "Buzz\n",
      "Fizz\n",
      "37\n",
      "38\n"
     ]
    }
   ],
   "source": [
    "\n",
    "for x in range(3,39):\n",
    "    if x%3==0 and x%5==0:\n",
    "        print(\"FizzBuzz\")\n",
    "    elif x%3==0:\n",
    "        print(\"Fizz\")\n",
    "    elif x%5==0:\n",
    "        print(\"Buzz\")\n",
    "    else: \n",
    "        print(x)"
   ]
  },
  {
   "cell_type": "code",
   "execution_count": null,
   "id": "38dc79ab-71ae-4ee3-955c-4c85bc427118",
   "metadata": {},
   "outputs": [],
   "source": [
    "#7 Write a Python program that accepts a string and calculate the number of digits and letters"
   ]
  },
  {
   "cell_type": "code",
   "execution_count": 9,
   "id": "b2cd6a24-2d15-4be1-9a14-74e734baee08",
   "metadata": {},
   "outputs": [
    {
     "name": "stdin",
     "output_type": "stream",
     "text": [
      "Enter a string:  abcdefghijklmnop[\n"
     ]
    },
    {
     "name": "stdout",
     "output_type": "stream",
     "text": [
      "Letters: 16\n",
      "Digits: 0\n"
     ]
    }
   ],
   "source": [
    "y=input(\"Enter a string: \")\n",
    "a=0 \n",
    "b=0\n",
    "for x in range(0,len(y)):\n",
    "    if y[x].isalpha():\n",
    "        a+=1\n",
    "    elif y[x].isdigit():\n",
    "        b+=1\n",
    "    else:\n",
    "        continue\n",
    "print(\"Letters: \"+str(a)+\"\\nDigits: \"+str(b))"
   ]
  },
  {
   "cell_type": "code",
   "execution_count": null,
   "id": "1942ef2c-0ab8-4064-b358-d2141de61cd9",
   "metadata": {},
   "outputs": [],
   "source": [
    "# Write a Python program to check the validity of password input by users.\n",
    "#Validation:\n",
    "#At least 1 letter between [a-z] and 1 letter between [A-Z].\n",
    "#At least 1 number between [0-9]. \n",
    "#At least 1 character from [$#@].\n",
    "#Minimum length 6 characters.\n",
    "#Maximum length 16 characters"
   ]
  },
  {
   "cell_type": "code",
   "execution_count": 13,
   "id": "c26a7530-70ae-4604-af02-852314ddbc00",
   "metadata": {},
   "outputs": [
    {
     "name": "stdin",
     "output_type": "stream",
     "text": [
      "Password:  md2952\n"
     ]
    },
    {
     "name": "stdout",
     "output_type": "stream",
     "text": [
      "Valid Password\n"
     ]
    }
   ],
   "source": [
    "x=input(\"Password: \")\n",
    "a=\"\"\n",
    "for y in range(0,len(x)):\n",
    "    if x[y].isalpha() and x[y].isupper() and x[y].isdigit and x[y]==\"$\" or x[y]==\"#\" or x[y]==\"@\":\n",
    "        a+=1\n",
    "    else:\n",
    "        break\n",
    "if 6<=len(x)<=16:\n",
    "        print(\"Valid Password\")    \n",
    "else:\n",
    "    print(\"Invalid Password\")"
   ]
  },
  {
   "cell_type": "code",
   "execution_count": null,
   "id": "d3bc6dc8-f36a-4bf8-98e1-c9e8e0e3ebb3",
   "metadata": {},
   "outputs": [],
   "source": [
    "#9 Write a program in Python to reverse a word by using while loop"
   ]
  },
  {
   "cell_type": "code",
   "execution_count": 14,
   "id": "ce1d9633-8594-4643-9387-d71359d6be56",
   "metadata": {},
   "outputs": [
    {
     "name": "stdin",
     "output_type": "stream",
     "text": [
      "enter  a string:  hyderabad\n"
     ]
    },
    {
     "name": "stdout",
     "output_type": "stream",
     "text": [
      "dabaredyh\n"
     ]
    }
   ],
   "source": [
    "x=input(\"enter  a string: \")\n",
    "y=\"\"\n",
    "z=1\n",
    "while z<len(x)+1:\n",
    "    y+=x[-z]\n",
    "    z+=1\n",
    "print(y)"
   ]
  },
  {
   "cell_type": "code",
   "execution_count": 16,
   "id": "ec740844-3fac-4018-8970-73bf94c1155b",
   "metadata": {},
   "outputs": [],
   "source": [
    "#10 Write a program which takes 10 integers as input using loop and print their average value on the screen"
   ]
  },
  {
   "cell_type": "code",
   "execution_count": 17,
   "id": "bdf30c8b-6b74-4b3e-ac16-fafcf11c9392",
   "metadata": {},
   "outputs": [
    {
     "name": "stdin",
     "output_type": "stream",
     "text": [
      "enter a Number: 2\n",
      "enter a Number: 3\n",
      "enter a Number: 4\n",
      "enter a Number: 5\n",
      "enter a Number: 6\n",
      "enter a Number: 6\n",
      "enter a Number: 4\n",
      "enter a Number: 5\n",
      "enter a Number: 5\n",
      "enter a Number: 32\n"
     ]
    },
    {
     "name": "stdout",
     "output_type": "stream",
     "text": [
      "Average:  7.2\n"
     ]
    }
   ],
   "source": [
    "#10 Write a program which takes 10 integers as input using loop and print their average value on the screen\n",
    "\n",
    "a=0\n",
    "for x in range(0,10):\n",
    "    y=int(input(\"enter a Number:\"))\n",
    "    a+=y/10\n",
    "print(\"Average: \",a)"
   ]
  },
  {
   "cell_type": "code",
   "execution_count": 19,
   "id": "d0368747-631a-45e5-aa61-19d46060d078",
   "metadata": {},
   "outputs": [],
   "source": [
    "#11 Write a program which takes integer inputs from user until he/she presses “q” (Ask to press q to quit after every integer input). \n",
    "#Print average and product of all numbers."
   ]
  },
  {
   "cell_type": "code",
   "execution_count": 20,
   "id": "dc8486c9-5899-4eba-9ab9-f1e8cc3bd290",
   "metadata": {},
   "outputs": [
    {
     "name": "stdin",
     "output_type": "stream",
     "text": [
      "enter a number:  5\n",
      "enter q to quit or enter n to continue:  q\n"
     ]
    },
    {
     "name": "stdout",
     "output_type": "stream",
     "text": [
      "avg: 5 \n",
      " product: 5\n"
     ]
    }
   ],
   "source": [
    "\n",
    "a=0\n",
    "b=1\n",
    "x=0\n",
    "while x>=0:\n",
    "    y=int(input(\"enter a number: \"))\n",
    "    a+=y\n",
    "    b*=y\n",
    "    z=input(\"enter q to quit or enter n to continue: \")\n",
    "    if z==\"q\":\n",
    "        break\n",
    "    else:\n",
    "        continue\n",
    "    x+=1\n",
    "print(\"avg:\",a,\"\\n product:\",b)"
   ]
  },
  {
   "cell_type": "code",
   "execution_count": null,
   "id": "ed5fe52b-bc81-4032-99a9-4bd30e2dfc0e",
   "metadata": {},
   "outputs": [],
   "source": [
    "#12 Write a Python program which will remove all digits or any other characters from the string except alphabets"
   ]
  },
  {
   "cell_type": "code",
   "execution_count": 21,
   "id": "06c2c916-da3d-4c58-9831-d53bc0d5b208",
   "metadata": {},
   "outputs": [
    {
     "name": "stdin",
     "output_type": "stream",
     "text": [
      "Enter a string:  abcdeg@#$\n"
     ]
    },
    {
     "name": "stdout",
     "output_type": "stream",
     "text": [
      "abcdeg\n"
     ]
    }
   ],
   "source": [
    "x=input(\"Enter a string: \")\n",
    "a=\"\"\n",
    "for y in range(0,len(x)):\n",
    "    if x[y].isalpha():\n",
    "        a+=x[y]\n",
    "    else:\n",
    "        continue\n",
    "print(a)"
   ]
  },
  {
   "cell_type": "code",
   "execution_count": null,
   "id": "9e30f3e5-8119-4651-a8e7-9632793cdb08",
   "metadata": {},
   "outputs": [],
   "source": []
  }
 ],
 "metadata": {
  "kernelspec": {
   "display_name": "Python 3 (ipykernel)",
   "language": "python",
   "name": "python3"
  },
  "language_info": {
   "codemirror_mode": {
    "name": "ipython",
    "version": 3
   },
   "file_extension": ".py",
   "mimetype": "text/x-python",
   "name": "python",
   "nbconvert_exporter": "python",
   "pygments_lexer": "ipython3",
   "version": "3.10.9"
  }
 },
 "nbformat": 4,
 "nbformat_minor": 5
}
