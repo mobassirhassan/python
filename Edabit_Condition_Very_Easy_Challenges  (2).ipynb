{
 "cells": [
  {
   "cell_type": "code",
   "execution_count": 2,
   "id": "0a25fd9f-b21d-4ea5-8388-3d3633c87295",
   "metadata": {},
   "outputs": [],
   "source": [
    "#1 Create a function that takes a boolean variable flag and returns it as a string.\n",
    "#Examples\n",
    "#bool_to_string(True) ➞ \"True\"\n",
    "#bool_to_string(False) ➞ \"False\"\n",
    "\n",
    "def bool_to_string(flag):\n",
    "    if flag==True:\n",
    "        return \"True\"\n",
    "    elif flag==False:\n",
    "        return \"False\"\n",
    "    else:\n",
    "        return None\n"
   ]
  },
  {
   "cell_type": "code",
   "execution_count": 3,
   "id": "adbeb027-4c9b-49d0-bc20-b25f115467a3",
   "metadata": {},
   "outputs": [
    {
     "data": {
      "text/plain": [
       "'True'"
      ]
     },
     "execution_count": 3,
     "metadata": {},
     "output_type": "execute_result"
    }
   ],
   "source": [
    "bool_to_string(True)"
   ]
  },
  {
   "cell_type": "code",
   "execution_count": 4,
   "id": "f528f1ee-5bc8-4f97-a60e-fa5f728e05d0",
   "metadata": {},
   "outputs": [
    {
     "data": {
      "text/plain": [
       "'False'"
      ]
     },
     "execution_count": 4,
     "metadata": {},
     "output_type": "execute_result"
    }
   ],
   "source": [
    "bool_to_string(False)"
   ]
  },
  {
   "cell_type": "code",
   "execution_count": null,
   "id": "ae5cd44c-afe8-4532-aa65-3048a68c5b9e",
   "metadata": {},
   "outputs": [],
   "source": []
  },
  {
   "cell_type": "code",
   "execution_count": 4,
   "id": "ed1a5268-dac0-4781-90b5-6ea518c8edae",
   "metadata": {},
   "outputs": [],
   "source": [
    "#2 Create a function that returns True when num1 is equal to num2; otherwise return False.\n",
    "#Examples\n",
    "#is_same_num(4, 8) ➞ False\n",
    "#is_same_num(2, 2) ➞  True\n",
    "#is_same_num(2, \"2\") ➞ False\n",
    "\n",
    "def is_same_num(num1,num2):\n",
    "    if num1==num2:\n",
    "        return True\n",
    "    else:\n",
    "        return False\n"
   ]
  },
  {
   "cell_type": "code",
   "execution_count": 5,
   "id": "d78cc83b-5a10-403b-9b69-29786860674d",
   "metadata": {},
   "outputs": [
    {
     "data": {
      "text/plain": [
       "False"
      ]
     },
     "execution_count": 5,
     "metadata": {},
     "output_type": "execute_result"
    }
   ],
   "source": [
    "is_same_num(55,55)\n",
    "is_same_num(4, 8)\n",
    "is_same_num(2, 2)\n",
    "is_same_num(2, \"2\")"
   ]
  },
  {
   "cell_type": "code",
   "execution_count": 1,
   "id": "79b3be67-28e0-456b-a723-9faaddf04bd8",
   "metadata": {},
   "outputs": [],
   "source": [
    "#3 Create a function that takes a number as its only argument and returns True if it's less than or equal to zero, \n",
    "#otherwise return False.\n",
    "#Examples\n",
    "#less_than_or_equal_to_zero(5) ➞ False\n",
    "#less_than_or_equal_to_zero(0) ➞ True\n",
    "#less_than_or_equal_to_zero(-2) ➞ True\n",
    "def less_than_or_equal_to_zero(x):\n",
    "    if x<=0:\n",
    "        print(True)\n",
    "    else:\n",
    "        print(False)\n"
   ]
  },
  {
   "cell_type": "code",
   "execution_count": 2,
   "id": "0a549718-8453-4606-98a9-013ac9a949e2",
   "metadata": {},
   "outputs": [
    {
     "name": "stdout",
     "output_type": "stream",
     "text": [
      "False\n",
      "True\n",
      "True\n"
     ]
    }
   ],
   "source": [
    "less_than_or_equal_to_zero(5)\n",
    "less_than_or_equal_to_zero(0)\n",
    "less_than_or_equal_to_zero(-2)"
   ]
  },
  {
   "cell_type": "code",
   "execution_count": 3,
   "id": "d858ff43-fe68-4552-ac1c-e19efef10d61",
   "metadata": {},
   "outputs": [],
   "source": [
    "#4 Emmy has written a function that returns a greeting to users. \n",
    "#However, she's in love with Mubashir, and would like to greet him slightly differently.\n",
    "#She added a special case in her function, but she made a mistake.\n",
    "#Can you help her?\n",
    "#Examples\n",
    "#greeting(\"Matt\") ➞ \"Hello, Matt!\"\n",
    "#greeting(\"Helen\") ➞ \"Hello, Helen!\"\n",
    "#greeting(\"Mubashir\") ➞ \"Hello, my Love!\"\n",
    "def greetings(x=\"person1\"):\n",
    "    if x==\"Mubashir\":\n",
    "        print(\"Hello, My Love!\")\n",
    "    else:\n",
    "        print(\"Hello, {}!\".format(x))\n",
    "    "
   ]
  },
  {
   "cell_type": "code",
   "execution_count": 4,
   "id": "a6e0831e-b9d2-46f0-b9ed-aa09d0c30ca0",
   "metadata": {},
   "outputs": [
    {
     "name": "stdout",
     "output_type": "stream",
     "text": [
      "Hello, Matt!\n",
      "Hello, Helen!\n",
      "Hello, My Love!\n"
     ]
    }
   ],
   "source": [
    "greetings(\"Matt\")\n",
    "greetings(\"Helen\")\n",
    "greetings(\"Mubashir\")"
   ]
  },
  {
   "cell_type": "code",
   "execution_count": 5,
   "id": "a708c1e1-3864-4007-a255-3064bbcb7024",
   "metadata": {},
   "outputs": [],
   "source": [
    "#5 Create a function that takes two arguments. Both arguments are integers, a and b. \n",
    "#Return True if one of them is 10 or if their sum is 10.\n",
    "#Examples\n",
    "#makes10(9, 10) ➞ True\n",
    "#makes10(9, 9) ➞ False\n",
    "#makes10(1, 9) ➞ True\n",
    "\n",
    "def makes10(x,y):\n",
    "    z=x+y\n",
    "    if x==10 or y==10 or z==10:\n",
    "        print(True)\n",
    "    else:\n",
    "        print(False)"
   ]
  },
  {
   "cell_type": "code",
   "execution_count": 6,
   "id": "5a4e57af-8880-41b8-ac49-6d529c92be32",
   "metadata": {},
   "outputs": [
    {
     "name": "stdout",
     "output_type": "stream",
     "text": [
      "True\n",
      "False\n",
      "True\n",
      "False\n",
      "True\n",
      "True\n",
      "False\n",
      "True\n"
     ]
    }
   ],
   "source": [
    "makes10(2,8)\n",
    "makes10(2,2)\n",
    "makes10(10,10)\n",
    "makes10(9,9)\n",
    "makes10(7,3)\n",
    "makes10(10,2)\n",
    "makes10(9,90)\n",
    "makes10(9,1)"
   ]
  },
  {
   "cell_type": "code",
   "execution_count": null,
   "id": "e8336862-fb88-4c6a-b5dd-c5ba1aaa659b",
   "metadata": {},
   "outputs": [],
   "source": []
  },
  {
   "cell_type": "code",
   "execution_count": 67,
   "id": "fdc4187f-0797-4b49-ac25-857c1af406de",
   "metadata": {},
   "outputs": [],
   "source": [
    "#6. Create a function that takes three arguments prob, prize, pay and \n",
    "# returns True if prob * prize > pay; otherwise return False. \n",
    "# To illustrate: profitable_gamble(0.2, 50, 9)\n",
    "#... should yield True, since the net profit is 1 (0.2 * 50 - 9), and 1 > 0.\n",
    "\n",
    "def proftiable_gamble(a,b,c):\n",
    "    if a*b>c:\n",
    "        print(True)\n",
    "    else:\n",
    "        print(False)"
   ]
  },
  {
   "cell_type": "code",
   "execution_count": 71,
   "id": "d272a948-86dd-4d32-b1ba-ae8203ef8cb9",
   "metadata": {},
   "outputs": [
    {
     "name": "stdout",
     "output_type": "stream",
     "text": [
      "True\n",
      "False\n",
      "False\n"
     ]
    }
   ],
   "source": [
    "proftiable_gamble(0.2, 50, 9)\n",
    "proftiable_gamble(0.3, 50, 16)\n",
    "proftiable_gamble(50, 0.5, 26)"
   ]
  },
  {
   "cell_type": "code",
   "execution_count": 72,
   "id": "d9e699b1-fa22-4c70-8b56-f5f35258888e",
   "metadata": {},
   "outputs": [],
   "source": [
    "# 7. Create a function that takes an integer and returns True if it's divisible by 100, otherwise return False.\n",
    "# Examples divisible(1) ➞ False, divisible(1000) ➞ True, divisible(100) ➞ True.\n",
    "def divisible_100(x):\n",
    "    if x%100==0:\n",
    "        print(True)\n",
    "    else:\n",
    "        print(False)      "
   ]
  },
  {
   "cell_type": "code",
   "execution_count": 74,
   "id": "e1df5978-3c5b-4ec7-a0c2-8c16978dc471",
   "metadata": {},
   "outputs": [
    {
     "name": "stdout",
     "output_type": "stream",
     "text": [
      "True\n",
      "False\n",
      "True\n"
     ]
    }
   ],
   "source": [
    "divisible_100(1000)\n",
    "divisible_100(90)\n",
    "divisible_100(900)"
   ]
  },
  {
   "cell_type": "code",
   "execution_count": 75,
   "id": "18f13c09-a6e1-4b51-815e-094c85c7a96a",
   "metadata": {},
   "outputs": [],
   "source": [
    "# 8. Create a function that takes two strings as arguments and return either True or False depending on \n",
    "# whether the total number of characters in the first string is equal to the total number of characters in the second string.\n",
    "# Examples: comp(\"AB\", \"CD\") ➞ True, comp(\"ABC\", \"DE\") ➞ False, comp(\"hello\", \"edabit\") ➞ False.\n",
    "\n",
    "def string_length_match(x=\"string1\",y=\"string2\"):\n",
    "    if len(x)==len(y):\n",
    "        print(True)\n",
    "    else:\n",
    "        print(False)"
   ]
  },
  {
   "cell_type": "code",
   "execution_count": 81,
   "id": "012e7f1b-e86e-4292-acac-e077a03f9052",
   "metadata": {},
   "outputs": [
    {
     "name": "stdout",
     "output_type": "stream",
     "text": [
      "False\n",
      "True\n",
      "True\n",
      "True\n"
     ]
    }
   ],
   "source": [
    "string_length_match(x=\"alai\",y=\"balai\")\n",
    "string_length_match(x=\"yo\",y=\"yo\")\n",
    "string_length_match(x=\"blah\",y=\"blah\")\n",
    "string_length_match(x=\"\",y=\"\")"
   ]
  },
  {
   "cell_type": "code",
   "execution_count": 82,
   "id": "269a48fc-45e8-4408-a5d4-8aa61be97172",
   "metadata": {},
   "outputs": [],
   "source": [
    "#9. Given a string, return True if its length is even or False if the length is odd.\n",
    "# Examples: odd_or_even(\"apples\") ➞ True\n",
    "# The word \"apples\" has 6 characters.\n",
    "# 6 is an even number, so the program outputs True.\n",
    "\n",
    "def odd_even_string(a=\"string\"):\n",
    "    b=len(a)\n",
    "    if b%2==0:\n",
    "        print(True)\n",
    "    else:\n",
    "        print(False)"
   ]
  },
  {
   "cell_type": "code",
   "execution_count": 85,
   "id": "50a923c9-6f72-42b5-a8b6-4b7ab3eab5aa",
   "metadata": {},
   "outputs": [
    {
     "name": "stdout",
     "output_type": "stream",
     "text": [
      "True\n",
      "False\n",
      "True\n"
     ]
    }
   ],
   "source": [
    "odd_even_string(\"apples\")\n",
    "odd_even_string(\"pears\")\n",
    "odd_even_string(\"cherry\")"
   ]
  },
  {
   "cell_type": "code",
   "execution_count": 88,
   "id": "f5482b23-89a4-4962-94db-f3ae1477e86f",
   "metadata": {},
   "outputs": [],
   "source": [
    "#10. Create a function that takes a string; we'll say that the front is the first three characters of the string.\n",
    "# If the string length is less than three characters, the front is whatever is there. \n",
    "# Return a new string, which is three copies of the front.\n",
    "# Examples front3(\"Python\") ➞ \"PytPytPyt\", front3(\"Cucumber\") ➞ \"CucCucCuc\", front3(\"bioshock\") ➞ \"biobiobio\"\n",
    "\n",
    "def front3_char_string(y=\"string\"):\n",
    "    print(y[0:3]*3)\n"
   ]
  },
  {
   "cell_type": "code",
   "execution_count": 90,
   "id": "a0c72c76-1c51-4775-8dea-ec698bbb4123",
   "metadata": {},
   "outputs": [
    {
     "name": "stdout",
     "output_type": "stream",
     "text": [
      "pytpytpyt\n",
      "cuccuccuc\n",
      "biobiobio\n"
     ]
    }
   ],
   "source": [
    "front3_char_string(y=\"python\")\n",
    "front3_char_string(y=\"cucumber\")\n",
    "front3_char_string(y=\"biography\")"
   ]
  },
  {
   "cell_type": "code",
   "execution_count": 99,
   "id": "795909af-d82d-420b-bee6-8a342870b922",
   "metadata": {},
   "outputs": [],
   "source": [
    "# 11. Darts is a target game played by throwing feathered darts at a circular board with numbered spaces. \n",
    "# Our darts game is the simplest of all games. \n",
    "# The score of a single turn is calculated based on the distance from the middle. \n",
    "# You need to create a function that takes the dart location as two cartesian coordinates (x, y) \n",
    "# and returns a score based on the distance from the middle, aka Bullseye (x=0, y=0).\n",
    "\n",
    "def darts(x,y):\n",
    "    distance = ((x**2)+(y**2))**0.5 # using r =sq.rt(x**2+y**2) we will identify the distance at which dart fell on board\n",
    "    if distance > 10:\n",
    "        return 0\n",
    "    elif distance > 5:\n",
    "        return 1\n",
    "    elif distance > 1:\n",
    "        return 5\n",
    "    else:\n",
    "        return 10"
   ]
  },
  {
   "cell_type": "code",
   "execution_count": 102,
   "id": "0bf3a419-2157-4bb8-a0f0-543593e554e7",
   "metadata": {},
   "outputs": [
    {
     "data": {
      "text/plain": [
       "10"
      ]
     },
     "execution_count": 102,
     "metadata": {},
     "output_type": "execute_result"
    }
   ],
   "source": [
    "darts(0,0)"
   ]
  },
  {
   "cell_type": "code",
   "execution_count": 103,
   "id": "65980504-a0f8-4a59-83d1-62085cb72014",
   "metadata": {},
   "outputs": [
    {
     "data": {
      "text/plain": [
       "5"
      ]
     },
     "execution_count": 103,
     "metadata": {},
     "output_type": "execute_result"
    }
   ],
   "source": [
    "darts(3,2)"
   ]
  },
  {
   "cell_type": "code",
   "execution_count": 104,
   "id": "90b1c754-13b6-482f-b7fc-f0afa80583e1",
   "metadata": {},
   "outputs": [
    {
     "data": {
      "text/plain": [
       "10"
      ]
     },
     "execution_count": 104,
     "metadata": {},
     "output_type": "execute_result"
    }
   ],
   "source": [
    "darts(0,0.8)"
   ]
  },
  {
   "cell_type": "code",
   "execution_count": 10,
   "id": "82352fd5-9ced-434b-80b7-5feef90842a2",
   "metadata": {},
   "outputs": [],
   "source": [
    "#12 Create a function that takes a number as an argument and returns \"even\" for even numbers and \"odd\" for odd numbers.\n",
    "#Examples\n",
    "#isEvenOrOdd(3) ➞ \"odd\"\n",
    "#isEvenOrOdd(146) ➞ \"even\"\n",
    "#isEvenOrOdd(19) ➞ \"odd\"\n",
    "def isEvenOrOdd(x):\n",
    "    if x%2==0:\n",
    "        print(\"Even\")\n",
    "    else:\n",
    "        print(\"Odd\")                      \n",
    "                     \n"
   ]
  },
  {
   "cell_type": "code",
   "execution_count": 11,
   "id": "ddce6034-098b-4581-a139-63ec9903b926",
   "metadata": {},
   "outputs": [
    {
     "name": "stdout",
     "output_type": "stream",
     "text": [
      "Odd\n",
      "Even\n",
      "Odd\n"
     ]
    }
   ],
   "source": [
    "isEvenOrOdd(3)\n",
    "isEvenOrOdd(146)\n",
    "isEvenOrOdd(19)"
   ]
  },
  {
   "cell_type": "code",
   "execution_count": 12,
   "id": "22e593ee-3e86-4351-949f-d742390b969d",
   "metadata": {},
   "outputs": [],
   "source": [
    "#13 Create a function that takes in a word and determines whether or not it is plural. A plural word is one that ends in \"s\".\n",
    "#Examples\n",
    "#is_plural(\"changes\") ➞ True\n",
    "#is_plural(\"change\") ➞ False\n",
    "#is_plural(\"dudes\") ➞ True\n",
    "#is_plural(\"magic\") ➞ False\n",
    "def is_plural(a=\"string\"):\n",
    "    if a.endswith(\"s\"):\n",
    "        print(True)\n",
    "    else:\n",
    "        print(False)\n"
   ]
  },
  {
   "cell_type": "code",
   "execution_count": 13,
   "id": "2bcd91eb-0db7-4d78-b11f-d9aa1141e2db",
   "metadata": {},
   "outputs": [
    {
     "name": "stdout",
     "output_type": "stream",
     "text": [
      "True\n",
      "False\n",
      "True\n",
      "False\n"
     ]
    }
   ],
   "source": [
    "is_plural(\"changes\")\n",
    "is_plural(\"change\")\n",
    "is_plural(\"dudes\")\n",
    "is_plural(\"magic\")"
   ]
  },
  {
   "cell_type": "code",
   "execution_count": 14,
   "id": "64896829-e88e-45ca-8e28-1bb28f2a7863",
   "metadata": {},
   "outputs": [],
   "source": [
    "#14 Create a function that takes a string (a random name). If the last character of the name is an \"n\", return True, otherwise return False.\n",
    "#Examples\n",
    "#is_last_character_n(\"Aiden\") ➞ True\n",
    "#is_last_character_n(\"Piet\") ➞ False\n",
    "#is_last_character_n(\"Bert\") ➞ False\n",
    "#is_last_character_n(\"Dean\") ➞ True\n",
    "\n",
    "def is_last_character_n(b=\"string\"):\n",
    "    if b.endswith(\"n\"):\n",
    "        print(True)\n",
    "    else:\n",
    "        print(False)\n",
    "        "
   ]
  },
  {
   "cell_type": "code",
   "execution_count": 16,
   "id": "1123b2a7-1edb-4fe2-af20-8a613f2e5882",
   "metadata": {},
   "outputs": [
    {
     "name": "stdout",
     "output_type": "stream",
     "text": [
      "True\n",
      "False\n",
      "True\n",
      "True\n"
     ]
    }
   ],
   "source": [
    "is_last_character_n(\"Aiden\")\n",
    "is_last_character_n(\"julie\")\n",
    "is_last_character_n(\"Biden\")\n",
    "is_last_character_n(\"Dean\")"
   ]
  },
  {
   "cell_type": "code",
   "execution_count": 37,
   "id": "acaa9bb4-57c6-47b0-a792-27a88033001f",
   "metadata": {},
   "outputs": [],
   "source": [
    "#15 The packaging system is running wild! The candy is lying loose all over in the warehouse, the cereal is missing,\n",
    "#and bread is stuffed in a bottle. What is going on here? The candy should be in plastic and the bread should be in\n",
    "#a bag.\n",
    "#The packaging machine is running the get_container() function to retrieve the container of a product. But something is not right...\n",
    "#Examples\n",
    "#get_container(\"Bread\") ➞ \"bag\"\n",
    "#get_container(\"Beer\") ➞ \"bottle\"\n",
    "#get_container(\"Candy\") ➞ \"plastic\"\n",
    "#get_container(\"Cheese\") ➞ None\n",
    "\n",
    "def get_container_for(product):\n",
    "    \n",
    "    matches = {\"Bread\":\"bag\", \"Milk\":\"bottle\",\"Beer\":\"bottle\",\"Eggs\":\"carton\",\"Cerials\":\"box\",\"candy\":\"plastic\",\"cheese\":\"packet\"}\n",
    "    \n",
    "    return matches[product]"
   ]
  },
  {
   "cell_type": "code",
   "execution_count": 34,
   "id": "7ae2b3e6-dbcd-43da-9cb4-92fe2531daab",
   "metadata": {},
   "outputs": [
    {
     "data": {
      "text/plain": [
       "'plastic'"
      ]
     },
     "execution_count": 34,
     "metadata": {},
     "output_type": "execute_result"
    }
   ],
   "source": [
    "get_container_for(\"candy\")"
   ]
  },
  {
   "cell_type": "code",
   "execution_count": 35,
   "id": "090c0685-50ca-4af4-88de-7a59b0ddff16",
   "metadata": {},
   "outputs": [
    {
     "data": {
      "text/plain": [
       "'bottle'"
      ]
     },
     "execution_count": 35,
     "metadata": {},
     "output_type": "execute_result"
    }
   ],
   "source": [
    "get_container_for(\"Beer\")"
   ]
  },
  {
   "cell_type": "code",
   "execution_count": 36,
   "id": "9331178c-2e2f-4186-8280-b50cffe6765c",
   "metadata": {},
   "outputs": [
    {
     "data": {
      "text/plain": [
       "'bag'"
      ]
     },
     "execution_count": 36,
     "metadata": {},
     "output_type": "execute_result"
    }
   ],
   "source": [
    "get_container_for(\"Bread\")"
   ]
  },
  {
   "cell_type": "code",
   "execution_count": 50,
   "id": "a4b12530-a1f4-4c34-ad76-8a4808c1b0fa",
   "metadata": {},
   "outputs": [],
   "source": [
    "#16 Create a function that returns the opposite of the given boolean, as a number.\n",
    "#Examples\n",
    "#flip_bool(True) ➞ 0\n",
    "#flip_bool(False) ➞ 1\n",
    "#flip_bool(1) ➞ 0\n",
    "#flip_bool(0) ➞ 1\n",
    "\n",
    "def flip_bool(given):\n",
    "    \n",
    "    if given==\"True\" or given==1:\n",
    "         print(0)\n",
    "    elif given==\"False\"or given==0:\n",
    "        print(1)\n",
    "\n",
    "#return not given"
   ]
  },
  {
   "cell_type": "code",
   "execution_count": 51,
   "id": "364ad6aa-faf1-453c-bd51-d79e80376038",
   "metadata": {},
   "outputs": [
    {
     "name": "stdout",
     "output_type": "stream",
     "text": [
      "0\n",
      "1\n",
      "0\n",
      "1\n"
     ]
    }
   ],
   "source": [
    "flip_bool(True)\n",
    "flip_bool(False)\n",
    "flip_bool(1)\n",
    "flip_bool(0)"
   ]
  },
  {
   "cell_type": "code",
   "execution_count": 4,
   "id": "5ec53c3d-c40d-4ad1-8ce2-e77e9a8a3879",
   "metadata": {},
   "outputs": [],
   "source": [
    "#17 Write a function that accepts base (decimal), height (decimal) and shape (\"triangle\", \"parallelogram\") as input and calculates the area of that shape.\n",
    "#Examples\n",
    "#area_shape(2, 3, \"triangle\") ➞ 3\n",
    "#area_shape(8, 6, \"parallelogram\") ➞ 48\n",
    "#area_shape(2.9, 1.3, \"parallelogram\") ➞ 3.77\n",
    "def area_shape(b,h,s):\n",
    "    if s == \"triangle\":\n",
    "        area_of_triangle = (0.5*b*h)\n",
    "        print(area_of_triangle)\n",
    "    elif s == \"parallelogram\":\n",
    "        area_of_parallelogram = b*h\n",
    "        print(area_of_parallelogram)\n",
    "               \n"
   ]
  },
  {
   "cell_type": "code",
   "execution_count": 5,
   "id": "50131de1-6816-4551-b1e0-68fc4976914c",
   "metadata": {},
   "outputs": [
    {
     "name": "stdout",
     "output_type": "stream",
     "text": [
      "34.0\n"
     ]
    }
   ],
   "source": [
    "area_shape(8.5,8,\"triangle\")"
   ]
  },
  {
   "cell_type": "code",
   "execution_count": 7,
   "id": "bf71e7fa-ba21-40b1-8323-d241fd341844",
   "metadata": {},
   "outputs": [
    {
     "name": "stdout",
     "output_type": "stream",
     "text": [
      "33.75\n"
     ]
    }
   ],
   "source": [
    "area_shape(4.5,7.5,\"parallelogram\")"
   ]
  },
  {
   "cell_type": "code",
   "execution_count": 2,
   "id": "0ed391da-0a29-4d7d-97a1-903a1b0121a2",
   "metadata": {},
   "outputs": [],
   "source": [
    "#18 You will need to write three unfinished logic gates. Continue to write the three logic gates: AND, OR, and NOT.\n",
    "#Examples\n",
    "#AND(1, 1) ➞ 1\n",
    "#AND(0, 0) ➞ 0\n",
    "#OR(1, 0) ➞ 1\n",
    "#OR(1, 1) ➞ 1\n",
    "#NOT(0) ➞ 1\n",
    "#NOT(1) ➞ 0\n",
    "\n",
    "def AND(x,y):\n",
    "    if x==1 and y==1:\n",
    "        print(1)\n",
    "    else:\n",
    "        print(0)\n",
    "def OR(x,y):\n",
    "    if x==1 or y==1:\n",
    "        print(1)\n",
    "    else:\n",
    "        print(0)\n",
    "def NOT(x):\n",
    "    if x==1:\n",
    "        print(0)\n",
    "    else:\n",
    "        print(1)  \n"
   ]
  },
  {
   "cell_type": "code",
   "execution_count": 4,
   "id": "7bcbc64d-0204-47e1-a153-644bb6154219",
   "metadata": {},
   "outputs": [
    {
     "name": "stdout",
     "output_type": "stream",
     "text": [
      "1\n",
      "0\n",
      "0\n",
      "0\n",
      "1\n",
      "1\n",
      "0\n",
      "1\n",
      "1\n",
      "0\n"
     ]
    }
   ],
   "source": [
    "AND(1, 1)\n",
    "AND(1, 0)\n",
    "AND(0, 1)\n",
    "AND(0, 0)\n",
    "OR(1, 0)\n",
    "OR(0, 1)\n",
    "OR(0, 0)\n",
    "OR(1, 1)\n",
    "NOT(0)\n",
    "NOT(1)"
   ]
  },
  {
   "cell_type": "code",
   "execution_count": 7,
   "id": "7bda6e55-03da-46d9-a8df-98b3daa9db4e",
   "metadata": {},
   "outputs": [],
   "source": [
    "#19 A bartender is writing a simple program to determine whether he should serve drinks to someone. He only serves drinks to people 18 and older and when he's not on break.\n",
    "#Given the person's age, and whether break time is in session, create a function which returns whether he should serve drinks.\n",
    "#Examples\n",
    "#should_serve_drinks(17, True) ➞ False\n",
    "#should_serve_drinks(19, False) ➞ True\n",
    "#should_serve_drinks(30, True) ➞ False\n",
    "\n",
    "def should_serve_drinks(x,y):\n",
    "    if x==18 and y==\"True\":\n",
    "        print(True)\n",
    "    elif x!=18 and y==\"False\":\n",
    "        print(True)\n",
    "    else:\n",
    "        print(False)"
   ]
  },
  {
   "cell_type": "code",
   "execution_count": 8,
   "id": "679ebb91-90c1-4c4a-afaf-6b784278292c",
   "metadata": {},
   "outputs": [
    {
     "name": "stdout",
     "output_type": "stream",
     "text": [
      "True\n",
      "False\n",
      "True\n",
      "False\n"
     ]
    }
   ],
   "source": [
    "should_serve_drinks(18, \"True\")\n",
    "should_serve_drinks(18, \"False\")\n",
    "should_serve_drinks(19, \"False\")\n",
    "should_serve_drinks(17, \"True\")"
   ]
  },
  {
   "cell_type": "code",
   "execution_count": 12,
   "id": "4130c7a3-bde8-4b35-9686-370000495c8c",
   "metadata": {},
   "outputs": [],
   "source": [
    "#20 Create a function that takes a string txt and a number n and returns the repeated string n number of times.\n",
    "#If given argument txt is not a string, return Not A String !!\n",
    "#Examples\n",
    "#repeat_string(\"Mubashir\", 2) ➞ \"MubashirMubashir\"\n",
    "#repeat_string(\"Matt\", 3) ➞ \"MattMattMatt\"\n",
    "#repeat_string(1990, 7) ➞ \"Not A String !!\"\n",
    "\n",
    "def repeat_string(x,y):\n",
    "    if x==str(x):\n",
    "        print(x*y)\n",
    "    else:\n",
    "        print(\"not a string\")\n"
   ]
  },
  {
   "cell_type": "code",
   "execution_count": 13,
   "id": "6dff4674-2c02-451b-86a1-18b762fa1f4d",
   "metadata": {},
   "outputs": [
    {
     "name": "stdout",
     "output_type": "stream",
     "text": [
      "MubashirMubashir\n",
      "MattMattMatt\n",
      "not a string\n"
     ]
    }
   ],
   "source": [
    "repeat_string(\"Mubashir\", 2)\n",
    "repeat_string(\"Matt\", 3)\n",
    "repeat_string(1990, 7)"
   ]
  },
  {
   "cell_type": "code",
   "execution_count": 6,
   "id": "b09a18a0-9219-467d-98e3-3456f70f3eba",
   "metadata": {},
   "outputs": [],
   "source": [
    "#21 A taxi journey costs $3 for the first kilometer travelled. However, all kilometers travelled after that will\n",
    "#cost $2 each.\n",
    "#Create a function which returns the distance that the taxi must've travelled, given the cost as a parameter.\n",
    "#Examples\n",
    "#journey_distance(3) ➞ 1\n",
    "# The first kilometer costs $3\n",
    "#journey_distance(9) ➞ 4\n",
    "# The first kilometer costs $3 plus the other three kilometers (costing $2 each)\n",
    "#journey_distance(5) ➞ 2\n",
    "def dist_taxi_travel(x):\n",
    "    if x==3:\n",
    "        print(1)\n",
    "    elif x>3:\n",
    "        a = 1+(x-3)//2\n",
    "        print(a)\n"
   ]
  },
  {
   "cell_type": "code",
   "execution_count": 8,
   "id": "7d195331-dc79-4b12-baa9-7f9510b51728",
   "metadata": {},
   "outputs": [
    {
     "name": "stdout",
     "output_type": "stream",
     "text": [
      "1\n",
      "4\n",
      "2\n"
     ]
    }
   ],
   "source": [
    "dist_taxi_travel(3)\n",
    "dist_taxi_travel(9)\n",
    "dist_taxi_travel(5)"
   ]
  },
  {
   "cell_type": "code",
   "execution_count": null,
   "id": "9ff7b649-b128-4837-b50a-a1e9e9642635",
   "metadata": {},
   "outputs": [],
   "source": []
  },
  {
   "cell_type": "code",
   "execution_count": 9,
   "id": "785eb8b0-cfca-47ea-92c5-2f97edfa7433",
   "metadata": {},
   "outputs": [],
   "source": [
    "#22 Given a list that contains the fulcrum \"f\", the effort \"e\", and the load \"l\", write a function that determines \n",
    "#whether or not the list shows a first class lever, second class lever, or a third class lever.\n",
    "#Examples\n",
    "#determine_lever([\"e\", \"f\", \"l\"]) ➞ \"first class lever\"\n",
    "#determine_lever([\"e\", \"l\", \"f\"]) ➞ \"second class lever\"\n",
    "#determine_lever([\"f\", \"e\", \"l\"]) ➞ \"third class lever\"\n",
    "def determine_lever(l):\n",
    "    if l[0]==\"e\" and l[1]==\"f\" and l[2]==\"l\":\n",
    "        return \"first class lever\"\n",
    "    elif l[0]==\"e\" and l[1]==\"l\" and l[2]==\"f\":\n",
    "        return \"second class lever\"\n",
    "    elif l[0]==\"f\" and l[1]==\"e\" and l[2]==\"l\":\n",
    "        return \"third class lever\"\n",
    "    else:\n",
    "        return \"None\"\n"
   ]
  },
  {
   "cell_type": "code",
   "execution_count": 10,
   "id": "0d83c5db-a22a-412b-8527-5bef84c95f3c",
   "metadata": {},
   "outputs": [
    {
     "data": {
      "text/plain": [
       "'first class lever'"
      ]
     },
     "execution_count": 10,
     "metadata": {},
     "output_type": "execute_result"
    }
   ],
   "source": [
    "determine_lever([\"e\", \"f\", \"l\"])"
   ]
  },
  {
   "cell_type": "code",
   "execution_count": null,
   "id": "79ab59a9-d7ba-48dc-a98c-4c08478a84b8",
   "metadata": {},
   "outputs": [],
   "source": []
  },
  {
   "cell_type": "code",
   "execution_count": 11,
   "id": "3e2c03ee-18f8-4f63-9437-280357846a21",
   "metadata": {},
   "outputs": [],
   "source": [
    "#23 Write a function that checks whether a person can watch an MA15+ rated movie. One of the following two \n",
    "#conditions is required for admittance:\n",
    "#The person is at least 15 years old.\n",
    "#They have parental supervision.\n",
    "#The function accepts two parameters, age and is_supervised. Return a boolean.\n",
    "#Examples\n",
    "#accept_into_movie(14, True) ➞ True\n",
    "#accept_into_movie(14, False) ➞ False\n",
    "#accept_into_movie(16, False) ➞ True\n",
    "\n",
    "def accept_into_movie(age,sup):\n",
    "    return age>=15 or sup==True"
   ]
  },
  {
   "cell_type": "code",
   "execution_count": 12,
   "id": "ee96cfc6-4bf9-4acb-af74-6acbdd6fda0d",
   "metadata": {},
   "outputs": [
    {
     "data": {
      "text/plain": [
       "True"
      ]
     },
     "execution_count": 12,
     "metadata": {},
     "output_type": "execute_result"
    }
   ],
   "source": [
    "accept_into_movie(14, True)"
   ]
  },
  {
   "cell_type": "code",
   "execution_count": null,
   "id": "d27de4ff-7c11-4886-974e-d9e210239b6b",
   "metadata": {},
   "outputs": [],
   "source": []
  },
  {
   "cell_type": "code",
   "execution_count": 13,
   "id": "68d818f3-5c61-4178-a65a-6aaf501445b9",
   "metadata": {},
   "outputs": [],
   "source": [
    "#24 Create a function that returns a number, based on the string provided. Here is a list of all digits:\n",
    "#word(\"one\") ➞ 1\n",
    "#word(\"two\") ➞ 2\n",
    "#word(\"nine\") ➞ 9\n",
    "def word(x):\n",
    "    y=x.lower()\n",
    "    num={\"one\":1,\"two\":2,\"three\":3,\"four\":4,\"five\":5,\"six\":6,\"seven\":7,\"eight\":8,\"nine\":9,\"zero\":0}\n",
    "    return num[y]\n"
   ]
  },
  {
   "cell_type": "code",
   "execution_count": 15,
   "id": "dd4af2f7-360f-4e0a-ab53-10affcf39154",
   "metadata": {},
   "outputs": [
    {
     "data": {
      "text/plain": [
       "2"
      ]
     },
     "execution_count": 15,
     "metadata": {},
     "output_type": "execute_result"
    }
   ],
   "source": [
    "word(\"two\")"
   ]
  },
  {
   "cell_type": "code",
   "execution_count": null,
   "id": "aa6a7f5a-1b69-48d8-8a70-04df77b6d12a",
   "metadata": {},
   "outputs": [],
   "source": [
    "#25 Write a function that uses the ternary operator to return \"yeah\" if b is True, and \"nope\" otherwise.\n",
    "\n"
   ]
  },
  {
   "cell_type": "code",
   "execution_count": null,
   "id": "ab4d7e88-d7f8-4a75-9b4a-a054b155aa97",
   "metadata": {},
   "outputs": [],
   "source": []
  },
  {
   "cell_type": "code",
   "execution_count": 5,
   "id": "0b263aa3-4796-4221-8bf5-7be4087338bb",
   "metadata": {},
   "outputs": [],
   "source": [
    "#26 Create a function that takes a number x and a character y (\"m\" for male, \"f\" for female), and returns the \n",
    "#name of an ancestor (m/f) or descendant (m/f).\n",
    "#If the number is negative, return the related ancestor.\n",
    "#If positive, return the related descendant.\n",
    "#You are generation 0. In the case of 0 (male or female), return \"me!\".\n",
    "#Examples\n",
    "#generation(2, \"f\") ➞ \"granddaughter\"\n",
    "#generation(-3, \"m\") ➞ \"great grandfather\"\n",
    "#generation(1, \"f\") ➞ \"daughter\"\n",
    "\n",
    "def generation(x,y):\n",
    "    \n",
    "    relations = {-3:{\"m\":\"great grand father\", \"f\":\"great grand mother\"}, -2:{\"m\":\"grand father\", \"f\":\"grand mother\"},\\\n",
    "                 -1:{\"m\":\"father\", \"f\":\"mother\"}, 0:{\"m\":\"me\", \"f\":\"me\"}, 1:{\"m\":\"son\", \"f\":\"daughter\"},\\\n",
    "                 2:{\"m\":\"grand son\", \"f\":\"grand daughter\"},3:{\"m\":\"great grand son\", \"f\":\"great grand daughter\"}}\n",
    "    return relations[x][y]"
   ]
  },
  {
   "cell_type": "code",
   "execution_count": 9,
   "id": "fafa52d6-f62d-456b-827a-71cf2f863969",
   "metadata": {},
   "outputs": [
    {
     "data": {
      "text/plain": [
       "'grand daughter'"
      ]
     },
     "execution_count": 9,
     "metadata": {},
     "output_type": "execute_result"
    }
   ],
   "source": [
    "generation(2,\"f\")"
   ]
  },
  {
   "cell_type": "code",
   "execution_count": 10,
   "id": "d442303c-e0c9-444b-9698-1e127fbe6a55",
   "metadata": {},
   "outputs": [
    {
     "data": {
      "text/plain": [
       "'great grand father'"
      ]
     },
     "execution_count": 10,
     "metadata": {},
     "output_type": "execute_result"
    }
   ],
   "source": [
    "generation(-3, \"m\")"
   ]
  },
  {
   "cell_type": "code",
   "execution_count": 11,
   "id": "c2c1829f-5ace-454a-af6a-9300c0a63d13",
   "metadata": {},
   "outputs": [
    {
     "data": {
      "text/plain": [
       "'daughter'"
      ]
     },
     "execution_count": 11,
     "metadata": {},
     "output_type": "execute_result"
    }
   ],
   "source": [
    "generation(1, \"f\")"
   ]
  },
  {
   "cell_type": "code",
   "execution_count": 2,
   "id": "8b404d44-b591-4aee-bd8c-986dd01de0b4",
   "metadata": {},
   "outputs": [],
   "source": [
    "#27 Backpack Bill and Wallet Will set off for the annual festival. As they approach the stalls, Bill retorts that \n",
    "#he'll be able to bring home more stuff than Will. Taking this as a challenge, Will refutes and a competition \n",
    "#spurs into action.\n",
    "#Backpack Bill has an infinite inventory space, but a limited number of coins.\n",
    "#Wallet Will has an infinite number of coins, but a limited inventory space.\n",
    "#Create a function that returns the name of the man who can bring home the most items. The parameters are given\n",
    "#as follows:\n",
    "#Bill's amount of money.\n",
    "#Will's amount of inventory space.\n",
    "#The item's price.\n",
    "#The item's size.\n",
    "\n",
    "def who_brings_most(bill_money, will_space, item_price, item_size):\n",
    "    bill_items = bill_money/item_price\n",
    "    wil_items = will_space/item_size\n",
    "    if bill_items > wil_items:\n",
    "        return \"bill_won\"\n",
    "    elif wil_items > bill_items:\n",
    "        return \"will_won\"\n",
    "    else:\n",
    "        return \"it_is_a_Tie\"\n",
    "    "
   ]
  },
  {
   "cell_type": "code",
   "execution_count": 21,
   "id": "69515e3c-c614-4380-b865-9d764f9b8d63",
   "metadata": {},
   "outputs": [
    {
     "data": {
      "text/plain": [
       "'will_won'"
      ]
     },
     "execution_count": 21,
     "metadata": {},
     "output_type": "execute_result"
    }
   ],
   "source": [
    "who_brings_most(3,4,5,6)\n"
   ]
  },
  {
   "cell_type": "code",
   "execution_count": 22,
   "id": "e8fc0f63-2484-470a-a5fe-4ca3bc265f08",
   "metadata": {},
   "outputs": [
    {
     "data": {
      "text/plain": [
       "'will_won'"
      ]
     },
     "execution_count": 22,
     "metadata": {},
     "output_type": "execute_result"
    }
   ],
   "source": [
    "who_brings_most(1,2,3,4)"
   ]
  },
  {
   "cell_type": "code",
   "execution_count": 3,
   "id": "fa507aef-909f-43c4-85c7-9028c7a29b7d",
   "metadata": {},
   "outputs": [
    {
     "data": {
      "text/plain": [
       "'bill_won'"
      ]
     },
     "execution_count": 3,
     "metadata": {},
     "output_type": "execute_result"
    }
   ],
   "source": [
    "who_brings_most(2,1,4,3)"
   ]
  },
  {
   "cell_type": "code",
   "execution_count": 38,
   "id": "57235db2-c813-4383-be66-ede8d761c50c",
   "metadata": {},
   "outputs": [],
   "source": [
    "#28 Create a function that validates whether a number n is within the bounds of lower and upper. Return False\n",
    "#if n is not an integer.\n",
    "#Examples\n",
    "#int_within_bounds(3, 1, 9) ➞ True\n",
    "#int_within_bounds(6, 1, 6) ➞ False\n",
    "#int_within_bounds(4.5, 3, 8) ➞ False\n",
    "\n",
    "def int_within_bounds(x,y,z):\n",
    "    if y<x<z and x==int(x):\n",
    "        print(True)\n",
    "    else:\n",
    "        print(False)"
   ]
  },
  {
   "cell_type": "code",
   "execution_count": 39,
   "id": "6bf5046e-566a-42e5-98e0-c0fc8e33dada",
   "metadata": {},
   "outputs": [
    {
     "name": "stdout",
     "output_type": "stream",
     "text": [
      "True\n",
      "False\n",
      "False\n"
     ]
    }
   ],
   "source": [
    "int_within_bounds(3, 1, 9)\n",
    "int_within_bounds(6, 1, 6)\n",
    "int_within_bounds(4.5, 3, 8)"
   ]
  },
  {
   "cell_type": "code",
   "execution_count": 40,
   "id": "83a6f4bc-3925-46e5-a55f-52c409fabda5",
   "metadata": {},
   "outputs": [],
   "source": [
    "#29 Write a function that returns the boolean True if the given number is zero, the string \"positive\" if the \n",
    "#number is greater than zero or the string \"negative\" if it's smaller than zero.\n",
    "def is_positive_or_negative(n):\n",
    "    if n>0:\n",
    "        return \"positive\"\n",
    "    elif n<0:\n",
    "        return \"negative\"\n",
    "    else:\n",
    "        return n==0"
   ]
  },
  {
   "cell_type": "code",
   "execution_count": 41,
   "id": "4aa6e1ce-b1a6-48c8-aae2-278c34a5d63c",
   "metadata": {},
   "outputs": [
    {
     "data": {
      "text/plain": [
       "True"
      ]
     },
     "execution_count": 41,
     "metadata": {},
     "output_type": "execute_result"
    }
   ],
   "source": [
    "is_positive_or_negative(0)"
   ]
  },
  {
   "cell_type": "code",
   "execution_count": 42,
   "id": "f849bd90-2c1e-4b0b-90a8-0a34b59bfe4f",
   "metadata": {},
   "outputs": [
    {
     "data": {
      "text/plain": [
       "'negative'"
      ]
     },
     "execution_count": 42,
     "metadata": {},
     "output_type": "execute_result"
    }
   ],
   "source": [
    "is_positive_or_negative(-9)"
   ]
  },
  {
   "cell_type": "code",
   "execution_count": null,
   "id": "4d31b537-5e8d-4f85-88de-ccf66883cdf3",
   "metadata": {},
   "outputs": [],
   "source": []
  },
  {
   "cell_type": "code",
   "execution_count": 43,
   "id": "751229a8-282b-4d7c-bf08-aa6d1d2c3f55",
   "metadata": {},
   "outputs": [],
   "source": [
    "#30 Create a function that takes three numbers as arguments and returns True if it's a triangle and False if not.\n",
    "def is_triangle(a, b, c):\n",
    "    return a+b>c or a+c>b or b+c>a\n"
   ]
  },
  {
   "cell_type": "code",
   "execution_count": 44,
   "id": "0b7a6a29-6a57-4633-8495-3df486c401d4",
   "metadata": {},
   "outputs": [
    {
     "data": {
      "text/plain": [
       "True"
      ]
     },
     "execution_count": 44,
     "metadata": {},
     "output_type": "execute_result"
    }
   ],
   "source": [
    "is_triangle(2, 3, 4)"
   ]
  },
  {
   "cell_type": "code",
   "execution_count": null,
   "id": "8093d158-906f-438c-b95d-98871b7b3e22",
   "metadata": {},
   "outputs": [],
   "source": []
  },
  {
   "cell_type": "code",
   "execution_count": 47,
   "id": "f3993708-cfa5-42a6-befd-7cb0d72a4116",
   "metadata": {},
   "outputs": [],
   "source": [
    "#31 A \"truthy\" value is a value that translates to True when evaluated in a Boolean context. All values are truthy \n",
    "#unless they're defined as falsy.\n",
    "#All falsy values are as follows:\n",
    "#False, None, 0, [], {},\"\"\n",
    "#Create a function that takes an argument of any data type and returns 1 if it's truthy and 0 if it's falsy.\n",
    "\n",
    "def is_truthy(a):\n",
    "    if a==False or a==None or a==0 or a==[] or a=={} or a==\"\":\n",
    "        print(False)\n",
    "    else:\n",
    "        print(True)"
   ]
  },
  {
   "cell_type": "code",
   "execution_count": 48,
   "id": "1c5074d1-bac5-4aba-a1d3-85ea3099c423",
   "metadata": {},
   "outputs": [
    {
     "name": "stdout",
     "output_type": "stream",
     "text": [
      "False\n",
      "False\n",
      "False\n"
     ]
    }
   ],
   "source": [
    "is_truthy(0)\n",
    "is_truthy(False)\n",
    "is_truthy(\"\")"
   ]
  },
  {
   "cell_type": "code",
   "execution_count": 52,
   "id": "aff03ffa-d4b9-4b45-b373-0af2d5da9015",
   "metadata": {},
   "outputs": [],
   "source": [
    "#32 Write a function that returns True if both numbers are:\n",
    "#Smaller than 0, OR ...\n",
    "#Greater than 0, OR ...\n",
    "#Exactly 0\n",
    "#Otherwise, return False.\n",
    "def both(n1, n2):\n",
    "    if n1>0 and n2>0:\n",
    "        return True\n",
    "    elif n1<0 and n2<0:\n",
    "        return True\n",
    "    elif n1==0 and n2==0:\n",
    "        return True\n",
    "    else:\n",
    "        return False"
   ]
  },
  {
   "cell_type": "code",
   "execution_count": 53,
   "id": "7e61620f-7eb0-464e-bcc1-41e88437f489",
   "metadata": {},
   "outputs": [
    {
     "data": {
      "text/plain": [
       "False"
      ]
     },
     "execution_count": 53,
     "metadata": {},
     "output_type": "execute_result"
    }
   ],
   "source": [
    "both(-5, 2) "
   ]
  },
  {
   "cell_type": "code",
   "execution_count": 54,
   "id": "7fa3e0f9-66de-48af-9d61-2ac59ba57273",
   "metadata": {},
   "outputs": [
    {
     "data": {
      "text/plain": [
       "True"
      ]
     },
     "execution_count": 54,
     "metadata": {},
     "output_type": "execute_result"
    }
   ],
   "source": [
    "both(-5, -2) "
   ]
  },
  {
   "cell_type": "code",
   "execution_count": 55,
   "id": "a3f29cae-51bb-487f-bd6c-5935169b7335",
   "metadata": {},
   "outputs": [],
   "source": [
    "#33 Create a function that takes a list. This list will contain numbers represented as strings.Your function should\n",
    "#split this list into two new lists. The first list should contain only even numbers. The second only odd. Then, \n",
    "#wrap these two lists in one main list and return it.Return an empty list if there are no even numbers, or odd.\n",
    "def clean_up_list(a):\n",
    "    eve=[];odd=[];lst=[]\n",
    "    for x in a:\n",
    "        y=int(x)\n",
    "        if y%2==0:\n",
    "            eve.append(y)\n",
    "        else:\n",
    "            odd.append(y)\n",
    "    lst.append(eve)\n",
    "    lst.append(odd)\n",
    "    return lst"
   ]
  },
  {
   "cell_type": "code",
   "execution_count": 56,
   "id": "39826822-3972-43dc-8c7f-12ebbbd794c7",
   "metadata": {},
   "outputs": [
    {
     "data": {
      "text/plain": [
       "[[], [7]]"
      ]
     },
     "execution_count": 56,
     "metadata": {},
     "output_type": "execute_result"
    }
   ],
   "source": [
    "clean_up_list([\"7\"])"
   ]
  },
  {
   "cell_type": "code",
   "execution_count": 60,
   "id": "b8f5399b-b55b-47e8-a866-2d955794594f",
   "metadata": {},
   "outputs": [
    {
     "data": {
      "text/plain": [
       "[[8, 2], []]"
      ]
     },
     "execution_count": 60,
     "metadata": {},
     "output_type": "execute_result"
    }
   ],
   "source": [
    "clean_up_list([\"8\",\"2\"])"
   ]
  },
  {
   "cell_type": "code",
   "execution_count": 59,
   "id": "bce71f81-291e-449f-bdaf-0bb646d23ed6",
   "metadata": {},
   "outputs": [
    {
     "data": {
      "text/plain": [
       "[[6], [5, 7, 9]]"
      ]
     },
     "execution_count": 59,
     "metadata": {},
     "output_type": "execute_result"
    }
   ],
   "source": [
    "clean_up_list([\"5\",\"6\",\"7\",\"9\"])"
   ]
  },
  {
   "cell_type": "code",
   "execution_count": null,
   "id": "ea5896bb-64a2-4508-ac61-567c9253cef5",
   "metadata": {},
   "outputs": [],
   "source": []
  },
  {
   "cell_type": "code",
   "execution_count": 62,
   "id": "9b735c14-dd08-43b0-ad70-da2a706bb60c",
   "metadata": {},
   "outputs": [],
   "source": [
    "#34 When creating variables, the variable name must always start with a letter and cannot contain spaces, though \n",
    "#numbers and underscores are allowed to be contained in it also.\n",
    "#Create a function which returns True if a given variable name is valid, otherwise return False.\n",
    "def variable_valid(var):\n",
    "    if var[0].isalpha() and var==var.split()[0] and var==var.split()[_] :\n",
    "        return True\n",
    "    else:\n",
    "        return False"
   ]
  },
  {
   "cell_type": "code",
   "execution_count": 63,
   "id": "55cebb4b-102c-4e92-8887-8e3d20b2dde8",
   "metadata": {},
   "outputs": [
    {
     "data": {
      "text/plain": [
       "False"
      ]
     },
     "execution_count": 63,
     "metadata": {},
     "output_type": "execute_result"
    }
   ],
   "source": [
    "variable_valid(\"odd nums\")"
   ]
  },
  {
   "cell_type": "code",
   "execution_count": 66,
   "id": "95dc46e0-67eb-48eb-a7e3-63db4ac0d905",
   "metadata": {},
   "outputs": [
    {
     "data": {
      "text/plain": [
       "True"
      ]
     },
     "execution_count": 66,
     "metadata": {},
     "output_type": "execute_result"
    }
   ],
   "source": [
    "variable_valid(\"odd_nums\")"
   ]
  },
  {
   "cell_type": "code",
   "execution_count": 65,
   "id": "5b776af6-81f2-4893-b81f-eef1a260c0c9",
   "metadata": {},
   "outputs": [
    {
     "data": {
      "text/plain": [
       "False"
      ]
     },
     "execution_count": 65,
     "metadata": {},
     "output_type": "execute_result"
    }
   ],
   "source": [
    "variable_valid(\"0dd_nums\")"
   ]
  },
  {
   "cell_type": "code",
   "execution_count": 68,
   "id": "c39f2547-6220-4901-8e1e-8f4a66056733",
   "metadata": {},
   "outputs": [],
   "source": [
    "#35 In a board game, a piece may advance 1-6 tiles forward depending on the number rolled on a six-sided die. \n",
    "#If you advance your piece onto the same tile as another player's piece, both of you earn a bonus.Can you reach \n",
    "#your friend's tile number in the next roll? Create a function that returns if it's possible to earn a bonus when \n",
    "#you roll the die.\n",
    "def possible_bonus(a,b):\n",
    "    if a<b and b-a<=6:\n",
    "        return True\n",
    "    else:\n",
    "        return False"
   ]
  },
  {
   "cell_type": "code",
   "execution_count": 69,
   "id": "56b600e4-e958-4280-a4ce-7211495bcbf3",
   "metadata": {},
   "outputs": [
    {
     "data": {
      "text/plain": [
       "True"
      ]
     },
     "execution_count": 69,
     "metadata": {},
     "output_type": "execute_result"
    }
   ],
   "source": [
    "possible_bonus(3, 7)"
   ]
  },
  {
   "cell_type": "code",
   "execution_count": 70,
   "id": "448d19d7-c606-4059-b9f5-efae0e619747",
   "metadata": {},
   "outputs": [
    {
     "data": {
      "text/plain": [
       "False"
      ]
     },
     "execution_count": 70,
     "metadata": {},
     "output_type": "execute_result"
    }
   ],
   "source": [
    "possible_bonus(1, 9)"
   ]
  },
  {
   "cell_type": "code",
   "execution_count": 71,
   "id": "9f18c3ae-bbc8-4085-92f7-e13d684bdbd9",
   "metadata": {},
   "outputs": [
    {
     "data": {
      "text/plain": [
       "False"
      ]
     },
     "execution_count": 71,
     "metadata": {},
     "output_type": "execute_result"
    }
   ],
   "source": [
    "possible_bonus(5, 3)"
   ]
  },
  {
   "cell_type": "code",
   "execution_count": 74,
   "id": "6a076640-5fb9-4ebd-931a-e7735ecb374d",
   "metadata": {},
   "outputs": [],
   "source": [
    "#36 Create a function that takes two integers and checks if they are equal.\n",
    "def is_equal(a,b):\n",
    "    return(a==b)"
   ]
  },
  {
   "cell_type": "code",
   "execution_count": 75,
   "id": "24cb4130-ac19-48a8-bf4e-de7ba939eb59",
   "metadata": {},
   "outputs": [
    {
     "data": {
      "text/plain": [
       "False"
      ]
     },
     "execution_count": 75,
     "metadata": {},
     "output_type": "execute_result"
    }
   ],
   "source": [
    "is_equal(\"a\", 1)"
   ]
  },
  {
   "cell_type": "code",
   "execution_count": 76,
   "id": "da6d95db-9f01-453b-800c-eb2628a3ee54",
   "metadata": {},
   "outputs": [
    {
     "data": {
      "text/plain": [
       "True"
      ]
     },
     "execution_count": 76,
     "metadata": {},
     "output_type": "execute_result"
    }
   ],
   "source": [
    "is_equal(1.0, 1)"
   ]
  },
  {
   "cell_type": "code",
   "execution_count": 77,
   "id": "1c57cdba-ac74-4a89-be01-4998dd3016b3",
   "metadata": {},
   "outputs": [],
   "source": [
    "#37 Write a function that takes a string name and a number num (either 0 or 1) and return \"Hello\" + name if num\n",
    "#is 1, otherwise return \"Bye\" + name.\n",
    "\n",
    "def say_hello_bye(name,num):\n",
    "    if num==0:\n",
    "        return (\"Bye \"+name)\n",
    "    elif num==1:\n",
    "        return (\"Hello \"+name)\n",
    "    else:\n",
    "        return(none)"
   ]
  },
  {
   "cell_type": "code",
   "execution_count": 78,
   "id": "0642d0a1-5a3b-4d33-b430-2d80bf78ccf2",
   "metadata": {},
   "outputs": [
    {
     "data": {
      "text/plain": [
       "'Bye raghu'"
      ]
     },
     "execution_count": 78,
     "metadata": {},
     "output_type": "execute_result"
    }
   ],
   "source": [
    "say_hello_bye(\"raghu\",0)"
   ]
  },
  {
   "cell_type": "code",
   "execution_count": 79,
   "id": "ce27e215-d23a-471e-9335-9663382bf469",
   "metadata": {},
   "outputs": [
    {
     "data": {
      "text/plain": [
       "'Hello raghu'"
      ]
     },
     "execution_count": 79,
     "metadata": {},
     "output_type": "execute_result"
    }
   ],
   "source": [
    "say_hello_bye(\"raghu\",1)"
   ]
  },
  {
   "cell_type": "code",
   "execution_count": 81,
   "id": "0091aa04-eb5f-4892-bf93-23b63d29ff9b",
   "metadata": {},
   "outputs": [],
   "source": [
    "# 38. Create a function that takes three number arguments — one number as an input and two additional numbers \n",
    "#representing the endpoints of a closed range — and return the number limited to this range.\n",
    "#If the number falls within the range, the number should be returned.\n",
    "#If the number is less than the lower limit of the range, the lower limit should be returned.\n",
    "#If the number is greater than the upper limit of the range, the upper limit should be returned.\n",
    "def limit_number(a,l,u):\n",
    "    if a>l and a<u:\n",
    "        return a\n",
    "    elif a<l:\n",
    "        return l\n",
    "    else:\n",
    "        return u"
   ]
  },
  {
   "cell_type": "code",
   "execution_count": 82,
   "id": "c8267bf1-c34c-47e1-b628-5956fee294b7",
   "metadata": {},
   "outputs": [
    {
     "data": {
      "text/plain": [
       "4"
      ]
     },
     "execution_count": 82,
     "metadata": {},
     "output_type": "execute_result"
    }
   ],
   "source": [
    "limit_number(4,3,9)"
   ]
  },
  {
   "cell_type": "code",
   "execution_count": 84,
   "id": "e4f81e62-4e23-43db-ad2e-2183b52a7fed",
   "metadata": {},
   "outputs": [
    {
     "data": {
      "text/plain": [
       "5"
      ]
     },
     "execution_count": 84,
     "metadata": {},
     "output_type": "execute_result"
    }
   ],
   "source": [
    "limit_number(3,5,8)"
   ]
  },
  {
   "cell_type": "code",
   "execution_count": 85,
   "id": "7f8a8f5c-8a76-4833-bcb7-1caafa54430d",
   "metadata": {},
   "outputs": [
    {
     "data": {
      "text/plain": [
       "8"
      ]
     },
     "execution_count": 85,
     "metadata": {},
     "output_type": "execute_result"
    }
   ],
   "source": [
    "limit_number(10,3,8)"
   ]
  },
  {
   "cell_type": "code",
   "execution_count": 103,
   "id": "c8680f70-2c50-4a6f-a1c5-5aaf3fcf3751",
   "metadata": {},
   "outputs": [],
   "source": [
    "#39 Write a function that takes an integer and:\n",
    "#If the number is a multiple of 3, return \"Hello\".\n",
    "#If the number is a multiple of 5, return \"World\".\n",
    "#If the number is a multiple of both 3 and 5, return \"Hello World\".\n",
    "def mult_of_3_5(x):\n",
    "    if x%3==0 and x%5==0:\n",
    "        return \"Hello world\"\n",
    "    elif x%5==0:\n",
    "        return \"world\"\n",
    "    elif x%3==0:\n",
    "        return \"Hello\"\n",
    "    else:\n",
    "        print(None)"
   ]
  },
  {
   "cell_type": "code",
   "execution_count": 99,
   "id": "f10bd20c-b5bb-4e1c-9985-b3bf79a11c47",
   "metadata": {},
   "outputs": [
    {
     "name": "stdout",
     "output_type": "stream",
     "text": [
      "None\n"
     ]
    }
   ],
   "source": [
    "mult_of_3_5(2)"
   ]
  },
  {
   "cell_type": "code",
   "execution_count": 101,
   "id": "be728d01-e24b-40ef-ab80-734962c38d1d",
   "metadata": {},
   "outputs": [
    {
     "data": {
      "text/plain": [
       "'world'"
      ]
     },
     "execution_count": 101,
     "metadata": {},
     "output_type": "execute_result"
    }
   ],
   "source": [
    "mult_of_3_5(20)"
   ]
  },
  {
   "cell_type": "code",
   "execution_count": 100,
   "id": "85a1d9d9-90ed-4b92-8213-391816f24558",
   "metadata": {},
   "outputs": [
    {
     "data": {
      "text/plain": [
       "'Hello'"
      ]
     },
     "execution_count": 100,
     "metadata": {},
     "output_type": "execute_result"
    }
   ],
   "source": [
    "mult_of_3_5(9)"
   ]
  },
  {
   "cell_type": "code",
   "execution_count": 104,
   "id": "c8eb83b9-63a7-4c4d-93d4-a971709d15ec",
   "metadata": {},
   "outputs": [
    {
     "data": {
      "text/plain": [
       "'Hello world'"
      ]
     },
     "execution_count": 104,
     "metadata": {},
     "output_type": "execute_result"
    }
   ],
   "source": [
    "mult_of_3_5(15)"
   ]
  },
  {
   "cell_type": "code",
   "execution_count": 109,
   "id": "0de06988-374b-4bb7-bd69-976226c7c357",
   "metadata": {},
   "outputs": [],
   "source": [
    "#40 Given a string and a style character, return the newly formatted string. Style characters are single letters \n",
    "#that represent the different types of formatting.\n",
    "#For the purposes of this challenge, the style characters are as follows:\n",
    "#\"b\" is for bold\n",
    "#\"i\" is for italics\n",
    "#\"c\" is for inline code\n",
    "#\"s\" is for strikethrough\n",
    "\n",
    "def format_string(text, style):\n",
    "    if style == \"b\":\n",
    "        return f\"**{text}**\"\n",
    "    elif style == \"i\":\n",
    "        return f\"*{text}*\"\n",
    "    elif style == \"c\":\n",
    "        return f\"`{text}`\"\n",
    "    elif style == \"s\":\n",
    "        return f\"~~{text}~~\"\n",
    "    else:\n",
    "        return text"
   ]
  },
  {
   "cell_type": "code",
   "execution_count": 110,
   "id": "c01ffb40-8e9d-4412-8d3f-365b159b2e83",
   "metadata": {},
   "outputs": [
    {
     "data": {
      "text/plain": [
       "'**char**'"
      ]
     },
     "execution_count": 110,
     "metadata": {},
     "output_type": "execute_result"
    }
   ],
   "source": [
    "format_string(\"char\",\"b\") #bold"
   ]
  },
  {
   "cell_type": "code",
   "execution_count": 111,
   "id": "2382b09d-7ced-4b48-a3d3-9e08c64b698c",
   "metadata": {},
   "outputs": [
    {
     "data": {
      "text/plain": [
       "'`char`'"
      ]
     },
     "execution_count": 111,
     "metadata": {},
     "output_type": "execute_result"
    }
   ],
   "source": [
    "format_string(\"char\",\"c\")"
   ]
  },
  {
   "cell_type": "code",
   "execution_count": null,
   "id": "306b1375-6aa3-40bd-9af2-04fd415dbd18",
   "metadata": {},
   "outputs": [],
   "source": []
  },
  {
   "cell_type": "code",
   "execution_count": 112,
   "id": "1e680ff6-77ae-44de-bf97-135cc546634c",
   "metadata": {},
   "outputs": [],
   "source": [
    "#41 Darts is a target game played by throwing feathered darts at a circular board with numbered spaces. \n",
    "#Our darts game is the simplest of all games. The score of a single turn is calculated based on the distance \n",
    "#from the middle. You need to create a function that takes the dart location as two cartesian coordinates (x, y)\n",
    "#and returns a score based on the distance from the middle, aka Bullseye (x=0, y=0).\n",
    "#Bullseye and inner circle scores = 10 points\n",
    "#Middle ring scores = 5 points\n",
    "#Outer ring scores = 1 point\n",
    "#Outside the target = 0 points\n",
    "#We play it simple so a dart in the double or treble ring counts as usual and does not affect the segment score.\n",
    "#Board and circle radius is as follows:\n",
    "#Board radius and outer circle radius = 10 units\n",
    "#Middle circle radius = 5 units\n",
    "#Inner circle radius = 1 unit\n",
    "\n",
    "def darts(x,y):\n",
    "    distance = ((x**2)+(y**2))**0.5 # using r =sq.rt(x**2+y**2) we will identify the distance at which dart fell on board\n",
    "    if distance > 10:\n",
    "        return 0\n",
    "    elif distance > 5:\n",
    "        return 1\n",
    "    elif distance > 1:\n",
    "        return 5\n",
    "    else:\n",
    "        return 10"
   ]
  },
  {
   "cell_type": "code",
   "execution_count": 113,
   "id": "a1979c80-e608-4355-9c61-c32e49a367d9",
   "metadata": {},
   "outputs": [
    {
     "data": {
      "text/plain": [
       "10"
      ]
     },
     "execution_count": 113,
     "metadata": {},
     "output_type": "execute_result"
    }
   ],
   "source": [
    "darts(0,0)"
   ]
  },
  {
   "cell_type": "code",
   "execution_count": 114,
   "id": "c22ed6f0-c688-45c6-875f-9585a7714f22",
   "metadata": {},
   "outputs": [
    {
     "data": {
      "text/plain": [
       "5"
      ]
     },
     "execution_count": 114,
     "metadata": {},
     "output_type": "execute_result"
    }
   ],
   "source": [
    "darts(3,2)"
   ]
  },
  {
   "cell_type": "code",
   "execution_count": null,
   "id": "48c6d1a8-a18a-4e10-82fe-4ffcfc5e9da5",
   "metadata": {},
   "outputs": [],
   "source": []
  },
  {
   "cell_type": "code",
   "execution_count": 115,
   "id": "ab926ad7-e460-486c-8187-dc0e82ef7aee",
   "metadata": {},
   "outputs": [],
   "source": [
    "#42 Write a function that returns True if a year is a leap, otherwise return False.A year is a \"leap year\" if it \n",
    "#lasts 366 days, instead of 365 in a typical year. That extra day is added to the end of the shortest month, \n",
    "#creating February 29.A leap year occurs every four years, and will take place if the year is a multiple of four.\n",
    "#The exception to this is a year at the beginning of a century (for example, 1900 or 2000), where the year must\n",
    "#be divisible by 400 to be a leap year.Look at the examples, and if you need help, look at the resources panel.\n",
    "def leap_year_or_not(x):\n",
    "    if x%400 == 0 and x%100 == 0:\n",
    "        print(True)\n",
    "        \n",
    "    elif x%4==0 and x%100!=0:\n",
    "        print(True)\n",
    "    \n",
    "    else:\n",
    "        print(False)"
   ]
  },
  {
   "cell_type": "code",
   "execution_count": 116,
   "id": "87bb01f8-280a-47a2-a013-bd54d44713d0",
   "metadata": {},
   "outputs": [
    {
     "name": "stdout",
     "output_type": "stream",
     "text": [
      "False\n",
      "True\n",
      "True\n",
      "False\n"
     ]
    }
   ],
   "source": [
    "leap_year_or_not(1900)\n",
    "leap_year_or_not(1924)\n",
    "leap_year_or_not(2000)\n",
    "leap_year_or_not(2100)"
   ]
  },
  {
   "cell_type": "code",
   "execution_count": 117,
   "id": "2646531c-1134-452a-937b-aa63c0ecf50b",
   "metadata": {},
   "outputs": [],
   "source": [
    "#43 Given a pH value, return whether that value is \"alkaline\" (greater than 7), \"acidic\" (less than 7), or\n",
    "#\"neutral\" (7). Return \"invalid\" if the value given is less than 0 or greater than 14.\n",
    "def pH_Value (x):\n",
    "    if x<0 or x>14:\n",
    "        print(\"invalid\")\n",
    "    elif x<7:\n",
    "        print(\"acidic\")\n",
    "    elif x>7:\n",
    "        print(\"alkaline\")\n",
    "    else:\n",
    "        print(\"neutral\")"
   ]
  },
  {
   "cell_type": "code",
   "execution_count": 118,
   "id": "aea3393c-3587-4e7b-8664-0fc91303a440",
   "metadata": {},
   "outputs": [
    {
     "name": "stdout",
     "output_type": "stream",
     "text": [
      "acidic\n",
      "neutral\n",
      "alkaline\n",
      "invalid\n",
      "invalid\n"
     ]
    }
   ],
   "source": [
    "pH_Value (6.8)\n",
    "pH_Value (7.0)\n",
    "pH_Value (7.1)\n",
    "pH_Value (-1)\n",
    "pH_Value (14.1)"
   ]
  },
  {
   "cell_type": "code",
   "execution_count": null,
   "id": "24d56d6b-5a53-4b82-9c69-594d77c70c0a",
   "metadata": {},
   "outputs": [],
   "source": []
  },
  {
   "cell_type": "code",
   "execution_count": 126,
   "id": "b3398882-ab05-4536-a7c7-b62f6f650124",
   "metadata": {},
   "outputs": [],
   "source": [
    "#44 Create a function that takes an array of hurdle heights and a jumper's jump height, and determine \n",
    "# whether or not the hurdler can clear all the hurdles.A hurdler can clear a hurdle if their \n",
    "# jump height is greater than or equal to the hurdle height.\n",
    "#Examples\n",
    "#hurdle_jump([1, 2, 3, 4, 5], 5) ➞ True \n",
    "#hurdle_jump([5, 5, 3, 4, 5], 3) ➞ False \n",
    "#hurdle_jump([5, 4, 5, 6], 10) ➞ True \n",
    "#hurdle_jump([1, 2, 1], 1) ➞ False\n",
    "\n",
    "def hurdle_jump(hurdle_heights, jump_height):\n",
    "    for height in hurdle_heights:\n",
    "        if height > jump_height:\n",
    "            return False\n",
    "    else:\n",
    "        return True"
   ]
  },
  {
   "cell_type": "code",
   "execution_count": 128,
   "id": "b46a5f98-0f38-431e-818e-73fd097d1984",
   "metadata": {},
   "outputs": [
    {
     "data": {
      "text/plain": [
       "True"
      ]
     },
     "execution_count": 128,
     "metadata": {},
     "output_type": "execute_result"
    }
   ],
   "source": [
    "hurdle_jump([1, 2, 3, 4, 5], 5)"
   ]
  },
  {
   "cell_type": "code",
   "execution_count": 129,
   "id": "f562e48f-2892-4b29-9fb9-2c413e6fdc4c",
   "metadata": {},
   "outputs": [
    {
     "data": {
      "text/plain": [
       "False"
      ]
     },
     "execution_count": 129,
     "metadata": {},
     "output_type": "execute_result"
    }
   ],
   "source": [
    "hurdle_jump([5, 5, 3, 4, 5], 3) "
   ]
  },
  {
   "cell_type": "code",
   "execution_count": 130,
   "id": "35733041-eae0-4af4-878a-e733c27e204a",
   "metadata": {},
   "outputs": [
    {
     "data": {
      "text/plain": [
       "True"
      ]
     },
     "execution_count": 130,
     "metadata": {},
     "output_type": "execute_result"
    }
   ],
   "source": [
    "hurdle_jump([5, 4, 5, 6], 10) "
   ]
  },
  {
   "cell_type": "code",
   "execution_count": 131,
   "id": "ab021ef7-7c1c-42ec-88fc-310c8a0b12ca",
   "metadata": {},
   "outputs": [
    {
     "data": {
      "text/plain": [
       "False"
      ]
     },
     "execution_count": 131,
     "metadata": {},
     "output_type": "execute_result"
    }
   ],
   "source": [
    "hurdle_jump([1, 2, 1], 1)"
   ]
  },
  {
   "cell_type": "code",
   "execution_count": 133,
   "id": "0d52d975-02bc-408b-8d5c-bb88b8233f80",
   "metadata": {},
   "outputs": [],
   "source": [
    "#45 Create a function which returns the type of triangle, given the side lengths. Return the following values if \n",
    "#they match the criteria.\n",
    "#No sides equal: \"scalene\"\n",
    "#Two sides equal: \"isosceles\"\n",
    "#All sides equal: \"equilateral\"\n",
    "#Less or more than 3 sides given: \"not a triangle\"\n",
    "\n",
    "def get_triangle_type(l):\n",
    "    if len(l)==3:\n",
    "        if l[0]==l[1] and l[1]==l[2]:\n",
    "            return \"equilateral\"\n",
    "        elif l[0]==l[1] or l[1]==l[2] or l[2]==l[0]:\n",
    "            return \"isosceles\"\n",
    "        else:\n",
    "            return \"scalene\"\n",
    "    else:\n",
    "        return \"not a triangle\""
   ]
  },
  {
   "cell_type": "code",
   "execution_count": 134,
   "id": "fc0244bd-1cec-48c8-8ba1-bedfb0624df7",
   "metadata": {},
   "outputs": [
    {
     "data": {
      "text/plain": [
       "'scalene'"
      ]
     },
     "execution_count": 134,
     "metadata": {},
     "output_type": "execute_result"
    }
   ],
   "source": [
    "get_triangle_type([2, 6, 5])"
   ]
  },
  {
   "cell_type": "code",
   "execution_count": 135,
   "id": "651e298d-230f-4eb4-947e-a6ba517eea19",
   "metadata": {},
   "outputs": [
    {
     "data": {
      "text/plain": [
       "'isosceles'"
      ]
     },
     "execution_count": 135,
     "metadata": {},
     "output_type": "execute_result"
    }
   ],
   "source": [
    "get_triangle_type([4, 4, 7])"
   ]
  },
  {
   "cell_type": "code",
   "execution_count": 136,
   "id": "06dffc15-5251-47a7-93e5-9b9fba1dbe0f",
   "metadata": {},
   "outputs": [
    {
     "data": {
      "text/plain": [
       "'equilateral'"
      ]
     },
     "execution_count": 136,
     "metadata": {},
     "output_type": "execute_result"
    }
   ],
   "source": [
    "get_triangle_type([8, 8, 8])"
   ]
  },
  {
   "cell_type": "code",
   "execution_count": 137,
   "id": "2dba15eb-f4e7-4d4b-aa5f-3f7ca5129e86",
   "metadata": {},
   "outputs": [
    {
     "data": {
      "text/plain": [
       "'not a triangle'"
      ]
     },
     "execution_count": 137,
     "metadata": {},
     "output_type": "execute_result"
    }
   ],
   "source": [
    "get_triangle_type([3, 5, 5, 2])"
   ]
  },
  {
   "cell_type": "code",
   "execution_count": 32,
   "id": "3f7a8ae2-b702-483c-b09b-928375f1d4aa",
   "metadata": {},
   "outputs": [],
   "source": [
    "# 46 Write a function that returns True if two rooks can attack each other, and False otherwise.\n",
    "# Assume no blocking pieces.\n",
    "# Two rooks can attack each other if they share the same row (letter) or column (number).\n",
    "#Examples\n",
    "# can_capture([\"A8\", \"E8\"]) ➞ True\n",
    "# can_capture([\"A1\", \"B2\"]) ➞ False\n",
    "# can_capture([\"H4\", \"H3\"]) ➞ True\n",
    "# can_capture([\"F5\", \"C8\"]) ➞ False\n",
    "\n",
    "def can_capture(lst):\n",
    "    if lst[0][0]==lst[1][0]:\n",
    "        return True\n",
    "    elif lst[0][1]==lst[1][1]:\n",
    "        return True\n",
    "    else:\n",
    "        return False"
   ]
  },
  {
   "cell_type": "code",
   "execution_count": 33,
   "id": "77fe9f3e-92f7-4dd1-91bc-891348f3f435",
   "metadata": {},
   "outputs": [
    {
     "data": {
      "text/plain": [
       "True"
      ]
     },
     "execution_count": 33,
     "metadata": {},
     "output_type": "execute_result"
    }
   ],
   "source": [
    "can_capture([\"A8\", \"E8\"])"
   ]
  },
  {
   "cell_type": "code",
   "execution_count": 34,
   "id": "9cfbd5cb-b70e-417c-a4da-4500ec113a2c",
   "metadata": {},
   "outputs": [
    {
     "data": {
      "text/plain": [
       "False"
      ]
     },
     "execution_count": 34,
     "metadata": {},
     "output_type": "execute_result"
    }
   ],
   "source": [
    "can_capture([\"A1\", \"B2\"])"
   ]
  },
  {
   "cell_type": "code",
   "execution_count": 39,
   "id": "72ed7055-4925-446c-b34e-13ce878ac8d8",
   "metadata": {},
   "outputs": [],
   "source": [
    "#47 Given an integer n. Your task is to find how many digits this integer contains without using str or len methods\n",
    "def sum_digits(n):\n",
    "    d=0\n",
    "    while n>=1:\n",
    "        d+=1\n",
    "        n/=10\n",
    "    return d"
   ]
  },
  {
   "cell_type": "code",
   "execution_count": 40,
   "id": "04e34384-0bae-47ad-afea-a3628bd5d694",
   "metadata": {},
   "outputs": [
    {
     "data": {
      "text/plain": [
       "3"
      ]
     },
     "execution_count": 40,
     "metadata": {},
     "output_type": "execute_result"
    }
   ],
   "source": [
    "sum_digits(100)"
   ]
  },
  {
   "cell_type": "code",
   "execution_count": 41,
   "id": "198d37c1-3e8f-4367-b02f-84211ad31b3c",
   "metadata": {},
   "outputs": [
    {
     "data": {
      "text/plain": [
       "4"
      ]
     },
     "execution_count": 41,
     "metadata": {},
     "output_type": "execute_result"
    }
   ],
   "source": [
    "sum_digits(1000)"
   ]
  },
  {
   "cell_type": "code",
   "execution_count": 42,
   "id": "0672151f-49aa-4389-886e-832b783cfb36",
   "metadata": {},
   "outputs": [
    {
     "data": {
      "text/plain": [
       "1"
      ]
     },
     "execution_count": 42,
     "metadata": {},
     "output_type": "execute_result"
    }
   ],
   "source": [
    "\n",
    "sum_digits(1)"
   ]
  },
  {
   "cell_type": "code",
   "execution_count": 37,
   "id": "883d83c8-a29d-4822-a4dc-2e56cfecc2f7",
   "metadata": {},
   "outputs": [],
   "source": [
    "#48 Create a function that takes in a two-dimensional list and returns the number of sub-lists with only \n",
    "#identical elements.\n",
    "def count_identical(lst):\n",
    "    l=0\n",
    "    for x in lst:\n",
    "        if len(x)==1:\n",
    "            l+=1\n",
    "        else:\n",
    "            a=x[0];b=0\n",
    "            for y in range(1,len(x)):\n",
    "                if a==x[y]:\n",
    "                    b+=1\n",
    "            if b>=1:\n",
    "                l+=1\n",
    "    return l"
   ]
  },
  {
   "cell_type": "code",
   "execution_count": 38,
   "id": "2a50f7e3-a1f5-48e5-9961-97ea8f56d47c",
   "metadata": {},
   "outputs": [
    {
     "data": {
      "text/plain": [
       "4"
      ]
     },
     "execution_count": 38,
     "metadata": {},
     "output_type": "execute_result"
    }
   ],
   "source": [
    "count_identical([[33, 33],[5],[\"a\", \"a\"],[2, 2, 2],[1, 2, 2],[3, 1]])"
   ]
  },
  {
   "cell_type": "code",
   "execution_count": 138,
   "id": "ef733c23-0eb6-43bb-9177-e9025ae5e8db",
   "metadata": {},
   "outputs": [],
   "source": [
    "#49 Create a function that takes a number (from 1 to 12) and returns its corresponding month name as a string. \n",
    "#For example, if you're given 3 as input, your function should return \"March\", because March is the 3rd month.\n",
    "def month_name(num):\n",
    "    year={1:\"January\",2:\"February\",3:\"March\",4:\"April\",5:\"May\",6:\"June\",7:\"July\",8:\"August\",9:\"September\",\\\n",
    "          10:\"October\",11:\"November\",12:\"December\"}\n",
    "    for x in year.keys():\n",
    "        if x==num:\n",
    "            month=year[x]\n",
    "        else:\n",
    "            continue\n",
    "    return month"
   ]
  },
  {
   "cell_type": "code",
   "execution_count": 139,
   "id": "cce72260-51d1-492e-9f3a-8c2c1f43292c",
   "metadata": {},
   "outputs": [
    {
     "data": {
      "text/plain": [
       "'June'"
      ]
     },
     "execution_count": 139,
     "metadata": {},
     "output_type": "execute_result"
    }
   ],
   "source": [
    "month_name(6)"
   ]
  },
  {
   "cell_type": "code",
   "execution_count": null,
   "id": "d27210fe-be00-4ef1-b2c1-760dccd4e4bc",
   "metadata": {},
   "outputs": [],
   "source": []
  },
  {
   "cell_type": "code",
   "execution_count": 26,
   "id": "4cbe8da4-e4cf-4872-bcf3-b90601fda902",
   "metadata": {},
   "outputs": [],
   "source": [
    "#50 Create a function that takes an initial word and extracts any words that start with the same letters as\n",
    "#the initial word.\n",
    "def dictionary(initial, words):\n",
    "    y=[]\n",
    "    for x in words:\n",
    "        if initial==x[0:len(initial)]:\n",
    "            y.append(x)\n",
    "        else:\n",
    "            continue\n",
    "    return y        \n"
   ]
  },
  {
   "cell_type": "code",
   "execution_count": 27,
   "id": "3fcde342-d18d-4252-9cf2-82c919bf7003",
   "metadata": {},
   "outputs": [
    {
     "data": {
      "text/plain": [
       "['triplet', 'tries', 'trip']"
      ]
     },
     "execution_count": 27,
     "metadata": {},
     "output_type": "execute_result"
    }
   ],
   "source": [
    "dictionary(\"tri\", [\"triplet\", \"tries\", \"trip\", \"piano\", \"tree\"]) "
   ]
  },
  {
   "cell_type": "code",
   "execution_count": 28,
   "id": "e9f9eaac-c1e3-4c64-892a-5133a1b4420a",
   "metadata": {},
   "outputs": [],
   "source": [
    "#51 Create a function that takes a list of strings and returns the words that are exactly four letters.\n",
    "def is_four_letters(lst):\n",
    "    l=[]\n",
    "    for x in lst:\n",
    "        if len(x)==4:\n",
    "            l.append(x)\n",
    "        else:\n",
    "            continue\n",
    "    return l"
   ]
  },
  {
   "cell_type": "code",
   "execution_count": 29,
   "id": "858c3595-41b9-4cc0-ac43-55a358dcdba7",
   "metadata": {},
   "outputs": [
    {
     "data": {
      "text/plain": [
       "['Pair']"
      ]
     },
     "execution_count": 29,
     "metadata": {},
     "output_type": "execute_result"
    }
   ],
   "source": [
    "is_four_letters([\"Tomato\", \"Potato\", \"Pair\"]) "
   ]
  },
  {
   "cell_type": "code",
   "execution_count": 30,
   "id": "d60c3ccd-b9b0-4e86-8503-a9a277e59fd9",
   "metadata": {},
   "outputs": [
    {
     "data": {
      "text/plain": [
       "['Bear']"
      ]
     },
     "execution_count": 30,
     "metadata": {},
     "output_type": "execute_result"
    }
   ],
   "source": [
    "is_four_letters([\"Kangaroo\", \"Bear\", \"Fox\"]) "
   ]
  },
  {
   "cell_type": "code",
   "execution_count": 31,
   "id": "5a57cc26-36ee-41e5-9192-8a1afc060f16",
   "metadata": {},
   "outputs": [
    {
     "data": {
      "text/plain": [
       "['Ryan', 'Matt']"
      ]
     },
     "execution_count": 31,
     "metadata": {},
     "output_type": "execute_result"
    }
   ],
   "source": [
    "is_four_letters([\"Ryan\", \"Kieran\", \"Jason\", \"Matt\"]) "
   ]
  },
  {
   "cell_type": "code",
   "execution_count": null,
   "id": "7c34ab79-13c1-474c-baef-96ef73ab6f6b",
   "metadata": {},
   "outputs": [],
   "source": []
  },
  {
   "cell_type": "code",
   "execution_count": 23,
   "id": "a1b070c6-d52d-4092-a279-cc32e2ffae4b",
   "metadata": {},
   "outputs": [],
   "source": [
    "#52 Create a function that takes a year as an argument and returns the corresponding Chinese zodiac.\n",
    "def chinese_zodiac(y):\n",
    "    if y%12==1:\n",
    "        return \"Rooster\"\n",
    "    elif y%12==2:\n",
    "        return \"Dog\"\n",
    "    elif y%12==3:\n",
    "        return \"Pig\"\n",
    "    elif y%12==4:\n",
    "        return \"Rat\"\n",
    "    elif y%12==5:\n",
    "        return \"Ox\"\n",
    "    elif y%12==6:\n",
    "        return \"Tiger\"\n",
    "    elif y%12==7:\n",
    "        return \"Rabbit\"\n",
    "    elif y%12==8:\n",
    "        return \"Dragon\"\n",
    "    elif y%12==9:\n",
    "        return \"Snake\"\n",
    "    elif y%12==10:\n",
    "        return \"Horse\"\n",
    "    elif y%12==11:\n",
    "        return \"Sheep\"\n",
    "    else:\n",
    "        return \"Monkey\"\n",
    " "
   ]
  },
  {
   "cell_type": "code",
   "execution_count": 24,
   "id": "b6956fe4-2167-48d2-9d12-9c523ebfa115",
   "metadata": {},
   "outputs": [
    {
     "data": {
      "text/plain": [
       "'Rabbit'"
      ]
     },
     "execution_count": 24,
     "metadata": {},
     "output_type": "execute_result"
    }
   ],
   "source": [
    "chinese_zodiac(1999) "
   ]
  },
  {
   "cell_type": "code",
   "execution_count": 4,
   "id": "9711017c-61a9-497b-b782-d930f1e2dfc9",
   "metadata": {},
   "outputs": [],
   "source": [
    "#53 Create a function that determines if the temp of the water is considered boiling or not. temp will be measured\n",
    "#in Fahrenheit and Celsius.\n",
    "def boiling_point_water(x,y):\n",
    "    if y==\"F\" or y==\"f\" and x==212:\n",
    "        return True\n",
    "    elif y==\"C\" or y==\"c\" and x==100:\n",
    "        return True\n",
    "    else:\n",
    "        return False\n"
   ]
  },
  {
   "cell_type": "code",
   "execution_count": 6,
   "id": "380314e3-2c77-44bb-bec8-f713b4bca06a",
   "metadata": {},
   "outputs": [
    {
     "data": {
      "text/plain": [
       "False"
      ]
     },
     "execution_count": 6,
     "metadata": {},
     "output_type": "execute_result"
    }
   ],
   "source": [
    "boiling_point_water(211.9,\"f\")"
   ]
  },
  {
   "cell_type": "code",
   "execution_count": 7,
   "id": "8ec72731-d844-4e29-aa72-64c2c7e49ad2",
   "metadata": {},
   "outputs": [
    {
     "data": {
      "text/plain": [
       "False"
      ]
     },
     "execution_count": 7,
     "metadata": {},
     "output_type": "execute_result"
    }
   ],
   "source": [
    "boiling_point_water(99.9,\"c\")"
   ]
  },
  {
   "cell_type": "code",
   "execution_count": 8,
   "id": "08128bc0-6f25-4206-8c69-cd21f7eeed47",
   "metadata": {},
   "outputs": [
    {
     "data": {
      "text/plain": [
       "True"
      ]
     },
     "execution_count": 8,
     "metadata": {},
     "output_type": "execute_result"
    }
   ],
   "source": [
    "boiling_point_water(100,\"c\")"
   ]
  },
  {
   "cell_type": "code",
   "execution_count": 9,
   "id": "a8824f58-26c8-428f-8d7f-881fe3f84507",
   "metadata": {},
   "outputs": [],
   "source": [
    "#54 Create a function that takes two arguments of a list of numbers lst and a constant number n and returns the n\n",
    "#largest numbers from the given list.\n",
    "def largest_numbers(n,lst):\n",
    "    lst.sort(reverse=True)\n",
    "    l=[]\n",
    "    for x in range(n):\n",
    "        l.append(lst[x])\n",
    "    return l"
   ]
  },
  {
   "cell_type": "code",
   "execution_count": 10,
   "id": "12c26c62-752f-4b00-b067-4cf9f104941e",
   "metadata": {},
   "outputs": [
    {
     "data": {
      "text/plain": [
       "[4, 3]"
      ]
     },
     "execution_count": 10,
     "metadata": {},
     "output_type": "execute_result"
    }
   ],
   "source": [
    "largest_numbers(2, [4, 3, 2, 1])"
   ]
  },
  {
   "cell_type": "code",
   "execution_count": 11,
   "id": "081d567b-a08a-42ec-8ad6-0e4a0d56b076",
   "metadata": {},
   "outputs": [
    {
     "data": {
      "text/plain": [
       "[19]"
      ]
     },
     "execution_count": 11,
     "metadata": {},
     "output_type": "execute_result"
    }
   ],
   "source": [
    "largest_numbers(1, [7, 19, 4, 2])"
   ]
  },
  {
   "cell_type": "code",
   "execution_count": 12,
   "id": "f87b4470-8182-4cc4-8f3f-5012116e42e5",
   "metadata": {},
   "outputs": [
    {
     "data": {
      "text/plain": [
       "[]"
      ]
     },
     "execution_count": 12,
     "metadata": {},
     "output_type": "execute_result"
    }
   ],
   "source": [
    "largest_numbers(0, [1, 3, 4, 2])"
   ]
  },
  {
   "cell_type": "code",
   "execution_count": 13,
   "id": "64d65aed-66c4-4ebd-a3ad-fe386fe493c9",
   "metadata": {},
   "outputs": [],
   "source": [
    "#55 Create a function that takes a range object r,index i,and returns a list where the first element is the number\n",
    "#of elements in the range object, and the second element is the element of the range object at the given index.\n",
    "def length_element(r,i):\n",
    "    l=[]\n",
    "    l.append(len(r))\n",
    "    l.append(r[i])\n",
    "    return l"
   ]
  },
  {
   "cell_type": "code",
   "execution_count": 14,
   "id": "b3de6c65-6f88-4dbc-9aca-d69d51d42d8f",
   "metadata": {},
   "outputs": [
    {
     "data": {
      "text/plain": [
       "[2, 2]"
      ]
     },
     "execution_count": 14,
     "metadata": {},
     "output_type": "execute_result"
    }
   ],
   "source": [
    "length_element(range(2, 4), 0)"
   ]
  },
  {
   "cell_type": "code",
   "execution_count": 15,
   "id": "227a9796-64c4-4cd5-ba97-3edbe6f94a31",
   "metadata": {},
   "outputs": [
    {
     "data": {
      "text/plain": [
       "[2, 14]"
      ]
     },
     "execution_count": 15,
     "metadata": {},
     "output_type": "execute_result"
    }
   ],
   "source": [
    "length_element(range(12, 15, 2), 1)"
   ]
  },
  {
   "cell_type": "code",
   "execution_count": 16,
   "id": "cbdc9e97-e63b-4178-ab47-8d59d3fd9135",
   "metadata": {},
   "outputs": [
    {
     "data": {
      "text/plain": [
       "[4, 46]"
      ]
     },
     "execution_count": 16,
     "metadata": {},
     "output_type": "execute_result"
    }
   ],
   "source": [
    "length_element(range(40, 50, 3), 2)"
   ]
  },
  {
   "cell_type": "code",
   "execution_count": 17,
   "id": "888ad846-c352-4857-a015-a80c2eb4f7cf",
   "metadata": {},
   "outputs": [],
   "source": [
    "#56 Two sisters are eating chocolate, whose pieces are represented as subarrays of [l x w].\n",
    "#Write a function that returns True if the total area of chocolate is the same for each sister.\n",
    "def test_fairness(agatha,bertha):\n",
    "    a=0;b=0\n",
    "    for x in agatha:\n",
    "        a+=x[0]*x[1]\n",
    "    for x in bertha:\n",
    "        b+=x[0]*x[1]\n",
    "    return a==b"
   ]
  },
  {
   "cell_type": "code",
   "execution_count": 18,
   "id": "0310429b-37de-4ab0-8575-f919fc7e968c",
   "metadata": {},
   "outputs": [
    {
     "data": {
      "text/plain": [
       "True"
      ]
     },
     "execution_count": 18,
     "metadata": {},
     "output_type": "execute_result"
    }
   ],
   "source": [
    "test_fairness([[1, 2], [2, 1]], [[2, 2]])"
   ]
  },
  {
   "cell_type": "code",
   "execution_count": 19,
   "id": "b59b8cc4-dfea-41fc-ae24-8465475bdf67",
   "metadata": {},
   "outputs": [
    {
     "data": {
      "text/plain": [
       "False"
      ]
     },
     "execution_count": 19,
     "metadata": {},
     "output_type": "execute_result"
    }
   ],
   "source": [
    "test_fairness([[1, 2], [2, 1]], [[2, 2], [4, 4]])"
   ]
  },
  {
   "cell_type": "code",
   "execution_count": null,
   "id": "391ca6e0-6b01-4d1b-abd4-fd2e3c707353",
   "metadata": {},
   "outputs": [],
   "source": []
  },
  {
   "cell_type": "code",
   "execution_count": 1,
   "id": "c38f2caf-2fc7-4295-b682-178bed84f9c9",
   "metadata": {},
   "outputs": [],
   "source": [
    "#57 Failed or passed an exam. First parameter is the user's score. Second parameter is the required score.\n",
    "def grade_requirement(score,requirement):\n",
    "    if score>=requirement:\n",
    "        return \"passed\"\n",
    "    else:\n",
    "        return \"failed\""
   ]
  },
  {
   "cell_type": "code",
   "execution_count": 20,
   "id": "93262f03-b90d-4f2a-b3f9-78f3b57223ef",
   "metadata": {},
   "outputs": [
    {
     "data": {
      "text/plain": [
       "'passed'"
      ]
     },
     "execution_count": 20,
     "metadata": {},
     "output_type": "execute_result"
    }
   ],
   "source": [
    "grade_requirement(60,60)"
   ]
  },
  {
   "cell_type": "code",
   "execution_count": 21,
   "id": "87031577-8a7c-42f8-bc50-ddad858e6da3",
   "metadata": {},
   "outputs": [
    {
     "data": {
      "text/plain": [
       "'failed'"
      ]
     },
     "execution_count": 21,
     "metadata": {},
     "output_type": "execute_result"
    }
   ],
   "source": [
    "grade_requirement(59.9,60)"
   ]
  },
  {
   "cell_type": "code",
   "execution_count": null,
   "id": "24d66312-80b6-4f47-b124-a3c2a2167764",
   "metadata": {},
   "outputs": [],
   "source": []
  },
  {
   "cell_type": "code",
   "execution_count": null,
   "id": "dca33f29-7209-45d5-a109-6501a1125b56",
   "metadata": {},
   "outputs": [],
   "source": []
  },
  {
   "cell_type": "code",
   "execution_count": null,
   "id": "cd9ad31c-d264-4429-913d-bdb8e94d5c53",
   "metadata": {},
   "outputs": [],
   "source": []
  },
  {
   "cell_type": "code",
   "execution_count": null,
   "id": "4d4633c1-59d6-4629-8867-84e30c37d0fb",
   "metadata": {},
   "outputs": [],
   "source": []
  },
  {
   "cell_type": "code",
   "execution_count": null,
   "id": "2905a370-b93c-4891-bd6c-dbaa9b45fa9e",
   "metadata": {},
   "outputs": [],
   "source": []
  },
  {
   "cell_type": "code",
   "execution_count": null,
   "id": "0f48ae61-97ef-442d-a2fa-188325f90812",
   "metadata": {},
   "outputs": [],
   "source": []
  },
  {
   "cell_type": "code",
   "execution_count": null,
   "id": "7d3bd8a5-3337-44ef-bdba-eaa78c3269c4",
   "metadata": {},
   "outputs": [],
   "source": []
  },
  {
   "cell_type": "code",
   "execution_count": null,
   "id": "cea41d3b-2b9c-464c-9d7f-45011617139b",
   "metadata": {},
   "outputs": [],
   "source": []
  },
  {
   "cell_type": "code",
   "execution_count": null,
   "id": "b4d2feef-5fe9-478b-962b-a902204aa7ed",
   "metadata": {},
   "outputs": [],
   "source": []
  }
 ],
 "metadata": {
  "kernelspec": {
   "display_name": "Python 3 (ipykernel)",
   "language": "python",
   "name": "python3"
  },
  "language_info": {
   "codemirror_mode": {
    "name": "ipython",
    "version": 3
   },
   "file_extension": ".py",
   "mimetype": "text/x-python",
   "name": "python",
   "nbconvert_exporter": "python",
   "pygments_lexer": "ipython3",
   "version": "3.10.9"
  }
 },
 "nbformat": 4,
 "nbformat_minor": 5
}
