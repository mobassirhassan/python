{
 "cells": [
  {
   "cell_type": "markdown",
   "id": "b0161700-36b0-4feb-bcc9-77a296a0f35f",
   "metadata": {},
   "source": [
    "# 1 Chat Room Status \n",
    "\n",
    "Write a function that returns the number of users in a chatroom based on the following rules:\n",
    "\n",
    "If there is no one, return \"no one online\". If there is 1 person, return \"user1 online\". If there are 2 people, return \"user1 and user2 online\". If there are n>2 people, return the first two names and add \"and n-2 more online\". For example, if there are 5 users, return:\n",
    "\n",
    "\"user1, user2 and 3 more online\" \n",
    "\n",
    "Examples:\n",
    "\n",
    "chatroom_status([ ]) ➞ \"no one online\"\n",
    "\n",
    "chatroom_status([\"paRIE_to\"]) ➞ \"paRIE_to online\"\n",
    "\n",
    "chatroom_status([\"s234f\", \"mailbox2\"]) ➞ \"s234f and mailbox2 online\"\n",
    "\n",
    "chatroom_status([\"pap_ier44\", \"townieBOY\", \"panda321\", \"motor_bike5\", \"sandwichmaker833\", \"violinist91\"]) ➞ \"pap_ier44, townieBOY and 4 more online\"\n",
    "\n",
    "Notes N/A"
   ]
  },
  {
   "cell_type": "code",
   "execution_count": 12,
   "id": "9ac27b60-48bb-4abf-af00-67cef69b3f7d",
   "metadata": {},
   "outputs": [],
   "source": [
    "def chatroom_status(n):\n",
    "    if len(n)==0:\n",
    "        return \"no one online\"\n",
    "    elif len(n)==1:\n",
    "        return \"1 person is online\"\n",
    "    elif len(n)==2:\n",
    "        return (\"{} and {} online\".format(n[0],n[1]))\n",
    "    else:\n",
    "        return f'{n[0]} , {n[1]} and {len(n)-2} more online'\n",
    "        "
   ]
  },
  {
   "cell_type": "code",
   "execution_count": null,
   "id": "8132005d-2626-4bf1-a0c2-3db8e78088be",
   "metadata": {},
   "outputs": [
    {
     "data": {
      "text/plain": [
       "'pap_ier44 , townieBOY and 4 more online'"
      ]
     },
     "execution_count": 14,
     "metadata": {},
     "output_type": "execute_result"
    }
   ],
   "source": [
    "chatroom_status([\"pap_ier44\", \"townieBOY\", \"panda321\", \"motor_bike5\", \"sandwichmaker833\", \"violinist91\"])"
   ]
  },
  {
   "cell_type": "code",
   "execution_count": 4,
   "id": "eab07a4e-11f8-4cd2-8804-fd63fd1f3d2b",
   "metadata": {},
   "outputs": [
    {
     "data": {
      "text/plain": [
       "'no one online'"
      ]
     },
     "execution_count": 4,
     "metadata": {},
     "output_type": "execute_result"
    }
   ],
   "source": [
    "chatroom_status([])"
   ]
  },
  {
   "cell_type": "code",
   "execution_count": 5,
   "id": "0e7a0c63-71ff-468b-a22d-f8797037f30b",
   "metadata": {},
   "outputs": [
    {
     "data": {
      "text/plain": [
       "'1 person is online'"
      ]
     },
     "execution_count": 5,
     "metadata": {},
     "output_type": "execute_result"
    }
   ],
   "source": [
    "chatroom_status([\"amar\"])"
   ]
  },
  {
   "cell_type": "code",
   "execution_count": 11,
   "id": "ce482ef6-e9f4-4c53-9c54-063c519b0c0a",
   "metadata": {},
   "outputs": [
    {
     "data": {
      "text/plain": [
       "'amar and akbar online'"
      ]
     },
     "execution_count": 11,
     "metadata": {},
     "output_type": "execute_result"
    }
   ],
   "source": [
    "chatroom_status([\"amar\", \"akbar\"])"
   ]
  },
  {
   "cell_type": "code",
   "execution_count": 13,
   "id": "6622203e-ecc2-4a38-964a-a01dc820cb9a",
   "metadata": {},
   "outputs": [
    {
     "data": {
      "text/plain": [
       "'amar , akbar and 1 more online'"
      ]
     },
     "execution_count": 13,
     "metadata": {},
     "output_type": "execute_result"
    }
   ],
   "source": [
    "chatroom_status([\"amar\",\"akbar\",\"antony\"])"
   ]
  },
  {
   "cell_type": "markdown",
   "id": "c496e558-741d-4c96-bf20-3478ec6702b9",
   "metadata": {},
   "source": [
    "# 2. Count Palindrome Numbers in a Range \n",
    "\n",
    "Create a function that returns the number of palindrome numbers in a specified range (inclusive).\n",
    "\n",
    "For example, between 8 and 34, there are 5 palindromes: 8, 9, 11, 22 and 33. Between 1550 and 1552 there is exactly one palindrome: 1551.\n",
    "\n",
    "Examples count_palindromes(1, 10) ➞ 9\n",
    "\n",
    "count_palindromes(555, 556) ➞ 1\n",
    "\n",
    "count_palindromes(878, 898) ➞ 3 Notes A palindrome number is a number which remains the same when its digits are reversed. For example, 2552 reversed is still 2552. The reflectional symmetry of this number makes it a palindromic number. Single-digit numbers are trivially palindrome numbers."
   ]
  },
  {
   "cell_type": "code",
   "execution_count": 24,
   "id": "8a9c29b4-ba7e-4efd-b9bc-61e80569071e",
   "metadata": {},
   "outputs": [],
   "source": [
    "def count_palindromes(start, end):\n",
    "    count = 0\n",
    "    for num in range(start, end + 1):\n",
    "        if str(num) == str(num)[::-1]:\n",
    "            count += 1\n",
    "    return count"
   ]
  },
  {
   "cell_type": "code",
   "execution_count": 25,
   "id": "537043ba-adb1-4ff7-a6b4-f23714a3a616",
   "metadata": {},
   "outputs": [
    {
     "data": {
      "text/plain": [
       "9"
      ]
     },
     "execution_count": 25,
     "metadata": {},
     "output_type": "execute_result"
    }
   ],
   "source": [
    "count_palindromes(1, 10)"
   ]
  },
  {
   "cell_type": "code",
   "execution_count": 17,
   "id": "8bb3f214-a6fd-40e9-b26a-e4846c0da016",
   "metadata": {},
   "outputs": [
    {
     "data": {
      "text/plain": [
       "1"
      ]
     },
     "execution_count": 17,
     "metadata": {},
     "output_type": "execute_result"
    }
   ],
   "source": [
    "count_palindromes(555, 556)"
   ]
  },
  {
   "cell_type": "code",
   "execution_count": 18,
   "id": "b439e40e-a311-4487-bcc6-8c99cf1ce613",
   "metadata": {},
   "outputs": [
    {
     "data": {
      "text/plain": [
       "3"
      ]
     },
     "execution_count": 18,
     "metadata": {},
     "output_type": "execute_result"
    }
   ],
   "source": [
    "count_palindromes(878, 898)"
   ]
  },
  {
   "cell_type": "markdown",
   "id": "c9c14f22-5e41-4825-95e3-2c45c63f4f1b",
   "metadata": {},
   "source": [
    "# 3. Sum of all Evens in a Matrix\n",
    "Create a function that returns the sum of all even elements in a 2D matrix.\n",
    "Notes:\n",
    "Submatrices will be of equal length.\n",
    "Return 0 if the 2D matrix only consists of empty submatrices."
   ]
  },
  {
   "cell_type": "code",
   "execution_count": 28,
   "id": "c731f863-7826-42cb-b71f-25436fddd00d",
   "metadata": {},
   "outputs": [],
   "source": [
    "def sum_of_evens(lst):\n",
    "    var=0\n",
    "    for x in lst:\n",
    "        for y in x:\n",
    "            if y%2==0:\n",
    "                a+=y\n",
    "    return a"
   ]
  },
  {
   "cell_type": "code",
   "execution_count": 29,
   "id": "357d5130-df6d-460e-894f-c0493063922d",
   "metadata": {},
   "outputs": [
    {
     "data": {
      "text/plain": [
       "66"
      ]
     },
     "execution_count": 29,
     "metadata": {},
     "output_type": "execute_result"
    }
   ],
   "source": [
    "sum_of_evens([ [42, 9], [16, 8] ])"
   ]
  },
  {
   "cell_type": "code",
   "execution_count": 32,
   "id": "82a01327-8878-4acb-8b31-f3194431d28c",
   "metadata": {},
   "outputs": [
    {
     "data": {
      "text/plain": [
       "6"
      ]
     },
     "execution_count": 32,
     "metadata": {},
     "output_type": "execute_result"
    }
   ],
   "source": [
    "sum_of_evens([[1, 0, 2], [5, 5, 7], [9, 4, 3]])"
   ]
  },
  {
   "cell_type": "code",
   "execution_count": 33,
   "id": "727dccb9-afad-416f-b8dc-268e99ac2f2e",
   "metadata": {},
   "outputs": [
    {
     "data": {
      "text/plain": [
       "0"
      ]
     },
     "execution_count": 33,
     "metadata": {},
     "output_type": "execute_result"
    }
   ],
   "source": [
    "sum_of_evens([[],[],[]])"
   ]
  },
  {
   "cell_type": "markdown",
   "id": "7e536a4c-149a-4e03-b8cf-00c1a5f63fc2",
   "metadata": {},
   "source": [
    "# 4. Get the Century\n",
    "Create a function that takes in a year and returns the correct century.\n",
    "\n",
    "Examples:\n",
    "\n",
    "century(1756) ➞ \"18th century\"\n",
    "\n",
    "century(1555) ➞ \"16th century\"\n",
    "\n",
    "century(1000) ➞ \"10th century\"\n",
    "\n",
    "century(1001) ➞ \"11th century\"\n",
    "\n",
    "century(2005) ➞ \"21st century\"\n",
    "\n",
    "Notes:\n",
    "All years will be between 1000 and 2010.\n",
    "The 11th century is between 1001 and 1100.\n",
    "The 18th century is between 1701-1800."
   ]
  },
  {
   "cell_type": "code",
   "execution_count": 38,
   "id": "ff0a00e5-9871-4512-aa9c-aadc2525a3c9",
   "metadata": {},
   "outputs": [],
   "source": [
    "def century(year):\n",
    "    if year%100==0:\n",
    "        return f'{year//100}th century'\n",
    "    else:\n",
    "        return f'{(year//100)+1}th century'   "
   ]
  },
  {
   "cell_type": "code",
   "execution_count": 39,
   "id": "cd9560c5-4072-4376-ae54-36b79a040545",
   "metadata": {},
   "outputs": [
    {
     "data": {
      "text/plain": [
       "'18th century'"
      ]
     },
     "execution_count": 39,
     "metadata": {},
     "output_type": "execute_result"
    }
   ],
   "source": [
    "century(1756)"
   ]
  },
  {
   "cell_type": "code",
   "execution_count": 40,
   "id": "452d56da-2bb5-4eaa-ab22-a45ef26fa82c",
   "metadata": {},
   "outputs": [
    {
     "data": {
      "text/plain": [
       "'11th century'"
      ]
     },
     "execution_count": 40,
     "metadata": {},
     "output_type": "execute_result"
    }
   ],
   "source": [
    "century(1001)"
   ]
  },
  {
   "cell_type": "code",
   "execution_count": 41,
   "id": "8d105640-0f99-485c-9643-394a97fad72b",
   "metadata": {},
   "outputs": [
    {
     "data": {
      "text/plain": [
       "'10th century'"
      ]
     },
     "execution_count": 41,
     "metadata": {},
     "output_type": "execute_result"
    }
   ],
   "source": [
    "century(1000)"
   ]
  },
  {
   "cell_type": "code",
   "execution_count": null,
   "id": "11b80bb5-afc4-4ba5-a5ee-3fc8acf51e1d",
   "metadata": {},
   "outputs": [],
   "source": []
  },
  {
   "cell_type": "code",
   "execution_count": null,
   "id": "1e03ee56-b83d-4a44-96df-8812728c5cdc",
   "metadata": {},
   "outputs": [],
   "source": []
  },
  {
   "cell_type": "code",
   "execution_count": null,
   "id": "d0a5445f-69a5-47c9-8bc6-4dfc4c0f2f0e",
   "metadata": {},
   "outputs": [],
   "source": []
  },
  {
   "cell_type": "code",
   "execution_count": null,
   "id": "d8241f41-b874-4181-bd0c-566b2e87e8e7",
   "metadata": {},
   "outputs": [],
   "source": []
  },
  {
   "cell_type": "code",
   "execution_count": null,
   "id": "880371e6-ab59-40d3-99fb-96f95d425c67",
   "metadata": {},
   "outputs": [],
   "source": []
  }
 ],
 "metadata": {
  "kernelspec": {
   "display_name": "Python 3 (ipykernel)",
   "language": "python",
   "name": "python3"
  },
  "language_info": {
   "codemirror_mode": {
    "name": "ipython",
    "version": 3
   },
   "file_extension": ".py",
   "mimetype": "text/x-python",
   "name": "python",
   "nbconvert_exporter": "python",
   "pygments_lexer": "ipython3",
   "version": "3.9.7"
  }
 },
 "nbformat": 4,
 "nbformat_minor": 5
}
