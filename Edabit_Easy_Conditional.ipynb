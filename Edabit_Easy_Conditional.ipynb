{
 "cells": [
  {
   "cell_type": "markdown",
   "id": "03b26015-9cbe-463e-822b-0c6118cac522",
   "metadata": {},
   "source": [
    "# Luke, I Am Your ...\n",
    " 1. Luke Skywalker has family and friends. Help him remind them who is who. Given a string with a name, return the relation of that person to Luke.\n",
    "\n",
    "Person\t      Relation\\\n",
    "Darth Vader\t  father\\\n",
    "Leia\t      sister\\\n",
    "Han\t          brother in law\\\n",
    "R2D2\t      droid\\\n",
    "Examples:\\\n",
    "relation_to_luke(\"Darth Vader\") ➞ \"Luke, I am your father.\"\\\n",
    "relation_to_luke(\"Leia\") ➞ \"Luke, I am your sister.\"\\\n",
    "relation_to_luke(\"Han\") ➞ \"Luke, I am your brother in law.\"\\"
   ]
  },
  {
   "cell_type": "code",
   "execution_count": 1,
   "id": "b71bef74-9b63-47ce-950e-7fd99c4f51af",
   "metadata": {},
   "outputs": [],
   "source": [
    "def relation_to_luke(name):\n",
    "    relations = {\"Darth Vader\": \"father\", \"Leia\": \"sister\",\"Han\": \"brother in law\",\"R2D2\": \"droid\"}\n",
    "\n",
    "    if name in relations:\n",
    "        return \"Luke, I am your {}.\".format(relations[name])\n",
    "    else:\n",
    "        return \"I'm sorry, I don't recognize that person.\"\n"
   ]
  },
  {
   "cell_type": "code",
   "execution_count": 2,
   "id": "533d91a1-6a72-48ed-9427-155bb7ea1699",
   "metadata": {},
   "outputs": [
    {
     "data": {
      "text/plain": [
       "'Luke, I am your father.'"
      ]
     },
     "execution_count": 2,
     "metadata": {},
     "output_type": "execute_result"
    }
   ],
   "source": [
    "relation_to_luke(\"Darth Vader\") "
   ]
  },
  {
   "cell_type": "code",
   "execution_count": 3,
   "id": "05eb3668-a0e9-4a66-bf5b-dbdfbddb527e",
   "metadata": {},
   "outputs": [
    {
     "data": {
      "text/plain": [
       "'Luke, I am your sister.'"
      ]
     },
     "execution_count": 3,
     "metadata": {},
     "output_type": "execute_result"
    }
   ],
   "source": [
    "relation_to_luke(\"Leia\")"
   ]
  },
  {
   "cell_type": "code",
   "execution_count": 4,
   "id": "6207e8a4-7683-4514-9007-f745c7eb2c9f",
   "metadata": {},
   "outputs": [
    {
     "data": {
      "text/plain": [
       "'Luke, I am your brother in law.'"
      ]
     },
     "execution_count": 4,
     "metadata": {},
     "output_type": "execute_result"
    }
   ],
   "source": [
    "relation_to_luke(\"Han\")"
   ]
  },
  {
   "cell_type": "markdown",
   "id": "d84baae7-9ed5-4acd-a192-fbe68fd7f325",
   "metadata": {},
   "source": [
    "# Calculating Damage\n",
    "2. Create a function that takes damage and speed (attacks per second) and returns the amount of damage after a given time.\n",
    "\n",
    "Examples\\\n",
    "damage(40, 5, \"second\") ➞ 200\\\n",
    "damage(100, 1, \"minute\") ➞ 6000\\\n",
    "damage(2, 100, \"hour\") ➞ 720000\\\n",
    "Notes\n",
    "Return \"invalid\" if damage or speed is negative."
   ]
  },
  {
   "cell_type": "code",
   "execution_count": 31,
   "id": "8a586116-5f38-46cc-a403-90aa8ed7ef80",
   "metadata": {},
   "outputs": [],
   "source": [
    "def damage(x,y,z):\n",
    "    if x<0 or y<0:\n",
    "        return \"invalid\"\n",
    "    elif z==\"second\":\n",
    "        return x*y\n",
    "    elif z==\"minute\":\n",
    "        return x*y*60\n",
    "    elif z==\"hour\":\n",
    "        return x*y*3600\n",
    "    else:\n",
    "        return \"none\""
   ]
  },
  {
   "cell_type": "code",
   "execution_count": 27,
   "id": "72dd1442-88bb-46b8-a53b-c0206695b1bb",
   "metadata": {},
   "outputs": [
    {
     "data": {
      "text/plain": [
       "200"
      ]
     },
     "execution_count": 27,
     "metadata": {},
     "output_type": "execute_result"
    }
   ],
   "source": [
    "damage(40, 5, \"second\")"
   ]
  },
  {
   "cell_type": "code",
   "execution_count": 28,
   "id": "2092523f-5853-4012-9d32-05b91ac1755d",
   "metadata": {},
   "outputs": [
    {
     "data": {
      "text/plain": [
       "6000"
      ]
     },
     "execution_count": 28,
     "metadata": {},
     "output_type": "execute_result"
    }
   ],
   "source": [
    "damage(100, 1, \"minute\")"
   ]
  },
  {
   "cell_type": "code",
   "execution_count": 29,
   "id": "fd685888-a2b5-428e-84b5-1d99cd516724",
   "metadata": {},
   "outputs": [
    {
     "data": {
      "text/plain": [
       "720000"
      ]
     },
     "execution_count": 29,
     "metadata": {},
     "output_type": "execute_result"
    }
   ],
   "source": [
    "damage(2, 100, \"hour\")"
   ]
  },
  {
   "cell_type": "code",
   "execution_count": 30,
   "id": "a8f6909e-3d42-481e-9449-92ed21fca2aa",
   "metadata": {},
   "outputs": [
    {
     "data": {
      "text/plain": [
       "'invalid'"
      ]
     },
     "execution_count": 30,
     "metadata": {},
     "output_type": "execute_result"
    }
   ],
   "source": [
    "damage(-100, 1, \"hour\")"
   ]
  },
  {
   "cell_type": "markdown",
   "id": "16589ce0-b378-4783-846c-6db2b5901893",
   "metadata": {},
   "source": [
    "# Same Parity?\n",
    "3. Create a function that takes a number as input and returns True if the sum of its digits has the same parity as the entire number Otherwise, return False.\n",
    "\n",
    "Examples\\\n",
    "parity_analysis(243) ➞ True\\\n",
    "243 is odd and so is 9 (2 + 4 + 3)\\\n",
    "\n",
    "parity_analysis(12) ➞ False\\\n",
    "12 is even but 3 is odd (1 + 2)\\\n",
    "\n",
    "parity_analysis(3) ➞ True\\\n",
    "3 is odd and 3 is odd and 3 is odd (3)\\\n",
    "Notes\\\n",
    "Parity is whether a number is even or odd. If the sum of the digits is even and the number itself is even, return True. \n",
    "The same goes if the number is odd and so is the sum of its digits.\n",
    "Single digits will obviously have the same parities (see example #3)."
   ]
  },
  {
   "cell_type": "code",
   "execution_count": 49,
   "id": "bea84b0b-c2f5-4f40-89bd-e3f751c7b619",
   "metadata": {},
   "outputs": [],
   "source": [
    "def parity_analysis(num):\n",
    "    digit_sum = sum(int(digit) for digit in str(num))\n",
    "    return num % 2 == digit_sum % 2\n"
   ]
  },
  {
   "cell_type": "code",
   "execution_count": 50,
   "id": "007b6a3f-1ce9-44aa-b09f-df3df133739a",
   "metadata": {},
   "outputs": [
    {
     "data": {
      "text/plain": [
       "True"
      ]
     },
     "execution_count": 50,
     "metadata": {},
     "output_type": "execute_result"
    }
   ],
   "source": [
    "parity_analysis(243)"
   ]
  },
  {
   "cell_type": "code",
   "execution_count": 51,
   "id": "1b0810b7-205c-464a-b665-22f79f653320",
   "metadata": {},
   "outputs": [
    {
     "data": {
      "text/plain": [
       "False"
      ]
     },
     "execution_count": 51,
     "metadata": {},
     "output_type": "execute_result"
    }
   ],
   "source": [
    "parity_analysis(12)"
   ]
  },
  {
   "cell_type": "code",
   "execution_count": 52,
   "id": "99a993f9-4ae9-4538-80fe-c9798a9286c3",
   "metadata": {},
   "outputs": [
    {
     "data": {
      "text/plain": [
       "True"
      ]
     },
     "execution_count": 52,
     "metadata": {},
     "output_type": "execute_result"
    }
   ],
   "source": [
    "parity_analysis(3)"
   ]
  },
  {
   "cell_type": "markdown",
   "id": "4a67dfbe-b198-4e35-a1ca-7232f37bb319",
   "metadata": {},
   "source": [
    "# Xs and Os, Nobody Knows\n",
    "4. Create a function that takes a string, checks if it has the same number of \"x\"s and \"o\"s and returns either True or False.\n",
    "\n",
    "Return a boolean value (True or False). Return True if the amount of x's and o's are the same. Return False if they aren't the same amount. The string can contain any character. When \"x\" and \"o\" are not in the string, return True. Examples XO(\"ooxx\") ➞ True\n",
    "\n",
    "XO(\"xooxx\") ➞ False\n",
    "\n",
    "XO(\"ooxXm\") ➞ True\n",
    "Case insensitive.\n",
    "\n",
    "XO(\"zpzpzpp\") ➞ True\n",
    "Returns True if no x and o.\n",
    "\n",
    "XO(\"zzoo\") ➞ False"
   ]
  },
  {
   "cell_type": "code",
   "execution_count": 73,
   "id": "32e5b089-4c5c-4399-844f-acb9b1bd9e61",
   "metadata": {},
   "outputs": [],
   "source": [
    "def XO(string):\n",
    "    string_lower = string.lower()\n",
    "    count_x = string_lower.count('x')\n",
    "    count_o = string_lower.count('o')\n",
    "    return count_x == count_o\n"
   ]
  },
  {
   "cell_type": "code",
   "execution_count": 74,
   "id": "916f0583-7565-4d6e-8cd9-910f86534958",
   "metadata": {},
   "outputs": [
    {
     "data": {
      "text/plain": [
       "False"
      ]
     },
     "execution_count": 74,
     "metadata": {},
     "output_type": "execute_result"
    }
   ],
   "source": [
    "XO(\"xooxx\") "
   ]
  },
  {
   "cell_type": "code",
   "execution_count": 75,
   "id": "da69aafa-ca52-498b-bef9-3166f4ee7922",
   "metadata": {},
   "outputs": [
    {
     "data": {
      "text/plain": [
       "True"
      ]
     },
     "execution_count": 75,
     "metadata": {},
     "output_type": "execute_result"
    }
   ],
   "source": [
    "XO(\"ooxXm\")"
   ]
  },
  {
   "cell_type": "code",
   "execution_count": 76,
   "id": "4e5e37aa-0dbb-4b9c-9c0e-0a4c7541870d",
   "metadata": {},
   "outputs": [
    {
     "data": {
      "text/plain": [
       "True"
      ]
     },
     "execution_count": 76,
     "metadata": {},
     "output_type": "execute_result"
    }
   ],
   "source": [
    "XO(\"zpzpzpp\")"
   ]
  },
  {
   "cell_type": "code",
   "execution_count": 77,
   "id": "00e98032-340a-4922-803e-f652f06a189a",
   "metadata": {},
   "outputs": [
    {
     "data": {
      "text/plain": [
       "False"
      ]
     },
     "execution_count": 77,
     "metadata": {},
     "output_type": "execute_result"
    }
   ],
   "source": [
    "XO(\"zzoo\")"
   ]
  },
  {
   "cell_type": "markdown",
   "id": "c7e1405c-689a-44bf-81f2-a80de26ef2ce",
   "metadata": {},
   "source": [
    "# Flip the Boolean\n",
    "5. Create a function that reverses a boolean value and returns the string \"boolean expected\" if another variable type is given.\n",
    "\n",
    "Examples reverse(True) ➞ False\n",
    "\n",
    "reverse(False) ➞ True\n",
    "\n",
    "reverse(0) ➞ \"boolean expected\"\n",
    "\n",
    "reverse(None) ➞ \"boolean expected\"\n",
    "\n",
    "Notes:  Don't forget to return the result. If you get stuck on a challenge, find help in the Resources tab. If you're really stuck, unlock solutions in the Solutions tab."
   ]
  },
  {
   "cell_type": "code",
   "execution_count": 9,
   "id": "0783190e-6010-464e-8b13-22573937eb0a",
   "metadata": {},
   "outputs": [],
   "source": [
    "def reverse(boolean):\n",
    "    if type(boolean) == bool:\n",
    "        return not boolean\n",
    "    else: \n",
    "         return \"boolean expected\""
   ]
  },
  {
   "cell_type": "code",
   "execution_count": 10,
   "id": "3d7d1e2d-f59c-49d4-8b10-e3091b2e06ad",
   "metadata": {},
   "outputs": [
    {
     "data": {
      "text/plain": [
       "False"
      ]
     },
     "execution_count": 10,
     "metadata": {},
     "output_type": "execute_result"
    }
   ],
   "source": [
    "reverse(True)"
   ]
  },
  {
   "cell_type": "code",
   "execution_count": 11,
   "id": "1a9f48ca-309f-4d89-9e0c-e479e6a33e9d",
   "metadata": {},
   "outputs": [
    {
     "data": {
      "text/plain": [
       "True"
      ]
     },
     "execution_count": 11,
     "metadata": {},
     "output_type": "execute_result"
    }
   ],
   "source": [
    "reverse(False)"
   ]
  },
  {
   "cell_type": "code",
   "execution_count": 12,
   "id": "309e5a84-eae2-431a-b645-9a2aefd657da",
   "metadata": {},
   "outputs": [
    {
     "data": {
      "text/plain": [
       "'boolean expected'"
      ]
     },
     "execution_count": 12,
     "metadata": {},
     "output_type": "execute_result"
    }
   ],
   "source": [
    "reverse(0)\n"
   ]
  },
  {
   "cell_type": "code",
   "execution_count": 13,
   "id": "74d592ef-acb7-49da-b8df-725c232176c0",
   "metadata": {},
   "outputs": [
    {
     "data": {
      "text/plain": [
       "'boolean expected'"
      ]
     },
     "execution_count": 13,
     "metadata": {},
     "output_type": "execute_result"
    }
   ],
   "source": [
    "\n",
    "reverse(None)"
   ]
  },
  {
   "cell_type": "markdown",
   "id": "ae5ab8b5-fe88-4839-878f-e1138952b675",
   "metadata": {
    "tags": []
   },
   "source": [
    "# Even Number Generator\n",
    "6 Using list comprehensions, create a function that finds all even numbers from 1 to the given number.\n",
    "\n",
    "Examples find_even_nums(8) ➞ [2, 4, 6, 8]\n",
    "\n",
    "find_even_nums(4) ➞ [2, 4]\n",
    "\n",
    "find_even_nums(2) ➞ [2] \n",
    "\n",
    "Try to use list comprehensions in your solution. \n",
    "\n",
    "Here's an example:\n",
    "\n",
    "vals = [expression for value in collection if condition] This is equivalent to:\n",
    "\n",
    "vals = [] for value in collection: if condition: vals.append(expression)"
   ]
  },
  {
   "cell_type": "code",
   "execution_count": 20,
   "id": "45a3ab01-7990-415e-b5b0-d235c37c9a37",
   "metadata": {},
   "outputs": [],
   "source": [
    "def find_even_nums(n):\n",
    "    return [num for num in range(1, n+1) if num % 2 == 0]"
   ]
  },
  {
   "cell_type": "markdown",
   "id": "b94ffdef-d0ab-4e1f-bb2a-49cd632bb688",
   "metadata": {},
   "source": [
    "def find_even_num(x):\n",
    "    a=[]\n",
    "    for y in range (1,x+1):\n",
    "        if y%2==0:\n",
    "            a.append(y)\n",
    "    return a"
   ]
  },
  {
   "cell_type": "code",
   "execution_count": 21,
   "id": "26e53ded-3056-4cdf-b01b-88d3416ac558",
   "metadata": {},
   "outputs": [
    {
     "data": {
      "text/plain": [
       "[2, 4, 6, 8]"
      ]
     },
     "execution_count": 21,
     "metadata": {},
     "output_type": "execute_result"
    }
   ],
   "source": [
    "find_even_nums(8)"
   ]
  },
  {
   "cell_type": "code",
   "execution_count": 22,
   "id": "88b89f42-a35e-4460-bd9e-1166ad3ce0f2",
   "metadata": {},
   "outputs": [
    {
     "data": {
      "text/plain": [
       "[2, 4]"
      ]
     },
     "execution_count": 22,
     "metadata": {},
     "output_type": "execute_result"
    }
   ],
   "source": [
    "find_even_nums(4)"
   ]
  },
  {
   "cell_type": "markdown",
   "id": "fb6827f2-466b-48c6-b18b-6361f2d75576",
   "metadata": {},
   "source": [
    "# Filter Strings from Array\n",
    "7. Create a function that takes a list of strings and integers, and filters out the list so that it returns a list of integers only.\n",
    "\n",
    "Examples \n",
    "\n",
    "filter_list( [1, 2, 3, \"a\", \"b\", 4] ) ➞ [1, 2, 3, 4]\n",
    "\n",
    "filter_list( [\"A\", 0, \"Edabit\", 1729, \"Python\", \"1729\"] ) ➞ [0, 1729]\n",
    "\n",
    "filter_list( [\"Nothing\", \"here\"] ) ➞ [ ]"
   ]
  },
  {
   "cell_type": "code",
   "execution_count": 131,
   "id": "baff377f-a0e9-4f44-8bc4-4b8556120962",
   "metadata": {},
   "outputs": [],
   "source": [
    "def filter_list(lst):\n",
    "    outcome = []\n",
    "    for item in lst:\n",
    "        if type(item)==int:\n",
    "            outcome.append(item)\n",
    "    return outcome"
   ]
  },
  {
   "cell_type": "code",
   "execution_count": 132,
   "id": "23622445-aa8c-4141-a94a-b601549b59c1",
   "metadata": {},
   "outputs": [
    {
     "data": {
      "text/plain": [
       "[1, 2, 3, 4]"
      ]
     },
     "execution_count": 132,
     "metadata": {},
     "output_type": "execute_result"
    }
   ],
   "source": [
    "filter_list( [1, 2, 3, \"a\", \"b\", 4] )"
   ]
  },
  {
   "cell_type": "code",
   "execution_count": 133,
   "id": "75e6538f-1a08-4396-85f0-98791e9b3aac",
   "metadata": {},
   "outputs": [
    {
     "data": {
      "text/plain": [
       "[0, 1729]"
      ]
     },
     "execution_count": 133,
     "metadata": {},
     "output_type": "execute_result"
    }
   ],
   "source": [
    "filter_list( [\"A\", 0, \"Edabit\", 1729, \"Python\", \"1729\"] )"
   ]
  },
  {
   "cell_type": "code",
   "execution_count": 135,
   "id": "b54ed303-e7da-4b5f-b386-5f65b87fb0d4",
   "metadata": {},
   "outputs": [
    {
     "data": {
      "text/plain": [
       "[]"
      ]
     },
     "execution_count": 135,
     "metadata": {},
     "output_type": "execute_result"
    }
   ],
   "source": [
    "filter_list( [\"Nothing\", \"here\"] )"
   ]
  },
  {
   "cell_type": "markdown",
   "id": "26d1a6e2-3209-486c-87e3-94cc048436c1",
   "metadata": {},
   "source": [
    "# Stand in Line\n",
    "8. Write a function that takes a list and a number as arguments. Add the number to the end of the list, then remove the first element of the list. The function should then return the updated list.\n",
    "\n",
    "Examples:\n",
    "\n",
    "next_in_line([5, 6, 7, 8, 9], 1) ➞ [6, 7, 8, 9, 1]\n",
    "\n",
    "next_in_line([7, 6, 3, 23, 17], 10) ➞ [6, 3, 23, 17, 10]\n",
    "\n",
    "next_in_line([1, 10, 20, 42 ], 6) ➞ [10, 20, 42, 6]\n",
    "\n",
    "next_in_line([ ], 6) ➞ \"No list has been selected\" \n",
    "\n",
    "Notes For an empty list input, return: \"No list has been selected\""
   ]
  },
  {
   "cell_type": "code",
   "execution_count": 153,
   "id": "a56f453f-9cef-4bb1-9012-c2b13c5d9e0c",
   "metadata": {},
   "outputs": [],
   "source": [
    "def next_in_line(lst, num):\n",
    "    if not lst:\n",
    "        return \"No list has been selected\"\n",
    "    lst.pop(0)\n",
    "    lst.append(num)\n",
    "    return lst"
   ]
  },
  {
   "cell_type": "code",
   "execution_count": 154,
   "id": "86406b63-35a5-402b-b2a0-d3d87c0bef28",
   "metadata": {},
   "outputs": [
    {
     "data": {
      "text/plain": [
       "[6, 7, 8, 9, 1]"
      ]
     },
     "execution_count": 154,
     "metadata": {},
     "output_type": "execute_result"
    }
   ],
   "source": [
    "next_in_line([5, 6, 7, 8, 9], 1)"
   ]
  },
  {
   "cell_type": "code",
   "execution_count": 155,
   "id": "4d43a0a3-2f2c-451f-a4b4-265334c54945",
   "metadata": {},
   "outputs": [
    {
     "data": {
      "text/plain": [
       "[6, 3, 23, 17, 10]"
      ]
     },
     "execution_count": 155,
     "metadata": {},
     "output_type": "execute_result"
    }
   ],
   "source": [
    "next_in_line([7, 6, 3, 23, 17], 10)"
   ]
  },
  {
   "cell_type": "code",
   "execution_count": 156,
   "id": "fde2419e-3f4e-4927-a961-f21c206a3e3b",
   "metadata": {},
   "outputs": [
    {
     "data": {
      "text/plain": [
       "[10, 20, 42, 6]"
      ]
     },
     "execution_count": 156,
     "metadata": {},
     "output_type": "execute_result"
    }
   ],
   "source": [
    "next_in_line([1, 10, 20, 42 ], 6)"
   ]
  },
  {
   "cell_type": "code",
   "execution_count": 157,
   "id": "8faba159-6872-439a-8c49-c33501c0766b",
   "metadata": {},
   "outputs": [
    {
     "data": {
      "text/plain": [
       "'No list has been selected'"
      ]
     },
     "execution_count": 157,
     "metadata": {},
     "output_type": "execute_result"
    }
   ],
   "source": [
    "next_in_line([ ], 6)"
   ]
  },
  {
   "cell_type": "markdown",
   "id": "efdcb347-c2f0-48f7-991c-a27eccd785fe",
   "metadata": {},
   "source": [
    "# Card Counting (BlackJack)\n",
    "9. In BlackJack, cards are counted with -1, 0, 1 values:\n",
    "\n",
    "   2, 3, 4, 5, 6 are counted as +1 \\\n",
    "   7, 8, 9 are counted as 0 \\\n",
    "   10, J, Q, K, A are counted as -1 \\\n",
    "\n",
    "Create a function that counts the number and returns it from the list of cards provided.\n",
    "\n",
    "Examples count([5, 9, 10, 3, \"J\", \"A\", 4, 8, 5]) ➞ 1\n",
    "\n",
    "count([\"A\", \"A\", \"K\", \"Q\", \"Q\", \"J\"]) ➞ -6\n",
    "\n",
    "count([\"A\", 5, 5, 2, 6, 2, 3, 8, 9, 7]) ➞ 5 \n",
    "\n",
    "Notes: String inputs will always be upper case. You do not need to consider case sensitivity. \n",
    "\n",
    "If the argument is empty, return 0. No input other than: 2, 3, 4, 5, 6, 7, 8, 9, 10, \"J\", \"Q\", \"K\", \"A\"."
   ]
  },
  {
   "cell_type": "code",
   "execution_count": 23,
   "id": "716ee38d-73ce-421c-9af4-f4e0bcd48320",
   "metadata": {},
   "outputs": [],
   "source": [
    "def count(cards):\n",
    "    count = 0\n",
    "    for card in cards:\n",
    "        if card in [2, 3, 4, 5, 6]:\n",
    "            count += 1\n",
    "        elif card in [10, \"J\", \"Q\", \"K\", \"A\"]:\n",
    "            count -= 1\n",
    "    return count"
   ]
  },
  {
   "cell_type": "code",
   "execution_count": 25,
   "id": "2bf17273-6e2e-4193-a158-521662f94df2",
   "metadata": {},
   "outputs": [
    {
     "data": {
      "text/plain": [
       "1"
      ]
     },
     "execution_count": 25,
     "metadata": {},
     "output_type": "execute_result"
    }
   ],
   "source": [
    "count([5, 9, 10, 3, \"J\", \"A\", 4, 8, 5])"
   ]
  },
  {
   "cell_type": "code",
   "execution_count": 26,
   "id": "ba432b6b-1ac2-43d2-94e0-86f028586672",
   "metadata": {},
   "outputs": [
    {
     "data": {
      "text/plain": [
       "-6"
      ]
     },
     "execution_count": 26,
     "metadata": {},
     "output_type": "execute_result"
    }
   ],
   "source": [
    "count([\"A\", \"A\", \"K\", \"Q\", \"Q\", \"J\"])"
   ]
  },
  {
   "cell_type": "code",
   "execution_count": 27,
   "id": "4f1e88f7-9872-4ae4-813c-f8301a670713",
   "metadata": {},
   "outputs": [
    {
     "data": {
      "text/plain": [
       "5"
      ]
     },
     "execution_count": 27,
     "metadata": {},
     "output_type": "execute_result"
    }
   ],
   "source": [
    "count([\"A\", 5, 5, 2, 6, 2, 3, 8, 9, 7])"
   ]
  },
  {
   "cell_type": "markdown",
   "id": "75916573-a4df-45d2-87e7-5240d9cff87d",
   "metadata": {},
   "source": [
    "# Western Showdown\n",
    "10. Wild Roger is participating in a Western Showdown, meaning he has to draw (pull out and shoot) his gun faster than his opponent in a gun standoff.\n",
    "\n",
    "Given two strings,p1 and p2, return which person drew their gun the fastest. If both are drawn at the same time, return \"tie\".\n",
    "\n",
    "Examples:\n",
    "showdown( \" Bang! \", \" Bang! \" ) ➞ \"p1\"\n",
    "\n",
    "p1 draws his gun sooner than p2\n",
    "showdown( \" Bang! \", \" Bang! \" ) ➞ \"p2\"\n",
    "\n",
    "showdown( \" Bang! \", \" Bang! \" ) ➞ \"tie\" \n",
    "\n",
    "Notes: Both strings are the same length."
   ]
  },
  {
   "cell_type": "code",
   "execution_count": 16,
   "id": "72fd2bda-c3f4-4908-8fc3-d747d33add1a",
   "metadata": {},
   "outputs": [],
   "source": [
    "def showdown(p1,p2):\n",
    "    if p1.index(\"B\")>p2.index(\"B\"):\n",
    "        return \"p2\"\n",
    "    elif p1.index(\"B\")<p2.index(\"B\"):\n",
    "        return \"p1\"\n",
    "    else:\n",
    "        return \"tie\""
   ]
  },
  {
   "cell_type": "code",
   "execution_count": 17,
   "id": "617679f1-0d7a-4978-b09a-ab2f11bcaf18",
   "metadata": {},
   "outputs": [
    {
     "data": {
      "text/plain": [
       "'p1'"
      ]
     },
     "execution_count": 17,
     "metadata": {},
     "output_type": "execute_result"
    }
   ],
   "source": [
    "showdown(\n",
    "  \"   Bang!        \",\n",
    "  \"        Bang!   \"\n",
    ")"
   ]
  },
  {
   "cell_type": "code",
   "execution_count": 18,
   "id": "7af09e57-b934-462a-a769-84e344462af3",
   "metadata": {},
   "outputs": [
    {
     "data": {
      "text/plain": [
       "'p2'"
      ]
     },
     "execution_count": 18,
     "metadata": {},
     "output_type": "execute_result"
    }
   ],
   "source": [
    "showdown(\n",
    "  \"     Bang!   \",\n",
    "  \"    Bang!   \"\n",
    ")"
   ]
  },
  {
   "cell_type": "code",
   "execution_count": 20,
   "id": "42deb79c-5baa-469c-a7d5-ffcd6c01eeed",
   "metadata": {},
   "outputs": [
    {
     "data": {
      "text/plain": [
       "'tie'"
      ]
     },
     "execution_count": 20,
     "metadata": {},
     "output_type": "execute_result"
    }
   ],
   "source": [
    "showdown(\n",
    "  \"               Bang! \",\n",
    "  \"               Bang!   \"\n",
    ")"
   ]
  },
  {
   "cell_type": "markdown",
   "id": "39e8e052-b54b-416e-9024-71b59e6f1165",
   "metadata": {},
   "source": [
    "# Is the Number Symmetrical?\n",
    "11. Create a function that takes a number as an argument and returns True or False depending on whether the number is symmetrical or not. A number is symmetrical when it is the same as its reverse.\n",
    "\n",
    "Examples:\n",
    "is_symmetrical(7227) ➞ True\n",
    "\n",
    "is_symmetrical(12567) ➞ False\n",
    "\n",
    "is_symmetrical(44444444) ➞ True\n",
    "\n",
    "is_symmetrical(9939) ➞ False\n",
    "\n",
    "is_symmetrical(1112111) ➞ True"
   ]
  },
  {
   "cell_type": "code",
   "execution_count": 55,
   "id": "52e07dd2-865e-40c4-afac-98e3317cedea",
   "metadata": {},
   "outputs": [],
   "source": [
    "def palindrome (num):\n",
    "    input_num = str(num)\n",
    "    return input_num == input_num[::-1]\n"
   ]
  },
  {
   "cell_type": "code",
   "execution_count": 56,
   "id": "ce1258c6-e789-4b03-8149-ee0be76980a6",
   "metadata": {},
   "outputs": [
    {
     "data": {
      "text/plain": [
       "True"
      ]
     },
     "execution_count": 56,
     "metadata": {},
     "output_type": "execute_result"
    }
   ],
   "source": [
    "palindrome (727)"
   ]
  },
  {
   "cell_type": "code",
   "execution_count": 57,
   "id": "dc50ef80-a3b4-4b01-8f5c-63782c1736e8",
   "metadata": {},
   "outputs": [
    {
     "data": {
      "text/plain": [
       "False"
      ]
     },
     "execution_count": 57,
     "metadata": {},
     "output_type": "execute_result"
    }
   ],
   "source": [
    "palindrome ((12567))"
   ]
  },
  {
   "cell_type": "code",
   "execution_count": 58,
   "id": "35f96216-0c31-4932-9a61-cfdd7eb818c4",
   "metadata": {
    "tags": []
   },
   "outputs": [
    {
     "data": {
      "text/plain": [
       "True"
      ]
     },
     "execution_count": 58,
     "metadata": {},
     "output_type": "execute_result"
    }
   ],
   "source": [
    "palindrome(44444444)"
   ]
  },
  {
   "cell_type": "markdown",
   "id": "77ede47e-6264-4b70-baeb-df601447bac6",
   "metadata": {},
   "source": [
    "# Minimal VI: Ternary Operator\n",
    "12. Check the principles of minimalist code in the intro to the first challenge.\n",
    "\n",
    "In the Code tab you will find a code that is missing a single character in order to pass the tests. However, your goal is to submit a function as minimalist as possible. Use the tips in the tips section below.\n",
    "\n",
    "Write a function that returns the strings:\n",
    "\n",
    "\"both\" if both given booleans a and b are True.\\\n",
    "\"first\" if only a is True.\\\n",
    "\"second\" if only b is True.\\\n",
    "\"neither\" if both a and b are False.\\\n",
    "\n",
    "Tips\n",
    "If-else statements can be written as a oneliner using Python's ternary operator.\n",
    "\n",
    "For example, the code:\n",
    "\n",
    "def startswith(name):\\\n",
    "  if name[0] in \"AEIOU\":\\\n",
    "    return \"vowel\"\\\n",
    "  else:\\\n",
    "    return \"consonant\"\n",
    "    \n",
    "Can be simplified to:\n",
    "\n",
    "def startswith(name): \\\n",
    "return \"vowel\" if name[0] in \"AEIOU\" else \"consonant\""
   ]
  },
  {
   "cell_type": "code",
   "execution_count": 99,
   "id": "68687ecd-85f0-432a-9dc8-928d14e80137",
   "metadata": {},
   "outputs": [],
   "source": [
    "def both_bool_or_not(a,b):\n",
    "    return \"both\" if type(a)==bool and type(b)==bool else \"first\" if type(a)==bool and type(b)!=bool \\\n",
    "else \"second\" if type(a)!=bool and type(b)==bool else \"neither\""
   ]
  },
  {
   "cell_type": "code",
   "execution_count": 100,
   "id": "fe57e47a-9ed4-4836-9f95-2914a3bc750f",
   "metadata": {},
   "outputs": [
    {
     "data": {
      "text/plain": [
       "'neither'"
      ]
     },
     "execution_count": 100,
     "metadata": {},
     "output_type": "execute_result"
    }
   ],
   "source": [
    "both_bool_or_not(\"True\",1)"
   ]
  },
  {
   "cell_type": "code",
   "execution_count": 101,
   "id": "3840f574-b76a-4300-98ae-a9c21af25b95",
   "metadata": {},
   "outputs": [
    {
     "data": {
      "text/plain": [
       "'second'"
      ]
     },
     "execution_count": 101,
     "metadata": {},
     "output_type": "execute_result"
    }
   ],
   "source": [
    "both_bool_or_not(\"True\",False)"
   ]
  },
  {
   "cell_type": "code",
   "execution_count": 102,
   "id": "18f42101-06bf-4516-bfd4-3f33f14f55b5",
   "metadata": {},
   "outputs": [
    {
     "data": {
      "text/plain": [
       "'both'"
      ]
     },
     "execution_count": 102,
     "metadata": {},
     "output_type": "execute_result"
    }
   ],
   "source": [
    "both_bool_or_not(True,False)"
   ]
  },
  {
   "cell_type": "code",
   "execution_count": 103,
   "id": "8d3c7ec7-f59d-408e-b283-0ae1b32c1278",
   "metadata": {},
   "outputs": [
    {
     "data": {
      "text/plain": [
       "'first'"
      ]
     },
     "execution_count": 103,
     "metadata": {},
     "output_type": "execute_result"
    }
   ],
   "source": [
    "both_bool_or_not(True,1)"
   ]
  },
  {
   "cell_type": "markdown",
   "id": "bc7497f6-ebdb-40df-b10b-cb17e02f8fd9",
   "metadata": {},
   "source": [
    "# Hot Pics of Danny DeVito!\n",
    "13. I am trying to watch some lectures to study for my next exam but I keep getting distracted by meme compilations, vine compilations, anime, and more on my favorite video platform.\n",
    "\n",
    "Your job is to help me create a function that takes a string and checks to see if it contains the following words or phrases:\n",
    "\n",
    "\"anime\"\n",
    "\"meme\"\n",
    "\"vines\"\n",
    "\"roasts\"\n",
    "\"Danny DeVito\"\n",
    "\n",
    "If it does, return \"NO!\". Otherwise, return \"Safe watching!\".\n",
    "\n",
    "Examples:\n",
    "prevent_distractions(\"vines that butter my eggroll\") ➞ \"NO!\"\n",
    "\n",
    "prevent_distractions(\"Hot pictures of Danny DeVito\") ➞ \"NO!\"\n",
    "\n",
    "prevent_distractions(\"How to ace BC Calculus in 5 Easy Steps\") ➞ \"Safe watching!"
   ]
  },
  {
   "cell_type": "code",
   "execution_count": 72,
   "id": "44b113c9-64ff-42e4-9afd-744fa1817ddf",
   "metadata": {},
   "outputs": [],
   "source": [
    "def prevent_distractions(x):\n",
    "    x=str(x)\n",
    "    if \"anime\" in x or \"meme\" in x or \"vines\" in x or \"roasts\" in x or \"Danny DeVito\" in x:\n",
    "        return \"NO!\"\n",
    "    else:\n",
    "        return \"safe watching\""
   ]
  },
  {
   "cell_type": "code",
   "execution_count": 73,
   "id": "ee0c218e-57e7-4338-a318-c5896381dd11",
   "metadata": {},
   "outputs": [
    {
     "data": {
      "text/plain": [
       "'NO!'"
      ]
     },
     "execution_count": 73,
     "metadata": {},
     "output_type": "execute_result"
    }
   ],
   "source": [
    "prevent_distractions(\"vines that butter my eggroll\")"
   ]
  },
  {
   "cell_type": "code",
   "execution_count": 74,
   "id": "8b999a42-6f60-408b-bbaa-15ce6b8a9242",
   "metadata": {},
   "outputs": [
    {
     "data": {
      "text/plain": [
       "'NO!'"
      ]
     },
     "execution_count": 74,
     "metadata": {},
     "output_type": "execute_result"
    }
   ],
   "source": [
    "prevent_distractions(\"Hot pictures of Danny DeVito\")"
   ]
  },
  {
   "cell_type": "code",
   "execution_count": 75,
   "id": "b80505d8-1cc5-4450-8a91-1dbc2ffccb85",
   "metadata": {},
   "outputs": [
    {
     "data": {
      "text/plain": [
       "'safe watching'"
      ]
     },
     "execution_count": 75,
     "metadata": {},
     "output_type": "execute_result"
    }
   ],
   "source": [
    "prevent_distractions(\"How to ace BC Calculus in 5 Easy Steps\")"
   ]
  },
  {
   "cell_type": "markdown",
   "id": "3c111b48-c757-4ce6-9d07-c7d44b94c6a5",
   "metadata": {},
   "source": [
    "# Equality of 3 Values\n",
    "14. Create a function that takes three integer arguments (a, b, c) and returns the amount of integers which are of equal value.\n",
    "Examples:\n",
    "\n",
    "equal(3, 4, 3) ➞ 2\n",
    "\n",
    "equal(1, 1, 1) ➞ 3\n",
    "\n",
    "equal(3, 4, 1) ➞ 0 \n",
    "\n",
    "Notes: Your function must return 0, 2 or 3.\n",
    "\n"
   ]
  },
  {
   "cell_type": "code",
   "execution_count": 105,
   "id": "ae4f0413-6654-4a00-ba5a-2edc52490d8d",
   "metadata": {},
   "outputs": [],
   "source": [
    "def equal(num1,num2,num3):\n",
    "    return 3 if num1==num2==num3 else 2 if num1==num2 or num1==num3 or num2==num3 else 0\n",
    "    "
   ]
  },
  {
   "cell_type": "code",
   "execution_count": 106,
   "id": "3d5f57dc-8db0-4f0a-8dcb-0ef6a1da2927",
   "metadata": {},
   "outputs": [
    {
     "data": {
      "text/plain": [
       "2"
      ]
     },
     "execution_count": 106,
     "metadata": {},
     "output_type": "execute_result"
    }
   ],
   "source": [
    "equal(3, 4, 3)\n"
   ]
  },
  {
   "cell_type": "code",
   "execution_count": 107,
   "id": "15bb1a5f-c804-414c-b527-e1016f3e7789",
   "metadata": {},
   "outputs": [
    {
     "data": {
      "text/plain": [
       "3"
      ]
     },
     "execution_count": 107,
     "metadata": {},
     "output_type": "execute_result"
    }
   ],
   "source": [
    "\n",
    "equal(1, 1, 1)\n"
   ]
  },
  {
   "cell_type": "code",
   "execution_count": 108,
   "id": "dad52d0d-0504-43f8-a038-1a4d20f7ae87",
   "metadata": {},
   "outputs": [
    {
     "data": {
      "text/plain": [
       "0"
      ]
     },
     "execution_count": 108,
     "metadata": {},
     "output_type": "execute_result"
    }
   ],
   "source": [
    "\n",
    "equal(3, 4, 1)"
   ]
  },
  {
   "cell_type": "markdown",
   "id": "b5e13b2f-6199-41eb-ba6e-db1fbb4ed63c",
   "metadata": {
    "tags": []
   },
   "source": [
    "# Vowel Sandwich\n",
    "15. Create a function which validates whether a 3 character string is a vowel sandwich. In order to have a valid sandwich, the string must satisfy the following rules:\n",
    "\n",
    "The first and last characters must be a consonant.\n",
    "The character in the middle must be a vowel.\n",
    "\n",
    "Examples:\n",
    "\n",
    "is_vowel_sandwich(\"cat\") ➞ True\n",
    "\n",
    "is_vowel_sandwich(\"ear\") ➞ False\n",
    "\n",
    "is_vowel_sandwich(\"bake\") ➞ False\n",
    "\n",
    "is_vowel_sandwich(\"try\") ➞ False\n",
    "\n",
    "Notes:\n",
    "\n",
    "Return False if the word is not 3 characters in length.\n",
    "All words will be given in lowercase.\n",
    "y is not considered a vowel."
   ]
  },
  {
   "cell_type": "code",
   "execution_count": 2,
   "id": "308a6bd4-0bfb-495a-b047-fc71d1cf4968",
   "metadata": {},
   "outputs": [],
   "source": [
    "def is_vowel_sandwich(word):\n",
    "    vowels='aeiouAEIOU'\n",
    "    if len(word)==3 and word[1] in vowels and word[0] not in vowels and word[2] not in vowels:\n",
    "        return True\n",
    "    else:\n",
    "        return False"
   ]
  },
  {
   "cell_type": "code",
   "execution_count": 3,
   "id": "998cb706-e0d5-4c76-82fd-0ba4bd59392d",
   "metadata": {},
   "outputs": [
    {
     "data": {
      "text/plain": [
       "True"
      ]
     },
     "execution_count": 3,
     "metadata": {},
     "output_type": "execute_result"
    }
   ],
   "source": [
    "is_vowel_sandwich(\"cat\")"
   ]
  },
  {
   "cell_type": "code",
   "execution_count": 4,
   "id": "eedb36e8-5e7d-4081-97da-666edac22fc1",
   "metadata": {},
   "outputs": [
    {
     "data": {
      "text/plain": [
       "False"
      ]
     },
     "execution_count": 4,
     "metadata": {},
     "output_type": "execute_result"
    }
   ],
   "source": [
    "is_vowel_sandwich(\"ear\")"
   ]
  },
  {
   "cell_type": "code",
   "execution_count": 5,
   "id": "27e37ff8-6c91-4eb2-b64f-32a48f0545b1",
   "metadata": {},
   "outputs": [
    {
     "data": {
      "text/plain": [
       "False"
      ]
     },
     "execution_count": 5,
     "metadata": {},
     "output_type": "execute_result"
    }
   ],
   "source": [
    "is_vowel_sandwich(\"bake\")"
   ]
  },
  {
   "cell_type": "code",
   "execution_count": 6,
   "id": "fbda12ae-d8ee-4977-bfe6-cac2769bd2d5",
   "metadata": {},
   "outputs": [
    {
     "data": {
      "text/plain": [
       "False"
      ]
     },
     "execution_count": 6,
     "metadata": {},
     "output_type": "execute_result"
    }
   ],
   "source": [
    "is_vowel_sandwich(\"try\")"
   ]
  },
  {
   "cell_type": "code",
   "execution_count": 10,
   "id": "5d314430-e798-4ebf-964f-51e68d43a214",
   "metadata": {},
   "outputs": [],
   "source": [
    "test_cases=['cat','dog','ear','try','bake']"
   ]
  },
  {
   "cell_type": "code",
   "execution_count": 8,
   "id": "6a833643-4ed0-4e38-bf3a-6df0149d5de5",
   "metadata": {},
   "outputs": [
    {
     "name": "stdout",
     "output_type": "stream",
     "text": [
      "cat True\n",
      "dog True\n",
      "ear False\n",
      "try False\n",
      "bake False\n"
     ]
    }
   ],
   "source": [
    "for test_case in test_cases:\n",
    "    print(test_case,is_vowel_sandwich(test_case))"
   ]
  },
  {
   "cell_type": "code",
   "execution_count": 9,
   "id": "2b22b635-1664-4ced-a3f0-acaad15f656b",
   "metadata": {},
   "outputs": [],
   "source": [
    "def list_is_vowel_sandwich(lst):\n",
    "    dict1 = {}\n",
    "    for word in lst:\n",
    "        vowels='aeiouAEIOU'\n",
    "        if len(word)==3 and word[1] in vowels and word[0] not in vowels and word[2] not in vowels:\n",
    "            dict1[word]=True\n",
    "        else:\n",
    "            dict1[word]=False\n",
    "    return dict1\n"
   ]
  },
  {
   "cell_type": "code",
   "execution_count": 11,
   "id": "2d926934-9e81-4a14-8126-57257cd05b3a",
   "metadata": {},
   "outputs": [
    {
     "data": {
      "text/plain": [
       "{'cat': True, 'dog': True, 'ear': False, 'try': False, 'bake': False}"
      ]
     },
     "execution_count": 11,
     "metadata": {},
     "output_type": "execute_result"
    }
   ],
   "source": [
    "list_is_vowel_sandwich(test_cases)"
   ]
  },
  {
   "cell_type": "code",
   "execution_count": null,
   "id": "2c20c0f8-df6b-4b4b-87a3-daceaff2878c",
   "metadata": {},
   "outputs": [],
   "source": []
  },
  {
   "cell_type": "markdown",
   "id": "b8cc5111-fdae-40e6-a238-9c81a04dc064",
   "metadata": {},
   "source": [
    "def is_vowel_sandwich(word):\n",
    "    # Check if the word is exactly 3 characters long\n",
    "    if len(word) != 3:\n",
    "        return False\n",
    "\n",
    "    # Define the list of vowels and consonants\n",
    "    vowels = ['a', 'e', 'i', 'o', 'u']\n",
    "    consonants = [chr(c) for c in range(ord('a'), ord('z') + 1) if chr(c) not in vowels]\n",
    "\n",
    "    # Check the conditions for a vowel sandwich\n",
    "    if word[0] in consonants and word[1] in vowels and word[2] in consonants:\n",
    "        return True\n",
    "    else:\n",
    "        return False"
   ]
  },
  {
   "cell_type": "markdown",
   "id": "1e77fbb2-e1ce-4e13-8106-37c2a3f6a56d",
   "metadata": {},
   "source": [
    "def is_vowel_sandwich(s):\n",
    "    middle_char=0;end_char=0\n",
    "    if len(s)==3:\n",
    "        for x in s:\n",
    "            if x==\"a\" or x==\"e\" or x==\"i\" or x==\"o\" or x==\"u\":\n",
    "                middle_char+=1\n",
    "            else:\n",
    "                end_char+=1\n",
    "        return (end_char==2 and middle_char==1)\n",
    "    else:\n",
    "        return False"
   ]
  },
  {
   "cell_type": "code",
   "execution_count": null,
   "id": "4bb27e18-8ca4-41f8-bdfd-2fc2b97b4368",
   "metadata": {},
   "outputs": [],
   "source": []
  },
  {
   "cell_type": "markdown",
   "id": "9b35aae7-179d-4d3f-a67b-b748df96fde7",
   "metadata": {},
   "source": [
    "# Split a String Based on Vowels and Consonants\n",
    "\n",
    "16.  Write a function that takes a string, breaks it up and returns it with vowels first, consonants second. For any character that's not a vowel (like special characters or spaces), treat them like consonants.\n",
    "\n",
    "Examples\n",
    "split(\"abcde\") ➞ \"aebcd\"\n",
    "\n",
    "split(\"Hello!\") ➞ \"eoHll!\"\n",
    "\n",
    "split(\"What's the time?\") ➞ \"aeieWht's th tm?\"\n",
    "\n",
    "Notes:\n",
    "Define a separate is_vowel() function for easier to read code (recommendation)."
   ]
  },
  {
   "cell_type": "code",
   "execution_count": 16,
   "id": "74500295-e120-4d6c-a232-0b410b0d7552",
   "metadata": {},
   "outputs": [],
   "source": [
    "name = 'Is Anurag learning pyth@n?'"
   ]
  },
  {
   "cell_type": "code",
   "execution_count": 17,
   "id": "9425b9da-ce23-4b82-ae2f-e623161bfabc",
   "metadata": {},
   "outputs": [],
   "source": [
    "def split_v_c(w):\n",
    "    v = 'aeiouAEIOU'\n",
    "    prefix = ''\n",
    "    suffix = ''\n",
    "    for letter in w:\n",
    "        if letter in v:\n",
    "            prefix=prefix+letter\n",
    "        else:\n",
    "            suffix=suffix+letter\n",
    "    return prefix+suffix        "
   ]
  },
  {
   "cell_type": "code",
   "execution_count": 18,
   "id": "218a5b69-bc7a-4b75-bf6a-2585388f5706",
   "metadata": {},
   "outputs": [
    {
     "data": {
      "text/plain": [
       "'IAuaeais nrg lrnng pyth@n?'"
      ]
     },
     "execution_count": 18,
     "metadata": {},
     "output_type": "execute_result"
    }
   ],
   "source": [
    "split_v_c(name)"
   ]
  },
  {
   "cell_type": "code",
   "execution_count": null,
   "id": "daa63d8e-2be0-4039-86ac-3fd27c678686",
   "metadata": {},
   "outputs": [],
   "source": []
  },
  {
   "cell_type": "markdown",
   "id": "3a58c853-4ad7-4090-8fbd-68485c4d9578",
   "metadata": {},
   "source": [
    "# Count the Letters and Digits\n",
    "17. Write a function that takes a string and calculates the number of letters and digits within it. Return the result in a dictionary.\n",
    "\n",
    "Examples:\n",
    "\n",
    "count_all(\"Hello World\") ➞ { \"LETTERS\":  10, \"DIGITS\": 0 }\n",
    "\n",
    "count_all(\"H3ll0 Wor1d\") ➞ { \"LETTERS\":  7, \"DIGITS\": 3 }\n",
    "\n",
    "count_all(\"149990\") ➞ { \"LETTERS\": 0, \"DIGITS\": 6 }\n",
    "\n",
    "Notes:\n",
    "\n",
    "Tests contain only alphanumeric characters.\n",
    "\n",
    "Spaces are not letters.\n",
    "\n",
    "All tests contain valid strings."
   ]
  },
  {
   "cell_type": "code",
   "execution_count": 37,
   "id": "2ef7b032-3791-4425-8de9-da8f2b3aedbc",
   "metadata": {},
   "outputs": [],
   "source": [
    "def count_all(string):\n",
    "    LETTERS=0\n",
    "    NUMBERS=0\n",
    "    for char in string:\n",
    "        if char.isalpha():\n",
    "            LETTERS=LETTERS+1\n",
    "        elif char.isnumeric():\n",
    "            NUMBERS=NUMBERS+1\n",
    "    return{'LETTERS':LETTERS,'NUMBERS':NUMBERS}"
   ]
  },
  {
   "cell_type": "code",
   "execution_count": 4,
   "id": "41aa64b4-c541-4c15-861f-1129f56d4905",
   "metadata": {},
   "outputs": [
    {
     "data": {
      "text/plain": [
       "{'LETTERS': 10, 'NUMBERS': 0}"
      ]
     },
     "execution_count": 4,
     "metadata": {},
     "output_type": "execute_result"
    }
   ],
   "source": [
    "count_all(\"Hello World\")"
   ]
  },
  {
   "cell_type": "code",
   "execution_count": 35,
   "id": "36bb4b38-4f40-462f-9e61-8691f2b8614f",
   "metadata": {},
   "outputs": [
    {
     "data": {
      "text/plain": [
       "{'LETTERS': 7, 'NUMBERS': 3}"
      ]
     },
     "execution_count": 35,
     "metadata": {},
     "output_type": "execute_result"
    }
   ],
   "source": [
    "count_all(\"H3ll0 Wor1d\")"
   ]
  },
  {
   "cell_type": "code",
   "execution_count": 36,
   "id": "665b6558-b2d4-4aed-91d4-79ce83e0206b",
   "metadata": {},
   "outputs": [
    {
     "data": {
      "text/plain": [
       "{'LETTERS': 0, 'NUMBERS': 6}"
      ]
     },
     "execution_count": 36,
     "metadata": {},
     "output_type": "execute_result"
    }
   ],
   "source": [
    "count_all(\"149990\")"
   ]
  },
  {
   "cell_type": "code",
   "execution_count": null,
   "id": "e72cb14e-9bd2-4b70-b2c3-485ccc34c6a2",
   "metadata": {},
   "outputs": [],
   "source": []
  },
  {
   "cell_type": "markdown",
   "id": "d4304f7e-9e1a-4414-a9f1-4dda12f3a4cd",
   "metadata": {},
   "source": [
    "# Sum of Number Elements in a List\n",
    "18. Lists can be mixed with various types. Your task for this challenge is to sum all the number elements in the given list. Create a function that takes a list and returns the sum of all numbers in the list.\n",
    "\n",
    "Examples:\n",
    "\n",
    "numbers_sum([1, 2, \"13\", \"4\", \"645\"]) ➞ 3\n",
    "\n",
    "numbers_sum([True, False, \"123\", \"75\"]) ➞ 0\n",
    "\n",
    "numbers_sum([1, 2, 3, 4, 5, True]) ➞ 15\n"
   ]
  },
  {
   "cell_type": "code",
   "execution_count": 75,
   "id": "b4e59bba-bf88-4649-806f-15d2a1523f67",
   "metadata": {},
   "outputs": [],
   "source": [
    "def numbers_sum(lst):\n",
    "    sum1=0\n",
    "    for element in lst:\n",
    "        if type(element)==int:\n",
    "            sum1=sum1+element\n",
    "        \n",
    "    return sum1"
   ]
  },
  {
   "cell_type": "code",
   "execution_count": 76,
   "id": "782b6949-14f0-4a3d-b25f-b6c712faf774",
   "metadata": {},
   "outputs": [
    {
     "data": {
      "text/plain": [
       "3"
      ]
     },
     "execution_count": 76,
     "metadata": {},
     "output_type": "execute_result"
    }
   ],
   "source": [
    "numbers_sum([1, 2, \"13\", \"4\", \"645\"])"
   ]
  },
  {
   "cell_type": "code",
   "execution_count": 77,
   "id": "67f2f668-6367-4cba-a4fc-af00fe338672",
   "metadata": {},
   "outputs": [
    {
     "data": {
      "text/plain": [
       "0"
      ]
     },
     "execution_count": 77,
     "metadata": {},
     "output_type": "execute_result"
    }
   ],
   "source": [
    "numbers_sum([True, False, \"123\", \"75\"])"
   ]
  },
  {
   "cell_type": "code",
   "execution_count": 78,
   "id": "242340c0-2f4c-42b6-91b6-795f9c2f594b",
   "metadata": {},
   "outputs": [
    {
     "data": {
      "text/plain": [
       "15"
      ]
     },
     "execution_count": 78,
     "metadata": {},
     "output_type": "execute_result"
    }
   ],
   "source": [
    "numbers_sum([1, 2, 3, 4, 5, True])"
   ]
  },
  {
   "cell_type": "code",
   "execution_count": null,
   "id": "65657a7f-e4f5-4b7a-a8ce-3c43f4477d07",
   "metadata": {},
   "outputs": [],
   "source": []
  },
  {
   "cell_type": "markdown",
   "id": "a333c2cd-1eb3-460c-8c51-b547d624c28a",
   "metadata": {},
   "source": [
    "# Older Than Me\n",
    "19. Create a method in the Person class which returns how another person's age compares. Given the objects p1, p2 and p3, which will be initialised with the attributes name and age, return a sentence in the following format:\n",
    "\n",
    "{other_person} is {older than / younger than / the same age as} me.\n",
    "\n",
    "Examples:\n",
    "\n",
    "p1 = Person(\"Samuel\", 24)\n",
    "\n",
    "p2 = Person(\"Joel\", 36)\n",
    "\n",
    "p3 = Person(\"Lily\", 24)\n",
    "\n",
    "p1.compare_age(p2) ➞ \"Joel is older than me.\"\n",
    "\n",
    "p2.compare_age(p1) ➞ \"Samuel is younger than me.\"\n",
    "\n",
    "p1.compare_age(p3) ➞ \"Lily is the same age as me.\"\n",
    "\n",
    "Notes:\n",
    "Check out the Resources tab for some helpful tutorials on Python classes!\n",
    "\n",
    "If you're really stuck, check out the Solutions tab for answers."
   ]
  },
  {
   "cell_type": "code",
   "execution_count": null,
   "id": "d0c04292-1853-4cac-aaa2-e8f04ecae07f",
   "metadata": {},
   "outputs": [],
   "source": []
  },
  {
   "cell_type": "code",
   "execution_count": null,
   "id": "c1465b50-e345-42d5-bb3e-1ca748752ef6",
   "metadata": {},
   "outputs": [],
   "source": []
  },
  {
   "cell_type": "code",
   "execution_count": null,
   "id": "500574f3-03f0-47d3-ba04-4c822cb8d006",
   "metadata": {},
   "outputs": [],
   "source": []
  },
  {
   "cell_type": "markdown",
   "id": "0bf9f14a-06e1-4ecb-936b-a771a82d234c",
   "metadata": {},
   "source": [
    "# Minimal V: Membership Operator\n",
    "20. Check the principles of minimalist code in the intro to the first challenge.\n",
    "\n",
    "In the Code tab you will find a code that is missing a single character in order to pass the tests. However, your goal is to submit a function as minimalist as possible. Use the tips in the tips section below.\n",
    "\n",
    "Write a function that returns the boolean True if the given two lists do not share any numbers, and False otherwise.\n",
    "\n",
    "Tips:\n",
    "The operators in and not in test for membership. x in s evaluates to True if x is a member of s, and False otherwise.\n",
    "\n",
    "For example, the code:\n",
    "\n",
    "def startswithvowel(word):\n",
    "\n",
    "    for vowel in \"aeiou\":\n",
    "        if word[0] == vowel:\n",
    "            return True\n",
    "    return False\n",
    "    \n",
    "Can be simplified to:\n",
    "\n",
    "def startswithvowel(word):\n",
    "\n",
    "    return word[0] in \"aeiou\"\n"
   ]
  },
  {
   "cell_type": "code",
   "execution_count": 1,
   "id": "55c86477-bd99-4026-95d2-c744ea245630",
   "metadata": {},
   "outputs": [],
   "source": [
    "def no_duplicate_elements(a, b):\n",
    "    for x in a:\n",
    "        if x in b:\n",
    "            return False\n",
    "    return True"
   ]
  },
  {
   "cell_type": "code",
   "execution_count": 3,
   "id": "2653c401-37a2-409b-8dca-82b41406ad49",
   "metadata": {},
   "outputs": [
    {
     "data": {
      "text/plain": [
       "True"
      ]
     },
     "execution_count": 3,
     "metadata": {},
     "output_type": "execute_result"
    }
   ],
   "source": [
    "no_duplicate_elements([1, 2, 3], [4, 5, 6])"
   ]
  },
  {
   "cell_type": "code",
   "execution_count": 4,
   "id": "6d96d641-3310-4956-8e9d-30e26caa6736",
   "metadata": {},
   "outputs": [
    {
     "data": {
      "text/plain": [
       "False"
      ]
     },
     "execution_count": 4,
     "metadata": {},
     "output_type": "execute_result"
    }
   ],
   "source": [
    "no_duplicate_elements([1, 2, 3], [1,2,3,4, 5, 6])"
   ]
  },
  {
   "cell_type": "markdown",
   "id": "6ac95c50-c352-4acc-a155-cfa82a888c7a",
   "metadata": {
    "tags": []
   },
   "source": [
    "#  H4ck3r Sp34k\n",
    "21. Create a function that takes a string as an argument and returns a coded (h4ck3r 5p34k) version of the string.\n",
    "\n",
    "Examples hacker_speak(\"javascript is cool\") ➞ \"j4v45cr1pt 15 c00l\"\n",
    "\n",
    "hacker_speak(\"programming is fun\") ➞ \"pr0gr4mm1ng 15 fun\"\n",
    "\n",
    "hacker_speak(\"become a coder\") ➞ \"b3c0m3 4 c0d3r\" \n",
    "\n",
    "Notes: In order to work properly, the function should replace all \"a\"s with 4, \"e\"s with 3, \"i\"s with 1, \"o\"s with 0, and \"s\"s with 5."
   ]
  },
  {
   "cell_type": "code",
   "execution_count": 5,
   "id": "ca4c1c44-23cf-48bf-bd2a-8352d75fcff4",
   "metadata": {},
   "outputs": [],
   "source": [
    "def hacker_speak(x):\n",
    "        x=x.replace(\"a\",\"4\")\n",
    "        x=x.replace(\"e\",\"3\")\n",
    "        x=x.replace(\"i\",\"1\")\n",
    "        x=x.replace(\"o\",\"0\")\n",
    "        return x"
   ]
  },
  {
   "cell_type": "code",
   "execution_count": 6,
   "id": "5e779c8f-6108-48ab-94c7-24b5882798a9",
   "metadata": {},
   "outputs": [
    {
     "data": {
      "text/plain": [
       "'j4v4scr1pt 1s c00l'"
      ]
     },
     "execution_count": 6,
     "metadata": {},
     "output_type": "execute_result"
    }
   ],
   "source": [
    "hacker_speak(\"javascript is cool\")"
   ]
  },
  {
   "cell_type": "code",
   "execution_count": 7,
   "id": "b9e06478-c4f7-496c-abcb-387deb91a800",
   "metadata": {},
   "outputs": [
    {
     "data": {
      "text/plain": [
       "'pr0gr4mm1ng 1s fun'"
      ]
     },
     "execution_count": 7,
     "metadata": {},
     "output_type": "execute_result"
    }
   ],
   "source": [
    "hacker_speak(\"programming is fun\")"
   ]
  },
  {
   "cell_type": "code",
   "execution_count": 8,
   "id": "7f182d68-cf79-48d0-8f58-e66a366f362b",
   "metadata": {},
   "outputs": [
    {
     "data": {
      "text/plain": [
       "'b3c0m3 4 c0d3r'"
      ]
     },
     "execution_count": 8,
     "metadata": {},
     "output_type": "execute_result"
    }
   ],
   "source": [
    "hacker_speak(\"become a coder\") "
   ]
  },
  {
   "cell_type": "markdown",
   "id": "6499c587-efd9-4579-86ad-5b0a9ef6d3f4",
   "metadata": {},
   "source": [
    "# Positive Count / Negative Sum\n",
    "22 . Create a function that takes a list of positive and negative numbers. Return a list where the first element is the count of positive numbers and the second element is the sum of negative numbers.\n",
    "\n",
    "Examples:\n",
    "\n",
    "sum_neg([1, 2, 3, 4, 5, 6, 7, 8, 9, 10, -11, -12, -13, -14, -15]) ➞ [10, -65]\n",
    "\n",
    "There are a total of 10 positive numbers.\n",
    "\n",
    "The sum of all negative numbers equals -65.\n",
    "\n",
    "sum_neg([92, 6, 73, -77, 81, -90, 99, 8, -85, 34]) ➞ [7, -252]\n",
    "\n",
    "sum_neg([91, -4, 80, -73, -28]) ➞ [2, -105]\n",
    "\n",
    "sum_neg( [ ] ) ➞ [ ]\n",
    "\n",
    "Notes If given an empty list, return an empty list: [ ] 0 is not positive."
   ]
  },
  {
   "cell_type": "code",
   "execution_count": 9,
   "id": "6f6b3c0d-a46c-452d-a558-44c969211bb0",
   "metadata": {},
   "outputs": [],
   "source": [
    "def sum_neg(lst):\n",
    "    positive_count = len([num for num in lst if num > 0])\n",
    "    negative_sum = 0\n",
    "    for num in lst:\n",
    "        if num < 0:\n",
    "            negative_sum += num\n",
    "    return [positive_count, negative_sum]"
   ]
  },
  {
   "cell_type": "code",
   "execution_count": 10,
   "id": "c4148cff-e384-49c2-b632-283780dd0b94",
   "metadata": {},
   "outputs": [
    {
     "data": {
      "text/plain": [
       "[7, -252]"
      ]
     },
     "execution_count": 10,
     "metadata": {},
     "output_type": "execute_result"
    }
   ],
   "source": [
    "sum_neg([92, 6, 73, -77, 81, -90, 99, 8, -85, 34])"
   ]
  },
  {
   "cell_type": "code",
   "execution_count": 11,
   "id": "7cf396dc-16bb-49d6-84f7-6b7995fd4db1",
   "metadata": {},
   "outputs": [
    {
     "data": {
      "text/plain": [
       "[2, -105]"
      ]
     },
     "execution_count": 11,
     "metadata": {},
     "output_type": "execute_result"
    }
   ],
   "source": [
    "sum_neg([91, -4, 80, -73, -28])"
   ]
  },
  {
   "cell_type": "code",
   "execution_count": 12,
   "id": "83228f7e-4db7-4cba-bcce-d41a935c4043",
   "metadata": {},
   "outputs": [
    {
     "data": {
      "text/plain": [
       "[0, 0]"
      ]
     },
     "execution_count": 12,
     "metadata": {},
     "output_type": "execute_result"
    }
   ],
   "source": [
    "sum_neg( [ ] )"
   ]
  },
  {
   "cell_type": "markdown",
   "id": "74c1a302-eb3f-4f32-83ad-3e4388671e13",
   "metadata": {},
   "source": [
    "# Switcharoo\n",
    "23. Create a function that takes a string and returns a new string with its first and last characters swapped, except under three conditions:\n",
    "\n",
    "If the length of the string is less than two, return \"Incompatible.\". If the argument is not a string, return \"Incompatible.\". If the first and last characters are the same, return \"Two's a pair.\".\n",
    "\n",
    "Examples:\n",
    "\n",
    "flip_end_chars(\"Cat, dog, and mouse.\") ➞ \".at, dog, and mouseC\"\n",
    "\n",
    "flip_end_chars(\"ada\") ➞ \"Two's a pair.\"\n",
    "\n",
    "flip_end_chars(\"Ada\") ➞ \"adA\"\n",
    "\n",
    "flip_end_chars(\"z\") ➞ \"Incompatible.\"\n",
    "\n",
    "flip_end_chars([1, 2, 3]) ➞ \"Incompatible.\" \n",
    "\n",
    "Notes Tests are case sensitive (e.g. \"A\" and \"a\" are not the same character)."
   ]
  },
  {
   "cell_type": "code",
   "execution_count": 22,
   "id": "b3025fa4-1345-4887-8092-4633842ddbaa",
   "metadata": {},
   "outputs": [],
   "source": [
    "def flip_end_chars(v):\n",
    "    if len(v)<2 or type(v)!=str:\n",
    "        return \"incompatible\"\n",
    "    if v[0] == v[-1]:\n",
    "        return \"Two's a pair.\"\n",
    "    \n",
    "    return v[-1] + v[1:-1] + v[0]"
   ]
  },
  {
   "cell_type": "code",
   "execution_count": 23,
   "id": "3259c5ca-1a10-4cd3-9c36-c3f5ec80525f",
   "metadata": {},
   "outputs": [
    {
     "data": {
      "text/plain": [
       "\"Two's a pair.\""
      ]
     },
     "execution_count": 23,
     "metadata": {},
     "output_type": "execute_result"
    }
   ],
   "source": [
    "flip_end_chars(\"ada\")"
   ]
  },
  {
   "cell_type": "code",
   "execution_count": 24,
   "id": "daa4d4d9-6b9f-4ff1-af88-3e161b7cb0ea",
   "metadata": {},
   "outputs": [
    {
     "data": {
      "text/plain": [
       "'adA'"
      ]
     },
     "execution_count": 24,
     "metadata": {},
     "output_type": "execute_result"
    }
   ],
   "source": [
    "flip_end_chars(\"Ada\")"
   ]
  },
  {
   "cell_type": "code",
   "execution_count": 25,
   "id": "5550a9fa-38a4-4983-8c7d-5dbb307292df",
   "metadata": {},
   "outputs": [
    {
     "data": {
      "text/plain": [
       "'.at, dog, and mouseC'"
      ]
     },
     "execution_count": 25,
     "metadata": {},
     "output_type": "execute_result"
    }
   ],
   "source": [
    "flip_end_chars(\"Cat, dog, and mouse.\") "
   ]
  },
  {
   "cell_type": "code",
   "execution_count": 1,
   "id": "6dd44497-e149-470f-a870-52693eb98891",
   "metadata": {},
   "outputs": [],
   "source": [
    "x=\"abc \""
   ]
  },
  {
   "cell_type": "code",
   "execution_count": 2,
   "id": "a22d24a2-754b-4aa2-bf82-1250c810a64d",
   "metadata": {},
   "outputs": [
    {
     "data": {
      "text/plain": [
       "False"
      ]
     },
     "execution_count": 2,
     "metadata": {},
     "output_type": "execute_result"
    }
   ],
   "source": [
    "x.isalpha()"
   ]
  },
  {
   "cell_type": "markdown",
   "id": "50c39cff-4a3d-4b46-9405-98a3c71634a4",
   "metadata": {},
   "source": [
    "# Error Messages\n",
    "24 . Create a function that takes a number as an argument and returns the appropriate error message. You should do this without using the switch or if statements.\n",
    "\n",
    "The input error will be 1 to 5:\n",
    "\n",
    "1 >> \"Check the fan: e1\" \\\n",
    "2 >> \"Emergency stop: e2\" \\\n",
    "3 >> \"Pump Error: e3\" \\\n",
    "4 >> \"c: e4\" \\\n",
    "5 >> \"Temperature Sensor Error: e5\" \\\n",
    "For any other value, return 101 (you can use an if statement here).\n",
    "\n",
    "Examples:\n",
    "\n",
    "error(1) ➞ \"Check the fan: e1\"\n",
    "\n",
    "error(2) ➞ \"Emergency stop: e2\"\n",
    "\n",
    "error(3) ➞ \"Pump Error: e3\" \n",
    "\n",
    "Notes Do this without using the switch or if statements."
   ]
  },
  {
   "cell_type": "code",
   "execution_count": 28,
   "id": "a13a9e61-d3d6-4cb3-95dc-7bee828dd489",
   "metadata": {},
   "outputs": [],
   "source": [
    "def error(key):\n",
    "    error_message_dic={1: \"Check the fan: e1\", 2: \"Emergency stop: e2\", 3: \"Pump Error: e3\", 4: \"c: e4\", 5: \"Temperature Sensor Error: e5\"}\n",
    "    \n",
    "    if key not in range(1,6):\n",
    "        return 101\n",
    "    else:\n",
    "        return error_message_dic[key]"
   ]
  },
  {
   "cell_type": "code",
   "execution_count": 29,
   "id": "c3630aac-50de-406f-879e-348e67aae929",
   "metadata": {},
   "outputs": [
    {
     "data": {
      "text/plain": [
       "101"
      ]
     },
     "execution_count": 29,
     "metadata": {},
     "output_type": "execute_result"
    }
   ],
   "source": [
    "error(0)"
   ]
  },
  {
   "cell_type": "code",
   "execution_count": 30,
   "id": "33f1f3bd-fcd4-4b36-8b70-337f9bdf9d29",
   "metadata": {},
   "outputs": [
    {
     "data": {
      "text/plain": [
       "'Check the fan: e1'"
      ]
     },
     "execution_count": 30,
     "metadata": {},
     "output_type": "execute_result"
    }
   ],
   "source": [
    "error(1)"
   ]
  },
  {
   "cell_type": "code",
   "execution_count": 31,
   "id": "f85ed91f-9c1b-40ac-afba-4086f801979c",
   "metadata": {},
   "outputs": [
    {
     "data": {
      "text/plain": [
       "'Emergency stop: e2'"
      ]
     },
     "execution_count": 31,
     "metadata": {},
     "output_type": "execute_result"
    }
   ],
   "source": [
    "error(2)"
   ]
  },
  {
   "cell_type": "code",
   "execution_count": 32,
   "id": "a3825d13-eb64-403a-8217-3294f86e88cd",
   "metadata": {},
   "outputs": [
    {
     "data": {
      "text/plain": [
       "'Pump Error: e3'"
      ]
     },
     "execution_count": 32,
     "metadata": {},
     "output_type": "execute_result"
    }
   ],
   "source": [
    "error(3)"
   ]
  },
  {
   "cell_type": "code",
   "execution_count": null,
   "id": "fef8e7ed-ac58-4c4b-b19b-5269675bbc2e",
   "metadata": {},
   "outputs": [],
   "source": []
  },
  {
   "cell_type": "code",
   "execution_count": null,
   "id": "0e8e46f6-5026-435c-8c5c-7356dd986920",
   "metadata": {},
   "outputs": [],
   "source": []
  },
  {
   "cell_type": "markdown",
   "id": "84bf24be-a0ac-4658-a0e1-8c076fe2f984",
   "metadata": {},
   "source": [
    "# Balancing Scales\n",
    "25. Given a list with an odd number of elements, return whether the scale will tip \"left\" or \"right\" based on the sum of the numbers. The scale will tip on the direction of the largest total. If both sides are equal, return \"balanced\".\n",
    "\n",
    "Examples \n",
    "scale_tip([0, 0, \"I\", 1, 1]) ➞ \"right\"\\\n",
    "0 < 2 so it will tip right\n",
    "\n",
    "scale_tip([1, 2, 3, \"I\", 4, 0, 0]) ➞ \"left\"\\\n",
    "6 > 4 so it will tip left\n",
    "\n",
    "scale_tip([5, 5, 5, 0, \"I\", 10, 2, 2, 1]) ➞ \"balanced\"\\\n",
    "15 = 15 so it will stay balanced\n",
    "\n",
    "Notes:\n",
    "The middle element will always be \"I\" so you can just ignore it.\\\n",
    "Assume the numbers all represent the same unit. Both sides will have the same number of elements.\\\n",
    "There are no such things as negative weights in both real life and the tests"
   ]
  },
  {
   "cell_type": "code",
   "execution_count": 42,
   "id": "ccf0ae36-277c-4e51-b72c-5aee178cd2f0",
   "metadata": {},
   "outputs": [],
   "source": [
    "def scale_tip(lst):\n",
    "    middle_char=len(lst)//2\n",
    "    if len(lst)%2!=0:\n",
    "        left_sum= sum(lst[:middle_char])\n",
    "        right_sum= sum(lst[middle_char+1:])\n",
    "        \n",
    "        if left_sum>right_sum:\n",
    "            return \"left\"\n",
    "        elif right_sum>left_sum:\n",
    "            return \"right\"\n",
    "        else:\n",
    "            return \"balanced\""
   ]
  },
  {
   "cell_type": "code",
   "execution_count": 43,
   "id": "c8058f1f-8a96-404b-b87e-71cae3c302c8",
   "metadata": {},
   "outputs": [
    {
     "data": {
      "text/plain": [
       "'right'"
      ]
     },
     "execution_count": 43,
     "metadata": {},
     "output_type": "execute_result"
    }
   ],
   "source": [
    " scale_tip([0, 0, \"I\", 1, 1]) "
   ]
  },
  {
   "cell_type": "code",
   "execution_count": 44,
   "id": "b84b1898-2594-4556-9072-2d179e275ca0",
   "metadata": {},
   "outputs": [
    {
     "data": {
      "text/plain": [
       "'left'"
      ]
     },
     "execution_count": 44,
     "metadata": {},
     "output_type": "execute_result"
    }
   ],
   "source": [
    "scale_tip([1, 2, 3, \"I\", 4, 0, 0])"
   ]
  },
  {
   "cell_type": "code",
   "execution_count": 45,
   "id": "12a57815-1e30-4789-b153-e0e6c95a0392",
   "metadata": {},
   "outputs": [
    {
     "data": {
      "text/plain": [
       "'balanced'"
      ]
     },
     "execution_count": 45,
     "metadata": {},
     "output_type": "execute_result"
    }
   ],
   "source": [
    "scale_tip([5, 5, 5, 0, \"I\", 10, 2, 2, 1])"
   ]
  },
  {
   "cell_type": "code",
   "execution_count": null,
   "id": "dd07e78a-924a-4550-a3ed-e77b221338ae",
   "metadata": {},
   "outputs": [],
   "source": []
  },
  {
   "cell_type": "code",
   "execution_count": null,
   "id": "cb350ebe-a1a9-4ab0-9915-c637c9b7dc9e",
   "metadata": {},
   "outputs": [],
   "source": []
  },
  {
   "cell_type": "markdown",
   "id": "521f74e2-3570-44b8-ba5a-9e50d579a5d6",
   "metadata": {},
   "source": [
    "# 26 Emotify the Sentence\n",
    "Create a function that changes specific words into emoticons. Given a sentence as a string, replace the words smile, grin, sad and mad with their corresponding emoticons.\n",
    "\n",
    "word emoticon smile :D grin :) sad :( mad :P \n",
    "\n",
    "Examples: emotify(\"Make me smile\") ➞ \"Make me :D\"\n",
    "\n",
    "emotify(\"Make me grin\") ➞ \"Make me :)\"\n",
    "\n",
    "emotify(\"Make me sad\") ➞ \"Make me :(\" \n",
    "\n",
    "Notes: The sentence always starts with \"Make me\". Try to solve this without using conditional statements like if/else."
   ]
  },
  {
   "cell_type": "code",
   "execution_count": 52,
   "id": "862e5fb9-c564-4626-baba-ccf5c4356974",
   "metadata": {},
   "outputs": [],
   "source": [
    "def emotify(sentence):\n",
    "    emoticons = {\"smile\": \":D\", \"grin\": \":)\", \"sad\": \":(\" , \"mad\": \":P\"}\n",
    "    \n",
    "    words = sentence.split()\n",
    "    for char in range(len(words)):\n",
    "        if words[char] in emoticons:\n",
    "            words[char] = emoticons[words[char]]\n",
    "    \n",
    "    return ' '.join(words)"
   ]
  },
  {
   "cell_type": "code",
   "execution_count": 49,
   "id": "0636749f-6cd9-434b-acd3-070905ab6070",
   "metadata": {},
   "outputs": [
    {
     "data": {
      "text/plain": [
       "'Make me :D'"
      ]
     },
     "execution_count": 49,
     "metadata": {},
     "output_type": "execute_result"
    }
   ],
   "source": [
    "emotify(\"Make me smile\")"
   ]
  },
  {
   "cell_type": "code",
   "execution_count": 50,
   "id": "0c4ba236-0244-4cf8-bdcb-d21df6b6a197",
   "metadata": {},
   "outputs": [
    {
     "data": {
      "text/plain": [
       "'Make me :)'"
      ]
     },
     "execution_count": 50,
     "metadata": {},
     "output_type": "execute_result"
    }
   ],
   "source": [
    "emotify(\"Make me grin\")"
   ]
  },
  {
   "cell_type": "code",
   "execution_count": 51,
   "id": "859db3fd-8e96-4018-b72c-66835e497cda",
   "metadata": {},
   "outputs": [
    {
     "data": {
      "text/plain": [
       "'Make me :('"
      ]
     },
     "execution_count": 51,
     "metadata": {},
     "output_type": "execute_result"
    }
   ],
   "source": [
    "emotify(\"Make me sad\")"
   ]
  },
  {
   "cell_type": "code",
   "execution_count": null,
   "id": "172632a8-601a-4486-b85d-a180b80723c4",
   "metadata": {},
   "outputs": [],
   "source": []
  },
  {
   "cell_type": "code",
   "execution_count": null,
   "id": "2720411b-2353-4121-969f-ad9cd97cb184",
   "metadata": {},
   "outputs": [],
   "source": []
  },
  {
   "cell_type": "markdown",
   "id": "a2052069-a79c-4854-b6cc-a47184819db2",
   "metadata": {},
   "source": [
    "# 27 Create a function that takes the month and year (as integers) and returns the number of days in that month.\n",
    "Examples day_amount(2, 2018) ➞ 28\n",
    "\n",
    "day_amount(4, 654) ➞ 30\n",
    "\n",
    "day_amount(2, 200) ➞ 28\n",
    "\n",
    "day_amount(2, 1000) ➞ 28"
   ]
  },
  {
   "cell_type": "code",
   "execution_count": 3,
   "id": "741b9882-6d80-4316-adb9-a6394399d49a",
   "metadata": {},
   "outputs": [],
   "source": [
    "def day_amount(month, year):\n",
    "    if month in [1,3,5,7,8,10,12]:\n",
    "        return 31\n",
    "    elif ((year%4==0 and year % 100 != 0) or (year % 400 == 0 and year%100==0)) and month==2:\n",
    "        return 29\n",
    "    elif month==2:\n",
    "        return 28\n",
    "    else:\n",
    "        return 30\n",
    "  "
   ]
  },
  {
   "cell_type": "code",
   "execution_count": 4,
   "id": "84cff7ed-b163-4da5-830b-2bdf745c2c5d",
   "metadata": {},
   "outputs": [
    {
     "data": {
      "text/plain": [
       "29"
      ]
     },
     "execution_count": 4,
     "metadata": {},
     "output_type": "execute_result"
    }
   ],
   "source": [
    "day_amount(2,1924)"
   ]
  },
  {
   "cell_type": "code",
   "execution_count": 5,
   "id": "21c47c87-978d-49b2-bfd7-df0292e81b30",
   "metadata": {},
   "outputs": [
    {
     "data": {
      "text/plain": [
       "28"
      ]
     },
     "execution_count": 5,
     "metadata": {},
     "output_type": "execute_result"
    }
   ],
   "source": [
    "day_amount(2, 2018) "
   ]
  },
  {
   "cell_type": "code",
   "execution_count": 6,
   "id": "e64ff8b4-2979-4af2-845e-8add5aefb946",
   "metadata": {},
   "outputs": [
    {
     "data": {
      "text/plain": [
       "30"
      ]
     },
     "execution_count": 6,
     "metadata": {},
     "output_type": "execute_result"
    }
   ],
   "source": [
    "day_amount(4, 654)"
   ]
  },
  {
   "cell_type": "code",
   "execution_count": 7,
   "id": "eecc0316-9f2f-431f-9421-a505333aba0c",
   "metadata": {},
   "outputs": [
    {
     "data": {
      "text/plain": [
       "31"
      ]
     },
     "execution_count": 7,
     "metadata": {},
     "output_type": "execute_result"
    }
   ],
   "source": [
    "day_amount(12, 2023)"
   ]
  },
  {
   "cell_type": "code",
   "execution_count": null,
   "id": "f4a4b738-1465-472d-9c04-089d8d8a7c8b",
   "metadata": {},
   "outputs": [],
   "source": []
  },
  {
   "cell_type": "code",
   "execution_count": null,
   "id": "6569efc4-c312-4107-a81a-fe448db05a77",
   "metadata": {},
   "outputs": [],
   "source": []
  },
  {
   "cell_type": "markdown",
   "id": "b78a5fcb-0ae9-4cd1-9021-dbabfdc0c5f9",
   "metadata": {},
   "source": [
    "# 28 Changing Mixed Types\n",
    "Create a function that changes all the elements in a list as follows:\n",
    "\n",
    "Add 1 to all even integers, nothing to odd integers.\n",
    "\n",
    "Concatenates \"!\" to all strings and make the first letter of the word a capital letter.\n",
    "\n",
    "Changes all boolean values to its opposite. \n",
    "\n",
    "Examples:\n",
    "\n",
    "change_types([\"a\", 12, True]) ➞ [\"A!\", 13, False]\n",
    "\n",
    "change_types([13, \"13\", \"12\", \"twelve\"]) ➞ [13, \"13!\", \"12!\", \"Twelve!\"]\n",
    "\n",
    "change_types([False, \"False\", \"true\"]) ➞ [True, \"False!\", \"True!\"] \n",
    "\n",
    "Notes: There won't be any float values. You won't get strings with both numbers and letters in them. Although the task may be easy, try keeping your code as clean and as readable as possible!"
   ]
  },
  {
   "cell_type": "code",
   "execution_count": 27,
   "id": "26913159-b13c-4276-9a4b-79ebfd7492e6",
   "metadata": {},
   "outputs": [],
   "source": [
    "def change_types(lst):\n",
    "    for element in range(0,len(lst)):\n",
    "        if type(lst[element])==int and lst[element]%2==0:\n",
    "                lst[element]+=1\n",
    "        elif type(lst[element])==str:\n",
    "            lst[element]=lst[element].capitalize()+\"!\"\n",
    "        elif type(lst[element])==bool:\n",
    "            lst[element]= not(lst[element])\n",
    "        else:\n",
    "            continue\n",
    "        \n",
    "    return lst"
   ]
  },
  {
   "cell_type": "code",
   "execution_count": 28,
   "id": "9f354cda-135c-46de-86cb-b0d116499ca1",
   "metadata": {},
   "outputs": [
    {
     "data": {
      "text/plain": [
       "['A!', 13, False]"
      ]
     },
     "execution_count": 28,
     "metadata": {},
     "output_type": "execute_result"
    }
   ],
   "source": [
    "change_types([\"a\", 12, True])"
   ]
  },
  {
   "cell_type": "code",
   "execution_count": 29,
   "id": "8f08f019-3648-4680-ada6-f58f0bb9ba9c",
   "metadata": {},
   "outputs": [
    {
     "data": {
      "text/plain": [
       "[13, '13!', '12!', 'Twelve!']"
      ]
     },
     "execution_count": 29,
     "metadata": {},
     "output_type": "execute_result"
    }
   ],
   "source": [
    "change_types([13, \"13\", \"12\", \"twelve\"])"
   ]
  },
  {
   "cell_type": "code",
   "execution_count": 30,
   "id": "451d9492-5514-4a52-847a-67222f597b17",
   "metadata": {},
   "outputs": [
    {
     "data": {
      "text/plain": [
       "[True, 'False!', 'True!']"
      ]
     },
     "execution_count": 30,
     "metadata": {},
     "output_type": "execute_result"
    }
   ],
   "source": [
    "change_types([False, \"False\", \"true\"])"
   ]
  },
  {
   "cell_type": "code",
   "execution_count": null,
   "id": "926f1a30-9f44-44d4-aae4-f151e60bd542",
   "metadata": {},
   "outputs": [],
   "source": []
  },
  {
   "cell_type": "markdown",
   "id": "4843617a-91cf-4909-9980-fec9df5b2428",
   "metadata": {},
   "source": [
    "# 29 Minimal VIII: This and That\n",
    "\n",
    "Check the principles of minimalist code in the intro to the first challenge.\n",
    "\n",
    "In the Code tab you will find a code that is missing a single character in order to pass the tests. However, your goal is to submit a function as minimalist as possible. Use the tips in the tips section below.\n",
    "\n",
    "Write a function that returns the third character of the third string in a given list of strings. Return False if it can't be found.\n",
    "\n",
    "Tips The operator and can be used to assign or return the first falsy value among two or more elements. If no falsy value is found, the last element will be returned.\n",
    "\n",
    "For example, the code:\n",
    "\n",
    "def all_of_these(a, b, c): return a if not a else b if not b else c Can be simplified to:\n",
    "\n",
    "def all_of_these(a, b, c): return a and b and c \n",
    "\n",
    "Bonus:\n",
    "\n",
    "Once a falsy value is found, the rest of the elements will not be checked. For example, if we wanted to access the first element of a list, but the list happened to be empty, we would get an error. We can use and to work around this issue:\n",
    "\n",
    "lst1 = [1, 2, 3] \n",
    "\n",
    "lst2 = [ ]\n",
    "\n",
    "lst1 and lst1[0] ➞ 1 \n",
    "\n",
    "lst2 and lst2[0] ➞ [ ] "
   ]
  },
  {
   "cell_type": "code",
   "execution_count": 4,
   "id": "e5cacbf2-8c38-457b-b9c3-e6dc3199012a",
   "metadata": {},
   "outputs": [],
   "source": [
    "def third_char_third_string_list(lst):\n",
    "    return lst[2][2] if len(lst) >= 3 and len(lst[2]) >= 3 else False\n",
    "        "
   ]
  },
  {
   "cell_type": "code",
   "execution_count": 5,
   "id": "5ac74390-d200-452e-bc9b-028ec2f232f0",
   "metadata": {},
   "outputs": [
    {
     "data": {
      "text/plain": [
       "'w'"
      ]
     },
     "execution_count": 5,
     "metadata": {},
     "output_type": "execute_result"
    }
   ],
   "source": [
    "third_char_third_string_list([\"hello\", \"hi\", \"how\", \"are\", \"you\"])"
   ]
  },
  {
   "cell_type": "code",
   "execution_count": 6,
   "id": "d5e14c58-b6f8-4044-a9fe-ac4047408af4",
   "metadata": {},
   "outputs": [
    {
     "data": {
      "text/plain": [
       "False"
      ]
     },
     "execution_count": 6,
     "metadata": {},
     "output_type": "execute_result"
    }
   ],
   "source": [
    "third_char_third_string_list([\"hello\", \"hi\", \"ho\", \"are\", \"you\"])"
   ]
  },
  {
   "cell_type": "code",
   "execution_count": 7,
   "id": "f7848fb1-efa6-418b-90f8-bec024097464",
   "metadata": {},
   "outputs": [
    {
     "data": {
      "text/plain": [
       "False"
      ]
     },
     "execution_count": 7,
     "metadata": {},
     "output_type": "execute_result"
    }
   ],
   "source": [
    "third_char_third_string_list([\"hello\", \"hi\", ])"
   ]
  },
  {
   "cell_type": "code",
   "execution_count": null,
   "id": "a5f2da49-370a-4e5f-95c2-e6bce2ceff0b",
   "metadata": {},
   "outputs": [],
   "source": []
  },
  {
   "cell_type": "markdown",
   "id": "71149d07-90a5-4ebf-9f85-0a6374fa2ef2",
   "metadata": {},
   "source": [
    "# 30 Malthusian Catastrophe\n",
    "A man named Thomas Malthus described what is now called a Malthusian Catastrophe. According to him, food production grows by a fixed amount, but population grows by a percentage. So, the food supply would soon be insufficient for the population.\n",
    "\n",
    "Your job is to find out when that will occur. For this challenge, assume 1 population needs 1 unit of food production. Food production and population both start at 100. The year starts at 0.\n",
    "\n",
    "The catastrophe happens when the population is larger than food production.\n",
    "\n",
    "The function will pass:\n",
    "\n",
    "food_growth ⁠— an integer ⁠— food production increase per year. pop_mult ⁠— a floating-point number ⁠— population growth multiplier per year. Examples malthusian(4255, 1.41) ➞ 20"
   ]
  },
  {
   "cell_type": "code",
   "execution_count": 14,
   "id": "c1dcc0ed-36f5-402b-9789-952e4cd43b39",
   "metadata": {},
   "outputs": [],
   "source": [
    "def malthusian(food_prod_growth,pop_mult):\n",
    "    food_prod=100; population=100;year=0\n",
    "    \n",
    "    while food_prod>=population:\n",
    "        food_prod+=food_prod_growth\n",
    "        population*=pop_mult\n",
    "        year+=1\n",
    "    return year"
   ]
  },
  {
   "cell_type": "code",
   "execution_count": 15,
   "id": "26a653b6-8a94-4c7d-8f02-9d6d3d94db4a",
   "metadata": {},
   "outputs": [
    {
     "data": {
      "text/plain": [
       "20"
      ]
     },
     "execution_count": 15,
     "metadata": {},
     "output_type": "execute_result"
    }
   ],
   "source": [
    "malthusian(4255, 1.41)"
   ]
  },
  {
   "cell_type": "markdown",
   "id": "eaf19417-4cc3-42ab-95d9-d27040b2313c",
   "metadata": {},
   "source": [
    "\n",
    "# 31 Special Lists\n",
    "A list is special if every even index contains an even number and every odd index contains an odd number. Create a function that returns True if an array is special, and False otherwise.\n",
    "\n",
    "Examples \n",
    "\n",
    "is_special_array([2, 7, 4, 9, 6, 1, 6, 3]) ➞ True\n",
    "\n",
    "Even indices: [2, 4, 6, 6];   Odd indices: [7, 9, 1, 3]\n",
    "\n",
    "is_special_array([2, 7, 9, 1, 6, 1, 6, 3]) ➞ False\n",
    "Index 2 has an odd number 9.\n",
    "\n",
    "is_special_array([2, 7, 8, 8, 6, 1, 6, 3]) ➞ False\n",
    "Index 3 has an even number 8.\n",
    "\n",
    "Notes N/A"
   ]
  },
  {
   "cell_type": "code",
   "execution_count": 9,
   "id": "68059f22-ffa9-4747-b282-2df2dbc541f3",
   "metadata": {},
   "outputs": [],
   "source": [
    "def is_special_array(lst):\n",
    "    for y in range(len(lst)):\n",
    "        if y%2==0 and lst[y]%2!=0:\n",
    "            return False\n",
    "        elif y%2!=0 and lst[y]%2==0:\n",
    "            return False\n",
    "    return True"
   ]
  },
  {
   "cell_type": "code",
   "execution_count": 10,
   "id": "415b0ebd-3a34-40e0-9ad7-4f0dd61dd6a5",
   "metadata": {},
   "outputs": [
    {
     "data": {
      "text/plain": [
       "True"
      ]
     },
     "execution_count": 10,
     "metadata": {},
     "output_type": "execute_result"
    }
   ],
   "source": [
    "is_special_array([2, 7, 4, 9, 6, 1, 6, 3])"
   ]
  },
  {
   "cell_type": "code",
   "execution_count": 11,
   "id": "cdd21990-9d7c-4a6e-9a07-bf123d20c8b1",
   "metadata": {},
   "outputs": [
    {
     "data": {
      "text/plain": [
       "False"
      ]
     },
     "execution_count": 11,
     "metadata": {},
     "output_type": "execute_result"
    }
   ],
   "source": [
    "is_special_array([2, 7, 9, 1, 6, 1, 6, 3]) "
   ]
  },
  {
   "cell_type": "code",
   "execution_count": 12,
   "id": "4795432f-d634-41e4-ac00-2c8eca453610",
   "metadata": {},
   "outputs": [
    {
     "data": {
      "text/plain": [
       "False"
      ]
     },
     "execution_count": 12,
     "metadata": {},
     "output_type": "execute_result"
    }
   ],
   "source": [
    "is_special_array([2, 7, 8, 8, 6, 1, 6, 3])"
   ]
  },
  {
   "cell_type": "code",
   "execution_count": null,
   "id": "9278fbe4-35a1-4edd-be2c-757b6d4f3257",
   "metadata": {},
   "outputs": [],
   "source": []
  },
  {
   "cell_type": "markdown",
   "id": "69b31f31-dd26-4bec-8434-d1ac6fe7d738",
   "metadata": {},
   "source": [
    "# 32 Minimal III: You're a Boolean Now\n",
    "Check the principles of minimalist code in the intro to the first challenge.\n",
    "\n",
    "In the Code tab you will find code that is missing a single character in order to pass the tests. However, your goal is to submit a function that is as minimalist as possible. Use the tips in the tips section below.\n",
    "\n",
    "Write a function that returns True if the given positive integer is a prime number and False if it's not.\n",
    "\n",
    "Tips Everything you write after if, not, while or around and, or, is, in is interpreted as a boolean.\n",
    "\n",
    "A function that prints a countdown from the absolute value of x and also prints \"hey\" if the number is a multiple of 3 and contains the digit \"3\", could be written as:\n",
    "\n",
    "def countdown(x): if x < 0: x = x * -1 while x > 0: if x % 3 == 0: if \"3\" in str(x): print(x) print(\"hey\") else: print(x) x = x - 1 This can be simplified to:\n",
    "\n",
    "def countdown(x): \n",
    "\n",
    "x = abs(x)\n",
    "\n",
    "while x: print(x) if not x % 3 and \"3\" in str(x): \n",
    "\n",
    "print(\"hey\") \n",
    "\n",
    "x -= 1 abs() gets the absolute value of a number. \n",
    "\n",
    "while will interpret x as a boolean, exiting the loop after reaching zero. print(x) needs to be called whether x is a \"hey number\" or not.\n",
    "\n",
    "This can be done outside of any if statement, instead of in both. Both conditions x % 3 == 0 and \"3\" in str(x) need to be True, so they can be joined with an and. \n",
    "\n",
    "Bonus A more Pythonistic approach:\n",
    "\n",
    "def countdown(x): for i in range(abs(x), -1, -1): print(x) if not x % 3 and \"3\" in str(x): print(\"hey\") Notes This is an open series: there isn't a definite list of features for the challenges. Please, do not hesitate to leave your suggestions in the Comment tab. Readability is indeed a subjective concept. Let's discuss it! Feel free to leave your opinion in the Comments tab. You can find all the exercises in this series over here."
   ]
  },
  {
   "cell_type": "code",
   "execution_count": 14,
   "id": "c705c768-7eb5-4789-888c-36ef700bf779",
   "metadata": {},
   "outputs": [],
   "source": [
    "def is_prime(num):\n",
    "    return num > 1 and all(num % i != 0 for i in range(2, int(num ** 0.5) + 1))"
   ]
  },
  {
   "cell_type": "code",
   "execution_count": 15,
   "id": "8daff4a2-242d-4a3d-9b53-ad4601cbbbfa",
   "metadata": {},
   "outputs": [
    {
     "data": {
      "text/plain": [
       "True"
      ]
     },
     "execution_count": 15,
     "metadata": {},
     "output_type": "execute_result"
    }
   ],
   "source": [
    "is_prime(11)"
   ]
  },
  {
   "cell_type": "code",
   "execution_count": 41,
   "id": "98c6e1bb-fb15-431b-b6b4-66f82ac1c094",
   "metadata": {},
   "outputs": [
    {
     "data": {
      "text/plain": [
       "False"
      ]
     },
     "execution_count": 41,
     "metadata": {},
     "output_type": "execute_result"
    }
   ],
   "source": [
    "is_prime(10)"
   ]
  },
  {
   "cell_type": "code",
   "execution_count": 43,
   "id": "b7d20b46-fa9d-41ae-af81-fa67aecc7aff",
   "metadata": {},
   "outputs": [
    {
     "data": {
      "text/plain": [
       "True"
      ]
     },
     "execution_count": 43,
     "metadata": {},
     "output_type": "execute_result"
    }
   ],
   "source": [
    "is_prime(97)"
   ]
  },
  {
   "cell_type": "code",
   "execution_count": null,
   "id": "fcd3c810-d1ce-4d5c-bd5e-7e8df8c7a3c1",
   "metadata": {},
   "outputs": [],
   "source": []
  },
  {
   "cell_type": "markdown",
   "id": "8f86d1c8-347d-4619-8733-836b31757a68",
   "metadata": {},
   "source": [
    "# 33 String Pairs\n",
    "Create a function that takes a string s and returns a list of two-paired characters. If the string has an odd number of characters, add an asterisk * in the final pair.\n",
    "\n",
    "See the below examples for a better understanding:\n",
    "\n",
    "Examples string_pairs(\"mubashir\") ➞ [\"mu\", \"ba\", \"sh\", \"ir\"]\n",
    "\n",
    "string_pairs(\"edabit\") ➞ [\"ed\", \"ab\", \"it\"]\n",
    "\n",
    "string_pairs(\"airforces\") ➞ [\"ai\", \"rf\", \"or\", \"ce\", \"s*\"] Notes Return [] if the given string is empty."
   ]
  },
  {
   "cell_type": "code",
   "execution_count": 53,
   "id": "35600ea2-8fbc-4130-8d84-3a9374a98959",
   "metadata": {},
   "outputs": [],
   "source": [
    "def string_pairs(s):\n",
    "    l=[]\n",
    "    for x in range(0,len(s),2):\n",
    "        l.append(s[x:x+2])\n",
    "    if len(s)%2!=0:\n",
    "        l[-1]=l[-1]+'*'\n",
    "    return l"
   ]
  },
  {
   "cell_type": "code",
   "execution_count": 54,
   "id": "7709d6c2-45ba-4e5f-9742-dd713d413cb0",
   "metadata": {},
   "outputs": [
    {
     "data": {
      "text/plain": [
       "['ai', 'rf', 'or', 'ce', 's*']"
      ]
     },
     "execution_count": 54,
     "metadata": {},
     "output_type": "execute_result"
    }
   ],
   "source": [
    "string_pairs(\"airforces\")"
   ]
  },
  {
   "cell_type": "code",
   "execution_count": 55,
   "id": "f93baf1b-29bc-457f-ba0d-42906108bcd3",
   "metadata": {},
   "outputs": [
    {
     "data": {
      "text/plain": [
       "['mu', 'ba', 'sh', 'ir']"
      ]
     },
     "execution_count": 55,
     "metadata": {},
     "output_type": "execute_result"
    }
   ],
   "source": [
    "string_pairs(\"mubashir\")"
   ]
  },
  {
   "cell_type": "code",
   "execution_count": null,
   "id": "d745ff6c-78d4-474f-91fd-71260696a60d",
   "metadata": {},
   "outputs": [],
   "source": []
  },
  {
   "cell_type": "code",
   "execution_count": null,
   "id": "6561c837-39bf-43dd-86c6-404bd888ddeb",
   "metadata": {},
   "outputs": [],
   "source": []
  },
  {
   "cell_type": "code",
   "execution_count": null,
   "id": "787dbb37-df81-42b7-98d3-10079ee66abf",
   "metadata": {},
   "outputs": [],
   "source": []
  }
 ],
 "metadata": {
  "kernelspec": {
   "display_name": "Python 3 (ipykernel)",
   "language": "python",
   "name": "python3"
  },
  "language_info": {
   "codemirror_mode": {
    "name": "ipython",
    "version": 3
   },
   "file_extension": ".py",
   "mimetype": "text/x-python",
   "name": "python",
   "nbconvert_exporter": "python",
   "pygments_lexer": "ipython3",
   "version": "3.9.7"
  }
 },
 "nbformat": 4,
 "nbformat_minor": 5
}
